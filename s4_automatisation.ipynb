{
 "cells": [
  {
   "cell_type": "markdown",
   "id": "b97795cd-1524-4d52-be46-2c5c87485dde",
   "metadata": {},
   "source": [
    "# Automatiser des tâches Excel avec Python via XLWings"
   ]
  },
  {
   "cell_type": "markdown",
   "id": "87b1fbb7-36c0-4ac6-b1cf-9a4a020a9aa8",
   "metadata": {},
   "source": [
    "XLWings est une bibliothèque Python qui permet d'interagir avec Microsoft Excel en utilisant le modèle d'objet Excel. Cela signifie que XLWings utilise les objets et méthodes d'Excel pour effectuer des opérations telles que la lecture et l'écriture de données, la manipulation de feuilles de calcul, la création de graphiques, etc.\n",
    "\n",
    "Fondamentalement, XLWings a créé une interface qui permet de passer des objets Excel (app, book, sheets, range) aux objets Python et vice-versa. \n",
    "\n",
    "<img src=\"modele objet excel.png\" width=\"700\"/>\n",
    "\n"
   ]
  },
  {
   "cell_type": "markdown",
   "id": "ad08b0e1-cc14-452e-b4a7-2e4136b13e57",
   "metadata": {},
   "source": [
    "## Les bases d'XLWings"
   ]
  },
  {
   "cell_type": "code",
   "execution_count": 72,
   "id": "a2dfb674-699b-47a1-a058-769d7fb3239e",
   "metadata": {},
   "outputs": [],
   "source": [
    "import xlwings as xw"
   ]
  },
  {
   "cell_type": "markdown",
   "id": "84f43cd4-72a8-46ed-bf68-2d7434c43ad2",
   "metadata": {},
   "source": [
    "#### Ouvrir un nouveau classeur"
   ]
  },
  {
   "cell_type": "code",
   "execution_count": 73,
   "id": "88a26ebc-dfc4-4b37-83f8-b163db36e925",
   "metadata": {},
   "outputs": [],
   "source": [
    "wb0 = xw.Book()       "
   ]
  },
  {
   "cell_type": "markdown",
   "id": "b9f9b9f7-8ec2-4c88-9921-168cace5df1e",
   "metadata": {},
   "source": [
    "#### Ouvrir un classeur Excel existant"
   ]
  },
  {
   "cell_type": "code",
   "execution_count": 74,
   "id": "fb226dac-db0e-461f-a3e5-23e24c3733db",
   "metadata": {},
   "outputs": [],
   "source": [
    "wb1 = xw.Book('mon_classeur.xlsx')"
   ]
  },
  {
   "cell_type": "markdown",
   "id": "cf35f6fc-8fb4-4ce5-bba3-53432fed6f4f",
   "metadata": {},
   "source": [
    "#### Accéder à une feuille spécifique"
   ]
  },
  {
   "cell_type": "code",
   "execution_count": 75,
   "id": "c04beac8-9d7a-4c6b-a152-93c814c868e7",
   "metadata": {},
   "outputs": [],
   "source": [
    "feuille = wb1.sheets['Tabelle1']"
   ]
  },
  {
   "cell_type": "markdown",
   "id": "8388bea2-df1c-46e2-8859-12e92174a501",
   "metadata": {},
   "source": [
    "#### Lire une valeur d'une cellule"
   ]
  },
  {
   "cell_type": "code",
   "execution_count": 76,
   "id": "64126389-37a1-4cc2-8147-b47f6e2caeb1",
   "metadata": {},
   "outputs": [
    {
     "name": "stdout",
     "output_type": "stream",
     "text": [
      "None\n"
     ]
    }
   ],
   "source": [
    "valeur = feuille.range('A1').value\n",
    "print(valeur)"
   ]
  },
  {
   "cell_type": "markdown",
   "id": "4c30d528-d61e-4f53-93d9-91622e0ec338",
   "metadata": {},
   "source": [
    "#### Ajouter une valeur spécifique"
   ]
  },
  {
   "cell_type": "code",
   "execution_count": 77,
   "id": "4a099350-199f-4071-bfcd-b5c3ac27010a",
   "metadata": {},
   "outputs": [],
   "source": [
    "feuille.range('B1').value = 'World'"
   ]
  },
  {
   "cell_type": "markdown",
   "id": "4e22d249-0302-4dea-ac06-4aafc6fd003d",
   "metadata": {},
   "source": [
    "#### Créer un graphique"
   ]
  },
  {
   "cell_type": "code",
   "execution_count": 78,
   "id": "30621cd8-8d0f-4945-8945-c702c8af9f6b",
   "metadata": {},
   "outputs": [],
   "source": [
    "chart = feuille.charts.add()\n",
    "chart.set_source_data(feuille.range('A1:B10'))\n",
    "chart.chart_type = 'line'"
   ]
  },
  {
   "cell_type": "markdown",
   "id": "a04e2f51-1713-471f-bf12-4b91430f4398",
   "metadata": {},
   "source": [
    "## Cas d'application : automatiser la réalisation de business reports\n",
    "\n",
    "Dans le dossier `s3_data`, vous avez toutes les données de vente d'une chaine de magasin. Votre supérieur veut que vous produisiez un rapport d'analyse de ces ventes, en restant sur Excel. \n",
    "L'objectif est ici d'arriver à créer un Jupyter notebook qui va automatiser : \n",
    "\n",
    "* L'agrégation de tous les fichiers en une seule base de données\n",
    "* L'analyse des données\n",
    "* La création de graphiques "
   ]
  },
  {
   "cell_type": "markdown",
   "id": "271df4e3-ef62-4875-a5d8-cfa6378eb851",
   "metadata": {},
   "source": [
    "### Automatiser l'agrégation des fichiers"
   ]
  },
  {
   "cell_type": "code",
   "execution_count": 79,
   "id": "90c8fb6d-60d7-4a26-bf41-77e3ce2e3d6d",
   "metadata": {},
   "outputs": [],
   "source": [
    "from pathlib import Path\n",
    "import pandas as pd"
   ]
  },
  {
   "cell_type": "markdown",
   "id": "4c0e192e-d716-4899-abcb-cbe2da6a36c3",
   "metadata": {},
   "source": [
    "Nous allons d'abord créer une variable this_dir qui contient le chemin absolu du répertoire dans lequel ce Jupyter notebook est actuellement exécuté. Cette variable va permettre au programme de construire les chemins qui permettent de localiser tous les fichiers Excel. "
   ]
  },
  {
   "cell_type": "code",
   "execution_count": 80,
   "id": "5459e988-6473-4bb1-bfe6-4bb8488f4820",
   "metadata": {},
   "outputs": [
    {
     "name": "stdout",
     "output_type": "stream",
     "text": [
      "C:\\Users\\julia\\OneDrive\\Bureau\\PythonForExcel\n"
     ]
    }
   ],
   "source": [
    "this_dir = Path().resolve()\n",
    "print(this_dir)"
   ]
  },
  {
   "cell_type": "markdown",
   "id": "20d40cd6-d9fa-4162-86be-59df0396bba5",
   "metadata": {},
   "source": [
    "Nous allons ensuite initialiser une liste vide appelée `parts` dans laquelle nous allons vouloir stocker tous les dataframes issus des fichiers Excel. \n",
    "\n",
    "Pour cela, nous allons demander au programmer de : \n",
    "* parcourir tous les fichiers avec une extension \".xls\" ou \".xlsx\" dans le répertoire \"s3_data\" situé dans le répertoire actuel\n",
    "* ouvrir les fichiers excel et les transformer en dataframes\n",
    "* ajouter les dataframes à la liste vide"
   ]
  },
  {
   "cell_type": "code",
   "execution_count": 81,
   "id": "6ac721a8-3cf8-4445-ae3d-ba836ad4bffc",
   "metadata": {},
   "outputs": [
    {
     "name": "stdout",
     "output_type": "stream",
     "text": [
      "Reading April.xlsx\n",
      "Reading August.xlsx\n",
      "Reading December.xlsx\n",
      "Reading February.xlsx\n",
      "Reading January.xlsx\n",
      "Reading July.xlsx\n",
      "Reading June.xlsx\n",
      "Reading March.xlsx\n",
      "Reading May.xlsx\n",
      "Reading November.xlsx\n",
      "Reading October.xlsx\n",
      "Reading September.xlsx\n"
     ]
    }
   ],
   "source": [
    "parts = []\n",
    "for path in (this_dir / \"s3_data\").rglob(\"*.xls*\"):\n",
    "    print(f'Reading {path.name}')\n",
    "    part = pd.read_excel(path, index_col=\"transaction_id\")\n",
    "    parts.append(part)"
   ]
  },
  {
   "cell_type": "code",
   "execution_count": 82,
   "id": "ab1bac1a-0a0e-431f-9522-b0f75d38d627",
   "metadata": {},
   "outputs": [
    {
     "data": {
      "text/html": [
       "<div>\n",
       "<style scoped>\n",
       "    .dataframe tbody tr th:only-of-type {\n",
       "        vertical-align: middle;\n",
       "    }\n",
       "\n",
       "    .dataframe tbody tr th {\n",
       "        vertical-align: top;\n",
       "    }\n",
       "\n",
       "    .dataframe thead th {\n",
       "        text-align: right;\n",
       "    }\n",
       "</style>\n",
       "<table border=\"1\" class=\"dataframe\">\n",
       "  <thead>\n",
       "    <tr style=\"text-align: right;\">\n",
       "      <th></th>\n",
       "      <th>store</th>\n",
       "      <th>status</th>\n",
       "      <th>transaction_date</th>\n",
       "      <th>plan</th>\n",
       "      <th>contract_type</th>\n",
       "      <th>amount</th>\n",
       "    </tr>\n",
       "    <tr>\n",
       "      <th>transaction_id</th>\n",
       "      <th></th>\n",
       "      <th></th>\n",
       "      <th></th>\n",
       "      <th></th>\n",
       "      <th></th>\n",
       "      <th></th>\n",
       "    </tr>\n",
       "  </thead>\n",
       "  <tbody>\n",
       "    <tr>\n",
       "      <th>7fb801a5</th>\n",
       "      <td>Chicago</td>\n",
       "      <td>ACTIVE</td>\n",
       "      <td>2019-04-01</td>\n",
       "      <td>Silver</td>\n",
       "      <td>NEW</td>\n",
       "      <td>14.25</td>\n",
       "    </tr>\n",
       "    <tr>\n",
       "      <th>8e8bdb2a</th>\n",
       "      <td>San Francisco</td>\n",
       "      <td>ACTIVE</td>\n",
       "      <td>2019-04-01</td>\n",
       "      <td>Silver</td>\n",
       "      <td>NEW</td>\n",
       "      <td>14.25</td>\n",
       "    </tr>\n",
       "    <tr>\n",
       "      <th>239db9b6</th>\n",
       "      <td>Washington DC</td>\n",
       "      <td>ACTIVE</td>\n",
       "      <td>2019-04-01</td>\n",
       "      <td>Silver</td>\n",
       "      <td>NEW</td>\n",
       "      <td>14.25</td>\n",
       "    </tr>\n",
       "    <tr>\n",
       "      <th>7ccb13ab</th>\n",
       "      <td>San Francisco</td>\n",
       "      <td>ACTIVE</td>\n",
       "      <td>2019-04-01</td>\n",
       "      <td>Gold</td>\n",
       "      <td>NEW</td>\n",
       "      <td>19.35</td>\n",
       "    </tr>\n",
       "    <tr>\n",
       "      <th>c18e82d9</th>\n",
       "      <td>Chicago</td>\n",
       "      <td>ACTIVE</td>\n",
       "      <td>2019-04-01</td>\n",
       "      <td>Bronze</td>\n",
       "      <td>NEW</td>\n",
       "      <td>12.20</td>\n",
       "    </tr>\n",
       "    <tr>\n",
       "      <th>...</th>\n",
       "      <td>...</td>\n",
       "      <td>...</td>\n",
       "      <td>...</td>\n",
       "      <td>...</td>\n",
       "      <td>...</td>\n",
       "      <td>...</td>\n",
       "    </tr>\n",
       "    <tr>\n",
       "      <th>53a449b0</th>\n",
       "      <td>New York</td>\n",
       "      <td>ACTIVE</td>\n",
       "      <td>2019-09-30</td>\n",
       "      <td>Silver</td>\n",
       "      <td>NEW</td>\n",
       "      <td>14.25</td>\n",
       "    </tr>\n",
       "    <tr>\n",
       "      <th>35b46c26</th>\n",
       "      <td>Boston</td>\n",
       "      <td>ACTIVE</td>\n",
       "      <td>2019-09-30</td>\n",
       "      <td>Silver</td>\n",
       "      <td>NEW</td>\n",
       "      <td>14.25</td>\n",
       "    </tr>\n",
       "    <tr>\n",
       "      <th>9e498c85</th>\n",
       "      <td>Chicago</td>\n",
       "      <td>ACTIVE</td>\n",
       "      <td>2019-09-30</td>\n",
       "      <td>Silver</td>\n",
       "      <td>NEW</td>\n",
       "      <td>14.25</td>\n",
       "    </tr>\n",
       "    <tr>\n",
       "      <th>5841d16e</th>\n",
       "      <td>San Francisco</td>\n",
       "      <td>ACTIVE</td>\n",
       "      <td>2019-09-30</td>\n",
       "      <td>Silver</td>\n",
       "      <td>NEW</td>\n",
       "      <td>14.25</td>\n",
       "    </tr>\n",
       "    <tr>\n",
       "      <th>86937799</th>\n",
       "      <td>Chicago</td>\n",
       "      <td>ACTIVE</td>\n",
       "      <td>2019-09-30</td>\n",
       "      <td>Gold</td>\n",
       "      <td>NEW</td>\n",
       "      <td>19.35</td>\n",
       "    </tr>\n",
       "  </tbody>\n",
       "</table>\n",
       "<p>93583 rows × 6 columns</p>\n",
       "</div>"
      ],
      "text/plain": [
       "                        store  status transaction_date    plan contract_type  \\\n",
       "transaction_id                                                                 \n",
       "7fb801a5              Chicago  ACTIVE       2019-04-01  Silver           NEW   \n",
       "8e8bdb2a        San Francisco  ACTIVE       2019-04-01  Silver           NEW   \n",
       "239db9b6        Washington DC  ACTIVE       2019-04-01  Silver           NEW   \n",
       "7ccb13ab        San Francisco  ACTIVE       2019-04-01    Gold           NEW   \n",
       "c18e82d9              Chicago  ACTIVE       2019-04-01  Bronze           NEW   \n",
       "...                       ...     ...              ...     ...           ...   \n",
       "53a449b0             New York  ACTIVE       2019-09-30  Silver           NEW   \n",
       "35b46c26               Boston  ACTIVE       2019-09-30  Silver           NEW   \n",
       "9e498c85              Chicago  ACTIVE       2019-09-30  Silver           NEW   \n",
       "5841d16e        San Francisco  ACTIVE       2019-09-30  Silver           NEW   \n",
       "86937799              Chicago  ACTIVE       2019-09-30    Gold           NEW   \n",
       "\n",
       "                amount  \n",
       "transaction_id          \n",
       "7fb801a5         14.25  \n",
       "8e8bdb2a         14.25  \n",
       "239db9b6         14.25  \n",
       "7ccb13ab         19.35  \n",
       "c18e82d9         12.20  \n",
       "...                ...  \n",
       "53a449b0         14.25  \n",
       "35b46c26         14.25  \n",
       "9e498c85         14.25  \n",
       "5841d16e         14.25  \n",
       "86937799         19.35  \n",
       "\n",
       "[93583 rows x 6 columns]"
      ]
     },
     "execution_count": 82,
     "metadata": {},
     "output_type": "execute_result"
    }
   ],
   "source": [
    "df = pd.concat(parts)\n",
    "df"
   ]
  },
  {
   "cell_type": "markdown",
   "id": "0f050320-b651-41d6-a4bc-5f893e72c0bd",
   "metadata": {},
   "source": [
    "Commençons par créer une feuille dans notre fichier Excel"
   ]
  },
  {
   "cell_type": "code",
   "execution_count": 83,
   "id": "6d11c9d2-99a7-4e61-8630-cb398b4e9a66",
   "metadata": {},
   "outputs": [],
   "source": [
    "database = wb1.sheets['Database']"
   ]
  },
  {
   "cell_type": "markdown",
   "id": "ec7cf04c-7bac-45ce-b496-a8d28fc11dea",
   "metadata": {},
   "source": [
    "Et ajoutons tout le dataframe dedans."
   ]
  },
  {
   "cell_type": "code",
   "execution_count": 84,
   "id": "1ae6ea98-a4d7-4e33-88c9-302d0824613d",
   "metadata": {},
   "outputs": [],
   "source": [
    "database[\"A1\"].value = df"
   ]
  },
  {
   "cell_type": "markdown",
   "id": "180c36de-6f0f-4c7a-be9d-9ef87079904d",
   "metadata": {},
   "source": [
    "### Automatiser l'analyse\n",
    "\n",
    "Nous voulons ici avoir le total des ventes par magasin et par mois"
   ]
  },
  {
   "cell_type": "code",
   "execution_count": 85,
   "id": "0446e1bb-880e-4643-ace6-dd1a5ba56ebf",
   "metadata": {},
   "outputs": [],
   "source": [
    "pivot = pd.pivot_table(df, index = 'transaction_date', columns='store',values=\"amount\", aggfunc=\"sum\")"
   ]
  },
  {
   "cell_type": "code",
   "execution_count": 86,
   "id": "86ae965e-5922-4e61-98e5-66cc34298b3d",
   "metadata": {},
   "outputs": [],
   "source": [
    "summary = pivot.resample(\"ME\").sum()\n",
    "summary.index.name = \"Month\""
   ]
  },
  {
   "cell_type": "code",
   "execution_count": 87,
   "id": "c82a74fa-127b-4bef-abc9-5713f57a4143",
   "metadata": {},
   "outputs": [
    {
     "name": "stdout",
     "output_type": "stream",
     "text": [
      "store         Boston   Chicago  Las Vegas  New York  San Francisco  \\\n",
      "Month                                                                \n",
      "2019-01-31  13701.10  26272.65    7216.45  42128.25       42969.25   \n",
      "2019-02-28  12243.85  24739.90    6192.60  37926.55       36469.35   \n",
      "2019-03-31  11026.60  22131.00    5637.25  32805.60       33876.45   \n",
      "2019-04-30  10344.80  21489.35    5540.40  32954.35       33265.00   \n",
      "2019-05-31  10533.15  20606.55    5266.45  32348.55       31836.80   \n",
      "2019-06-30  13317.90  24328.15    5713.55  38543.65       37787.30   \n",
      "2019-07-31  10701.65  20877.90    5376.65  31547.60       31386.65   \n",
      "2019-08-31  12239.70  24662.75    6335.05  36491.60       36895.10   \n",
      "2019-09-30  10757.10  20964.35    5928.55  33226.20       31709.80   \n",
      "2019-10-31   8180.35  16446.30    4217.25  24889.95       26015.90   \n",
      "2019-11-30  12583.90  25794.75    6880.75  38646.20       38479.20   \n",
      "2019-12-31  10390.00  21619.95    5481.60  32828.10       32378.60   \n",
      "\n",
      "store       Washington DC  \n",
      "Month                      \n",
      "2019-01-31        6515.40  \n",
      "2019-02-28        6705.70  \n",
      "2019-03-31        5173.80  \n",
      "2019-04-30        5480.30  \n",
      "2019-05-31        5293.95  \n",
      "2019-06-30        5926.05  \n",
      "2019-07-31        4982.55  \n",
      "2019-08-31        6729.15  \n",
      "2019-09-30        5544.45  \n",
      "2019-10-31        4171.45  \n",
      "2019-11-30        6035.00  \n",
      "2019-12-31        5245.00  \n"
     ]
    }
   ],
   "source": [
    "print(summary)"
   ]
  },
  {
   "cell_type": "markdown",
   "id": "819e1dd8-1154-4cbf-b120-ef9f7b0ff2f3",
   "metadata": {},
   "source": [
    "Ajoutons maintenant cette analyse dans le tableur Excel"
   ]
  },
  {
   "cell_type": "code",
   "execution_count": 88,
   "id": "54ff74fd-afa7-4a6f-9634-ee01fe28f9e7",
   "metadata": {},
   "outputs": [],
   "source": [
    "summary_sheet = wb1.sheets['Summary']"
   ]
  },
  {
   "cell_type": "code",
   "execution_count": 89,
   "id": "28ad935c-6bbd-48a3-98ae-3ea302f365fe",
   "metadata": {},
   "outputs": [],
   "source": [
    "summary_sheet[\"A1\"].value = summary\n"
   ]
  },
  {
   "cell_type": "markdown",
   "id": "6d505515-cf39-4127-83ec-5c3233a55c17",
   "metadata": {},
   "source": [
    "### Automatiser la réalisation de graphiques"
   ]
  },
  {
   "cell_type": "code",
   "execution_count": 90,
   "id": "10ea22d2-f492-443f-a6f1-774b617a362d",
   "metadata": {},
   "outputs": [
    {
     "data": {
      "text/plain": [
       "<Picture 'MyPlot' in <Sheet [mon_classeur.xlsx]Summary>>"
      ]
     },
     "execution_count": 90,
     "metadata": {},
     "output_type": "execute_result"
    }
   ],
   "source": [
    "import matplotlib.pyplot as plt\n",
    "\n",
    "fig = plt.figure()\n",
    "plt.plot(summary, label=summary.columns)\n",
    "\n",
    "plt.legend(loc='upper left')\n",
    "\n",
    "summary_sheet.pictures.add(fig, name='MyPlot', update=True, left=summary_sheet.range('B16').left, top=summary_sheet.range('B16').top)"
   ]
  }
 ],
 "metadata": {
  "kernelspec": {
   "display_name": "Python 3 (ipykernel)",
   "language": "python",
   "name": "python3"
  },
  "language_info": {
   "codemirror_mode": {
    "name": "ipython",
    "version": 3
   },
   "file_extension": ".py",
   "mimetype": "text/x-python",
   "name": "python",
   "nbconvert_exporter": "python",
   "pygments_lexer": "ipython3",
   "version": "3.12.2"
  }
 },
 "nbformat": 4,
 "nbformat_minor": 5
}
