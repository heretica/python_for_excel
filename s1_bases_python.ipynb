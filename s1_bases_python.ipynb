{
 "cells": [
  {
   "cell_type": "markdown",
   "id": "5b6473ad-f058-4f73-a7f4-152e94f54e3c",
   "metadata": {},
   "source": [
    "# Les bases en Python pour automatiser Excel\n",
    "\n",
    "\n",
    "Cours de programmation en Python pour le master ___ a GEM. \n",
    "\n",
    "Annee scolaire: Semestre 2, 2023/2024 \n",
    "\n",
    "Intervenant: Arthur Sarazin \n",
    "\n",
    "Date: 19/03/2024"
   ]
  },
  {
   "cell_type": "markdown",
   "id": "af6d22db-1551-4105-8396-fd065f297f76",
   "metadata": {},
   "source": [
    "## Format VS. Type de données"
   ]
  },
  {
   "cell_type": "markdown",
   "id": "2fb4e70a-c1ac-4fb9-beb3-24f713b2c9c4",
   "metadata": {},
   "source": [
    "Quand Excel nous demande de spécifier le **format** d'une cellule 👇"
   ]
  },
  {
   "cell_type": "markdown",
   "id": "ca8d4ef9-7fb6-4c8b-a5af-1087503bdb0a",
   "metadata": {},
   "source": [
    "\n",
    "Python nous permet d'assigner des **types** à nos données. Les types les plus courants sont :\n",
    "\n",
    "- **Entiers (int)** : Les entiers sont des nombres entiers sans décimales. Par exemple : `5`, `10`, `-3`.\n",
    "```python\n",
    "3\n",
    "```\n",
    "\n",
    "- **Nombres à virgule flottante (float)** : Les nombres à virgule flottante représentent des nombres décimaux. Par exemple : `3.14`, `2.71828`, `-0.5`.\n",
    "```python\n",
    "12.1\n",
    "```\n",
    "\n",
    "- **Chaînes de caractères (str)** : Les chaînes de caractères sont utilisées pour représenter du texte. Elles peuvent être entourées de guillemets simples `'` ou doubles `\"`. Par exemple : `'Bonjour'`, `\"Python est génial\"`.\n",
    "```python\n",
    "'mots'\n",
    "```\n",
    "\n",
    "- **Booléens (bool)** : Les booléens représentent les valeurs de vérité `True` (vrai) ou `False` (faux). Ils sont souvent utilisés pour des opérations de contrôle de flux comme les conditions. Par exemple : `True`, `False`.\n",
    "```python\n",
    "True\n",
    "False\n",
    "```\n",
    "\n",
    "- **Listes (list)** : Les listes sont des collections ordonnées d'éléments, qui peuvent être de différents types. Elles sont définies entre crochets `[]` et les éléments sont séparés par des virgules. Par exemple : `[1, 2, 3]`, `['a', 'b', 'c']`.\n",
    "```python\n",
    "[3, 2, 1]\n",
    "```\n",
    "\n",
    "- **Tuples (tuple)** : Les tuples sont similaires aux listes, mais ils sont immuables, ce qui signifie qu'ils ne peuvent pas être modifiés une fois créés. Ils sont définis entre parenthèses `()` et les éléments sont séparés par des virgules. Par exemple : `(1, 2, 3)`, `('a', 'b', 'c')`.\n",
    "```python\n",
    "(1, 2)\n",
    "```\n",
    "\n",
    "- **Ensembles (set)** : Les ensembles sont des collections non ordonnées d'éléments uniques. Ils sont définis entre accolades `{}` et les éléments sont séparés par des virgules. Par exemple : `{1, 2, 3}`, `{'a', 'b', 'c'}`.\n",
    "```python\n",
    "{2, 4, 1}\n",
    "```\n",
    "\n",
    "- **Dictionnaires (dict)** : Les dictionnaires sont des collections d'éléments associatifs, où chaque élément est une paire clé-valeur. Ils sont définis entre accolades `{}`, avec chaque paire clé-valeur séparée par deux points `:` et les paires séparées par des virgules. Par exemple : `{'nom': 'Jean', 'âge': 30, 'ville': 'Paris'}`.\n",
    "```python\n",
    "{'ville':'Paris', 'Population':12}\n",
    "```\n"
   ]
  },
  {
   "cell_type": "markdown",
   "id": "338d8d64-80c0-49f4-b76e-0ef57b2aa2b7",
   "metadata": {},
   "source": [
    "## Tableur VS. Structures de données\n",
    "\n",
    "Quand Excel nous fait interagir avec des **tableurs** 👇"
   ]
  },
  {
   "cell_type": "markdown",
   "id": "47ee8747-d43e-4f8c-b021-06b60089b3d3",
   "metadata": {},
   "source": [
    "<img src=\"media/tableurs.png\" width=\"500\"/>"
   ]
  },
  {
   "cell_type": "markdown",
   "id": "6f66eea1-b24a-4443-975e-d80c683036e1",
   "metadata": {},
   "source": [
    "Python nous fait plutôt manipuler des **structures de données** 👇 "
   ]
  },
  {
   "cell_type": "code",
   "execution_count": 4,
   "id": "ab71b5b2-dd98-4174-8923-2f9d64a15ee0",
   "metadata": {},
   "outputs": [
    {
     "name": "stdout",
     "output_type": "stream",
     "text": [
      "[1001, 'Mark', 55, 'Italy', 4.5, 'Europe']\n"
     ]
    }
   ],
   "source": [
    "# des listes\n",
    "l = list([1001,\"Mark\",55,\"Italy\", 4.5, \"Europe\"])\n",
    "print(l)"
   ]
  },
  {
   "cell_type": "code",
   "execution_count": 14,
   "id": "23a907b9-526c-4d7f-b0ca-31f0f3f3714d",
   "metadata": {},
   "outputs": [
    {
     "name": "stdout",
     "output_type": "stream",
     "text": [
      "(1001, 'Mark', 55, 'Italy', 4.5, 'Europe')\n"
     ]
    }
   ],
   "source": [
    "# des tuples\n",
    "t = (1001,\"Mark\",55,\"Italy\", 4.5, \"Europe\")\n",
    "print(t)"
   ]
  },
  {
   "cell_type": "code",
   "execution_count": 10,
   "id": "5f1c8ed5-c9b7-4dba-9cf4-259cc981dbc8",
   "metadata": {},
   "outputs": [
    {
     "name": "stdout",
     "output_type": "stream",
     "text": [
      "{1001: {'name': 'Mark', 'age': 55, 'country': 'Italy', 'score': '4.5', 'continent': 'Europe'}}\n"
     ]
    }
   ],
   "source": [
    "# des dictionnaires\n",
    "d = {1001:{'name':'Mark', 'age':55,'country':'Italy','score':'4.5', 'continent':'Europe'}}\n",
    "print(d)"
   ]
  },
  {
   "cell_type": "code",
   "execution_count": 1,
   "id": "27b13044-0125-4677-9eb9-78a4266a93c9",
   "metadata": {},
   "outputs": [
    {
     "name": "stdout",
     "output_type": "stream",
     "text": [
      "{'America', 'Europe'}\n"
     ]
    }
   ],
   "source": [
    "# des sets\n",
    "s = set([\"Europe\", \"America\",\"America\", \"Europe\"])\n",
    "print(s)"
   ]
  },
  {
   "cell_type": "markdown",
   "id": "b8024fb3-ddbc-4796-a4a1-81340d224807",
   "metadata": {},
   "source": [
    "\n",
    "\n"
   ]
  },
  {
   "cell_type": "markdown",
   "id": "7f2988ff-0716-4166-a812-3959f63c7571",
   "metadata": {},
   "source": [
    "*Exercice 1* \n",
    "--\n",
    "Creer un dictionnaire qui comprend le nom d'une ville, sa population et sa superficie. "
   ]
  },
  {
   "cell_type": "code",
   "execution_count": 8,
   "id": "07755f19-a956-47fa-a11d-8dcdb8cc10ae",
   "metadata": {},
   "outputs": [
    {
     "data": {
      "text/plain": [
       "{'Population': 160000, 'Superficie': 12000}"
      ]
     },
     "execution_count": 8,
     "metadata": {},
     "output_type": "execute_result"
    }
   ],
   "source": [
    "# SOLUTION \n",
    "dict_ville = {'Grenoble':{'Population': 160000, 'Superficie':12000}}\n",
    "dict_ville['Grenoble']"
   ]
  },
  {
   "cell_type": "markdown",
   "id": "2de9b311-3eff-45dc-b2da-509e92a11297",
   "metadata": {},
   "source": [
    "*Exercice 2*\n",
    "--\n",
    "Creer un dictionnaire qui comprend deux pays et une ville par pays (un niveau suplementaire), de telle maniere qu'en selectionnant un pays, on obtient un dictionnaire des villes du pays. "
   ]
  },
  {
   "cell_type": "code",
   "execution_count": 7,
   "id": "30d8f422-e95a-46e2-b16c-b0fdd06a04e0",
   "metadata": {},
   "outputs": [
    {
     "name": "stdout",
     "output_type": "stream",
     "text": [
      "{'Grenoble': {'Population': 160000, 'Superficie': 12000}, 'Voiron': {'Population': 20000, 'Superficie': 1000}}\n",
      "{'Population': 160000, 'Superficie': 12000}\n"
     ]
    }
   ],
   "source": [
    "# SOLUTION\n",
    "dict_pays = {'FR': {'Grenoble':{'Population': 160000, 'Superficie':12000},\n",
    "                    'Voiron':{'Population': 20000, 'Superficie':1000}},\n",
    "             'NL':{'La Haye':{'Population': 180000, 'Superficie':18000}}\n",
    "            }\n",
    "\n",
    "print(dict_pays['FR'])\n",
    "print(dict_pays['FR']['Grenoble'])"
   ]
  },
  {
   "cell_type": "markdown",
   "id": "6285b75f-48ab-4405-8566-4ffdc6fced20",
   "metadata": {},
   "source": [
    "# Lignes/colonnes VS. Index"
   ]
  },
  {
   "cell_type": "markdown",
   "id": "d7f16a90-e771-4226-87cf-552b4aec5976",
   "metadata": {},
   "source": [
    "Quand Excel nous fait interagir avec **des lignes et des colonnes** 👇"
   ]
  },
  {
   "cell_type": "markdown",
   "id": "a722a28d-8873-4464-8653-86f78a4a0656",
   "metadata": {},
   "source": [
    "<img src=\"media/lignes_colonnes.png\" width=\"500\"/>"
   ]
  },
  {
   "cell_type": "markdown",
   "id": "f834c406-09a4-4046-80af-280dbf2b001d",
   "metadata": {},
   "source": [
    "Python nous fait manipuler des éléments présents au sein des structures de données et identifiables grâce à leur **index** 👇"
   ]
  },
  {
   "cell_type": "markdown",
   "id": "f35bd364-f748-48d7-ab09-e21fd0276234",
   "metadata": {},
   "source": [
    "<img src=\"media/index.png\" width=\"500\"/>"
   ]
  },
  {
   "cell_type": "code",
   "execution_count": 19,
   "id": "7a8b6693-3b20-4477-81f6-8bc615357e9b",
   "metadata": {},
   "outputs": [
    {
     "name": "stdout",
     "output_type": "stream",
     "text": [
      "1001\n"
     ]
    }
   ],
   "source": [
    "print(l[0])"
   ]
  },
  {
   "cell_type": "code",
   "execution_count": 21,
   "id": "bba37004-cf12-4357-8edb-1025d9316681",
   "metadata": {},
   "outputs": [
    {
     "name": "stdout",
     "output_type": "stream",
     "text": [
      "Mark\n"
     ]
    }
   ],
   "source": [
    "print(t[1])"
   ]
  },
  {
   "cell_type": "code",
   "execution_count": 23,
   "id": "f27e8725-adf3-4f19-9710-981dc07e7cb6",
   "metadata": {},
   "outputs": [
    {
     "name": "stdout",
     "output_type": "stream",
     "text": [
      "{'name': 'Mark', 'age': 55, 'country': 'Italy', 'score': '4.5', 'continent': 'Europe'}\n"
     ]
    }
   ],
   "source": [
    "print(d[1001])"
   ]
  },
  {
   "cell_type": "markdown",
   "id": "24cb530e-5784-4401-8250-651ae957b652",
   "metadata": {},
   "source": [
    "# Ajouter/Supprimer VS. Slicing"
   ]
  },
  {
   "cell_type": "markdown",
   "id": "24a43234-e735-4e6c-b622-c0d5eb098737",
   "metadata": {},
   "source": [
    "Quand Excel nous amène à **ajouter/supprimer** des lignes et colonnes pour sélectionner un sous-ensemble de données 👇"
   ]
  },
  {
   "cell_type": "markdown",
   "id": "22722166-d3e6-4a57-b6b7-2558879ab375",
   "metadata": {},
   "source": [
    "<img src=\"media/ajout:suppression.png\" width=\"500\"/>"
   ]
  },
  {
   "cell_type": "markdown",
   "id": "820c95e1-aa4e-4625-80de-08bcb3a15b3a",
   "metadata": {},
   "source": [
    "Python nous permet de **découper** (_slice_) des sous-ensembles de données en utilisant l'index 👇"
   ]
  },
  {
   "cell_type": "code",
   "execution_count": 29,
   "id": "2737f993-e0ae-42df-9234-3a2d768d5dab",
   "metadata": {},
   "outputs": [
    {
     "name": "stdout",
     "output_type": "stream",
     "text": [
      "[1001, 'Mark', 55]\n"
     ]
    }
   ],
   "source": [
    "print(l[0:3])"
   ]
  },
  {
   "cell_type": "code",
   "execution_count": 30,
   "id": "958a978c-3708-4428-8589-a7e086c6130b",
   "metadata": {},
   "outputs": [
    {
     "name": "stdout",
     "output_type": "stream",
     "text": [
      "('Mark', 55, 'Italy')\n"
     ]
    }
   ],
   "source": [
    "print(t[1:4])"
   ]
  },
  {
   "cell_type": "markdown",
   "id": "08742f40-0984-43d1-8289-cc6d66630c1c",
   "metadata": {},
   "source": [
    "*Exercice 3* \n",
    "-- \n",
    "\n",
    "En prenant la liste suivante, selectioner la deuxieme et troisieme valeurs: l1 = [12, 23, 12, 56, 23] "
   ]
  },
  {
   "cell_type": "code",
   "execution_count": 10,
   "id": "a05040d6-b0ff-4a0c-916b-13a74ffabd5c",
   "metadata": {},
   "outputs": [
    {
     "name": "stdout",
     "output_type": "stream",
     "text": [
      "[23, 12]\n"
     ]
    }
   ],
   "source": [
    "#SOLUTION \n",
    "l1 = [12, 23, 12, 56, 23]\n",
    "print(l1[1:3])"
   ]
  },
  {
   "cell_type": "markdown",
   "id": "eb452082-033c-4e88-b540-a2c7925d3a1b",
   "metadata": {},
   "source": [
    "*Exercice 4* \n",
    "-- \n",
    "\n",
    "Creer une nouvelle liste contenant 1, 2 et 7 et ajoutez le resultat de l'exercice 3 a la fin de cette liste. "
   ]
  },
  {
   "cell_type": "code",
   "execution_count": 13,
   "id": "afec9b90-5df3-4361-9b80-a337cedb1a6e",
   "metadata": {},
   "outputs": [
    {
     "name": "stdout",
     "output_type": "stream",
     "text": [
      "[1, 2, 7, [23, 12]]\n",
      "[1, 2, 7, 23, 12]\n"
     ]
    }
   ],
   "source": [
    "# WRONG SOLUTION \n",
    "l2 = [1,2,7] \n",
    "l2.append(l1[1:3])\n",
    "print(l2)\n",
    "\n",
    "# SOLUTION \n",
    "l2 = [1,2,7] \n",
    "l2.append(l1[1])\n",
    "l2.append(l1[2])\n",
    "print(l2)"
   ]
  },
  {
   "cell_type": "markdown",
   "id": "305e7b11-2f92-42ff-b326-3faed20fb9c6",
   "metadata": {},
   "source": [
    "<img src=\"media/format.png\" width=\"500\"/>"
   ]
  },
  {
   "cell_type": "markdown",
   "id": "1c9ca6fd-db6a-4c02-99f3-29a684dd4b6e",
   "metadata": {},
   "source": [
    "## Verifier le type d'une donnee"
   ]
  },
  {
   "cell_type": "code",
   "execution_count": 5,
   "id": "30bbaa19-088b-4f61-9960-ff1e15a0a3fa",
   "metadata": {},
   "outputs": [
    {
     "ename": "NameError",
     "evalue": "name 'l' is not defined",
     "output_type": "error",
     "traceback": [
      "\u001b[1;31m---------------------------------------------------------------------------\u001b[0m",
      "\u001b[1;31mNameError\u001b[0m                                 Traceback (most recent call last)",
      "Cell \u001b[1;32mIn[5], line 1\u001b[0m\n\u001b[1;32m----> 1\u001b[0m \u001b[38;5;28mprint\u001b[39m(\u001b[38;5;28mtype\u001b[39m(\u001b[43ml\u001b[49m[\u001b[38;5;241m0\u001b[39m]))\n",
      "\u001b[1;31mNameError\u001b[0m: name 'l' is not defined"
     ]
    }
   ],
   "source": [
    "print(type(l[0]))"
   ]
  },
  {
   "cell_type": "code",
   "execution_count": 36,
   "id": "9e9a941e-428c-44e3-9dec-bca19fec8147",
   "metadata": {},
   "outputs": [
    {
     "name": "stdout",
     "output_type": "stream",
     "text": [
      "<class 'str'>\n"
     ]
    }
   ],
   "source": [
    "print(type(l[1]))"
   ]
  },
  {
   "cell_type": "code",
   "execution_count": 34,
   "id": "31aa5cfe-e7de-4d40-80c8-f6a5e2437ccc",
   "metadata": {},
   "outputs": [
    {
     "name": "stdout",
     "output_type": "stream",
     "text": [
      "<class 'list'>\n"
     ]
    }
   ],
   "source": [
    "print(type(l[0:1]))"
   ]
  },
  {
   "cell_type": "markdown",
   "id": "842ea514-6fb8-4ec2-9abf-6a8c96b23c06",
   "metadata": {},
   "source": [
    "## Ajouter des conditions"
   ]
  },
  {
   "cell_type": "markdown",
   "id": "e51bb670-1d29-409a-a026-2a881ec99ebb",
   "metadata": {},
   "source": [
    "Nous pouvons ajouter des conditions pour gerer plusieurs cas de figure. \n",
    "\n",
    "Les types d'operateurs sont: \n",
    "\n",
    "```python \n",
    "x == y # x est egal a y \n",
    "x != y # x est different de y\n",
    "x > y # x est superieur a y \n",
    "x >= y # x est superieur ou egal a y \n",
    "x in y # Si y est une liste, tuple ou ensemble, alors x est contenu dans y\n",
    "x not in y # idem mais non contenu \n",
    "```\n",
    "\n",
    "\n",
    "Nous pouvons aussi combiner des conditions: \n",
    "\n",
    "```python\n",
    "x == y and z > k \n",
    "x == y or z > k \n",
    "```"
   ]
  },
  {
   "cell_type": "code",
   "execution_count": 14,
   "id": "a7435f13-05f7-448a-829f-689d787e4c40",
   "metadata": {},
   "outputs": [
    {
     "name": "stdout",
     "output_type": "stream",
     "text": [
      "Ils sont differents!\n"
     ]
    }
   ],
   "source": [
    "x = 1\n",
    "y = 2 \n",
    "\n",
    "if x == y:\n",
    "    print('Ils sont identiques!')\n",
    "else:\n",
    "    print('Ils sont differents!')"
   ]
  },
  {
   "cell_type": "code",
   "execution_count": 16,
   "id": "ff30e64a-a4ce-40dd-87c5-4f85e3f5672c",
   "metadata": {},
   "outputs": [
    {
     "name": "stdout",
     "output_type": "stream",
     "text": [
      "Bravo!\n"
     ]
    }
   ],
   "source": [
    "z = 5\n",
    "if x != y and x < z:\n",
    "    print('Bravo!')\n",
    "else: \n",
    "    print('Dommage!')"
   ]
  },
  {
   "cell_type": "markdown",
   "id": "575e1a87-57f0-4116-8080-ebdbae398949",
   "metadata": {},
   "source": [
    "*Exercice 5*\n",
    "--\n",
    "\n",
    "Creer deux variables: \n",
    "    - x qui est un entier \n",
    "    - l3 qui est une liste de 3 entiers \n",
    "\n",
    "Creer une condition qui verifie si x fait parti de la liste. Si oui, imprimer: \"X est compris dans L\", si non imprimer: \"X n'est pas compris dans L\""
   ]
  },
  {
   "cell_type": "code",
   "execution_count": 19,
   "id": "510f2b66-0568-47d4-ab31-31cf2aa938ce",
   "metadata": {},
   "outputs": [
    {
     "name": "stdout",
     "output_type": "stream",
     "text": [
      "X n'est pas compris dans L\n"
     ]
    }
   ],
   "source": [
    "# SOLUTION \n",
    "x = 6\n",
    "l3 = [2 , 3, 5]\n",
    "\n",
    "if x in l3: \n",
    "    print('X est compris dans L')\n",
    "else: \n",
    "    print('X n\\'est pas compris dans L')"
   ]
  },
  {
   "cell_type": "markdown",
   "id": "7525c884-43c6-4805-998a-46d302aaa844",
   "metadata": {},
   "source": [
    "## La magie des boucles \n",
    "\n",
    "Les boucles sont fondamentales pour automatiser des processus. \n",
    "\n",
    "Iterer sur une liste des valeurs: \n",
    "\n",
    "```python\n",
    "for name in ['Mathis', 'Geoffrey', 'Dylan']:\n",
    "    # do something \n",
    "\n",
    "\n",
    "for number in [1,2,3,4,5]: \n",
    "    # do something \n",
    "\n",
    "for number in range(1, 100, 1):\n",
    "    # number was iterer de 1 jusqu'a 99, et avance de 1 a chaque iteration \n",
    "```\n",
    "\n",
    "\n",
    "Iterer jusqu'a ce qu'une valeur soit atteinte: \n",
    "```python\n",
    "while error > 10: \n",
    "    # do something\n",
    "```\n",
    "\n",
    "Attention: Haut-risque de faire une boucle infinie! \n",
    "\n"
   ]
  },
  {
   "cell_type": "markdown",
   "id": "94a22237-0ff4-4c84-94a6-c33eeb842751",
   "metadata": {},
   "source": [
    "*Exercice 6*\n",
    "--\n",
    "\n",
    "Creer une boucle 'for' qui itere sur une liste de prenoms et qui regarde si le nom est 'Arthur'. Si le nom est 'Arthur', arreter la boucle et imprimer \"reussit!\". Si le nom n'est pas Arthur, imprimer \"La recherche continue...\""
   ]
  },
  {
   "cell_type": "code",
   "execution_count": 29,
   "id": "3f98b297-d945-44f6-890c-2b0da13923fc",
   "metadata": {},
   "outputs": [
    {
     "name": "stdout",
     "output_type": "stream",
     "text": [
      "La recherche continue...\n",
      "La recherche continue...\n",
      "Reussit!\n"
     ]
    }
   ],
   "source": [
    "#SOLUTION\n",
    "prenoms = ['Mathis', 'Daniel', 'Arthur', 'Ben']\n",
    "for prenom in prenoms:\n",
    "    if prenom == 'Arthur':\n",
    "        print('Reussit!')\n",
    "        break \n",
    "    else: \n",
    "        print('La recherche continue...')"
   ]
  },
  {
   "cell_type": "markdown",
   "id": "693c7a87-6bcd-4824-ba4d-f6c98a59847a",
   "metadata": {},
   "source": [
    "## Combiner les listes et les boucles pour accelerer le programme! \n",
    "\n",
    "Nested loops: Boucles for ou while a l'interieur d'une liste\n",
    "\n",
    "```python\n",
    "[number**2 for number in range(10)] \n",
    "\n",
    "[word[0] for word in ['M. Mourey', 'A. Sarazin']\n",
    " ```"
   ]
  },
  {
   "cell_type": "code",
   "execution_count": 25,
   "id": "4b65d8cf-9de5-44fa-aa7c-4ebcf4117cc4",
   "metadata": {},
   "outputs": [
    {
     "data": {
      "text/plain": [
       "[0, 1, 2, 3, 4, 5, 6, 7, 8, 9]"
      ]
     },
     "execution_count": 25,
     "metadata": {},
     "output_type": "execute_result"
    }
   ],
   "source": [
    "l4 = [i for i in range(10)] \n",
    "l4"
   ]
  },
  {
   "cell_type": "code",
   "execution_count": 26,
   "id": "317e243b-f262-47e7-b3c1-c21cb3f8cf9b",
   "metadata": {},
   "outputs": [
    {
     "data": {
      "text/plain": [
       "[1, 2, 5, 10, 17, 26, 37, 50, 65, 82]"
      ]
     },
     "execution_count": 26,
     "metadata": {},
     "output_type": "execute_result"
    }
   ],
   "source": [
    "l5 = [i**2 + 1 for i in l4]\n",
    "l5"
   ]
  },
  {
   "cell_type": "markdown",
   "id": "809baa64-2218-4ed5-961b-4fe276fc8eb1",
   "metadata": {},
   "source": [
    "## *Exercice 7*\n",
    "--\n",
    "\n",
    "Creer une liste qui reprend chaque item de la liste l4 et divise le montant par 2 et rajoute 10. Enfin, transforme le resultat en une variable de type str()"
   ]
  },
  {
   "cell_type": "code",
   "execution_count": 28,
   "id": "af4136a1-c60a-4a8f-a54a-4ac60e23b04c",
   "metadata": {},
   "outputs": [
    {
     "data": {
      "text/plain": [
       "['10.0',\n",
       " '10.5',\n",
       " '11.0',\n",
       " '11.5',\n",
       " '12.0',\n",
       " '12.5',\n",
       " '13.0',\n",
       " '13.5',\n",
       " '14.0',\n",
       " '14.5']"
      ]
     },
     "execution_count": 28,
     "metadata": {},
     "output_type": "execute_result"
    }
   ],
   "source": [
    "# SOLUTION \n",
    "l6 = [ str(i/2 + 10) for i in l4]\n",
    "l6"
   ]
  },
  {
   "cell_type": "markdown",
   "id": "2e8e8832-9c53-4efc-b48e-7deaa11dac78",
   "metadata": {},
   "source": [
    "## Créer vos propres outils logiques via les fonctions \n",
    "\n",
    "Considérez les fonctions comme des mini outils logiques que vous allez pouvoir créer au sein de votre code Python et qui, une fois définis, pourront être appelés à n'importe quel moment. En définissant des fonctions, vous créez votre propre boite à outils. \n",
    "\n",
    "En Python, vous pouvez définir vos propres fonctions à l'aide du mot-clé **def**."
   ]
  },
  {
   "cell_type": "code",
   "execution_count": 14,
   "id": "7ee24c0b-58a1-4cd1-b188-a5434362f617",
   "metadata": {},
   "outputs": [],
   "source": [
    "def nom_de_la_fonction(paramètres):\n",
    "    # Bloc de code à exécuter\n",
    "    # Peut contenir un ou plusieurs instructions\n",
    "    return valeur_de_retour"
   ]
  },
  {
   "cell_type": "markdown",
   "id": "07f940da-b392-4dd0-8def-a769f84bbbb0",
   "metadata": {},
   "source": [
    "Decryptons la syntaxe :\n",
    "\n",
    "*   `def` : C'est le mot-clé utilisé pour définir une fonction.\n",
    "*   `nom_de_la_fonction` : C'est le nom que vous donnez à votre fonction. Choisissez un nom descriptif qui indique ce que fait votre fonction.\n",
    "*   `(paramètres)` : Ce sont les entrées de votre fonction, également appelées arguments. Vous pouvez spécifier zéro, un ou plusieurs paramètres, séparés par des virgules.\n",
    "*   `:` : C'est un symbole de syntaxe qui marque le début du bloc de code de la fonction.\n",
    "*   `# Bloc de code à exécuter` : C'est le corps de votre fonction. Il contient les instructions que votre fonction exécute lorsque vous l'appelez.\n",
    "*   `return valeur_de_retour` : Cette instruction est utilisée pour renvoyer une valeur à partir de la fonction. Elle est facultative et peut être utilisée pour retourner un résultat de calcul ou un objet.\n",
    "\n",
    "Et créons une fonction qui prend en input un nombre, et ressors ce nombre au carré "
   ]
  },
  {
   "cell_type": "code",
   "execution_count": 16,
   "id": "a4d05128-f8b9-4896-a535-541134015b34",
   "metadata": {},
   "outputs": [],
   "source": [
    "def carre(x):\n",
    "    return x ** 2"
   ]
  },
  {
   "cell_type": "markdown",
   "id": "ce86a044-d6aa-415a-853d-d19a7bbc7ccd",
   "metadata": {},
   "source": [
    "Maitenant, comment faire pour utiliser cette fonction ? \n",
    "\n",
    "Après avoir défini une fonction, vous pouvez l'appeler en utilisant son nom suivi des parenthèses contenant les valeurs des arguments que vous souhaitez passer à la fonction."
   ]
  },
  {
   "cell_type": "code",
   "execution_count": 19,
   "id": "a6545b17-d86a-4b6a-9bc1-2faaa84bf86c",
   "metadata": {},
   "outputs": [
    {
     "name": "stdout",
     "output_type": "stream",
     "text": [
      "25\n"
     ]
    }
   ],
   "source": [
    "resultat = carre(5)\n",
    "print(resultat)"
   ]
  },
  {
   "cell_type": "markdown",
   "id": "0f8fdea3-0276-47f2-911b-6159cdcf3080",
   "metadata": {},
   "source": [
    "## Utiliser de l'aide, c'est legal! \n",
    "\n",
    "Importer un package en Python est essentiel lors de la programmation car cela permet d'accéder à des fonctionnalités préexistantes et de les intégrer à son propre code. Les packages offrent une multitude de modules contenant des outils spécialisés dans divers domaines tels que la manipulation de données, la visualisation, le traitement du langage naturel, entre autres. En les important, les développeurs évitent de réinventer la roue et bénéficient de solutions déjà éprouvées, ce qui accélère le processus de développement et garantit la qualité du code. De plus, importer des packages favorise la modularité et la réutilisabilité du code, deux principes fondamentaux de la programmation efficace et maintenable.\n",
    "\n",
    "\n",
    "Pour importer un package, on utilise la synthaxe suivante:\n",
    "```python\n",
    "import pandas as pd \n",
    "```\n",
    "\n",
    "On utilise d'abord la fonction ```import``` suivie du nom du package, ici \"pandas\". Souvant, le nom du package est trop long a ecrire lorsque l'on appelle les fonctions, on lui attribue donc un surnom en utilisant la fonction ```as```. Ici, on appelera le package en notant ```pd``` dans le code.  "
   ]
  },
  {
   "cell_type": "code",
   "execution_count": 20,
   "id": "c573e137-1936-480d-8d8d-d7e7458486a8",
   "metadata": {},
   "outputs": [],
   "source": [
    "import pandas as pd "
   ]
  },
  {
   "cell_type": "code",
   "execution_count": 21,
   "id": "bfbd08d8-6b22-4ee6-a54b-bdb5eb447f4a",
   "metadata": {},
   "outputs": [
    {
     "data": {
      "text/html": [
       "<div>\n",
       "<style scoped>\n",
       "    .dataframe tbody tr th:only-of-type {\n",
       "        vertical-align: middle;\n",
       "    }\n",
       "\n",
       "    .dataframe tbody tr th {\n",
       "        vertical-align: top;\n",
       "    }\n",
       "\n",
       "    .dataframe thead th {\n",
       "        text-align: right;\n",
       "    }\n",
       "</style>\n",
       "<table border=\"1\" class=\"dataframe\">\n",
       "  <thead>\n",
       "    <tr style=\"text-align: right;\">\n",
       "      <th></th>\n",
       "      <th>Valeur</th>\n",
       "    </tr>\n",
       "  </thead>\n",
       "  <tbody>\n",
       "    <tr>\n",
       "      <th>1</th>\n",
       "      <td>12</td>\n",
       "    </tr>\n",
       "    <tr>\n",
       "      <th>2</th>\n",
       "      <td>23</td>\n",
       "    </tr>\n",
       "    <tr>\n",
       "      <th>3</th>\n",
       "      <td>32</td>\n",
       "    </tr>\n",
       "  </tbody>\n",
       "</table>\n",
       "</div>"
      ],
      "text/plain": [
       "   Valeur\n",
       "1      12\n",
       "2      23\n",
       "3      32"
      ]
     },
     "execution_count": 21,
     "metadata": {},
     "output_type": "execute_result"
    }
   ],
   "source": [
    "# Utilise la fonction pour creer un DataFrame \n",
    "pd.DataFrame(index=[1,2,3], columns=['Valeur'], data=[12,23,32])"
   ]
  },
  {
   "cell_type": "markdown",
   "id": "6186d880-3f14-43f3-b333-d55903982d15",
   "metadata": {},
   "source": [
    "*Exercice 8*\n",
    "-- \n",
    "\n",
    "Appeler le package numpy et lui attribuer le surnom 'np' "
   ]
  },
  {
   "cell_type": "code",
   "execution_count": 22,
   "id": "e125e121-52ff-4fe0-96e8-60e6ac62395e",
   "metadata": {},
   "outputs": [],
   "source": [
    "#SOLUTION \n",
    "import numpy as np"
   ]
  },
  {
   "cell_type": "markdown",
   "id": "adc7b72b-c8d1-4695-bdc3-e522503b75c0",
   "metadata": {},
   "source": [
    "# Mise en pratique "
   ]
  },
  {
   "cell_type": "markdown",
   "id": "8c354f2c-f028-4508-84cf-80ad5d9a44f3",
   "metadata": {},
   "source": [
    "Quand on commence à faire des tableaux de bord et calculs avec Excel, on se trouve nécessairement bloqué par une faute de frappe ou une cellule avec le mauvais format. On peut littéralement passer des heures à chercher cette erreur. \n",
    "\n",
    "Passer via Python peut permettre d'éviter cela, et donc de s'éviter des prises de tête. "
   ]
  },
  {
   "cell_type": "markdown",
   "id": "3c9b9bcd-078d-4ed2-96c8-ec892db08e4a",
   "metadata": {},
   "source": [
    "## Valider le type de données entrantes"
   ]
  },
  {
   "cell_type": "markdown",
   "id": "3c56323c-1dbd-4bb1-9dcd-7a27c2a7a105",
   "metadata": {},
   "source": [
    "Commençons par importer une librairie créée justement pour nous aider à vérifier que des données saisies sont bien au format souhaité : pyinputplus"
   ]
  },
  {
   "cell_type": "code",
   "execution_count": 2,
   "id": "256c2abe-6d58-419a-a2c1-c1062d6843dd",
   "metadata": {},
   "outputs": [],
   "source": [
    "import pyinputplus as pyip"
   ]
  },
  {
   "cell_type": "markdown",
   "id": "bfabe71e-c362-4eff-a16f-a03a732ae062",
   "metadata": {},
   "source": [
    "Mettons que nous voulons créer un fichier Excel contenant des données utilisateurs d'un service avec : un **identifiant**, un **nom**, un **age**, un **pays**, un **score**, et un **continent**. Chaque point de donnée sera défini dans une variable."
   ]
  },
  {
   "cell_type": "code",
   "execution_count": null,
   "id": "dc90d21e-41e7-49d2-aaa9-bc15829dfe51",
   "metadata": {},
   "outputs": [],
   "source": [
    "user_id = pyip.inputInt(prompt='Enter an integer user ID: ')\n",
    "name = pyip.inputStr(prompt='Enter a name: ')\n",
    "age = pyip.inputInt(prompt='Enter an integer age: ')\n",
    "country = pyip.inputStr(prompt='Enter a country: ')\n",
    "score = pyip.inputFloat(prompt='Enter a float height: ')\n",
    "continent = pyip.inputInt(prompt='Enter an integer continent code: ')"
   ]
  },
  {
   "cell_type": "markdown",
   "id": "0fb42729-97d3-4d10-81cc-8dc976d2c08f",
   "metadata": {},
   "source": [
    "Créons une fonction _collect_data_ qui ressort sous forme d'une liste tous les points de données d'un seul utilisateur"
   ]
  },
  {
   "cell_type": "code",
   "execution_count": 7,
   "id": "e38dc2f6-8e7d-419a-ba1f-932230e51d27",
   "metadata": {},
   "outputs": [],
   "source": [
    "def collect_data():\n",
    "    user_id = pyip.inputInt(prompt='Enter an integer user ID: ')\n",
    "    name = pyip.inputStr(prompt='Enter a name: ')\n",
    "    age = pyip.inputInt(prompt='Enter an integer age: ')\n",
    "    country = pyip.inputStr(prompt='Enter a country: ')\n",
    "    score = pyip.inputFloat(prompt='Enter a float height: ')\n",
    "    continent = pyip.inputInt(prompt='Enter an integer continent code: ')\n",
    "    \n",
    "    return [user_id, name, age, country, score, continent]"
   ]
  },
  {
   "cell_type": "markdown",
   "id": "1d629bb1-5b83-439a-9c00-23357ea186be",
   "metadata": {},
   "source": [
    "Testons la fonction."
   ]
  },
  {
   "cell_type": "code",
   "execution_count": null,
   "id": "488eea69-940d-4980-8060-7acd88715a0f",
   "metadata": {},
   "outputs": [],
   "source": [
    "collect_data()"
   ]
  },
  {
   "cell_type": "markdown",
   "id": "eab3f426-5e51-42c6-a631-ef11faeb7eb1",
   "metadata": {},
   "source": [
    "Créons maintenant une structure de données (vide)"
   ]
  },
  {
   "cell_type": "code",
   "execution_count": 11,
   "id": "e7766c3e-9ad4-4f98-85b0-8ddc25840bc5",
   "metadata": {},
   "outputs": [],
   "source": [
    "data = []"
   ]
  },
  {
   "cell_type": "markdown",
   "id": "54b570a2-38c2-4e19-83d1-46f3d6b39f89",
   "metadata": {},
   "source": [
    "Déclarons le nombre d'éléments qui seront présents dans cette structure (i.e, le nombre d'utilisateurs)"
   ]
  },
  {
   "cell_type": "code",
   "execution_count": null,
   "id": "9f27e636-e43c-4a73-a160-a8bd16354cfb",
   "metadata": {},
   "outputs": [],
   "source": [
    "num_users = pyip.inputInt(prompt=\"Nombre d'utilisateurs présents dans ton jeu de données: \", min=1)"
   ]
  },
  {
   "cell_type": "markdown",
   "id": "fed49106-40b8-435f-b861-3e4b79056215",
   "metadata": {},
   "source": [
    "Créons la logique (avec une boucle magique) permettant de saisir les données de chaque utilisateur"
   ]
  },
  {
   "cell_type": "code",
   "execution_count": null,
   "id": "9015d7d0-1ea4-42e2-ba84-4c270cf5a24c",
   "metadata": {},
   "outputs": [],
   "source": [
    "for i in range(num_users):\n",
    "    print(f\"Saisie des données de l'utilisateur {i+1}\")\n",
    "    data.append(collect_data())"
   ]
  },
  {
   "cell_type": "code",
   "execution_count": 33,
   "id": "1a6310c0-80ae-4a46-b497-a9aebcbd391a",
   "metadata": {},
   "outputs": [
    {
     "name": "stdout",
     "output_type": "stream",
     "text": [
      "[[11, 'Francis', 14, 'France', 3.4, 34]]\n"
     ]
    }
   ],
   "source": [
    "print(data)"
   ]
  },
  {
   "cell_type": "markdown",
   "id": "f3158573-bd9d-456a-9bec-e64dcfde32c9",
   "metadata": {},
   "source": [
    "## Envoyer les données dans un tableur Excel"
   ]
  },
  {
   "cell_type": "markdown",
   "id": "6a3ecb3f-6cbe-4758-95a7-b89a2fd06315",
   "metadata": {},
   "source": [
    "Simplifions-nous la vie et utilisons une librairie créée pour transformer des structures de données python en tableur Excel : **pandas**"
   ]
  },
  {
   "cell_type": "code",
   "execution_count": 13,
   "id": "6ae5bd36-0c8b-433d-b962-f36387b3f299",
   "metadata": {},
   "outputs": [],
   "source": [
    "import pandas as pd"
   ]
  },
  {
   "cell_type": "markdown",
   "id": "634d997c-c0de-4be0-a42e-bf628daf032c",
   "metadata": {},
   "source": [
    "Transformons notre structure de données (liste de listes) en une autre structure que pandas pourra traduire sous forme de tableur excel : un dataframe"
   ]
  },
  {
   "cell_type": "code",
   "execution_count": null,
   "id": "1f0535c6-fa47-4ed6-bc98-016140d21dc7",
   "metadata": {},
   "outputs": [],
   "source": [
    "df = pd.DataFrame(data)"
   ]
  },
  {
   "cell_type": "markdown",
   "id": "c5cdff61-ceb9-44b6-bcbf-c119883bc6bd",
   "metadata": {},
   "source": [
    "Transformons ce dataframe en tableur excel "
   ]
  },
  {
   "cell_type": "code",
   "execution_count": null,
   "id": "0506c436-eaf7-4b97-a99e-3fb23a97cccd",
   "metadata": {},
   "outputs": [],
   "source": [
    "df.to_excel(\"data.xlsx\", index = False, header=False)"
   ]
  },
  {
   "cell_type": "markdown",
   "id": "f4d006b8-a080-41f5-b3b4-3eaacb7fe090",
   "metadata": {},
   "source": [
    "Correction"
   ]
  },
  {
   "cell_type": "code",
   "execution_count": null,
   "id": "49bb543f-88f6-4c39-8c78-bb96022d49fc",
   "metadata": {},
   "outputs": [],
   "source": [
    "if data:  # Check if there's any data collected\n",
    "    df = pd.DataFrame(data)\n",
    "    excel_file = 'data.xlsx'\n",
    "    df.to_excel(excel_file, index=False, header=False)\n",
    "    print(f'Data saved to {excel_file}')\n",
    "else:\n",
    "    print(\"No data was collected.\")"
   ]
  },
  {
   "cell_type": "markdown",
   "id": "b6dfd514-2203-4ad8-b801-37bbc60abaca",
   "metadata": {},
   "source": [
    "## Vérifier le type des données provenant d'un tableur Excel\n",
    "\n",
    "Nous pouvons aussi imaginer d'automatiser le process inverse, càd la vérification du type des données provenant d'un tableur Excel déjà existant. \n",
    "\n",
    "Commençons par créer une couche qui effectue la vérification si et seulement si le tableur excel se trouve bien au bon endroit sur notre ordinateur. Pour cela, nous allons utiliser un bloc 'try/except', qui sert à gérer les erreurs. Si le bloc 'try' est executé sans problème, cela veut dire qu'il n'y a pas d'erreurs. Au contraire, s'il ne peut être executé car il rencontre une certaine erreur, alors le bloc 'except' est exexuté."
   ]
  },
  {
   "cell_type": "code",
   "execution_count": 28,
   "id": "ee49b5f3-a844-409a-b2de-062361828f3e",
   "metadata": {},
   "outputs": [
    {
     "name": "stdout",
     "output_type": "stream",
     "text": [
      "Le fichier est bien là !\n"
     ]
    }
   ],
   "source": [
    "try:\n",
    "    #Définir où le fichier doit se trouver\n",
    "    excel_file = 'data1.xlsx'\n",
    "    # Afficher le fait que le fichier est au bon endroit\n",
    "    print(\"Le fichier est bien là !\")\n",
    "\n",
    "except FileNotFoundError:\n",
    "    print(f\"Erreur : Le fichier '{excel_file}' est introuvable.\")"
   ]
  },
  {
   "cell_type": "markdown",
   "id": "f659ede4-decd-422c-a4f7-d034c7607054",
   "metadata": {},
   "source": [
    "Dans le bloc **try**, chargeons le fichier excel sous la forme d'un dataframe"
   ]
  },
  {
   "cell_type": "code",
   "execution_count": 29,
   "id": "ef6f05f6-3728-47ea-bb24-bdc074a07f4b",
   "metadata": {},
   "outputs": [
    {
     "name": "stdout",
     "output_type": "stream",
     "text": [
      "Erreur : Le fichier 'data1.xlsx' est introuvable.\n"
     ]
    }
   ],
   "source": [
    "try:\n",
    "    #Définir où le fichier doit se trouver\n",
    "    excel_file = 'data1.xlsx'\n",
    "    \n",
    "    #Chargement du fichier Excel\n",
    "    # Charger le fichier Excel dans un DataFrame pandas\n",
    "    df = pd.read_excel(excel_file, header=None)\n",
    "    \n",
    "    # Afficher le fait que le fichier est au bon endroit\n",
    "    print(\"Le fichier est bien là !\")\n",
    "\n",
    "except FileNotFoundError:\n",
    "    print(f\"Erreur : Le fichier '{excel_file}' est introuvable.\")"
   ]
  },
  {
   "cell_type": "markdown",
   "id": "da707c34-c1b8-488f-9eba-d3905a49cdd1",
   "metadata": {},
   "source": [
    "Maintenant, définissons nos attentes concernant le type de données. Pour cela, utilisons un dictionnaire qui associe à chaque colonne de notre tableur un type de données attendu "
   ]
  },
  {
   "cell_type": "code",
   "execution_count": 31,
   "id": "035a7ed5-d1c5-4c0d-82a7-07d809e69cf5",
   "metadata": {},
   "outputs": [
    {
     "name": "stdout",
     "output_type": "stream",
     "text": [
      "Le fichier est bien là !\n"
     ]
    }
   ],
   "source": [
    "try:\n",
    "    #Définir où le fichier doit se trouver\n",
    "    excel_file = 'data.xlsx'\n",
    "    \n",
    "    #Chargement du fichier Excel\n",
    "    # Charger le fichier Excel dans un DataFrame pandas\n",
    "    df = pd.read_excel(excel_file, header=None)\n",
    "    \n",
    "    # Afficher le fait que le fichier est au bon endroit\n",
    "    print(\"Le fichier est bien là !\")\n",
    "\n",
    "    # Définir les types de données attendus pour chaque colonne\n",
    "    type_donnees_attendu = {\n",
    "        0: 'int',\n",
    "        1: 'str',\n",
    "        2: 'int',\n",
    "        3: 'str',\n",
    "        4: 'float',\n",
    "        5: 'int'\n",
    "    }\n",
    "\n",
    "except FileNotFoundError:\n",
    "    print(f\"Erreur : Le fichier '{excel_file}' est introuvable.\")"
   ]
  },
  {
   "cell_type": "markdown",
   "id": "d131675a-c358-4e93-aeaa-2683d96aba0f",
   "metadata": {},
   "source": [
    "Nous pouvons maintenant créer la partie centrale de notre programme : vérifier que chaque cellule correspond bien au type de données que nous attendons. "
   ]
  },
  {
   "cell_type": "code",
   "execution_count": null,
   "id": "203eecd7-5758-42a7-bf24-476ecd8e19fc",
   "metadata": {},
   "outputs": [],
   "source": [
    "# Vérifier les types de données pour chaque cellule\n",
    "for col_index, expected_type in type_donnees_attendu.items():\n",
    "    for row_index, cell_value in df[col_index].items():\n",
    "        # Obtenir le type réel de la cellule\n",
    "        actual_type = type(cell_value).__name__\n",
    "\n",
    "        # Vérifier si le type réel correspond au type attendu\n",
    "        if actual_type != expected_type:\n",
    "            # Afficher un message en cas de type de données incorrect\n",
    "            print(f\"Problème à la ligne {row_index + 1}, Colonne {col_index + 1}. Attendu: {expected_type}, Réel: {actual_type}\")\n"
   ]
  },
  {
   "cell_type": "markdown",
   "id": "7a919ff4-7281-4b01-95f0-0f07b72ade7f",
   "metadata": {},
   "source": [
    "Explication ligne par ligne :\n",
    "\n",
    "```python\n",
    "for col_index, expected_type in expected_data_types.items(): :\n",
    "```\n",
    "\n",
    "Cette ligne parcourt le dictionnaire expected_data_types à l'aide de la méthode items(), ce qui nous permet de récupérer à la fois l'indice de colonne (col_index) et le type de données attendu (expected_type) pour chaque colonne du DataFrame.\n",
    "\n",
    "```python\n",
    "for row_index, cell_value in df[col_index].items(): :\n",
    "```\n",
    "\n",
    "Cette ligne parcourt chaque cellule de la colonne spécifiée (col_index) du DataFrame à l'aide de la méthode items(). Elle récupère à la fois l'indice de ligne (row_index) et la valeur de la cellule (cell_value).\n",
    "\n",
    "```python\n",
    "actual_type = type(cell_value).__name__ :\n",
    "```\n",
    "\n",
    "Cette ligne utilise la fonction type() pour obtenir le type de données réel de la valeur de la cellule cell_value, puis la méthode __name__ pour récupérer le nom du type en tant que chaîne de caractères (str, int, float, etc.).\n",
    "\n",
    "```python\n",
    "if actual_type != expected_type: :\n",
    "```\n",
    "\n",
    "Cette ligne compare le type de données réel (actual_type) avec le type de données attendu pour la colonne en cours (expected_type). Si les types ne correspondent pas, cela signifie qu'il y a un problème de type de données dans cette cellule.\n",
    "\n",
    "```\n",
    "print(f\"Problème à la ligne {row_index + 1}, Colonne {col_index + 1}. Attendu: {expected_type}, Réel: {actual_type}\") :\n",
    "```\n",
    "\n",
    "Cette ligne affiche un message indiquant l'emplacement de la cellule où le problème de type de données a été détecté. Elle affiche également le type de données attendu et le type de données réel pour aider à identifier et résoudre le problème.\n",
    "\n",
    "\n",
    "Compilons le tout :"
   ]
  },
  {
   "cell_type": "code",
   "execution_count": 39,
   "id": "95757016-487e-4c3d-8c2b-a371abadb58b",
   "metadata": {},
   "outputs": [
    {
     "name": "stdout",
     "output_type": "stream",
     "text": [
      "Excel file loaded successfully.\n",
      "Checking data types...\n",
      "Mismatch at Row 1, Column 1. Expected: int, Actual: float\n",
      "Mismatch at Row 2, Column 1. Expected: int, Actual: float\n",
      "Mismatch at Row 2, Column 2. Expected: str, Actual: int\n",
      "Mismatch at Row 2, Column 3. Expected: int, Actual: str\n",
      "Mismatch at Row 2, Column 6. Expected: int, Actual: str\n"
     ]
    }
   ],
   "source": [
    "import pandas as pd\n",
    "\n",
    "# Load Excel file\n",
    "excel_file = 'data.xlsx'\n",
    "try:\n",
    "    df = pd.read_excel(excel_file, header=None)\n",
    "    print(\"Excel file loaded successfully.\")\n",
    "    print(\"Checking data types...\")\n",
    "\n",
    "    # Define expected data types for each column\n",
    "    expected_data_types = {\n",
    "        0: 'int',\n",
    "        1: 'str',\n",
    "        2: 'int',\n",
    "        3: 'str',\n",
    "        4: 'float',\n",
    "        5: 'int'\n",
    "    }\n",
    "\n",
    "    # Check data types for each cell\n",
    "    for col_index, expected_type in expected_data_types.items():\n",
    "        for row_index, cell_value in df[col_index].items():\n",
    "            actual_type = type(cell_value).__name__\n",
    "            if actual_type != expected_type:\n",
    "                print(f\"Mismatch at Row {row_index + 1}, Column {col_index + 1}. Expected: {expected_type}, Actual: {actual_type}\")\n",
    "\n",
    "except FileNotFoundError:\n",
    "    print(f\"Error: File '{excel_file}' not found.\")\n",
    "except Exception as e:\n",
    "    print(f\"An error occurred: {str(e)}\")\n"
   ]
  },
  {
   "cell_type": "markdown",
   "id": "cce4ba63-c446-4658-a04f-d9cc40a31ccb",
   "metadata": {},
   "source": [
    "# Homework\n",
    "\n",
    "Pour le prochain cours: \n",
    "\n",
    "Creer une fonction unique qui fait les operations suivantes: \n",
    "- Prendre le fichier de vente excel et l'importer dans python \n",
    "- Verifier que le fichier excel contient 3 spreadsheet \n",
    "- Verifier que le premier spreadsheet contient 10 colonnes\n",
    "- Prendre la colonne \"Ventes\" et calculer le total \n",
    "- Imprimer \"Objectif atteint\" si le total des ventes depasse 10 000EUR\n",
    "- Si l'objectif est atteint, changer le nom du fichier excel pour inclure \"VALID\" a la fin du nom. Sinon, ajouter \"NOT_VALID\". "
   ]
  },
  {
   "cell_type": "code",
   "execution_count": null,
   "id": "b34f2a20-9ae7-4339-9af7-6225c87b6fde",
   "metadata": {},
   "outputs": [],
   "source": []
  }
 ],
 "metadata": {
  "kernelspec": {
   "display_name": "Python 3 (ipykernel)",
   "language": "python",
   "name": "python3"
  },
  "language_info": {
   "codemirror_mode": {
    "name": "ipython",
    "version": 3
   },
   "file_extension": ".py",
   "mimetype": "text/x-python",
   "name": "python",
   "nbconvert_exporter": "python",
   "pygments_lexer": "ipython3",
   "version": "3.11.5"
  }
 },
 "nbformat": 4,
 "nbformat_minor": 5
}
