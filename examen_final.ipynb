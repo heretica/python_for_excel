{
 "cells": [
  {
   "cell_type": "markdown",
   "id": "7f3099c4-49d8-441c-9e53-db22b2483db7",
   "metadata": {},
   "source": [
    "# Examen final"
   ]
  },
  {
   "cell_type": "markdown",
   "id": "9cf7c9b8-9be2-48ed-8855-aba4843bca66",
   "metadata": {},
   "source": [
    "## Contexte"
   ]
  },
  {
   "cell_type": "markdown",
   "id": "45e63da8-2c1b-4dae-b326-c4be199f7bb6",
   "metadata": {},
   "source": [
    "Vous êtes analyste de données dans une entreprise qui souhaite analyser ses performances de ventes trimestrielles. Les données sont fournies dans un fichier Excel et incluent les ventes par produit, par région et par mois."
   ]
  },
  {
   "cell_type": "markdown",
   "id": "44374c1a-a974-4d98-9c9a-c17858ca2e0f",
   "metadata": {},
   "source": [
    "## Objectifs de l'examen"
   ]
  },
  {
   "cell_type": "markdown",
   "id": "a2b0c63c-0bde-46e9-9616-aaba8744ee5f",
   "metadata": {},
   "source": [
    "### Tronc commun \n",
    "\n",
    "* **Plan d'action** : Décrire les étapes pour importer les données, les nettoyer, les analyser (par exemple, calcul du chiffre d'affaires total, du chiffre d'affaires par région, des produits les plus vendus) et les visualiser dans Excel.\n",
    "\n",
    "* **Codes Python** : Fournir les scripts pour réaliser chaque tâche décrite dans le plan. Utiliser pandas pour la manipulation des données et xlwings pour intégrer les résultats dans Excel.\n",
    "  \n",
    "* **Intégration avec Excel** : Les scripts doivent permettre de mettre à jour un fichier Excel existant avec de nouvelles analyses ou de générer de nouvelles feuilles de calcul pour la présentation des résultats.\n",
    "\n",
    "### Tronc avancé : \n",
    "\n",
    "Pour ce tronc avancé, vous allez devoir vous appuyer sur de la documentation. \n",
    "\n",
    "* L'entreprise veut stabiliser ces ventes sur l'année et pour cela et supprimer de son offre les produits dont la vente est trop irrégulière : trouvez une manière d'automatiser un process qui prend les données, trouve les produits dont la vente est la plus fluctuante.\n",
    "**[Documentation 1](https://pandas.pydata.org/docs/reference/api/pandas.DataFrame.var.html)**, **[Documentation 2](https://pandas.pydata.org/docs/reference/api/pandas.DataFrame.std.html)**\n",
    "\n",
    "\n",
    "* L'entreprise veut savoir si les prix qu'elle applique ont une incidence sur les quantités vendues. Trouvez un process pour répondre quasi instantanément à cette question.\n",
    "**[Documentation 3](https://pandas.pydata.org/docs/reference/api/pandas.DataFrame.corr.html)**\n",
    "\n",
    "* Trouvez un moyen de prédire quasi instantanément le chiffre d'affaire en fonction de la quantité vendue et du prix unitaire.\n",
    "**[Documentation 4](https://scikit-learn.org/stable/modules/generated/sklearn.linear_model.LinearRegression.html)**"
   ]
  },
  {
   "cell_type": "markdown",
   "id": "20f77b46-b522-4a0b-a540-50a067c84303",
   "metadata": {},
   "source": [
    "## Rendu final"
   ]
  },
  {
   "cell_type": "markdown",
   "id": "f8b91388-cc01-48d6-b8f4-51a19c3eb031",
   "metadata": {},
   "source": [
    "Vous devrez à l'issue des 3 heures : \n",
    "* envoyer 1 jupyter notebook par groupe avec les 3 éléments ci-dessus\n",
    "* présenter ces éléments avec 3 minutes, avec 3 slides maximum."
   ]
  }
 ],
 "metadata": {
  "kernelspec": {
   "display_name": "Python 3 (ipykernel)",
   "language": "python",
   "name": "python3"
  },
  "language_info": {
   "codemirror_mode": {
    "name": "ipython",
    "version": 3
   },
   "file_extension": ".py",
   "mimetype": "text/x-python",
   "name": "python",
   "nbconvert_exporter": "python",
   "pygments_lexer": "ipython3",
   "version": "3.12.2"
  }
 },
 "nbformat": 4,
 "nbformat_minor": 5
}
