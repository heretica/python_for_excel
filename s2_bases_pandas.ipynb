{
 "cells": [
  {
   "cell_type": "markdown",
   "id": "4af4f862-d2c6-4f75-9c60-e76c1c118136",
   "metadata": {},
   "source": [
    "# Les bases de pandas pour faire interagir Excel avec Python"
   ]
  },
  {
   "cell_type": "markdown",
   "id": "7f9d8f48-4c6c-447a-bb9d-3e24c52f6f1a",
   "metadata": {
    "jp-MarkdownHeadingCollapsed": true
   },
   "source": [
    "## I. Qu'est ce que Pandas ???\n",
    "***\n"
   ]
  },
  {
   "cell_type": "markdown",
   "id": "6440e7e4-219a-4f33-a4da-938902be23b4",
   "metadata": {
    "jp-MarkdownHeadingCollapsed": true
   },
   "source": [
    "Pandas est une bibliothèque Python essentielle pour l'analyse de données, offrant des structures de données puissantes et flexibles conçues pour rendre la manipulation des données rapide et simple. Au cœur de Pandas se trouve le DataFrame, une structure de données bidimensionnelle permettant de stocker et de manipuler des tableaux de données avec des lignes et des colonnes.\n",
    "\n",
    "### Qu'est-ce qu'un DataFrame ?\n",
    "\n",
    "Un DataFrame est comparable à une feuille de calcul Excel ou à une table de base de données SQL. Il est composé de trois composants principaux : les données elles-mêmes, les colonnes et les index.\n",
    "\n",
    "```python\n",
    "import pandas as pd\n",
    "\n",
    "# Exemple de création d'un DataFrame\n",
    "df = pd.DataFrame(columns = ['Ventes', 'Boutiques'],\n",
    "                  index=['01-01-2023', '02-01-2023'],\n",
    "                  data = [[21000, 'Lyon'], [17000, 'Grenoble']])\n",
    "\n",
    "```\n",
    "\n",
    "### L'importance des composants d'un DataFrame\n",
    "\n",
    "- **Les données** : Constituent le contenu du DataFrame, organisées en lignes et colonnes. Chaque colonne peut contenir un type de donnée différent (nombre, texte, booléen, etc.), ce qui rend les DataFrames particulièrement flexibles pour gérer diverses sources de données.\n",
    "\n",
    "- **Les colonnes** : Représentent les variables du DataFrame. Chaque colonne a un label (ou nom), qui est utilisé pour accéder aux données qu'elle contient. Les colonnes sont cruciales pour structurer les données de manière significative, permettant des opérations telles que le tri, le filtrage et la transformation sur des ensembles de données spécifiques.\n",
    "\n",
    "```python\n",
    "# Accès aux données d'une colonne spécifique\n",
    "ages = df['Ventes']\n",
    "```\n",
    "\n",
    "- **Les index** : Fournissent une étiquette pour chaque ligne du DataFrame, facilitant l'accès et la manipulation des lignes. Par défaut, Pandas attribue un index numérique séquentiel à chaque ligne, mais les index peuvent être modifiés pour utiliser des identifiants uniques, tels que des dates ou des noms.\n",
    "\n",
    "```python\n",
    "# Accès à une ligne par son index\n",
    "premiere_ligne = df.loc['01-01-2023']\n",
    "```\n",
    "\n",
    "Les colonnes et les index sont des aspects fondamentaux qui distinguent les DataFrames d'autres structures de données, comme les arrays NumPy. Ils permettent une manipulation et une analyse des données à la fois puissantes et intuitives, rendant Pandas incontournable pour les projets d'analyse de données en Python."
   ]
  },
  {
   "cell_type": "markdown",
   "id": "dcfdc4d0-ca6e-45b6-9f9e-5f4a1a430846",
   "metadata": {
    "jp-MarkdownHeadingCollapsed": true
   },
   "source": [
    "## II. Selectionner les données\n",
    "***"
   ]
  },
  {
   "cell_type": "markdown",
   "id": "44f5a8c4-b0ff-425b-a15b-5abfb76d1674",
   "metadata": {},
   "source": [
    "Avant toute choses, importons le package: **pandas**. Nous allons utiliser de manière extensive ce package au cours de la séance. Pour éviter de devoir répeter le nom du package dans le code, nous allons lui atrribuer un surnom: **pd**. "
   ]
  },
  {
   "cell_type": "code",
   "execution_count": 5,
   "id": "e7656e97-cbea-4ea8-80ad-4bf39ca60e0a",
   "metadata": {},
   "outputs": [],
   "source": [
    "import pandas as pd"
   ]
  },
  {
   "cell_type": "markdown",
   "id": "84f48d54-5092-4a27-b728-6fe47670e174",
   "metadata": {
    "jp-MarkdownHeadingCollapsed": true
   },
   "source": [
    "### II.A Sélection simple"
   ]
  },
  {
   "cell_type": "markdown",
   "id": "7a392e3d-0669-4b46-951e-b7d1d8f4879f",
   "metadata": {},
   "source": [
    "Pour sélectionner une colonne spécifique dans un DataFrame, vous pouvez utiliser la syntaxe suivante :\n",
    "\n",
    "```python\n",
    "nom_data_frame['nom_colonne']\n",
    "```"
   ]
  },
  {
   "cell_type": "markdown",
   "id": "b1073723-0680-4c86-b8f9-97d12be85006",
   "metadata": {},
   "source": [
    "Vous pouvez sélectionner plusieurs colonnes en spécifiant une liste de noms de colonnes :\n",
    "\n",
    "```python\n",
    "nom_data_frame[['nom_colonne1', 'nom_colonne2', ...]]\n",
    "```"
   ]
  },
  {
   "cell_type": "markdown",
   "id": "e8a0a12d-9cd7-4d58-b630-2cc6215a4cc5",
   "metadata": {},
   "source": [
    "Vous pouvez sélectionner des lignes spécifiques en utilisant leur index avec la méthode loc[] :\n",
    "\n",
    "```python\n",
    "nom_data_frame.loc[index]\n",
    "```"
   ]
  },
  {
   "cell_type": "markdown",
   "id": "c34735c5-58f6-4b27-8a2f-81ba0e77c3b0",
   "metadata": {},
   "source": [
    "Commençons par uploader un fichier excel et accéder à quelques détails du fichier. "
   ]
  },
  {
   "cell_type": "code",
   "execution_count": 3,
   "id": "938e1a69-d328-45ce-8c3b-ada0a7232647",
   "metadata": {},
   "outputs": [
    {
     "data": {
      "text/html": [
       "<div>\n",
       "<style scoped>\n",
       "    .dataframe tbody tr th:only-of-type {\n",
       "        vertical-align: middle;\n",
       "    }\n",
       "\n",
       "    .dataframe tbody tr th {\n",
       "        vertical-align: top;\n",
       "    }\n",
       "\n",
       "    .dataframe thead th {\n",
       "        text-align: right;\n",
       "    }\n",
       "</style>\n",
       "<table border=\"1\" class=\"dataframe\">\n",
       "  <thead>\n",
       "    <tr style=\"text-align: right;\">\n",
       "      <th></th>\n",
       "      <th>Unnamed: 0</th>\n",
       "      <th>Pays_Cod</th>\n",
       "      <th>Pays</th>\n",
       "      <th>Région</th>\n",
       "      <th>Sous-Région</th>\n",
       "      <th>Code Sous-Région</th>\n",
       "      <th>Unnamed: 6</th>\n",
       "      <th>Product_Ref</th>\n",
       "      <th>Produit</th>\n",
       "      <th>Catégorie de produit</th>\n",
       "      <th>Couleur</th>\n",
       "      <th>Créé le</th>\n",
       "      <th>Prix d'achat</th>\n",
       "      <th>Prix vente HT</th>\n",
       "    </tr>\n",
       "  </thead>\n",
       "  <tbody>\n",
       "    <tr>\n",
       "      <th>0</th>\n",
       "      <td>NaN</td>\n",
       "      <td>BGR</td>\n",
       "      <td>Bulgarie</td>\n",
       "      <td>Europe</td>\n",
       "      <td>Europe de l'Est</td>\n",
       "      <td>EUE</td>\n",
       "      <td>NaN</td>\n",
       "      <td>P00147</td>\n",
       "      <td>Robe</td>\n",
       "      <td>Haut-Et-Bas</td>\n",
       "      <td>marron</td>\n",
       "      <td>2018-01-01</td>\n",
       "      <td>7.20</td>\n",
       "      <td>9</td>\n",
       "    </tr>\n",
       "    <tr>\n",
       "      <th>1</th>\n",
       "      <td>NaN</td>\n",
       "      <td>CZE</td>\n",
       "      <td>République Tchèque</td>\n",
       "      <td>Europe</td>\n",
       "      <td>Europe de l'Est</td>\n",
       "      <td>EUE</td>\n",
       "      <td>NaN</td>\n",
       "      <td>P00249</td>\n",
       "      <td>Chemise</td>\n",
       "      <td>Haut</td>\n",
       "      <td>blanc</td>\n",
       "      <td>2018-06-01</td>\n",
       "      <td>11.34</td>\n",
       "      <td>14</td>\n",
       "    </tr>\n",
       "    <tr>\n",
       "      <th>2</th>\n",
       "      <td>NaN</td>\n",
       "      <td>HUN</td>\n",
       "      <td>Hongrie</td>\n",
       "      <td>Europe</td>\n",
       "      <td>Europe de l'Est</td>\n",
       "      <td>EUE</td>\n",
       "      <td>NaN</td>\n",
       "      <td>P00565</td>\n",
       "      <td>Robe</td>\n",
       "      <td>Haut-Et-Bas</td>\n",
       "      <td>orange</td>\n",
       "      <td>2017-05-01</td>\n",
       "      <td>13.05</td>\n",
       "      <td>15</td>\n",
       "    </tr>\n",
       "    <tr>\n",
       "      <th>3</th>\n",
       "      <td>NaN</td>\n",
       "      <td>MDA</td>\n",
       "      <td>République de Moldavie</td>\n",
       "      <td>Europe</td>\n",
       "      <td>Europe de l'Est</td>\n",
       "      <td>EUE</td>\n",
       "      <td>NaN</td>\n",
       "      <td>P00575</td>\n",
       "      <td>Pyjama</td>\n",
       "      <td>Haut-Et-Bas</td>\n",
       "      <td>blanc</td>\n",
       "      <td>2018-12-01</td>\n",
       "      <td>5.32</td>\n",
       "      <td>7</td>\n",
       "    </tr>\n",
       "    <tr>\n",
       "      <th>4</th>\n",
       "      <td>NaN</td>\n",
       "      <td>POL</td>\n",
       "      <td>Pologne</td>\n",
       "      <td>Europe</td>\n",
       "      <td>Europe de l'Est</td>\n",
       "      <td>EUE</td>\n",
       "      <td>NaN</td>\n",
       "      <td>P00626</td>\n",
       "      <td>Robe</td>\n",
       "      <td>Haut-Et-Bas</td>\n",
       "      <td>blanc</td>\n",
       "      <td>2018-04-01</td>\n",
       "      <td>14.25</td>\n",
       "      <td>15</td>\n",
       "    </tr>\n",
       "    <tr>\n",
       "      <th>...</th>\n",
       "      <td>...</td>\n",
       "      <td>...</td>\n",
       "      <td>...</td>\n",
       "      <td>...</td>\n",
       "      <td>...</td>\n",
       "      <td>...</td>\n",
       "      <td>...</td>\n",
       "      <td>...</td>\n",
       "      <td>...</td>\n",
       "      <td>...</td>\n",
       "      <td>...</td>\n",
       "      <td>...</td>\n",
       "      <td>...</td>\n",
       "      <td>...</td>\n",
       "    </tr>\n",
       "    <tr>\n",
       "      <th>395</th>\n",
       "      <td>NaN</td>\n",
       "      <td>NaN</td>\n",
       "      <td>NaN</td>\n",
       "      <td>NaN</td>\n",
       "      <td>NaN</td>\n",
       "      <td>NaN</td>\n",
       "      <td>NaN</td>\n",
       "      <td>P49378</td>\n",
       "      <td>Culotte</td>\n",
       "      <td>Bas</td>\n",
       "      <td>bleu</td>\n",
       "      <td>2018-03-01</td>\n",
       "      <td>5.70</td>\n",
       "      <td>6</td>\n",
       "    </tr>\n",
       "    <tr>\n",
       "      <th>396</th>\n",
       "      <td>NaN</td>\n",
       "      <td>NaN</td>\n",
       "      <td>NaN</td>\n",
       "      <td>NaN</td>\n",
       "      <td>NaN</td>\n",
       "      <td>NaN</td>\n",
       "      <td>NaN</td>\n",
       "      <td>P49444</td>\n",
       "      <td>Soutien gorge</td>\n",
       "      <td>Haut</td>\n",
       "      <td>blanc</td>\n",
       "      <td>2017-03-01</td>\n",
       "      <td>4.05</td>\n",
       "      <td>5</td>\n",
       "    </tr>\n",
       "    <tr>\n",
       "      <th>397</th>\n",
       "      <td>NaN</td>\n",
       "      <td>NaN</td>\n",
       "      <td>NaN</td>\n",
       "      <td>NaN</td>\n",
       "      <td>NaN</td>\n",
       "      <td>NaN</td>\n",
       "      <td>NaN</td>\n",
       "      <td>P49448</td>\n",
       "      <td>Chemise</td>\n",
       "      <td>Haut</td>\n",
       "      <td>vert</td>\n",
       "      <td>2017-07-01</td>\n",
       "      <td>5.95</td>\n",
       "      <td>7</td>\n",
       "    </tr>\n",
       "    <tr>\n",
       "      <th>398</th>\n",
       "      <td>NaN</td>\n",
       "      <td>NaN</td>\n",
       "      <td>NaN</td>\n",
       "      <td>NaN</td>\n",
       "      <td>NaN</td>\n",
       "      <td>NaN</td>\n",
       "      <td>NaN</td>\n",
       "      <td>P49769</td>\n",
       "      <td>Pull</td>\n",
       "      <td>Haut</td>\n",
       "      <td>marron</td>\n",
       "      <td>2018-03-01</td>\n",
       "      <td>13.65</td>\n",
       "      <td>15</td>\n",
       "    </tr>\n",
       "    <tr>\n",
       "      <th>399</th>\n",
       "      <td>NaN</td>\n",
       "      <td>NaN</td>\n",
       "      <td>NaN</td>\n",
       "      <td>NaN</td>\n",
       "      <td>NaN</td>\n",
       "      <td>NaN</td>\n",
       "      <td>NaN</td>\n",
       "      <td>P49785</td>\n",
       "      <td>Pull</td>\n",
       "      <td>Haut</td>\n",
       "      <td>noir</td>\n",
       "      <td>2017-03-01</td>\n",
       "      <td>4.40</td>\n",
       "      <td>5</td>\n",
       "    </tr>\n",
       "  </tbody>\n",
       "</table>\n",
       "<p>400 rows × 14 columns</p>\n",
       "</div>"
      ],
      "text/plain": [
       "     Unnamed: 0 Pays_Cod                    Pays  Région      Sous-Région  \\\n",
       "0           NaN      BGR                Bulgarie  Europe  Europe de l'Est   \n",
       "1           NaN      CZE      République Tchèque  Europe  Europe de l'Est   \n",
       "2           NaN      HUN                 Hongrie  Europe  Europe de l'Est   \n",
       "3           NaN      MDA  République de Moldavie  Europe  Europe de l'Est   \n",
       "4           NaN      POL                 Pologne  Europe  Europe de l'Est   \n",
       "..          ...      ...                     ...     ...              ...   \n",
       "395         NaN      NaN                     NaN     NaN              NaN   \n",
       "396         NaN      NaN                     NaN     NaN              NaN   \n",
       "397         NaN      NaN                     NaN     NaN              NaN   \n",
       "398         NaN      NaN                     NaN     NaN              NaN   \n",
       "399         NaN      NaN                     NaN     NaN              NaN   \n",
       "\n",
       "    Code Sous-Région  Unnamed: 6 Product_Ref        Produit  \\\n",
       "0                EUE         NaN      P00147           Robe   \n",
       "1                EUE         NaN      P00249        Chemise   \n",
       "2                EUE         NaN      P00565           Robe   \n",
       "3                EUE         NaN      P00575         Pyjama   \n",
       "4                EUE         NaN      P00626           Robe   \n",
       "..               ...         ...         ...            ...   \n",
       "395              NaN         NaN      P49378        Culotte   \n",
       "396              NaN         NaN      P49444  Soutien gorge   \n",
       "397              NaN         NaN      P49448        Chemise   \n",
       "398              NaN         NaN      P49769           Pull   \n",
       "399              NaN         NaN      P49785           Pull   \n",
       "\n",
       "    Catégorie de produit Couleur    Créé le  Prix d'achat  Prix vente HT  \n",
       "0            Haut-Et-Bas  marron 2018-01-01          7.20              9  \n",
       "1                   Haut   blanc 2018-06-01         11.34             14  \n",
       "2            Haut-Et-Bas  orange 2017-05-01         13.05             15  \n",
       "3            Haut-Et-Bas   blanc 2018-12-01          5.32              7  \n",
       "4            Haut-Et-Bas   blanc 2018-04-01         14.25             15  \n",
       "..                   ...     ...        ...           ...            ...  \n",
       "395                  Bas    bleu 2018-03-01          5.70              6  \n",
       "396                 Haut   blanc 2017-03-01          4.05              5  \n",
       "397                 Haut    vert 2017-07-01          5.95              7  \n",
       "398                 Haut  marron 2018-03-01         13.65             15  \n",
       "399                 Haut    noir 2017-03-01          4.40              5  \n",
       "\n",
       "[400 rows x 14 columns]"
      ]
     },
     "execution_count": 3,
     "metadata": {},
     "output_type": "execute_result"
    }
   ],
   "source": [
    "df_reference = pd.read_excel('referentiel.xlsx')\n",
    "df_reference"
   ]
  },
  {
   "cell_type": "markdown",
   "id": "f77bcbb4-8ebb-4d03-af74-a7a41d330400",
   "metadata": {},
   "source": [
    "Le résultat est un peu trop imposant. En utilisant la fonction ```.head()```, nous pouvons spécifier la vue désirée de notre jeu de donnée: "
   ]
  },
  {
   "cell_type": "code",
   "execution_count": 6,
   "id": "82ff3f0b-eca7-4392-870d-e7b4637ec462",
   "metadata": {},
   "outputs": [
    {
     "data": {
      "text/html": [
       "<div>\n",
       "<style scoped>\n",
       "    .dataframe tbody tr th:only-of-type {\n",
       "        vertical-align: middle;\n",
       "    }\n",
       "\n",
       "    .dataframe tbody tr th {\n",
       "        vertical-align: top;\n",
       "    }\n",
       "\n",
       "    .dataframe thead th {\n",
       "        text-align: right;\n",
       "    }\n",
       "</style>\n",
       "<table border=\"1\" class=\"dataframe\">\n",
       "  <thead>\n",
       "    <tr style=\"text-align: right;\">\n",
       "      <th></th>\n",
       "      <th>Unnamed: 0</th>\n",
       "      <th>Pays_Cod</th>\n",
       "      <th>Pays</th>\n",
       "      <th>Région</th>\n",
       "      <th>Sous-Région</th>\n",
       "      <th>Code Sous-Région</th>\n",
       "      <th>Unnamed: 6</th>\n",
       "      <th>Product_Ref</th>\n",
       "      <th>Produit</th>\n",
       "      <th>Catégorie de produit</th>\n",
       "      <th>Couleur</th>\n",
       "      <th>Créé le</th>\n",
       "      <th>Prix d'achat</th>\n",
       "      <th>Prix vente HT</th>\n",
       "    </tr>\n",
       "  </thead>\n",
       "  <tbody>\n",
       "    <tr>\n",
       "      <th>0</th>\n",
       "      <td>NaN</td>\n",
       "      <td>BGR</td>\n",
       "      <td>Bulgarie</td>\n",
       "      <td>Europe</td>\n",
       "      <td>Europe de l'Est</td>\n",
       "      <td>EUE</td>\n",
       "      <td>NaN</td>\n",
       "      <td>P00147</td>\n",
       "      <td>Robe</td>\n",
       "      <td>Haut-Et-Bas</td>\n",
       "      <td>marron</td>\n",
       "      <td>2018-01-01</td>\n",
       "      <td>7.20</td>\n",
       "      <td>9</td>\n",
       "    </tr>\n",
       "    <tr>\n",
       "      <th>1</th>\n",
       "      <td>NaN</td>\n",
       "      <td>CZE</td>\n",
       "      <td>République Tchèque</td>\n",
       "      <td>Europe</td>\n",
       "      <td>Europe de l'Est</td>\n",
       "      <td>EUE</td>\n",
       "      <td>NaN</td>\n",
       "      <td>P00249</td>\n",
       "      <td>Chemise</td>\n",
       "      <td>Haut</td>\n",
       "      <td>blanc</td>\n",
       "      <td>2018-06-01</td>\n",
       "      <td>11.34</td>\n",
       "      <td>14</td>\n",
       "    </tr>\n",
       "    <tr>\n",
       "      <th>2</th>\n",
       "      <td>NaN</td>\n",
       "      <td>HUN</td>\n",
       "      <td>Hongrie</td>\n",
       "      <td>Europe</td>\n",
       "      <td>Europe de l'Est</td>\n",
       "      <td>EUE</td>\n",
       "      <td>NaN</td>\n",
       "      <td>P00565</td>\n",
       "      <td>Robe</td>\n",
       "      <td>Haut-Et-Bas</td>\n",
       "      <td>orange</td>\n",
       "      <td>2017-05-01</td>\n",
       "      <td>13.05</td>\n",
       "      <td>15</td>\n",
       "    </tr>\n",
       "    <tr>\n",
       "      <th>3</th>\n",
       "      <td>NaN</td>\n",
       "      <td>MDA</td>\n",
       "      <td>République de Moldavie</td>\n",
       "      <td>Europe</td>\n",
       "      <td>Europe de l'Est</td>\n",
       "      <td>EUE</td>\n",
       "      <td>NaN</td>\n",
       "      <td>P00575</td>\n",
       "      <td>Pyjama</td>\n",
       "      <td>Haut-Et-Bas</td>\n",
       "      <td>blanc</td>\n",
       "      <td>2018-12-01</td>\n",
       "      <td>5.32</td>\n",
       "      <td>7</td>\n",
       "    </tr>\n",
       "    <tr>\n",
       "      <th>4</th>\n",
       "      <td>NaN</td>\n",
       "      <td>POL</td>\n",
       "      <td>Pologne</td>\n",
       "      <td>Europe</td>\n",
       "      <td>Europe de l'Est</td>\n",
       "      <td>EUE</td>\n",
       "      <td>NaN</td>\n",
       "      <td>P00626</td>\n",
       "      <td>Robe</td>\n",
       "      <td>Haut-Et-Bas</td>\n",
       "      <td>blanc</td>\n",
       "      <td>2018-04-01</td>\n",
       "      <td>14.25</td>\n",
       "      <td>15</td>\n",
       "    </tr>\n",
       "  </tbody>\n",
       "</table>\n",
       "</div>"
      ],
      "text/plain": [
       "   Unnamed: 0 Pays_Cod                    Pays  Région      Sous-Région  \\\n",
       "0         NaN      BGR                Bulgarie  Europe  Europe de l'Est   \n",
       "1         NaN      CZE      République Tchèque  Europe  Europe de l'Est   \n",
       "2         NaN      HUN                 Hongrie  Europe  Europe de l'Est   \n",
       "3         NaN      MDA  République de Moldavie  Europe  Europe de l'Est   \n",
       "4         NaN      POL                 Pologne  Europe  Europe de l'Est   \n",
       "\n",
       "  Code Sous-Région  Unnamed: 6 Product_Ref  Produit Catégorie de produit  \\\n",
       "0              EUE         NaN      P00147     Robe          Haut-Et-Bas   \n",
       "1              EUE         NaN      P00249  Chemise                 Haut   \n",
       "2              EUE         NaN      P00565     Robe          Haut-Et-Bas   \n",
       "3              EUE         NaN      P00575   Pyjama          Haut-Et-Bas   \n",
       "4              EUE         NaN      P00626     Robe          Haut-Et-Bas   \n",
       "\n",
       "  Couleur    Créé le  Prix d'achat  Prix vente HT  \n",
       "0  marron 2018-01-01          7.20              9  \n",
       "1   blanc 2018-06-01         11.34             14  \n",
       "2  orange 2017-05-01         13.05             15  \n",
       "3   blanc 2018-12-01          5.32              7  \n",
       "4   blanc 2018-04-01         14.25             15  "
      ]
     },
     "execution_count": 6,
     "metadata": {},
     "output_type": "execute_result"
    }
   ],
   "source": [
    "df_reference.head()"
   ]
  },
  {
   "cell_type": "markdown",
   "id": "a6d9addd-c9f8-4c95-9b0b-ef8fc244f162",
   "metadata": {},
   "source": [
    "Pour accéder aux noms des colonnes et/ou le nom des lignes, on peut utiliser les fonctions ```.columns``` ou ```.index```. "
   ]
  },
  {
   "cell_type": "code",
   "execution_count": 15,
   "id": "2b513b75-fa65-4a81-b9c2-e426fa121a5f",
   "metadata": {},
   "outputs": [
    {
     "name": "stdout",
     "output_type": "stream",
     "text": [
      "Les colonnes de mon jeu de donnée sont: \n",
      "Index(['Unnamed: 0', 'Pays_Cod', 'Pays', 'Région', 'Sous-Région',\n",
      "       'Code Sous-Région', 'Unnamed: 6', 'Product_Ref', 'Produit',\n",
      "       'Catégorie de produit', 'Couleur', 'Créé le', 'Prix d'achat',\n",
      "       'Prix vente HT'],\n",
      "      dtype='object')\n",
      "Les lignes de mon jeu de donnée sont: \n",
      "RangeIndex(start=0, stop=400, step=1)\n"
     ]
    }
   ],
   "source": [
    "print('Les colonnes de mon jeu de donnée sont: \\n' + str(df_reference.columns))\n",
    "print('Les lignes de mon jeu de donnée sont: \\n' + str(df_reference.index))"
   ]
  },
  {
   "cell_type": "markdown",
   "id": "24662b8d-c490-4aec-9df2-bc3f94d266bd",
   "metadata": {},
   "source": [
    "La première colonne est vide. On peut le voir de par son nom 'Unnamed: 0' et les données manquantes 'NaN'. \n",
    "\n",
    "Nous pouvons disposer de cette colonne en utilisant la fonction ```.drop()```. Il faudra préciser alors le nom de la colonne à supprimer et spécifier ```axis=1``` pour indiquer que c'est effectivement une colonne. ```axis=0``` sera pour disposer d'une ligne. "
   ]
  },
  {
   "cell_type": "code",
   "execution_count": 24,
   "id": "6fcd95a2-5c22-4105-8071-5643cb557ba6",
   "metadata": {},
   "outputs": [
    {
     "data": {
      "text/html": [
       "<div>\n",
       "<style scoped>\n",
       "    .dataframe tbody tr th:only-of-type {\n",
       "        vertical-align: middle;\n",
       "    }\n",
       "\n",
       "    .dataframe tbody tr th {\n",
       "        vertical-align: top;\n",
       "    }\n",
       "\n",
       "    .dataframe thead th {\n",
       "        text-align: right;\n",
       "    }\n",
       "</style>\n",
       "<table border=\"1\" class=\"dataframe\">\n",
       "  <thead>\n",
       "    <tr style=\"text-align: right;\">\n",
       "      <th></th>\n",
       "      <th>Pays_Cod</th>\n",
       "      <th>Pays</th>\n",
       "      <th>Région</th>\n",
       "      <th>Sous-Région</th>\n",
       "      <th>Code Sous-Région</th>\n",
       "      <th>Unnamed: 6</th>\n",
       "      <th>Product_Ref</th>\n",
       "      <th>Produit</th>\n",
       "      <th>Catégorie de produit</th>\n",
       "      <th>Couleur</th>\n",
       "      <th>Créé le</th>\n",
       "      <th>Prix d'achat</th>\n",
       "      <th>Prix vente HT</th>\n",
       "    </tr>\n",
       "  </thead>\n",
       "  <tbody>\n",
       "    <tr>\n",
       "      <th>0</th>\n",
       "      <td>BGR</td>\n",
       "      <td>Bulgarie</td>\n",
       "      <td>Europe</td>\n",
       "      <td>Europe de l'Est</td>\n",
       "      <td>EUE</td>\n",
       "      <td>NaN</td>\n",
       "      <td>P00147</td>\n",
       "      <td>Robe</td>\n",
       "      <td>Haut-Et-Bas</td>\n",
       "      <td>marron</td>\n",
       "      <td>2018-01-01</td>\n",
       "      <td>7.20</td>\n",
       "      <td>9</td>\n",
       "    </tr>\n",
       "    <tr>\n",
       "      <th>1</th>\n",
       "      <td>CZE</td>\n",
       "      <td>République Tchèque</td>\n",
       "      <td>Europe</td>\n",
       "      <td>Europe de l'Est</td>\n",
       "      <td>EUE</td>\n",
       "      <td>NaN</td>\n",
       "      <td>P00249</td>\n",
       "      <td>Chemise</td>\n",
       "      <td>Haut</td>\n",
       "      <td>blanc</td>\n",
       "      <td>2018-06-01</td>\n",
       "      <td>11.34</td>\n",
       "      <td>14</td>\n",
       "    </tr>\n",
       "    <tr>\n",
       "      <th>2</th>\n",
       "      <td>HUN</td>\n",
       "      <td>Hongrie</td>\n",
       "      <td>Europe</td>\n",
       "      <td>Europe de l'Est</td>\n",
       "      <td>EUE</td>\n",
       "      <td>NaN</td>\n",
       "      <td>P00565</td>\n",
       "      <td>Robe</td>\n",
       "      <td>Haut-Et-Bas</td>\n",
       "      <td>orange</td>\n",
       "      <td>2017-05-01</td>\n",
       "      <td>13.05</td>\n",
       "      <td>15</td>\n",
       "    </tr>\n",
       "    <tr>\n",
       "      <th>3</th>\n",
       "      <td>MDA</td>\n",
       "      <td>République de Moldavie</td>\n",
       "      <td>Europe</td>\n",
       "      <td>Europe de l'Est</td>\n",
       "      <td>EUE</td>\n",
       "      <td>NaN</td>\n",
       "      <td>P00575</td>\n",
       "      <td>Pyjama</td>\n",
       "      <td>Haut-Et-Bas</td>\n",
       "      <td>blanc</td>\n",
       "      <td>2018-12-01</td>\n",
       "      <td>5.32</td>\n",
       "      <td>7</td>\n",
       "    </tr>\n",
       "    <tr>\n",
       "      <th>4</th>\n",
       "      <td>POL</td>\n",
       "      <td>Pologne</td>\n",
       "      <td>Europe</td>\n",
       "      <td>Europe de l'Est</td>\n",
       "      <td>EUE</td>\n",
       "      <td>NaN</td>\n",
       "      <td>P00626</td>\n",
       "      <td>Robe</td>\n",
       "      <td>Haut-Et-Bas</td>\n",
       "      <td>blanc</td>\n",
       "      <td>2018-04-01</td>\n",
       "      <td>14.25</td>\n",
       "      <td>15</td>\n",
       "    </tr>\n",
       "  </tbody>\n",
       "</table>\n",
       "</div>"
      ],
      "text/plain": [
       "  Pays_Cod                    Pays  Région      Sous-Région Code Sous-Région  \\\n",
       "0      BGR                Bulgarie  Europe  Europe de l'Est              EUE   \n",
       "1      CZE      République Tchèque  Europe  Europe de l'Est              EUE   \n",
       "2      HUN                 Hongrie  Europe  Europe de l'Est              EUE   \n",
       "3      MDA  République de Moldavie  Europe  Europe de l'Est              EUE   \n",
       "4      POL                 Pologne  Europe  Europe de l'Est              EUE   \n",
       "\n",
       "   Unnamed: 6 Product_Ref  Produit Catégorie de produit Couleur    Créé le  \\\n",
       "0         NaN      P00147     Robe          Haut-Et-Bas  marron 2018-01-01   \n",
       "1         NaN      P00249  Chemise                 Haut   blanc 2018-06-01   \n",
       "2         NaN      P00565     Robe          Haut-Et-Bas  orange 2017-05-01   \n",
       "3         NaN      P00575   Pyjama          Haut-Et-Bas   blanc 2018-12-01   \n",
       "4         NaN      P00626     Robe          Haut-Et-Bas   blanc 2018-04-01   \n",
       "\n",
       "   Prix d'achat  Prix vente HT  \n",
       "0          7.20              9  \n",
       "1         11.34             14  \n",
       "2         13.05             15  \n",
       "3          5.32              7  \n",
       "4         14.25             15  "
      ]
     },
     "execution_count": 24,
     "metadata": {},
     "output_type": "execute_result"
    }
   ],
   "source": [
    "df_reference = df_reference.drop('Unnamed: 0', axis=1)\n",
    "df_reference.head()"
   ]
  },
  {
   "cell_type": "markdown",
   "id": "c338a858-a4ea-4848-bb2a-c0126c1db8cd",
   "metadata": {
    "jp-MarkdownHeadingCollapsed": true
   },
   "source": [
    "### _Exercice 1_\n",
    "\n",
    "Sélectionnez:\n",
    "- Les trois premières lignes du DataFrame."
   ]
  },
  {
   "cell_type": "code",
   "execution_count": 25,
   "id": "4fa5506c-b74c-4d43-8e83-9a5ec0907662",
   "metadata": {},
   "outputs": [
    {
     "data": {
      "text/html": [
       "<div>\n",
       "<style scoped>\n",
       "    .dataframe tbody tr th:only-of-type {\n",
       "        vertical-align: middle;\n",
       "    }\n",
       "\n",
       "    .dataframe tbody tr th {\n",
       "        vertical-align: top;\n",
       "    }\n",
       "\n",
       "    .dataframe thead th {\n",
       "        text-align: right;\n",
       "    }\n",
       "</style>\n",
       "<table border=\"1\" class=\"dataframe\">\n",
       "  <thead>\n",
       "    <tr style=\"text-align: right;\">\n",
       "      <th></th>\n",
       "      <th>Pays_Cod</th>\n",
       "      <th>Pays</th>\n",
       "      <th>Région</th>\n",
       "      <th>Sous-Région</th>\n",
       "      <th>Code Sous-Région</th>\n",
       "      <th>Unnamed: 6</th>\n",
       "      <th>Product_Ref</th>\n",
       "      <th>Produit</th>\n",
       "      <th>Catégorie de produit</th>\n",
       "      <th>Couleur</th>\n",
       "      <th>Créé le</th>\n",
       "      <th>Prix d'achat</th>\n",
       "      <th>Prix vente HT</th>\n",
       "    </tr>\n",
       "  </thead>\n",
       "  <tbody>\n",
       "    <tr>\n",
       "      <th>0</th>\n",
       "      <td>BGR</td>\n",
       "      <td>Bulgarie</td>\n",
       "      <td>Europe</td>\n",
       "      <td>Europe de l'Est</td>\n",
       "      <td>EUE</td>\n",
       "      <td>NaN</td>\n",
       "      <td>P00147</td>\n",
       "      <td>Robe</td>\n",
       "      <td>Haut-Et-Bas</td>\n",
       "      <td>marron</td>\n",
       "      <td>2018-01-01</td>\n",
       "      <td>7.20</td>\n",
       "      <td>9</td>\n",
       "    </tr>\n",
       "    <tr>\n",
       "      <th>1</th>\n",
       "      <td>CZE</td>\n",
       "      <td>République Tchèque</td>\n",
       "      <td>Europe</td>\n",
       "      <td>Europe de l'Est</td>\n",
       "      <td>EUE</td>\n",
       "      <td>NaN</td>\n",
       "      <td>P00249</td>\n",
       "      <td>Chemise</td>\n",
       "      <td>Haut</td>\n",
       "      <td>blanc</td>\n",
       "      <td>2018-06-01</td>\n",
       "      <td>11.34</td>\n",
       "      <td>14</td>\n",
       "    </tr>\n",
       "    <tr>\n",
       "      <th>2</th>\n",
       "      <td>HUN</td>\n",
       "      <td>Hongrie</td>\n",
       "      <td>Europe</td>\n",
       "      <td>Europe de l'Est</td>\n",
       "      <td>EUE</td>\n",
       "      <td>NaN</td>\n",
       "      <td>P00565</td>\n",
       "      <td>Robe</td>\n",
       "      <td>Haut-Et-Bas</td>\n",
       "      <td>orange</td>\n",
       "      <td>2017-05-01</td>\n",
       "      <td>13.05</td>\n",
       "      <td>15</td>\n",
       "    </tr>\n",
       "  </tbody>\n",
       "</table>\n",
       "</div>"
      ],
      "text/plain": [
       "  Pays_Cod                Pays  Région      Sous-Région Code Sous-Région  \\\n",
       "0      BGR            Bulgarie  Europe  Europe de l'Est              EUE   \n",
       "1      CZE  République Tchèque  Europe  Europe de l'Est              EUE   \n",
       "2      HUN             Hongrie  Europe  Europe de l'Est              EUE   \n",
       "\n",
       "   Unnamed: 6 Product_Ref  Produit Catégorie de produit Couleur    Créé le  \\\n",
       "0         NaN      P00147     Robe          Haut-Et-Bas  marron 2018-01-01   \n",
       "1         NaN      P00249  Chemise                 Haut   blanc 2018-06-01   \n",
       "2         NaN      P00565     Robe          Haut-Et-Bas  orange 2017-05-01   \n",
       "\n",
       "   Prix d'achat  Prix vente HT  \n",
       "0          7.20              9  \n",
       "1         11.34             14  \n",
       "2         13.05             15  "
      ]
     },
     "execution_count": 25,
     "metadata": {},
     "output_type": "execute_result"
    }
   ],
   "source": [
    "three_lines = df_reference.loc[:2]\n",
    "three_lines.head()"
   ]
  },
  {
   "cell_type": "markdown",
   "id": "450a6b02-5aec-4721-8800-06b3d49abefe",
   "metadata": {},
   "source": [
    "* les trois dernières colonnes"
   ]
  },
  {
   "cell_type": "code",
   "execution_count": 26,
   "id": "34e915d8-0e07-4467-9a8a-7721c7d3d190",
   "metadata": {},
   "outputs": [
    {
     "data": {
      "text/html": [
       "<div>\n",
       "<style scoped>\n",
       "    .dataframe tbody tr th:only-of-type {\n",
       "        vertical-align: middle;\n",
       "    }\n",
       "\n",
       "    .dataframe tbody tr th {\n",
       "        vertical-align: top;\n",
       "    }\n",
       "\n",
       "    .dataframe thead th {\n",
       "        text-align: right;\n",
       "    }\n",
       "</style>\n",
       "<table border=\"1\" class=\"dataframe\">\n",
       "  <thead>\n",
       "    <tr style=\"text-align: right;\">\n",
       "      <th></th>\n",
       "      <th>Créé le</th>\n",
       "      <th>Prix d'achat</th>\n",
       "      <th>Prix vente HT</th>\n",
       "    </tr>\n",
       "  </thead>\n",
       "  <tbody>\n",
       "    <tr>\n",
       "      <th>0</th>\n",
       "      <td>2018-01-01</td>\n",
       "      <td>7.20</td>\n",
       "      <td>9</td>\n",
       "    </tr>\n",
       "    <tr>\n",
       "      <th>1</th>\n",
       "      <td>2018-06-01</td>\n",
       "      <td>11.34</td>\n",
       "      <td>14</td>\n",
       "    </tr>\n",
       "    <tr>\n",
       "      <th>2</th>\n",
       "      <td>2017-05-01</td>\n",
       "      <td>13.05</td>\n",
       "      <td>15</td>\n",
       "    </tr>\n",
       "    <tr>\n",
       "      <th>3</th>\n",
       "      <td>2018-12-01</td>\n",
       "      <td>5.32</td>\n",
       "      <td>7</td>\n",
       "    </tr>\n",
       "    <tr>\n",
       "      <th>4</th>\n",
       "      <td>2018-04-01</td>\n",
       "      <td>14.25</td>\n",
       "      <td>15</td>\n",
       "    </tr>\n",
       "  </tbody>\n",
       "</table>\n",
       "</div>"
      ],
      "text/plain": [
       "     Créé le  Prix d'achat  Prix vente HT\n",
       "0 2018-01-01          7.20              9\n",
       "1 2018-06-01         11.34             14\n",
       "2 2017-05-01         13.05             15\n",
       "3 2018-12-01          5.32              7\n",
       "4 2018-04-01         14.25             15"
      ]
     },
     "execution_count": 26,
     "metadata": {},
     "output_type": "execute_result"
    }
   ],
   "source": [
    "last_three_columns = df_reference[['Créé le',\"Prix d'achat\",\"Prix vente HT\"]]\n",
    "last_three_columns.head()"
   ]
  },
  {
   "cell_type": "markdown",
   "id": "4dc18441-fb3a-48ab-bcf8-533df1285889",
   "metadata": {
    "jp-MarkdownHeadingCollapsed": true
   },
   "source": [
    "### II.B Sélection conditionnelle\n",
    "***\n",
    "\n",
    "Vous pouvez sélectionner des lignes qui répondent à certaines conditions à l'aide de la méthode loc[] avec une expression conditionnelle :\n",
    "\n",
    "```python\n",
    "nom_data_frame.loc[condition]\n",
    "```"
   ]
  },
  {
   "cell_type": "markdown",
   "id": "8d927f03-f187-47fc-85cb-7112fa80bf4e",
   "metadata": {},
   "source": [
    "Vous pouvez combiner plusieurs conditions à l'aide d'opérateurs logiques (& pour ET, | pour OU) :\n",
    "\n",
    "```python\n",
    "nom_data_frame.loc[(condition1) & (condition2)]\n",
    "```"
   ]
  },
  {
   "cell_type": "markdown",
   "id": "20a73c62-4f33-4a13-b47c-f18ec780138a",
   "metadata": {},
   "source": [
    "Par exemple, commençons par selectionner en priorité les informations des points de vente en Europe. "
   ]
  },
  {
   "cell_type": "code",
   "execution_count": 32,
   "id": "5374ed9e-7ae7-4963-b288-eb78f84c5b56",
   "metadata": {},
   "outputs": [
    {
     "data": {
      "text/html": [
       "<div>\n",
       "<style scoped>\n",
       "    .dataframe tbody tr th:only-of-type {\n",
       "        vertical-align: middle;\n",
       "    }\n",
       "\n",
       "    .dataframe tbody tr th {\n",
       "        vertical-align: top;\n",
       "    }\n",
       "\n",
       "    .dataframe thead th {\n",
       "        text-align: right;\n",
       "    }\n",
       "</style>\n",
       "<table border=\"1\" class=\"dataframe\">\n",
       "  <thead>\n",
       "    <tr style=\"text-align: right;\">\n",
       "      <th></th>\n",
       "      <th>Pays_Cod</th>\n",
       "      <th>Pays</th>\n",
       "      <th>Région</th>\n",
       "      <th>Sous-Région</th>\n",
       "      <th>Code Sous-Région</th>\n",
       "      <th>Unnamed: 6</th>\n",
       "      <th>Product_Ref</th>\n",
       "      <th>Produit</th>\n",
       "      <th>Catégorie de produit</th>\n",
       "      <th>Couleur</th>\n",
       "      <th>Créé le</th>\n",
       "      <th>Prix d'achat</th>\n",
       "      <th>Prix vente HT</th>\n",
       "    </tr>\n",
       "  </thead>\n",
       "  <tbody>\n",
       "    <tr>\n",
       "      <th>0</th>\n",
       "      <td>BGR</td>\n",
       "      <td>Bulgarie</td>\n",
       "      <td>Europe</td>\n",
       "      <td>Europe de l'Est</td>\n",
       "      <td>EUE</td>\n",
       "      <td>NaN</td>\n",
       "      <td>P00147</td>\n",
       "      <td>Robe</td>\n",
       "      <td>Haut-Et-Bas</td>\n",
       "      <td>marron</td>\n",
       "      <td>2018-01-01</td>\n",
       "      <td>7.20</td>\n",
       "      <td>9</td>\n",
       "    </tr>\n",
       "    <tr>\n",
       "      <th>1</th>\n",
       "      <td>CZE</td>\n",
       "      <td>République Tchèque</td>\n",
       "      <td>Europe</td>\n",
       "      <td>Europe de l'Est</td>\n",
       "      <td>EUE</td>\n",
       "      <td>NaN</td>\n",
       "      <td>P00249</td>\n",
       "      <td>Chemise</td>\n",
       "      <td>Haut</td>\n",
       "      <td>blanc</td>\n",
       "      <td>2018-06-01</td>\n",
       "      <td>11.34</td>\n",
       "      <td>14</td>\n",
       "    </tr>\n",
       "    <tr>\n",
       "      <th>2</th>\n",
       "      <td>HUN</td>\n",
       "      <td>Hongrie</td>\n",
       "      <td>Europe</td>\n",
       "      <td>Europe de l'Est</td>\n",
       "      <td>EUE</td>\n",
       "      <td>NaN</td>\n",
       "      <td>P00565</td>\n",
       "      <td>Robe</td>\n",
       "      <td>Haut-Et-Bas</td>\n",
       "      <td>orange</td>\n",
       "      <td>2017-05-01</td>\n",
       "      <td>13.05</td>\n",
       "      <td>15</td>\n",
       "    </tr>\n",
       "    <tr>\n",
       "      <th>3</th>\n",
       "      <td>MDA</td>\n",
       "      <td>République de Moldavie</td>\n",
       "      <td>Europe</td>\n",
       "      <td>Europe de l'Est</td>\n",
       "      <td>EUE</td>\n",
       "      <td>NaN</td>\n",
       "      <td>P00575</td>\n",
       "      <td>Pyjama</td>\n",
       "      <td>Haut-Et-Bas</td>\n",
       "      <td>blanc</td>\n",
       "      <td>2018-12-01</td>\n",
       "      <td>5.32</td>\n",
       "      <td>7</td>\n",
       "    </tr>\n",
       "    <tr>\n",
       "      <th>4</th>\n",
       "      <td>POL</td>\n",
       "      <td>Pologne</td>\n",
       "      <td>Europe</td>\n",
       "      <td>Europe de l'Est</td>\n",
       "      <td>EUE</td>\n",
       "      <td>NaN</td>\n",
       "      <td>P00626</td>\n",
       "      <td>Robe</td>\n",
       "      <td>Haut-Et-Bas</td>\n",
       "      <td>blanc</td>\n",
       "      <td>2018-04-01</td>\n",
       "      <td>14.25</td>\n",
       "      <td>15</td>\n",
       "    </tr>\n",
       "  </tbody>\n",
       "</table>\n",
       "</div>"
      ],
      "text/plain": [
       "  Pays_Cod                    Pays  Région      Sous-Région Code Sous-Région  \\\n",
       "0      BGR                Bulgarie  Europe  Europe de l'Est              EUE   \n",
       "1      CZE      République Tchèque  Europe  Europe de l'Est              EUE   \n",
       "2      HUN                 Hongrie  Europe  Europe de l'Est              EUE   \n",
       "3      MDA  République de Moldavie  Europe  Europe de l'Est              EUE   \n",
       "4      POL                 Pologne  Europe  Europe de l'Est              EUE   \n",
       "\n",
       "   Unnamed: 6 Product_Ref  Produit Catégorie de produit Couleur    Créé le  \\\n",
       "0         NaN      P00147     Robe          Haut-Et-Bas  marron 2018-01-01   \n",
       "1         NaN      P00249  Chemise                 Haut   blanc 2018-06-01   \n",
       "2         NaN      P00565     Robe          Haut-Et-Bas  orange 2017-05-01   \n",
       "3         NaN      P00575   Pyjama          Haut-Et-Bas   blanc 2018-12-01   \n",
       "4         NaN      P00626     Robe          Haut-Et-Bas   blanc 2018-04-01   \n",
       "\n",
       "   Prix d'achat  Prix vente HT  \n",
       "0          7.20              9  \n",
       "1         11.34             14  \n",
       "2         13.05             15  \n",
       "3          5.32              7  \n",
       "4         14.25             15  "
      ]
     },
     "execution_count": 32,
     "metadata": {},
     "output_type": "execute_result"
    }
   ],
   "source": [
    "condition_continent = (df_reference['Région'] == 'Europe')\n",
    "df_europe = df_reference[condition_continent]\n",
    "df_europe.head()"
   ]
  },
  {
   "cell_type": "markdown",
   "id": "82b281e6-52db-4ead-bf02-16bf378e76d7",
   "metadata": {},
   "source": [
    "Au sein de la région Europe tentons maintenant de nous focaliser sur les points de ventes en Pologne ou en Roumanie."
   ]
  },
  {
   "cell_type": "code",
   "execution_count": 34,
   "id": "5c3d35e6-899a-44ab-9a82-8ddd1f9ab35d",
   "metadata": {},
   "outputs": [
    {
     "data": {
      "text/html": [
       "<div>\n",
       "<style scoped>\n",
       "    .dataframe tbody tr th:only-of-type {\n",
       "        vertical-align: middle;\n",
       "    }\n",
       "\n",
       "    .dataframe tbody tr th {\n",
       "        vertical-align: top;\n",
       "    }\n",
       "\n",
       "    .dataframe thead th {\n",
       "        text-align: right;\n",
       "    }\n",
       "</style>\n",
       "<table border=\"1\" class=\"dataframe\">\n",
       "  <thead>\n",
       "    <tr style=\"text-align: right;\">\n",
       "      <th></th>\n",
       "      <th>Pays_Cod</th>\n",
       "      <th>Pays</th>\n",
       "      <th>Région</th>\n",
       "      <th>Sous-Région</th>\n",
       "      <th>Code Sous-Région</th>\n",
       "      <th>Unnamed: 6</th>\n",
       "      <th>Product_Ref</th>\n",
       "      <th>Produit</th>\n",
       "      <th>Catégorie de produit</th>\n",
       "      <th>Couleur</th>\n",
       "      <th>Créé le</th>\n",
       "      <th>Prix d'achat</th>\n",
       "      <th>Prix vente HT</th>\n",
       "    </tr>\n",
       "  </thead>\n",
       "  <tbody>\n",
       "    <tr>\n",
       "      <th>4</th>\n",
       "      <td>POL</td>\n",
       "      <td>Pologne</td>\n",
       "      <td>Europe</td>\n",
       "      <td>Europe de l'Est</td>\n",
       "      <td>EUE</td>\n",
       "      <td>NaN</td>\n",
       "      <td>P00626</td>\n",
       "      <td>Robe</td>\n",
       "      <td>Haut-Et-Bas</td>\n",
       "      <td>blanc</td>\n",
       "      <td>2018-04-01</td>\n",
       "      <td>14.25</td>\n",
       "      <td>15</td>\n",
       "    </tr>\n",
       "    <tr>\n",
       "      <th>5</th>\n",
       "      <td>ROU</td>\n",
       "      <td>Roumanie</td>\n",
       "      <td>Europe</td>\n",
       "      <td>Europe de l'Est</td>\n",
       "      <td>EUE</td>\n",
       "      <td>NaN</td>\n",
       "      <td>P00632</td>\n",
       "      <td>T-shirt</td>\n",
       "      <td>Haut</td>\n",
       "      <td>noir</td>\n",
       "      <td>2018-06-01</td>\n",
       "      <td>4.50</td>\n",
       "      <td>6</td>\n",
       "    </tr>\n",
       "  </tbody>\n",
       "</table>\n",
       "</div>"
      ],
      "text/plain": [
       "  Pays_Cod      Pays  Région      Sous-Région Code Sous-Région  Unnamed: 6  \\\n",
       "4      POL   Pologne  Europe  Europe de l'Est              EUE         NaN   \n",
       "5      ROU  Roumanie  Europe  Europe de l'Est              EUE         NaN   \n",
       "\n",
       "  Product_Ref  Produit Catégorie de produit Couleur    Créé le  Prix d'achat  \\\n",
       "4      P00626     Robe          Haut-Et-Bas   blanc 2018-04-01         14.25   \n",
       "5      P00632  T-shirt                 Haut    noir 2018-06-01          4.50   \n",
       "\n",
       "   Prix vente HT  \n",
       "4             15  \n",
       "5              6  "
      ]
     },
     "execution_count": 34,
     "metadata": {},
     "output_type": "execute_result"
    }
   ],
   "source": [
    "condition_pays = (df_europe['Pays']=='Pologne') | (df_europe['Pays']=='Roumanie')\n",
    "df_pays = df_europe[condition_pays]\n",
    "df_pays.head()"
   ]
  },
  {
   "cell_type": "markdown",
   "id": "735efcee-d798-4209-8973-0b0d40d879c6",
   "metadata": {},
   "source": [
    "Notez que si nous utilisons l'opérateur ```&```, python essayera alors de trouver un point de vente à la fois en Pologne et en Roumanie. Donc, le code retournera un dataframe vide."
   ]
  },
  {
   "cell_type": "markdown",
   "id": "f1f37efa-2ec8-45aa-ab79-10ec480df742",
   "metadata": {},
   "source": [
    "Cherchons maintenant les points de ventes en Europe créés à après le 01-01-2018."
   ]
  },
  {
   "cell_type": "code",
   "execution_count": 36,
   "id": "8dabfcc0-e37b-47f5-be01-07562777cc53",
   "metadata": {},
   "outputs": [
    {
     "data": {
      "text/html": [
       "<div>\n",
       "<style scoped>\n",
       "    .dataframe tbody tr th:only-of-type {\n",
       "        vertical-align: middle;\n",
       "    }\n",
       "\n",
       "    .dataframe tbody tr th {\n",
       "        vertical-align: top;\n",
       "    }\n",
       "\n",
       "    .dataframe thead th {\n",
       "        text-align: right;\n",
       "    }\n",
       "</style>\n",
       "<table border=\"1\" class=\"dataframe\">\n",
       "  <thead>\n",
       "    <tr style=\"text-align: right;\">\n",
       "      <th></th>\n",
       "      <th>Pays_Cod</th>\n",
       "      <th>Pays</th>\n",
       "      <th>Région</th>\n",
       "      <th>Sous-Région</th>\n",
       "      <th>Code Sous-Région</th>\n",
       "      <th>Unnamed: 6</th>\n",
       "      <th>Product_Ref</th>\n",
       "      <th>Produit</th>\n",
       "      <th>Catégorie de produit</th>\n",
       "      <th>Couleur</th>\n",
       "      <th>Créé le</th>\n",
       "      <th>Prix d'achat</th>\n",
       "      <th>Prix vente HT</th>\n",
       "    </tr>\n",
       "  </thead>\n",
       "  <tbody>\n",
       "    <tr>\n",
       "      <th>1</th>\n",
       "      <td>CZE</td>\n",
       "      <td>République Tchèque</td>\n",
       "      <td>Europe</td>\n",
       "      <td>Europe de l'Est</td>\n",
       "      <td>EUE</td>\n",
       "      <td>NaN</td>\n",
       "      <td>P00249</td>\n",
       "      <td>Chemise</td>\n",
       "      <td>Haut</td>\n",
       "      <td>blanc</td>\n",
       "      <td>2018-06-01</td>\n",
       "      <td>11.34</td>\n",
       "      <td>14</td>\n",
       "    </tr>\n",
       "    <tr>\n",
       "      <th>3</th>\n",
       "      <td>MDA</td>\n",
       "      <td>République de Moldavie</td>\n",
       "      <td>Europe</td>\n",
       "      <td>Europe de l'Est</td>\n",
       "      <td>EUE</td>\n",
       "      <td>NaN</td>\n",
       "      <td>P00575</td>\n",
       "      <td>Pyjama</td>\n",
       "      <td>Haut-Et-Bas</td>\n",
       "      <td>blanc</td>\n",
       "      <td>2018-12-01</td>\n",
       "      <td>5.32</td>\n",
       "      <td>7</td>\n",
       "    </tr>\n",
       "    <tr>\n",
       "      <th>4</th>\n",
       "      <td>POL</td>\n",
       "      <td>Pologne</td>\n",
       "      <td>Europe</td>\n",
       "      <td>Europe de l'Est</td>\n",
       "      <td>EUE</td>\n",
       "      <td>NaN</td>\n",
       "      <td>P00626</td>\n",
       "      <td>Robe</td>\n",
       "      <td>Haut-Et-Bas</td>\n",
       "      <td>blanc</td>\n",
       "      <td>2018-04-01</td>\n",
       "      <td>14.25</td>\n",
       "      <td>15</td>\n",
       "    </tr>\n",
       "    <tr>\n",
       "      <th>5</th>\n",
       "      <td>ROU</td>\n",
       "      <td>Roumanie</td>\n",
       "      <td>Europe</td>\n",
       "      <td>Europe de l'Est</td>\n",
       "      <td>EUE</td>\n",
       "      <td>NaN</td>\n",
       "      <td>P00632</td>\n",
       "      <td>T-shirt</td>\n",
       "      <td>Haut</td>\n",
       "      <td>noir</td>\n",
       "      <td>2018-06-01</td>\n",
       "      <td>4.50</td>\n",
       "      <td>6</td>\n",
       "    </tr>\n",
       "    <tr>\n",
       "      <th>6</th>\n",
       "      <td>RUS</td>\n",
       "      <td>Fédération de Russie</td>\n",
       "      <td>Europe</td>\n",
       "      <td>Europe de l'Est</td>\n",
       "      <td>EUE</td>\n",
       "      <td>NaN</td>\n",
       "      <td>P00821</td>\n",
       "      <td>Débardeur</td>\n",
       "      <td>Haut</td>\n",
       "      <td>taupe</td>\n",
       "      <td>2018-09-01</td>\n",
       "      <td>6.93</td>\n",
       "      <td>9</td>\n",
       "    </tr>\n",
       "  </tbody>\n",
       "</table>\n",
       "</div>"
      ],
      "text/plain": [
       "  Pays_Cod                    Pays  Région      Sous-Région Code Sous-Région  \\\n",
       "1      CZE      République Tchèque  Europe  Europe de l'Est              EUE   \n",
       "3      MDA  République de Moldavie  Europe  Europe de l'Est              EUE   \n",
       "4      POL                 Pologne  Europe  Europe de l'Est              EUE   \n",
       "5      ROU                Roumanie  Europe  Europe de l'Est              EUE   \n",
       "6      RUS    Fédération de Russie  Europe  Europe de l'Est              EUE   \n",
       "\n",
       "   Unnamed: 6 Product_Ref    Produit Catégorie de produit Couleur    Créé le  \\\n",
       "1         NaN      P00249    Chemise                 Haut   blanc 2018-06-01   \n",
       "3         NaN      P00575     Pyjama          Haut-Et-Bas   blanc 2018-12-01   \n",
       "4         NaN      P00626       Robe          Haut-Et-Bas   blanc 2018-04-01   \n",
       "5         NaN      P00632    T-shirt                 Haut    noir 2018-06-01   \n",
       "6         NaN      P00821  Débardeur                 Haut   taupe 2018-09-01   \n",
       "\n",
       "   Prix d'achat  Prix vente HT  \n",
       "1         11.34             14  \n",
       "3          5.32              7  \n",
       "4         14.25             15  \n",
       "5          4.50              6  \n",
       "6          6.93              9  "
      ]
     },
     "execution_count": 36,
     "metadata": {},
     "output_type": "execute_result"
    }
   ],
   "source": [
    "condition_2018 = (df_europe['Créé le'] > '01-01-2018')\n",
    "df_post_2018 = df_europe[condition_2018]\n",
    "df_post_2018.head()"
   ]
  },
  {
   "cell_type": "markdown",
   "id": "3a23add7-7a5c-4cf9-8097-bc4e6eecba7d",
   "metadata": {
    "jp-MarkdownHeadingCollapsed": true
   },
   "source": [
    "### _Exercice 2_\n",
    "\n",
    "Sélectionnez dans le référentiel : \n",
    "\n",
    "* Les produits dont le prix de vente est supérieur à 15 euros"
   ]
  },
  {
   "cell_type": "code",
   "execution_count": 28,
   "id": "50ee8566-6840-4fee-b452-b07afe601c9d",
   "metadata": {},
   "outputs": [],
   "source": [
    "fifteen_plus = df_reference.loc[df_reference[\"Prix vente HT\"] >= 10]"
   ]
  },
  {
   "cell_type": "code",
   "execution_count": 29,
   "id": "adacad05-58aa-453f-87cb-8c63bd3e0e4e",
   "metadata": {},
   "outputs": [
    {
     "data": {
      "text/html": [
       "<div>\n",
       "<style scoped>\n",
       "    .dataframe tbody tr th:only-of-type {\n",
       "        vertical-align: middle;\n",
       "    }\n",
       "\n",
       "    .dataframe tbody tr th {\n",
       "        vertical-align: top;\n",
       "    }\n",
       "\n",
       "    .dataframe thead th {\n",
       "        text-align: right;\n",
       "    }\n",
       "</style>\n",
       "<table border=\"1\" class=\"dataframe\">\n",
       "  <thead>\n",
       "    <tr style=\"text-align: right;\">\n",
       "      <th></th>\n",
       "      <th>Unnamed: 0</th>\n",
       "      <th>Pays_Cod</th>\n",
       "      <th>Pays</th>\n",
       "      <th>Région</th>\n",
       "      <th>Sous-Région</th>\n",
       "      <th>Code Sous-Région</th>\n",
       "      <th>Unnamed: 6</th>\n",
       "      <th>Product_Ref</th>\n",
       "      <th>Produit</th>\n",
       "      <th>Catégorie de produit</th>\n",
       "      <th>Couleur</th>\n",
       "      <th>Créé le</th>\n",
       "      <th>Prix d'achat</th>\n",
       "      <th>Prix vente HT</th>\n",
       "    </tr>\n",
       "  </thead>\n",
       "  <tbody>\n",
       "    <tr>\n",
       "      <th>1</th>\n",
       "      <td>NaN</td>\n",
       "      <td>CZE</td>\n",
       "      <td>République Tchèque</td>\n",
       "      <td>Europe</td>\n",
       "      <td>Europe de l'Est</td>\n",
       "      <td>EUE</td>\n",
       "      <td>NaN</td>\n",
       "      <td>P00249</td>\n",
       "      <td>Chemise</td>\n",
       "      <td>Haut</td>\n",
       "      <td>blanc</td>\n",
       "      <td>2018-06-01</td>\n",
       "      <td>11.34</td>\n",
       "      <td>14</td>\n",
       "    </tr>\n",
       "    <tr>\n",
       "      <th>2</th>\n",
       "      <td>NaN</td>\n",
       "      <td>HUN</td>\n",
       "      <td>Hongrie</td>\n",
       "      <td>Europe</td>\n",
       "      <td>Europe de l'Est</td>\n",
       "      <td>EUE</td>\n",
       "      <td>NaN</td>\n",
       "      <td>P00565</td>\n",
       "      <td>Robe</td>\n",
       "      <td>Haut-Et-Bas</td>\n",
       "      <td>orange</td>\n",
       "      <td>2017-05-01</td>\n",
       "      <td>13.05</td>\n",
       "      <td>15</td>\n",
       "    </tr>\n",
       "    <tr>\n",
       "      <th>4</th>\n",
       "      <td>NaN</td>\n",
       "      <td>POL</td>\n",
       "      <td>Pologne</td>\n",
       "      <td>Europe</td>\n",
       "      <td>Europe de l'Est</td>\n",
       "      <td>EUE</td>\n",
       "      <td>NaN</td>\n",
       "      <td>P00626</td>\n",
       "      <td>Robe</td>\n",
       "      <td>Haut-Et-Bas</td>\n",
       "      <td>blanc</td>\n",
       "      <td>2018-04-01</td>\n",
       "      <td>14.25</td>\n",
       "      <td>15</td>\n",
       "    </tr>\n",
       "    <tr>\n",
       "      <th>8</th>\n",
       "      <td>NaN</td>\n",
       "      <td>UKR</td>\n",
       "      <td>Ukraine</td>\n",
       "      <td>Europe</td>\n",
       "      <td>Europe de l'Est</td>\n",
       "      <td>EUE</td>\n",
       "      <td>NaN</td>\n",
       "      <td>P00924</td>\n",
       "      <td>Chaussette</td>\n",
       "      <td>Bas</td>\n",
       "      <td>bleu</td>\n",
       "      <td>2018-05-01</td>\n",
       "      <td>13.65</td>\n",
       "      <td>15</td>\n",
       "    </tr>\n",
       "    <tr>\n",
       "      <th>9</th>\n",
       "      <td>NaN</td>\n",
       "      <td>ARM</td>\n",
       "      <td>Arménie</td>\n",
       "      <td>Europe</td>\n",
       "      <td>Europe de l'Est</td>\n",
       "      <td>EUE</td>\n",
       "      <td>NaN</td>\n",
       "      <td>P01048</td>\n",
       "      <td>Culotte</td>\n",
       "      <td>Bas</td>\n",
       "      <td>orange</td>\n",
       "      <td>2018-09-01</td>\n",
       "      <td>12.88</td>\n",
       "      <td>14</td>\n",
       "    </tr>\n",
       "  </tbody>\n",
       "</table>\n",
       "</div>"
      ],
      "text/plain": [
       "   Unnamed: 0 Pays_Cod                Pays  Région      Sous-Région  \\\n",
       "1         NaN      CZE  République Tchèque  Europe  Europe de l'Est   \n",
       "2         NaN      HUN             Hongrie  Europe  Europe de l'Est   \n",
       "4         NaN      POL             Pologne  Europe  Europe de l'Est   \n",
       "8         NaN      UKR             Ukraine  Europe  Europe de l'Est   \n",
       "9         NaN      ARM             Arménie  Europe  Europe de l'Est   \n",
       "\n",
       "  Code Sous-Région  Unnamed: 6 Product_Ref     Produit Catégorie de produit  \\\n",
       "1              EUE         NaN      P00249     Chemise                 Haut   \n",
       "2              EUE         NaN      P00565        Robe          Haut-Et-Bas   \n",
       "4              EUE         NaN      P00626        Robe          Haut-Et-Bas   \n",
       "8              EUE         NaN      P00924  Chaussette                  Bas   \n",
       "9              EUE         NaN      P01048     Culotte                  Bas   \n",
       "\n",
       "  Couleur    Créé le  Prix d'achat  Prix vente HT  \n",
       "1   blanc 2018-06-01         11.34             14  \n",
       "2  orange 2017-05-01         13.05             15  \n",
       "4   blanc 2018-04-01         14.25             15  \n",
       "8    bleu 2018-05-01         13.65             15  \n",
       "9  orange 2018-09-01         12.88             14  "
      ]
     },
     "execution_count": 29,
     "metadata": {},
     "output_type": "execute_result"
    }
   ],
   "source": [
    "fifteen_plus.head()"
   ]
  },
  {
   "cell_type": "markdown",
   "id": "d35f4222-ed94-4864-9e36-dbc006f80595",
   "metadata": {},
   "source": [
    "* Les produits de couleur marron"
   ]
  },
  {
   "cell_type": "code",
   "execution_count": 32,
   "id": "797b1946-7482-4530-a7c0-37aeed1dbd23",
   "metadata": {},
   "outputs": [],
   "source": [
    "brown = df_reference.loc[df_reference[\"Couleur\"] == \"marron\"]"
   ]
  },
  {
   "cell_type": "code",
   "execution_count": 33,
   "id": "63918722-da6d-4d8b-8c0a-c353babe6730",
   "metadata": {},
   "outputs": [
    {
     "data": {
      "text/html": [
       "<div>\n",
       "<style scoped>\n",
       "    .dataframe tbody tr th:only-of-type {\n",
       "        vertical-align: middle;\n",
       "    }\n",
       "\n",
       "    .dataframe tbody tr th {\n",
       "        vertical-align: top;\n",
       "    }\n",
       "\n",
       "    .dataframe thead th {\n",
       "        text-align: right;\n",
       "    }\n",
       "</style>\n",
       "<table border=\"1\" class=\"dataframe\">\n",
       "  <thead>\n",
       "    <tr style=\"text-align: right;\">\n",
       "      <th></th>\n",
       "      <th>Unnamed: 0</th>\n",
       "      <th>Pays_Cod</th>\n",
       "      <th>Pays</th>\n",
       "      <th>Région</th>\n",
       "      <th>Sous-Région</th>\n",
       "      <th>Code Sous-Région</th>\n",
       "      <th>Unnamed: 6</th>\n",
       "      <th>Product_Ref</th>\n",
       "      <th>Produit</th>\n",
       "      <th>Catégorie de produit</th>\n",
       "      <th>Couleur</th>\n",
       "      <th>Créé le</th>\n",
       "      <th>Prix d'achat</th>\n",
       "      <th>Prix vente HT</th>\n",
       "    </tr>\n",
       "  </thead>\n",
       "  <tbody>\n",
       "    <tr>\n",
       "      <th>0</th>\n",
       "      <td>NaN</td>\n",
       "      <td>BGR</td>\n",
       "      <td>Bulgarie</td>\n",
       "      <td>Europe</td>\n",
       "      <td>Europe de l'Est</td>\n",
       "      <td>EUE</td>\n",
       "      <td>NaN</td>\n",
       "      <td>P00147</td>\n",
       "      <td>Robe</td>\n",
       "      <td>Haut-Et-Bas</td>\n",
       "      <td>marron</td>\n",
       "      <td>2018-01-01</td>\n",
       "      <td>7.20</td>\n",
       "      <td>9</td>\n",
       "    </tr>\n",
       "    <tr>\n",
       "      <th>12</th>\n",
       "      <td>NaN</td>\n",
       "      <td>EST</td>\n",
       "      <td>Estonie</td>\n",
       "      <td>Europe</td>\n",
       "      <td>Europe du Nord</td>\n",
       "      <td>EUN</td>\n",
       "      <td>NaN</td>\n",
       "      <td>P01596</td>\n",
       "      <td>Collant</td>\n",
       "      <td>Bas</td>\n",
       "      <td>marron</td>\n",
       "      <td>2018-08-01</td>\n",
       "      <td>6.37</td>\n",
       "      <td>7</td>\n",
       "    </tr>\n",
       "    <tr>\n",
       "      <th>17</th>\n",
       "      <td>NaN</td>\n",
       "      <td>LTU</td>\n",
       "      <td>Lituanie</td>\n",
       "      <td>Europe</td>\n",
       "      <td>Europe du Nord</td>\n",
       "      <td>EUN</td>\n",
       "      <td>NaN</td>\n",
       "      <td>P01933</td>\n",
       "      <td>Soutien gorge</td>\n",
       "      <td>Haut</td>\n",
       "      <td>marron</td>\n",
       "      <td>2017-08-01</td>\n",
       "      <td>6.48</td>\n",
       "      <td>9</td>\n",
       "    </tr>\n",
       "    <tr>\n",
       "      <th>27</th>\n",
       "      <td>NaN</td>\n",
       "      <td>SVN</td>\n",
       "      <td>Slovénie</td>\n",
       "      <td>Europe</td>\n",
       "      <td>Europe du Sud</td>\n",
       "      <td>EUS</td>\n",
       "      <td>NaN</td>\n",
       "      <td>P03438</td>\n",
       "      <td>Robe</td>\n",
       "      <td>Haut-Et-Bas</td>\n",
       "      <td>marron</td>\n",
       "      <td>2017-10-01</td>\n",
       "      <td>8.37</td>\n",
       "      <td>9</td>\n",
       "    </tr>\n",
       "    <tr>\n",
       "      <th>44</th>\n",
       "      <td>NaN</td>\n",
       "      <td>NaN</td>\n",
       "      <td>NaN</td>\n",
       "      <td>NaN</td>\n",
       "      <td>NaN</td>\n",
       "      <td>NaN</td>\n",
       "      <td>NaN</td>\n",
       "      <td>P06356</td>\n",
       "      <td>Pull</td>\n",
       "      <td>Haut</td>\n",
       "      <td>marron</td>\n",
       "      <td>2018-03-01</td>\n",
       "      <td>10.78</td>\n",
       "      <td>14</td>\n",
       "    </tr>\n",
       "  </tbody>\n",
       "</table>\n",
       "</div>"
      ],
      "text/plain": [
       "    Unnamed: 0 Pays_Cod      Pays  Région      Sous-Région Code Sous-Région  \\\n",
       "0          NaN      BGR  Bulgarie  Europe  Europe de l'Est              EUE   \n",
       "12         NaN      EST   Estonie  Europe   Europe du Nord              EUN   \n",
       "17         NaN      LTU  Lituanie  Europe   Europe du Nord              EUN   \n",
       "27         NaN      SVN  Slovénie  Europe    Europe du Sud              EUS   \n",
       "44         NaN      NaN       NaN     NaN              NaN              NaN   \n",
       "\n",
       "    Unnamed: 6 Product_Ref        Produit Catégorie de produit Couleur  \\\n",
       "0          NaN      P00147           Robe          Haut-Et-Bas  marron   \n",
       "12         NaN      P01596        Collant                  Bas  marron   \n",
       "17         NaN      P01933  Soutien gorge                 Haut  marron   \n",
       "27         NaN      P03438           Robe          Haut-Et-Bas  marron   \n",
       "44         NaN      P06356           Pull                 Haut  marron   \n",
       "\n",
       "      Créé le  Prix d'achat  Prix vente HT  \n",
       "0  2018-01-01          7.20              9  \n",
       "12 2018-08-01          6.37              7  \n",
       "17 2017-08-01          6.48              9  \n",
       "27 2017-10-01          8.37              9  \n",
       "44 2018-03-01         10.78             14  "
      ]
     },
     "execution_count": 33,
     "metadata": {},
     "output_type": "execute_result"
    }
   ],
   "source": [
    "brown.head()"
   ]
  },
  {
   "cell_type": "markdown",
   "id": "98e03a94-5dd4-40d0-99d1-d9a2f30a0fce",
   "metadata": {
    "jp-MarkdownHeadingCollapsed": true
   },
   "source": [
    "### II.C Pour aller plus loin: Selection conditionnelle avancée"
   ]
  },
  {
   "cell_type": "markdown",
   "id": "76ef9487-d89b-46e0-98ff-43bce3f4abf8",
   "metadata": {},
   "source": [
    "Imaginons que nous voulons créer des catégories de gamme en fonction des valeurs de prix des produits. Les produits qui se situe dans le tiers supérieur en termes de prix sont qualifiés de \"haut de gamme\", ceux du tiers intermédiaires comme \"milieu de gamme\", ceux du tiers inférieur comme \"bas de gamme\". "
   ]
  },
  {
   "cell_type": "markdown",
   "id": "a702dc98-2d2b-4235-b98f-5d7ee9674e6c",
   "metadata": {},
   "source": [
    "#### Étape 1 : Création des trois catégories\n",
    "\n",
    "Nous allons diviser nos produits en trois catégories de gamme : haut de gamme, milieu de gamme et bas de gamme. Pour cela, nous devons calculer les quantiles des prix d'achat pour déterminer les limites entre ces catégories.\n",
    "\n",
    "```python\n",
    "quantiles = donnees['Prix_achat'].quantile([0.33, 0.66])\n",
    "```\n",
    "\n",
    "#### Étape 2 : Attribution de gamme aux produits\n",
    "\n",
    "Nous allons définir une fonction qui attribue une catégorie de gamme à chaque produit en fonction de son prix d'achat.\n",
    "\n",
    "```python\n",
    "def assigner_gamme(row):\n",
    "    if row['Prix_achat'] >= quantiles.iloc[0.66]:\n",
    "        return 'haut de gamme'\n",
    "    elif row['Prix_achat'] >= quantiles.iloc[0.33]:\n",
    "        return 'milieu de gamme'\n",
    "    else:\n",
    "        return 'bas de gamme'\n",
    "```"
   ]
  },
  {
   "cell_type": "markdown",
   "id": "c102b609-9b50-42a3-926b-e8ccf90e9694",
   "metadata": {},
   "source": [
    "#### Interlude : la méthode apply\n",
    "\n",
    "La méthode apply est une fonction de Pandas qui permet d'appliquer une fonction personnalisée à tout élément d'un DataFrame. Pour l'utiliser : \n",
    "\n",
    "```python\n",
    "nom_dataframe.apply(nom_de_la_fonction, axis=axis)\n",
    "```\n",
    "\n",
    "*   `nom_dataframe` : C'est le DataFrame sur lequel vous souhaitez appliquer la fonction.\n",
    "*   `nom_de_la_fonction` : C'est le nom de la fonction que vous souhaitez appliquer à chaque élément, ligne ou colonne du DataFrame.\n",
    "*   `axis` : C'est un paramètre optionnel qui spécifie l'axe sur lequel appliquer la fonction. Par défaut, `axis=0` applique la fonction sur chaque colonne, tandis que `axis=1` l'applique sur chaque ligne."
   ]
  },
  {
   "cell_type": "markdown",
   "id": "3252cb45-a81b-4342-9ac5-b0b80e13dc7e",
   "metadata": {},
   "source": [
    "#### Étape 3 : Application de la fonction à chaque ligne du DataFrame\n",
    "\n",
    "Appliquons maintenant notre fonction à chaque ligne du DataFrame pour créer une nouvelle colonne \"gamme\".\n",
    "\n",
    "```python\n",
    "donnees['gamme'] = donnees.apply(assigner_gamme, axis=1)\n",
    "```\n",
    "\n",
    "#### Résultat final\n",
    "\n",
    "Voici le DataFrame final avec la nouvelle colonne \"gamme\" ajoutée :\n",
    "\n",
    "```python\n",
    "print(donnees)\n",
    "```"
   ]
  },
  {
   "cell_type": "markdown",
   "id": "e3d54690-b6b3-4d2a-b3fc-1c55d4315826",
   "metadata": {
    "jp-MarkdownHeadingCollapsed": true
   },
   "source": [
    "## III. Agréger toutes les données\n",
    "***"
   ]
  },
  {
   "cell_type": "markdown",
   "id": "831f83fc-a519-44e6-9413-66bb94c1bf1e",
   "metadata": {},
   "source": [
    "Dans le monde réel, les données vous seront toujours envoyées dans plusieurs fichiers, et vous aurez très certainement besoin d'agréger ces fichiers pour avoir une vision d'ensemble et faire des analyses. "
   ]
  },
  {
   "cell_type": "markdown",
   "id": "ec71859e-d507-46e9-b7a3-9bb48f581caa",
   "metadata": {
    "jp-MarkdownHeadingCollapsed": true
   },
   "source": [
    "### III.A La méthode `concat`"
   ]
  },
  {
   "cell_type": "markdown",
   "id": "3fbea920-ee09-4ca0-a643-ad5d9f47182d",
   "metadata": {
    "jp-MarkdownHeadingCollapsed": true
   },
   "source": [
    "Si vous voulez simplement coller plusieurs fichiers entre eux, la méthode `concat` est ici la plus utile. \n",
    "\n",
    "Voici comment utiliser la méthode `concat` avec des données provenant de deux fichiers Excel que voulez coller parce qu'ils contiennent les mêmes variables sur un phénomène, seulement à des dates diffférentes :\n",
    "\n",
    "```python\n",
    "import pandas as pd\n",
    "\n",
    "# Charger les données à partir du fichier Excel\n",
    "df1 = pd.read_excel('vente_2021.xlsx')\n",
    "df2 = pd.read_excel('vente_2022.xlsx')\n",
    "\n",
    "# Concaténer les DataFrames le long de l'axe des lignes (par défaut)\n",
    "resultat = pd.concat([df1, df2])\n",
    "\n",
    "print(resultat)\n",
    "```\n",
    "Essayons de visualiser le résultat:"
   ]
  },
  {
   "cell_type": "code",
   "execution_count": 64,
   "id": "e7917d47-389d-4a83-9675-96e82177da0d",
   "metadata": {},
   "outputs": [
    {
     "data": {
      "text/html": [
       "<div>\n",
       "<style scoped>\n",
       "    .dataframe tbody tr th:only-of-type {\n",
       "        vertical-align: middle;\n",
       "    }\n",
       "\n",
       "    .dataframe tbody tr th {\n",
       "        vertical-align: top;\n",
       "    }\n",
       "\n",
       "    .dataframe thead th {\n",
       "        text-align: right;\n",
       "    }\n",
       "</style>\n",
       "<table border=\"1\" class=\"dataframe\">\n",
       "  <thead>\n",
       "    <tr style=\"text-align: right;\">\n",
       "      <th></th>\n",
       "      <th>Piece</th>\n",
       "      <th>Quantite</th>\n",
       "      <th>Prix_unitaire</th>\n",
       "    </tr>\n",
       "  </thead>\n",
       "  <tbody>\n",
       "    <tr>\n",
       "      <th>0</th>\n",
       "      <td>Pneu</td>\n",
       "      <td>100</td>\n",
       "      <td>50</td>\n",
       "    </tr>\n",
       "    <tr>\n",
       "      <th>1</th>\n",
       "      <td>Frein</td>\n",
       "      <td>150</td>\n",
       "      <td>30</td>\n",
       "    </tr>\n",
       "    <tr>\n",
       "      <th>2</th>\n",
       "      <td>Phare</td>\n",
       "      <td>80</td>\n",
       "      <td>20</td>\n",
       "    </tr>\n",
       "    <tr>\n",
       "      <th>3</th>\n",
       "      <td>Batterie</td>\n",
       "      <td>120</td>\n",
       "      <td>80</td>\n",
       "    </tr>\n",
       "  </tbody>\n",
       "</table>\n",
       "</div>"
      ],
      "text/plain": [
       "      Piece  Quantite  Prix_unitaire\n",
       "0      Pneu       100             50\n",
       "1     Frein       150             30\n",
       "2     Phare        80             20\n",
       "3  Batterie       120             80"
      ]
     },
     "execution_count": 64,
     "metadata": {},
     "output_type": "execute_result"
    }
   ],
   "source": [
    "df1 = pd.read_excel('vente_2021.xlsx')\n",
    "df1.head()"
   ]
  },
  {
   "cell_type": "code",
   "execution_count": 65,
   "id": "60754e2b-c01d-4a69-a623-b83889e72ba5",
   "metadata": {},
   "outputs": [
    {
     "data": {
      "text/html": [
       "<div>\n",
       "<style scoped>\n",
       "    .dataframe tbody tr th:only-of-type {\n",
       "        vertical-align: middle;\n",
       "    }\n",
       "\n",
       "    .dataframe tbody tr th {\n",
       "        vertical-align: top;\n",
       "    }\n",
       "\n",
       "    .dataframe thead th {\n",
       "        text-align: right;\n",
       "    }\n",
       "</style>\n",
       "<table border=\"1\" class=\"dataframe\">\n",
       "  <thead>\n",
       "    <tr style=\"text-align: right;\">\n",
       "      <th></th>\n",
       "      <th>Piece</th>\n",
       "      <th>Quantite</th>\n",
       "      <th>Prix_unitaire</th>\n",
       "    </tr>\n",
       "  </thead>\n",
       "  <tbody>\n",
       "    <tr>\n",
       "      <th>0</th>\n",
       "      <td>Pneu</td>\n",
       "      <td>120</td>\n",
       "      <td>55</td>\n",
       "    </tr>\n",
       "    <tr>\n",
       "      <th>1</th>\n",
       "      <td>Frein</td>\n",
       "      <td>160</td>\n",
       "      <td>35</td>\n",
       "    </tr>\n",
       "    <tr>\n",
       "      <th>2</th>\n",
       "      <td>Phare</td>\n",
       "      <td>90</td>\n",
       "      <td>25</td>\n",
       "    </tr>\n",
       "    <tr>\n",
       "      <th>3</th>\n",
       "      <td>Batterie</td>\n",
       "      <td>130</td>\n",
       "      <td>85</td>\n",
       "    </tr>\n",
       "  </tbody>\n",
       "</table>\n",
       "</div>"
      ],
      "text/plain": [
       "      Piece  Quantite  Prix_unitaire\n",
       "0      Pneu       120             55\n",
       "1     Frein       160             35\n",
       "2     Phare        90             25\n",
       "3  Batterie       130             85"
      ]
     },
     "execution_count": 65,
     "metadata": {},
     "output_type": "execute_result"
    }
   ],
   "source": [
    "df2 = pd.read_excel('vente_2022.xlsx')\n",
    "df2.head()"
   ]
  },
  {
   "cell_type": "code",
   "execution_count": 66,
   "id": "e2b0d747-af18-463b-aa09-13c430ba0df6",
   "metadata": {},
   "outputs": [
    {
     "data": {
      "text/html": [
       "<div>\n",
       "<style scoped>\n",
       "    .dataframe tbody tr th:only-of-type {\n",
       "        vertical-align: middle;\n",
       "    }\n",
       "\n",
       "    .dataframe tbody tr th {\n",
       "        vertical-align: top;\n",
       "    }\n",
       "\n",
       "    .dataframe thead th {\n",
       "        text-align: right;\n",
       "    }\n",
       "</style>\n",
       "<table border=\"1\" class=\"dataframe\">\n",
       "  <thead>\n",
       "    <tr style=\"text-align: right;\">\n",
       "      <th></th>\n",
       "      <th>Piece</th>\n",
       "      <th>Quantite</th>\n",
       "      <th>Prix_unitaire</th>\n",
       "    </tr>\n",
       "  </thead>\n",
       "  <tbody>\n",
       "    <tr>\n",
       "      <th>0</th>\n",
       "      <td>Pneu</td>\n",
       "      <td>100</td>\n",
       "      <td>50</td>\n",
       "    </tr>\n",
       "    <tr>\n",
       "      <th>1</th>\n",
       "      <td>Frein</td>\n",
       "      <td>150</td>\n",
       "      <td>30</td>\n",
       "    </tr>\n",
       "    <tr>\n",
       "      <th>2</th>\n",
       "      <td>Phare</td>\n",
       "      <td>80</td>\n",
       "      <td>20</td>\n",
       "    </tr>\n",
       "    <tr>\n",
       "      <th>3</th>\n",
       "      <td>Batterie</td>\n",
       "      <td>120</td>\n",
       "      <td>80</td>\n",
       "    </tr>\n",
       "    <tr>\n",
       "      <th>0</th>\n",
       "      <td>Pneu</td>\n",
       "      <td>120</td>\n",
       "      <td>55</td>\n",
       "    </tr>\n",
       "    <tr>\n",
       "      <th>1</th>\n",
       "      <td>Frein</td>\n",
       "      <td>160</td>\n",
       "      <td>35</td>\n",
       "    </tr>\n",
       "    <tr>\n",
       "      <th>2</th>\n",
       "      <td>Phare</td>\n",
       "      <td>90</td>\n",
       "      <td>25</td>\n",
       "    </tr>\n",
       "    <tr>\n",
       "      <th>3</th>\n",
       "      <td>Batterie</td>\n",
       "      <td>130</td>\n",
       "      <td>85</td>\n",
       "    </tr>\n",
       "  </tbody>\n",
       "</table>\n",
       "</div>"
      ],
      "text/plain": [
       "      Piece  Quantite  Prix_unitaire\n",
       "0      Pneu       100             50\n",
       "1     Frein       150             30\n",
       "2     Phare        80             20\n",
       "3  Batterie       120             80\n",
       "0      Pneu       120             55\n",
       "1     Frein       160             35\n",
       "2     Phare        90             25\n",
       "3  Batterie       130             85"
      ]
     },
     "execution_count": 66,
     "metadata": {},
     "output_type": "execute_result"
    }
   ],
   "source": [
    "resultat = pd.concat([df1, df2])\n",
    "resultat"
   ]
  },
  {
   "cell_type": "markdown",
   "id": "a7c424dd-666e-4229-980f-6b2aef81bbbb",
   "metadata": {},
   "source": [
    "Maintenant, voici comment utiliser la méthode `concat` avec des fichiers excel sur le même phénomène mais avec des variables différentes\n",
    "\n",
    "```python\n",
    "# Lecture des données des fichiers Excel pour les années 2021 et 2022\n",
    "df_covid_2021_read = pd.read_excel('covid_2021.xlsx')\n",
    "df_covid_2022_read = pd.read_excel('covid_2022.xlsx')\n",
    "\n",
    "# Concaténation des données sur l'axe des colonnes\n",
    "df_concat = pd.concat([df_covid_2021_read, df_covid_2022_read], axis=1)\n",
    "```\n",
    "\n",
    "Essayez de visualiser le résultat avant de faire tourner le code!"
   ]
  },
  {
   "cell_type": "markdown",
   "id": "4067a05f-740d-4830-a0a2-eaa9c867d691",
   "metadata": {},
   "source": [
    "#### _Exercice 3_\n",
    "\n",
    "\n",
    "Considérez les deux DataFrames suivants issus de tableurs excel :\n",
    "\n",
    "DataFrame 1 :\n",
    "```python\n",
    "import pandas as pd\n",
    "\n",
    "df1 = pd.DataFrame({'Pays': ['France', 'Allemagne', 'Italie'],\n",
    "                    'Capitale': ['Paris', 'Berlin', 'Rome']})\n",
    "```\n",
    "\n",
    "DataFrame 2 :\n",
    "```python\n",
    "df2 = pd.DataFrame({'Population': [67000000, 83000000, 60000000],\n",
    "                    'Superficie': [551695, 357022, 301338]})\n",
    "```\n"
   ]
  },
  {
   "cell_type": "code",
   "execution_count": 50,
   "id": "1cf1c5ab-c9e0-4cfa-a963-151898676de4",
   "metadata": {},
   "outputs": [],
   "source": [
    "import pandas as pd\n",
    "\n",
    "df1 = pd.DataFrame({'Pays': ['France', 'Allemagne', 'Italie'],\n",
    "                    'Capitale': ['Paris', 'Berlin', 'Rome']})\n",
    "df2 = pd.DataFrame({'Population': [67000000, 83000000, 60000000],\n",
    "                    'Superficie': [551695, 357022, 301338]})"
   ]
  },
  {
   "cell_type": "markdown",
   "id": "61d62182-f598-4917-920e-cf9d21a36581",
   "metadata": {},
   "source": [
    "* Concaténez les DataFrames `df1` et `df2` le long de l'axe des lignes."
   ]
  },
  {
   "cell_type": "code",
   "execution_count": 51,
   "id": "94be976f-acf7-4a1d-87ae-7c43968d78df",
   "metadata": {},
   "outputs": [
    {
     "name": "stdout",
     "output_type": "stream",
     "text": [
      "        Pays Capitale  Population  Superficie\n",
      "0     France    Paris         NaN         NaN\n",
      "1  Allemagne   Berlin         NaN         NaN\n",
      "2     Italie     Rome         NaN         NaN\n",
      "0        NaN      NaN  67000000.0    551695.0\n",
      "1        NaN      NaN  83000000.0    357022.0\n",
      "2        NaN      NaN  60000000.0    301338.0\n"
     ]
    }
   ],
   "source": [
    "# SOLUTION \n",
    "resultat_task1 = pd.concat([df1, df2])\n",
    "print(resultat_task1)"
   ]
  },
  {
   "cell_type": "markdown",
   "id": "5e8ffe98-f0ec-44bc-9fbc-731c8d65ce6e",
   "metadata": {},
   "source": [
    "* Concaténez les DataFrames `df1` et `df2` le long de l'axe des colonnes."
   ]
  },
  {
   "cell_type": "code",
   "execution_count": 52,
   "id": "7fe3d461-f464-4f6e-93bf-e469fbfb15c6",
   "metadata": {},
   "outputs": [
    {
     "name": "stdout",
     "output_type": "stream",
     "text": [
      "        Pays Capitale  Population  Superficie\n",
      "0     France    Paris    67000000      551695\n",
      "1  Allemagne   Berlin    83000000      357022\n",
      "2     Italie     Rome    60000000      301338\n"
     ]
    }
   ],
   "source": [
    "# SOLUTION \n",
    "resultat_task2 = pd.concat([df1, df2], axis=1)\n",
    "print(resultat_task2)"
   ]
  },
  {
   "cell_type": "markdown",
   "id": "ed531229-2890-40aa-bb5d-91b1cc7cb264",
   "metadata": {},
   "source": [
    "* Concaténez les DataFrames `df1` et `df2` le long de l'axe des colonnes en réindexant les colonnes."
   ]
  },
  {
   "cell_type": "code",
   "execution_count": 53,
   "id": "e02e3fc0-a0ed-4bb1-8b5b-b7c70a5f0e71",
   "metadata": {},
   "outputs": [
    {
     "name": "stdout",
     "output_type": "stream",
     "text": [
      "        Pays Capitale  Population  Superficie\n",
      "0     France    Paris    67000000      551695\n",
      "1  Allemagne   Berlin    83000000      357022\n",
      "2     Italie     Rome    60000000      301338\n"
     ]
    }
   ],
   "source": [
    "# SOLUTION \n",
    "resultat_task3 = pd.concat([df1, df2], axis=1, ignore_index=True)\n",
    "resultat_task3.columns = ['Pays', 'Capitale', 'Population', 'Superficie']\n",
    "print(resultat_task3)"
   ]
  },
  {
   "cell_type": "markdown",
   "id": "1bff0ea3-e5d0-4e3b-9312-fdfb8a9dd324",
   "metadata": {},
   "source": [
    "Créeons un nouveau DataFrame `df3` avec les données suivantes :\n",
    "\n",
    "```python\n",
    "df3 = pd.DataFrame({'Langue': ['Français', 'Allemand', 'Italien'],\n",
    "                    'Monnaie': ['Euro', 'Euro', 'Euro']})\n",
    "```\n",
    "* Concaténez `df1` et `df3` le long de l'axe des colonnes, en conservant les index d'origine."
   ]
  },
  {
   "cell_type": "code",
   "execution_count": 49,
   "id": "9a668d64-181d-4858-87d7-c727a007e060",
   "metadata": {},
   "outputs": [
    {
     "name": "stdout",
     "output_type": "stream",
     "text": [
      "        Pays Capitale    Langue Monnaie\n",
      "0     France    Paris  Français    Euro\n",
      "1  Allemagne   Berlin  Allemand    Euro\n",
      "2     Italie     Rome   Italien    Euro\n"
     ]
    }
   ],
   "source": [
    "# SOLUTION \n",
    "df3 = pd.DataFrame({'Langue': ['Français', 'Allemand', 'Italien'],\n",
    "                    'Monnaie': ['Euro', 'Euro', 'Euro']})\n",
    "\n",
    "resultat_task4 = pd.concat([df1, df3], axis=1)\n",
    "print(resultat_task4)"
   ]
  },
  {
   "cell_type": "markdown",
   "id": "a7188b5e-0987-4f95-b20f-062c5a26d351",
   "metadata": {
    "jp-MarkdownHeadingCollapsed": true
   },
   "source": [
    "### III.B Les méthodes `join`\n",
    "\n",
    "La méthode `join` permet de joindre deux DataFrames sur leurs index. \n",
    "\n",
    "Voici comment utiliser la méthode `join` avec des données provenant de fichiers Excel :\n",
    "\n",
    "```python\n",
    "# Charger les données à partir du fichier Excel\n",
    "df1 = pd.read_excel('fichier_excel.xlsx', sheet_name='Feuille1')\n",
    "df2 = pd.read_excel('fichier_excel.xlsx', sheet_name='Feuille2')\n",
    "\n",
    "# Joindre les DataFrames sur une colonne spécifiée\n",
    "resultat = df1.join(df2, how='type_de_jointure')\n",
    "\n",
    "print(resultat)\n",
    "```"
   ]
  },
  {
   "cell_type": "markdown",
   "id": "15d2dfb7-19bb-46aa-84b2-58b2556648d3",
   "metadata": {},
   "source": [
    "Il existe différents types de jointures, utiles dans des cas différents : \n",
    "\n",
    "- **Jointure interne :** Elle renvoie uniquement les lignes où il existe une correspondance dans les deux DataFrames. Utile pour combiner des données sur des clés communes.\n",
    "- **Jointure externe (full outer join) :** Elle renvoie toutes les lignes des deux DataFrames, avec des valeurs NaN là où il n'y a pas de correspondance. Utile pour combiner toutes les données et ne pas perdre d'informations.\n",
    "- **Jointure gauche (left join) :** Elle renvoie toutes les lignes du DataFrame de gauche (premier DataFrame spécifié dans la méthode `merge` ou `join`), avec des valeurs NaN là où il n'y a pas de correspondance dans le DataFrame de droite. Utile pour ajouter des informations à un DataFrame principal.\n",
    "- **Jointure droite (right join) :** Elle renvoie toutes les lignes du DataFrame de droite, avec des valeurs NaN là où il n'y a pas de correspondance dans le DataFrame de gauche. Utile pour ajouter des informations à un DataFrame secondaire.\n",
    "- **Combinaison de plusieurs jointures :** Parfois, il est nécessaire de combiner plusieurs jointures pour obtenir les données souhaitées, surtout lorsque les données sont distribuées sur plusieurs DataFrames."
   ]
  },
  {
   "cell_type": "code",
   "execution_count": 72,
   "id": "e9cead23-5ece-46d4-8e55-dfcf2ad14951",
   "metadata": {},
   "outputs": [],
   "source": [
    "data_employes = {\n",
    "    'ID_employe': [1, 2, 3, 4],\n",
    "    'Nom': ['Alice', 'Bob', 'Charlie', 'David']\n",
    "}\n",
    "\n",
    "data_departements = {\n",
    "    'ID_employe': [2, 3, 4],\n",
    "    'Departement': ['Comptabilité', 'Ressources humaines', 'IT']\n",
    "}"
   ]
  },
  {
   "cell_type": "code",
   "execution_count": 73,
   "id": "18ee75a5-be8e-4a3a-a132-b25019e04517",
   "metadata": {},
   "outputs": [
    {
     "data": {
      "text/html": [
       "<div>\n",
       "<style scoped>\n",
       "    .dataframe tbody tr th:only-of-type {\n",
       "        vertical-align: middle;\n",
       "    }\n",
       "\n",
       "    .dataframe tbody tr th {\n",
       "        vertical-align: top;\n",
       "    }\n",
       "\n",
       "    .dataframe thead th {\n",
       "        text-align: right;\n",
       "    }\n",
       "</style>\n",
       "<table border=\"1\" class=\"dataframe\">\n",
       "  <thead>\n",
       "    <tr style=\"text-align: right;\">\n",
       "      <th></th>\n",
       "      <th>ID</th>\n",
       "      <th>Nom</th>\n",
       "      <th>Employee_ID</th>\n",
       "      <th>Département</th>\n",
       "    </tr>\n",
       "  </thead>\n",
       "  <tbody>\n",
       "    <tr>\n",
       "      <th>0</th>\n",
       "      <td>1</td>\n",
       "      <td>Alice</td>\n",
       "      <td>1</td>\n",
       "      <td>RH</td>\n",
       "    </tr>\n",
       "    <tr>\n",
       "      <th>1</th>\n",
       "      <td>2</td>\n",
       "      <td>Bob</td>\n",
       "      <td>3</td>\n",
       "      <td>Finance</td>\n",
       "    </tr>\n",
       "    <tr>\n",
       "      <th>2</th>\n",
       "      <td>3</td>\n",
       "      <td>Charlie</td>\n",
       "      <td>4</td>\n",
       "      <td>Marketing</td>\n",
       "    </tr>\n",
       "  </tbody>\n",
       "</table>\n",
       "</div>"
      ],
      "text/plain": [
       "   ID      Nom  Employee_ID Département\n",
       "0   1    Alice            1          RH\n",
       "1   2      Bob            3     Finance\n",
       "2   3  Charlie            4   Marketing"
      ]
     },
     "execution_count": 73,
     "metadata": {},
     "output_type": "execute_result"
    }
   ],
   "source": [
    "employes.join(departements, how='inner')"
   ]
  },
  {
   "cell_type": "markdown",
   "id": "cbc103ad-29b7-4749-9d99-eb2b77fb9434",
   "metadata": {},
   "source": [
    "#### _Exercice 4_\n",
    "\n",
    "Considérons les deux DataFrames suivants :\n",
    "\n",
    "DataFrame 1 :\n",
    "```python\n",
    "import pandas as pd\n",
    "\n",
    "df1 = pd.DataFrame({'ID': [1, 2, 3],\n",
    "                    'Nom': ['Alice', 'Bob', 'Charlie']},\n",
    "                   index=['A', 'B', 'C'])\n",
    "```\n",
    "\n",
    "DataFrame 2 :\n",
    "```python\n",
    "df2 = pd.DataFrame({'Employee_ID': [1, 3, 4],\n",
    "                    'Département': ['RH', 'Finance', 'Marketing']},\n",
    "                   index=['A', 'B', 'D'])\n",
    "```\n"
   ]
  },
  {
   "cell_type": "code",
   "execution_count": 61,
   "id": "f80b4dbb-0ad8-4818-a09e-54f4d221c290",
   "metadata": {},
   "outputs": [],
   "source": [
    "import pandas as pd\n",
    "\n",
    "df1 = pd.DataFrame({'ID': [1, 2, 3],\n",
    "                    'Nom': ['Alice', 'Bob', 'Charlie']},\n",
    "                   index=['A', 'B', 'C'])\n",
    "df2 = pd.DataFrame({'Employee_ID': [1, 3, 4],\n",
    "                    'Département': ['RH', 'Finance', 'Marketing']},\n",
    "                   index=['A', 'B', 'D'])"
   ]
  },
  {
   "cell_type": "markdown",
   "id": "ee22af9e-da40-4c11-8635-54afce9cd02b",
   "metadata": {},
   "source": [
    "* Effectuez une jointure entre `df1` et `df2` sur leurs index."
   ]
  },
  {
   "cell_type": "code",
   "execution_count": 62,
   "id": "95a402b9-9706-40c7-81a6-ae12b58246c9",
   "metadata": {},
   "outputs": [
    {
     "name": "stdout",
     "output_type": "stream",
     "text": [
      "   ID      Nom  Employee_ID Département\n",
      "A   1    Alice          1.0          RH\n",
      "B   2      Bob          3.0     Finance\n",
      "C   3  Charlie          NaN         NaN\n"
     ]
    }
   ],
   "source": [
    "resultat_exercice1 = df1.join(df2)\n",
    "print(resultat_exercice1)"
   ]
  },
  {
   "cell_type": "markdown",
   "id": "9a6df096-1a3c-4da4-bb7f-0d33aa944f88",
   "metadata": {},
   "source": [
    "* Utilisez la méthode `.join` pour joindre les DataFrames `df1` et `df2` sur leurs index en spécifiant une jointure externe."
   ]
  },
  {
   "cell_type": "code",
   "execution_count": 63,
   "id": "f2d37b17-e8b1-49a4-a5fd-702bbc0ae9b4",
   "metadata": {},
   "outputs": [
    {
     "name": "stdout",
     "output_type": "stream",
     "text": [
      "    ID      Nom  Employee_ID Département\n",
      "A  1.0    Alice          1.0          RH\n",
      "B  2.0      Bob          3.0     Finance\n",
      "C  3.0  Charlie          NaN         NaN\n",
      "D  NaN      NaN          4.0   Marketing\n"
     ]
    }
   ],
   "source": [
    "resultat_exercice3 = df1.join(df2, how='outer')\n",
    "print(resultat_exercice3)"
   ]
  },
  {
   "cell_type": "markdown",
   "id": "aa40ee5e-4644-49d1-8cd3-043a9862206e",
   "metadata": {
    "jp-MarkdownHeadingCollapsed": true
   },
   "source": [
    "### III.C La méthode `merge`"
   ]
  },
  {
   "cell_type": "markdown",
   "id": "6c032def-0b46-4bf6-b0d4-5a51b9be8269",
   "metadata": {},
   "source": [
    "La méthode `merge` différe de `join` dans la mesure où elle permet de combiner des données provenant de différentes sources en utilisant une ou plusieurs colonnes comme clés de jointure. C'est une méthode quel'on utilise typiquement lorsque nous sommes face à des jeux de données avec des superpositions. `merge` nous permet alors de mélanger nos jeux de données en restant cohérent par rapport à la superposition.\n",
    "\n",
    "Syntaxe de base :\n",
    "\n",
    "```python\n",
    "resultat_jointure = pd.merge(df1, df2, on='colonne_commun', how='type_de_jointure')\n",
    "```\n",
    "\n",
    "- `df1` et `df2` : Les DataFrames à fusionner.\n",
    "- `on` : Le nom de la colonne commune sur laquelle effectuer la jointure.\n",
    "- `how` : Le type de jointure à effectuer : 'inner' (par défaut), 'outer', 'left' ou 'right'.\n",
    "\n",
    "Exemple d'utilisation :\n",
    "\n",
    "Supposons que nous ayons deux DataFrames : `employes` et `departements`.\n",
    "\n",
    "```python\n",
    "import pandas as pd\n",
    "\n",
    "employes = pd.DataFrame({'ID': [1, 2, 3],\n",
    "                         'Nom': ['Alice', 'Bob', 'Charlie']})\n",
    "\n",
    "departements = pd.DataFrame({'Employee_ID': [1, 3, 4],\n",
    "                             'Département': ['RH', 'Finance', 'Marketing']})\n",
    "```\n",
    "\n",
    "Nous pouvons utiliser la méthode `merge` pour fusionner ces DataFrames sur la colonne 'ID' de `employes` et la colonne 'Employee_ID' de `departements`.\n",
    "\n",
    "```python\n",
    "resultat_jointure = pd.merge(employes, departements, left_on='ID', right_on='Employee_ID', how='inner')\n",
    "print(resultat_jointure)\n",
    "```\n"
   ]
  },
  {
   "cell_type": "code",
   "execution_count": 54,
   "id": "7b9543b4-b80f-40fd-a87a-12890c929e0b",
   "metadata": {},
   "outputs": [],
   "source": [
    "import pandas as pd\n",
    "\n",
    "employes = pd.DataFrame({'ID': [1, 2, 3],\n",
    "                         'Nom': ['Alice', 'Bob', 'Charlie']})\n",
    "\n",
    "departements = pd.DataFrame({'Employee_ID': [1, 3, 4],\n",
    "                             'Département': ['RH', 'Finance', 'Marketing']})"
   ]
  },
  {
   "cell_type": "code",
   "execution_count": 55,
   "id": "8688ece0-b121-441f-9f25-b2eb8412edb1",
   "metadata": {},
   "outputs": [
    {
     "name": "stdout",
     "output_type": "stream",
     "text": [
      "   ID      Nom  Employee_ID Département\n",
      "0   1    Alice            1          RH\n",
      "1   3  Charlie            3     Finance\n"
     ]
    }
   ],
   "source": [
    "resultat_jointure = pd.merge(employes, departements, left_on='ID', right_on='Employee_ID', how='inner')\n",
    "print(resultat_jointure)"
   ]
  },
  {
   "cell_type": "code",
   "execution_count": 56,
   "id": "6364f467-eef1-4511-9576-b0130bc3bbfb",
   "metadata": {},
   "outputs": [
    {
     "name": "stdout",
     "output_type": "stream",
     "text": [
      "    ID      Nom  Employee_ID Département\n",
      "0  1.0    Alice          1.0          RH\n",
      "1  2.0      Bob          NaN         NaN\n",
      "2  3.0  Charlie          3.0     Finance\n",
      "3  NaN      NaN          4.0   Marketing\n"
     ]
    }
   ],
   "source": [
    "resultat_jointure = pd.merge(employes, departements, left_on='ID', right_on='Employee_ID', how='outer')\n",
    "print(resultat_jointure)"
   ]
  },
  {
   "cell_type": "code",
   "execution_count": null,
   "id": "fdc55a3c-d8b8-4383-bf03-6ce3b489ec1d",
   "metadata": {},
   "outputs": [],
   "source": []
  },
  {
   "cell_type": "code",
   "execution_count": null,
   "id": "69ee4401-ab4a-4687-a5ca-5a9e99ec1bdd",
   "metadata": {},
   "outputs": [],
   "source": []
  },
  {
   "cell_type": "code",
   "execution_count": null,
   "id": "af9d6e24-59bd-48c7-b0e9-a1c0df8d2563",
   "metadata": {},
   "outputs": [],
   "source": []
  },
  {
   "cell_type": "code",
   "execution_count": null,
   "id": "f6eaced5-2214-426e-8d24-fc3a70b1b4d8",
   "metadata": {},
   "outputs": [],
   "source": []
  },
  {
   "cell_type": "markdown",
   "id": "13a74688-8600-4d44-b462-cd54f3fa0f0b",
   "metadata": {
    "jp-MarkdownHeadingCollapsed": true
   },
   "source": [
    "## IV. Bye bye les tableaux croisés dynamiques, bonjour les pivot table\n",
    "***"
   ]
  },
  {
   "cell_type": "markdown",
   "id": "e6640a81-b2ad-477c-84d8-986af65173ba",
   "metadata": {},
   "source": [
    "Les pivot trable sont un outil puissant pour l'analyse de données en Python avec pandas. Par exemple, Dans le contexte de l'audience des contenus sur les réseaux sociaux, les tables de pivotement peuvent être utilisées pour réorganiser et analyser les données d'engagement, de likes, de partages, etc.\n",
    "\n",
    "La fonction `pivot_table` de pandas est utilisée pour créer une table de pivotement. Voici la syntaxe de base :\n",
    "\n",
    "```python\n",
    "\n",
    "\n",
    "# Syntaxe de base de la pivot table\n",
    "pivot_table = pd.pivot_table(data, values='valeur', index='index', columns='colonnes', aggfunc='aggrégation')\n",
    "```\n",
    "\n",
    "- `data` : DataFrame d'origine.\n",
    "- `values` : Colonne(s) dont les valeurs seront agrégées.\n",
    "- `index` : Colonnes à utiliser comme index de la table pivot.\n",
    "- `columns` : Colonnes à utiliser comme colonnes de la table pivot.\n",
    "- `aggfunc` : Fonction d'agrégation à appliquer aux valeurs, par exemple 'sum', 'mean', 'count', 'min', 'max', etc.\n",
    "```\n"
   ]
  },
  {
   "cell_type": "code",
   "execution_count": 64,
   "id": "45be6057-e91c-471c-9717-81a0a3973f9e",
   "metadata": {},
   "outputs": [],
   "source": [
    "# Création du DataFrame\n",
    "data = {\n",
    "    'Type de contenu': ['Article', 'Vidéo', 'Image', 'Article', 'Image', 'Vidéo', 'Image', 'Article'],\n",
    "    'Plateforme': ['Facebook', 'Facebook', 'Instagram', 'Instagram', 'Twitter', 'Twitter', 'LinkedIn', 'LinkedIn'],\n",
    "    'Likes': [100, 150, 80, 120, 90, 110, 70, 130],\n",
    "    'Partages': [20, 30, 15, 25, 18, 22, 12, 28],\n",
    "    'Engagement': [120, 180, 95, 145, 105, 130, 80, 150]\n",
    "}\n",
    "\n",
    "df = pd.DataFrame(data)\n"
   ]
  },
  {
   "cell_type": "markdown",
   "id": "5c57d9be-d1b4-4a3b-a0c8-b2f0afaa8551",
   "metadata": {},
   "source": [
    "### Exemple 1 : Création d'une table de pivotement pour l'engagement total par type de contenu"
   ]
  },
  {
   "cell_type": "code",
   "execution_count": 66,
   "id": "0963b1a4-34c1-4042-9bae-54bd8974febd",
   "metadata": {},
   "outputs": [
    {
     "name": "stdout",
     "output_type": "stream",
     "text": [
      "                 Engagement\n",
      "Type de contenu            \n",
      "Article                 415\n",
      "Image                   280\n",
      "Vidéo                   310\n"
     ]
    }
   ],
   "source": [
    "pivot_table_engagement = pd.pivot_table(df, values='Engagement', index='Type de contenu', aggfunc='sum')\n",
    "print(pivot_table_engagement)"
   ]
  },
  {
   "cell_type": "markdown",
   "id": "e2fcce75-0375-486c-ba39-53a63aaf3574",
   "metadata": {},
   "source": [
    "### Exemple 2 : Création d'une table de pivotement pour les likes par type de contenu et par plateforme"
   ]
  },
  {
   "cell_type": "code",
   "execution_count": 27,
   "id": "f5b4a625-0fe7-400c-9d16-cf0b61aae22a",
   "metadata": {},
   "outputs": [
    {
     "ename": "NameError",
     "evalue": "name 'df' is not defined",
     "output_type": "error",
     "traceback": [
      "\u001b[1;31m---------------------------------------------------------------------------\u001b[0m",
      "\u001b[1;31mNameError\u001b[0m                                 Traceback (most recent call last)",
      "Cell \u001b[1;32mIn[27], line 1\u001b[0m\n\u001b[1;32m----> 1\u001b[0m pivot_table_likes \u001b[38;5;241m=\u001b[39m pd\u001b[38;5;241m.\u001b[39mpivot_table(\u001b[43mdf\u001b[49m, values\u001b[38;5;241m=\u001b[39m\u001b[38;5;124m'\u001b[39m\u001b[38;5;124mLikes\u001b[39m\u001b[38;5;124m'\u001b[39m, index\u001b[38;5;241m=\u001b[39m\u001b[38;5;124m'\u001b[39m\u001b[38;5;124mType de contenu\u001b[39m\u001b[38;5;124m'\u001b[39m, columns\u001b[38;5;241m=\u001b[39m\u001b[38;5;124m'\u001b[39m\u001b[38;5;124mPlateforme\u001b[39m\u001b[38;5;124m'\u001b[39m, aggfunc\u001b[38;5;241m=\u001b[39m\u001b[38;5;124m'\u001b[39m\u001b[38;5;124msum\u001b[39m\u001b[38;5;124m'\u001b[39m)\n\u001b[0;32m      2\u001b[0m \u001b[38;5;28mprint\u001b[39m(pivot_table_likes)\n",
      "\u001b[1;31mNameError\u001b[0m: name 'df' is not defined"
     ]
    }
   ],
   "source": [
    "pivot_table_likes = pd.pivot_table(df, values='Likes', index='Type de contenu', columns='Plateforme', aggfunc='sum')\n",
    "print(pivot_table_likes)"
   ]
  },
  {
   "cell_type": "markdown",
   "id": "a84ab0d6-129c-4894-b372-0f0dcdcca5bf",
   "metadata": {},
   "source": [
    "### Exemple 3 : Création d'une table de pivotement avec plusieurs valeurs agrégées"
   ]
  },
  {
   "cell_type": "code",
   "execution_count": 68,
   "id": "f256fb66-d355-4ad9-8967-b1a3d728c8d1",
   "metadata": {},
   "outputs": [
    {
     "name": "stdout",
     "output_type": "stream",
     "text": [
      "                 Engagement       Likes  Partages\n",
      "Type de contenu                                  \n",
      "Article                 415  116.666667        28\n",
      "Image                   280   80.000000        18\n",
      "Vidéo                   310  130.000000        30\n"
     ]
    }
   ],
   "source": [
    "pivot_table_multi = pd.pivot_table(df, values=['Engagement', 'Likes', 'Partages'], index='Type de contenu', aggfunc={'Engagement': 'sum', 'Likes': 'mean', 'Partages': 'max'})\n",
    "print(pivot_table_multi)"
   ]
  },
  {
   "cell_type": "markdown",
   "id": "76212293-9408-45a6-8652-5e1fabb1cd96",
   "metadata": {},
   "source": [
    "## Mise en pratique : interroger les données dans tous les sens\n",
    "***"
   ]
  },
  {
   "cell_type": "markdown",
   "id": "739a298f-7199-4ff3-8839-d10368698b39",
   "metadata": {
    "jp-MarkdownHeadingCollapsed": true
   },
   "source": [
    "### Commencer en douceur\n"
   ]
  },
  {
   "cell_type": "code",
   "execution_count": 1,
   "id": "a662129d-f5b5-4d89-8bdc-55d0a2f24493",
   "metadata": {},
   "outputs": [],
   "source": [
    "import pandas as pd"
   ]
  },
  {
   "cell_type": "markdown",
   "id": "f2c0c148-bbb6-4570-adb3-2e22c4034f77",
   "metadata": {},
   "source": [
    "Commençons par importer les fichiers excel"
   ]
  },
  {
   "cell_type": "code",
   "execution_count": 18,
   "id": "925ed60a-f20d-4cd7-9569-e4c3d09c00a4",
   "metadata": {},
   "outputs": [
    {
     "data": {
      "text/html": [
       "<div>\n",
       "<style scoped>\n",
       "    .dataframe tbody tr th:only-of-type {\n",
       "        vertical-align: middle;\n",
       "    }\n",
       "\n",
       "    .dataframe tbody tr th {\n",
       "        vertical-align: top;\n",
       "    }\n",
       "\n",
       "    .dataframe thead th {\n",
       "        text-align: right;\n",
       "    }\n",
       "</style>\n",
       "<table border=\"1\" class=\"dataframe\">\n",
       "  <thead>\n",
       "    <tr style=\"text-align: right;\">\n",
       "      <th></th>\n",
       "      <th>Unnamed: 0</th>\n",
       "      <th>Pays_Cod</th>\n",
       "      <th>Pays</th>\n",
       "      <th>Région</th>\n",
       "      <th>Sous-Région</th>\n",
       "      <th>Code Sous-Région</th>\n",
       "      <th>Unnamed: 6</th>\n",
       "      <th>Product_Ref</th>\n",
       "      <th>Produit</th>\n",
       "      <th>Catégorie de produit</th>\n",
       "      <th>Couleur</th>\n",
       "      <th>Créé le</th>\n",
       "      <th>Prix d'achat</th>\n",
       "      <th>Prix vente HT</th>\n",
       "    </tr>\n",
       "  </thead>\n",
       "  <tbody>\n",
       "    <tr>\n",
       "      <th>0</th>\n",
       "      <td>NaN</td>\n",
       "      <td>BGR</td>\n",
       "      <td>Bulgarie</td>\n",
       "      <td>Europe</td>\n",
       "      <td>Europe de l'Est</td>\n",
       "      <td>EUE</td>\n",
       "      <td>NaN</td>\n",
       "      <td>P00147</td>\n",
       "      <td>Robe</td>\n",
       "      <td>Haut-Et-Bas</td>\n",
       "      <td>marron</td>\n",
       "      <td>2018-01-01</td>\n",
       "      <td>7.20</td>\n",
       "      <td>9</td>\n",
       "    </tr>\n",
       "    <tr>\n",
       "      <th>1</th>\n",
       "      <td>NaN</td>\n",
       "      <td>CZE</td>\n",
       "      <td>République Tchèque</td>\n",
       "      <td>Europe</td>\n",
       "      <td>Europe de l'Est</td>\n",
       "      <td>EUE</td>\n",
       "      <td>NaN</td>\n",
       "      <td>P00249</td>\n",
       "      <td>Chemise</td>\n",
       "      <td>Haut</td>\n",
       "      <td>blanc</td>\n",
       "      <td>2018-06-01</td>\n",
       "      <td>11.34</td>\n",
       "      <td>14</td>\n",
       "    </tr>\n",
       "    <tr>\n",
       "      <th>2</th>\n",
       "      <td>NaN</td>\n",
       "      <td>HUN</td>\n",
       "      <td>Hongrie</td>\n",
       "      <td>Europe</td>\n",
       "      <td>Europe de l'Est</td>\n",
       "      <td>EUE</td>\n",
       "      <td>NaN</td>\n",
       "      <td>P00565</td>\n",
       "      <td>Robe</td>\n",
       "      <td>Haut-Et-Bas</td>\n",
       "      <td>orange</td>\n",
       "      <td>2017-05-01</td>\n",
       "      <td>13.05</td>\n",
       "      <td>15</td>\n",
       "    </tr>\n",
       "    <tr>\n",
       "      <th>3</th>\n",
       "      <td>NaN</td>\n",
       "      <td>MDA</td>\n",
       "      <td>République de Moldavie</td>\n",
       "      <td>Europe</td>\n",
       "      <td>Europe de l'Est</td>\n",
       "      <td>EUE</td>\n",
       "      <td>NaN</td>\n",
       "      <td>P00575</td>\n",
       "      <td>Pyjama</td>\n",
       "      <td>Haut-Et-Bas</td>\n",
       "      <td>blanc</td>\n",
       "      <td>2018-12-01</td>\n",
       "      <td>5.32</td>\n",
       "      <td>7</td>\n",
       "    </tr>\n",
       "    <tr>\n",
       "      <th>4</th>\n",
       "      <td>NaN</td>\n",
       "      <td>POL</td>\n",
       "      <td>Pologne</td>\n",
       "      <td>Europe</td>\n",
       "      <td>Europe de l'Est</td>\n",
       "      <td>EUE</td>\n",
       "      <td>NaN</td>\n",
       "      <td>P00626</td>\n",
       "      <td>Robe</td>\n",
       "      <td>Haut-Et-Bas</td>\n",
       "      <td>blanc</td>\n",
       "      <td>2018-04-01</td>\n",
       "      <td>14.25</td>\n",
       "      <td>15</td>\n",
       "    </tr>\n",
       "  </tbody>\n",
       "</table>\n",
       "</div>"
      ],
      "text/plain": [
       "   Unnamed: 0 Pays_Cod                    Pays  Région      Sous-Région  \\\n",
       "0         NaN      BGR                Bulgarie  Europe  Europe de l'Est   \n",
       "1         NaN      CZE      République Tchèque  Europe  Europe de l'Est   \n",
       "2         NaN      HUN                 Hongrie  Europe  Europe de l'Est   \n",
       "3         NaN      MDA  République de Moldavie  Europe  Europe de l'Est   \n",
       "4         NaN      POL                 Pologne  Europe  Europe de l'Est   \n",
       "\n",
       "  Code Sous-Région  Unnamed: 6 Product_Ref  Produit Catégorie de produit  \\\n",
       "0              EUE         NaN      P00147     Robe          Haut-Et-Bas   \n",
       "1              EUE         NaN      P00249  Chemise                 Haut   \n",
       "2              EUE         NaN      P00565     Robe          Haut-Et-Bas   \n",
       "3              EUE         NaN      P00575   Pyjama          Haut-Et-Bas   \n",
       "4              EUE         NaN      P00626     Robe          Haut-Et-Bas   \n",
       "\n",
       "  Couleur    Créé le  Prix d'achat  Prix vente HT  \n",
       "0  marron 2018-01-01          7.20              9  \n",
       "1   blanc 2018-06-01         11.34             14  \n",
       "2  orange 2017-05-01         13.05             15  \n",
       "3   blanc 2018-12-01          5.32              7  \n",
       "4   blanc 2018-04-01         14.25             15  "
      ]
     },
     "execution_count": 18,
     "metadata": {},
     "output_type": "execute_result"
    }
   ],
   "source": [
    "ventes = pd.read_excel('ventes.xlsx')\n",
    "referentiel = pd.read_excel('referentiel.xlsx')\n",
    "referentiel.head()"
   ]
  },
  {
   "cell_type": "code",
   "execution_count": 19,
   "id": "b98b725c-774e-4e11-86b4-2506bfcb34cd",
   "metadata": {},
   "outputs": [
    {
     "data": {
      "text/html": [
       "<div>\n",
       "<style scoped>\n",
       "    .dataframe tbody tr th:only-of-type {\n",
       "        vertical-align: middle;\n",
       "    }\n",
       "\n",
       "    .dataframe tbody tr th {\n",
       "        vertical-align: top;\n",
       "    }\n",
       "\n",
       "    .dataframe thead th {\n",
       "        text-align: right;\n",
       "    }\n",
       "</style>\n",
       "<table border=\"1\" class=\"dataframe\">\n",
       "  <thead>\n",
       "    <tr style=\"text-align: right;\">\n",
       "      <th></th>\n",
       "      <th>Sub_Region_Cod</th>\n",
       "      <th>Country_Cod</th>\n",
       "      <th>Categ</th>\n",
       "      <th>Period</th>\n",
       "      <th>Product_Ref</th>\n",
       "      <th>Sales</th>\n",
       "    </tr>\n",
       "  </thead>\n",
       "  <tbody>\n",
       "    <tr>\n",
       "      <th>0</th>\n",
       "      <td>EUE</td>\n",
       "      <td>RUS</td>\n",
       "      <td>Haut-Et-Bas</td>\n",
       "      <td>2021-02-01</td>\n",
       "      <td>P42590</td>\n",
       "      <td>2095.59</td>\n",
       "    </tr>\n",
       "    <tr>\n",
       "      <th>1</th>\n",
       "      <td>EUE</td>\n",
       "      <td>BLR</td>\n",
       "      <td>Haut</td>\n",
       "      <td>2020-04-01</td>\n",
       "      <td>P16713</td>\n",
       "      <td>8600.60</td>\n",
       "    </tr>\n",
       "    <tr>\n",
       "      <th>2</th>\n",
       "      <td>EUE</td>\n",
       "      <td>ROU</td>\n",
       "      <td>Haut</td>\n",
       "      <td>2019-10-01</td>\n",
       "      <td>P28875</td>\n",
       "      <td>8326.90</td>\n",
       "    </tr>\n",
       "    <tr>\n",
       "      <th>3</th>\n",
       "      <td>EUE</td>\n",
       "      <td>MDA</td>\n",
       "      <td>Bas</td>\n",
       "      <td>2019-12-01</td>\n",
       "      <td>P48563</td>\n",
       "      <td>3295.69</td>\n",
       "    </tr>\n",
       "    <tr>\n",
       "      <th>4</th>\n",
       "      <td>EUE</td>\n",
       "      <td>BLR</td>\n",
       "      <td>Bas</td>\n",
       "      <td>2020-06-01</td>\n",
       "      <td>P34541</td>\n",
       "      <td>6351.77</td>\n",
       "    </tr>\n",
       "  </tbody>\n",
       "</table>\n",
       "</div>"
      ],
      "text/plain": [
       "  Sub_Region_Cod   Country_Cod        Categ     Period Product_Ref    Sales\n",
       "0            EUE           RUS  Haut-Et-Bas 2021-02-01      P42590  2095.59\n",
       "1            EUE           BLR         Haut 2020-04-01      P16713  8600.60\n",
       "2            EUE           ROU         Haut 2019-10-01      P28875  8326.90\n",
       "3            EUE           MDA          Bas 2019-12-01      P48563  3295.69\n",
       "4            EUE           BLR          Bas 2020-06-01      P34541  6351.77"
      ]
     },
     "execution_count": 19,
     "metadata": {},
     "output_type": "execute_result"
    }
   ],
   "source": [
    "ventes.head()"
   ]
  },
  {
   "cell_type": "markdown",
   "id": "6bba3d7c-c57f-4a83-9abb-f1ab07699e72",
   "metadata": {},
   "source": [
    "Séparons le DataFrame référentiel de manière à avoir un référentiel produit et un référentiel pays"
   ]
  },
  {
   "cell_type": "code",
   "execution_count": 21,
   "id": "2ea254fc-6f82-4a86-9d0b-5c1f1d29fc9d",
   "metadata": {},
   "outputs": [
    {
     "data": {
      "text/html": [
       "<div>\n",
       "<style scoped>\n",
       "    .dataframe tbody tr th:only-of-type {\n",
       "        vertical-align: middle;\n",
       "    }\n",
       "\n",
       "    .dataframe tbody tr th {\n",
       "        vertical-align: top;\n",
       "    }\n",
       "\n",
       "    .dataframe thead th {\n",
       "        text-align: right;\n",
       "    }\n",
       "</style>\n",
       "<table border=\"1\" class=\"dataframe\">\n",
       "  <thead>\n",
       "    <tr style=\"text-align: right;\">\n",
       "      <th></th>\n",
       "      <th>Pays_Cod</th>\n",
       "      <th>Pays</th>\n",
       "      <th>Région</th>\n",
       "      <th>Sous-Région</th>\n",
       "      <th>Code Sous-Région</th>\n",
       "    </tr>\n",
       "  </thead>\n",
       "  <tbody>\n",
       "    <tr>\n",
       "      <th>0</th>\n",
       "      <td>BGR</td>\n",
       "      <td>Bulgarie</td>\n",
       "      <td>Europe</td>\n",
       "      <td>Europe de l'Est</td>\n",
       "      <td>EUE</td>\n",
       "    </tr>\n",
       "    <tr>\n",
       "      <th>1</th>\n",
       "      <td>CZE</td>\n",
       "      <td>République Tchèque</td>\n",
       "      <td>Europe</td>\n",
       "      <td>Europe de l'Est</td>\n",
       "      <td>EUE</td>\n",
       "    </tr>\n",
       "    <tr>\n",
       "      <th>2</th>\n",
       "      <td>HUN</td>\n",
       "      <td>Hongrie</td>\n",
       "      <td>Europe</td>\n",
       "      <td>Europe de l'Est</td>\n",
       "      <td>EUE</td>\n",
       "    </tr>\n",
       "    <tr>\n",
       "      <th>3</th>\n",
       "      <td>MDA</td>\n",
       "      <td>République de Moldavie</td>\n",
       "      <td>Europe</td>\n",
       "      <td>Europe de l'Est</td>\n",
       "      <td>EUE</td>\n",
       "    </tr>\n",
       "    <tr>\n",
       "      <th>4</th>\n",
       "      <td>POL</td>\n",
       "      <td>Pologne</td>\n",
       "      <td>Europe</td>\n",
       "      <td>Europe de l'Est</td>\n",
       "      <td>EUE</td>\n",
       "    </tr>\n",
       "  </tbody>\n",
       "</table>\n",
       "</div>"
      ],
      "text/plain": [
       "  Pays_Cod                    Pays  Région      Sous-Région Code Sous-Région\n",
       "0      BGR                Bulgarie  Europe  Europe de l'Est              EUE\n",
       "1      CZE      République Tchèque  Europe  Europe de l'Est              EUE\n",
       "2      HUN                 Hongrie  Europe  Europe de l'Est              EUE\n",
       "3      MDA  République de Moldavie  Europe  Europe de l'Est              EUE\n",
       "4      POL                 Pologne  Europe  Europe de l'Est              EUE"
      ]
     },
     "execution_count": 21,
     "metadata": {},
     "output_type": "execute_result"
    }
   ],
   "source": [
    "referentiel_pays = referentiel.iloc[:,1:6]\n",
    "referentiel_pays.head()"
   ]
  },
  {
   "cell_type": "code",
   "execution_count": 22,
   "id": "e6e363a4-8abe-44c7-99c8-6b20ed74c129",
   "metadata": {},
   "outputs": [
    {
     "data": {
      "text/html": [
       "<div>\n",
       "<style scoped>\n",
       "    .dataframe tbody tr th:only-of-type {\n",
       "        vertical-align: middle;\n",
       "    }\n",
       "\n",
       "    .dataframe tbody tr th {\n",
       "        vertical-align: top;\n",
       "    }\n",
       "\n",
       "    .dataframe thead th {\n",
       "        text-align: right;\n",
       "    }\n",
       "</style>\n",
       "<table border=\"1\" class=\"dataframe\">\n",
       "  <thead>\n",
       "    <tr style=\"text-align: right;\">\n",
       "      <th></th>\n",
       "      <th>Product_Ref</th>\n",
       "      <th>Produit</th>\n",
       "      <th>Catégorie de produit</th>\n",
       "      <th>Couleur</th>\n",
       "      <th>Créé le</th>\n",
       "      <th>Prix d'achat</th>\n",
       "      <th>Prix vente HT</th>\n",
       "    </tr>\n",
       "  </thead>\n",
       "  <tbody>\n",
       "    <tr>\n",
       "      <th>0</th>\n",
       "      <td>P00147</td>\n",
       "      <td>Robe</td>\n",
       "      <td>Haut-Et-Bas</td>\n",
       "      <td>marron</td>\n",
       "      <td>2018-01-01</td>\n",
       "      <td>7.20</td>\n",
       "      <td>9</td>\n",
       "    </tr>\n",
       "    <tr>\n",
       "      <th>1</th>\n",
       "      <td>P00249</td>\n",
       "      <td>Chemise</td>\n",
       "      <td>Haut</td>\n",
       "      <td>blanc</td>\n",
       "      <td>2018-06-01</td>\n",
       "      <td>11.34</td>\n",
       "      <td>14</td>\n",
       "    </tr>\n",
       "    <tr>\n",
       "      <th>2</th>\n",
       "      <td>P00565</td>\n",
       "      <td>Robe</td>\n",
       "      <td>Haut-Et-Bas</td>\n",
       "      <td>orange</td>\n",
       "      <td>2017-05-01</td>\n",
       "      <td>13.05</td>\n",
       "      <td>15</td>\n",
       "    </tr>\n",
       "    <tr>\n",
       "      <th>3</th>\n",
       "      <td>P00575</td>\n",
       "      <td>Pyjama</td>\n",
       "      <td>Haut-Et-Bas</td>\n",
       "      <td>blanc</td>\n",
       "      <td>2018-12-01</td>\n",
       "      <td>5.32</td>\n",
       "      <td>7</td>\n",
       "    </tr>\n",
       "    <tr>\n",
       "      <th>4</th>\n",
       "      <td>P00626</td>\n",
       "      <td>Robe</td>\n",
       "      <td>Haut-Et-Bas</td>\n",
       "      <td>blanc</td>\n",
       "      <td>2018-04-01</td>\n",
       "      <td>14.25</td>\n",
       "      <td>15</td>\n",
       "    </tr>\n",
       "  </tbody>\n",
       "</table>\n",
       "</div>"
      ],
      "text/plain": [
       "  Product_Ref  Produit Catégorie de produit Couleur    Créé le  Prix d'achat  \\\n",
       "0      P00147     Robe          Haut-Et-Bas  marron 2018-01-01          7.20   \n",
       "1      P00249  Chemise                 Haut   blanc 2018-06-01         11.34   \n",
       "2      P00565     Robe          Haut-Et-Bas  orange 2017-05-01         13.05   \n",
       "3      P00575   Pyjama          Haut-Et-Bas   blanc 2018-12-01          5.32   \n",
       "4      P00626     Robe          Haut-Et-Bas   blanc 2018-04-01         14.25   \n",
       "\n",
       "   Prix vente HT  \n",
       "0              9  \n",
       "1             14  \n",
       "2             15  \n",
       "3              7  \n",
       "4             15  "
      ]
     },
     "execution_count": 22,
     "metadata": {},
     "output_type": "execute_result"
    }
   ],
   "source": [
    "referentiel_produits = referentiel.iloc[:,7:14]\n",
    "referentiel_produits.head()"
   ]
  },
  {
   "cell_type": "markdown",
   "id": "cd9d0cff-498f-4165-90c7-06379a7e5cfd",
   "metadata": {},
   "source": [
    "Maintenant, créons une seule et unique base de données grâce à la méthode `merge`. \n",
    "Pour s'assurer que le merge fonctionne, assurons-nous qu'il existe des colonnes communes qui nous permettent de fusionner les trois DataFrames. "
   ]
  },
  {
   "cell_type": "code",
   "execution_count": 36,
   "id": "b636a839-45a8-481c-bf01-aa186e78fb3d",
   "metadata": {},
   "outputs": [
    {
     "data": {
      "text/plain": [
       "Index(['Sub_Region_Cod', 'Pays_Cod', 'Categ', 'Period', 'Product_Ref',\n",
       "       'Sales'],\n",
       "      dtype='object')"
      ]
     },
     "execution_count": 36,
     "metadata": {},
     "output_type": "execute_result"
    }
   ],
   "source": [
    "ventes.rename(columns={'  Country_Cod':'Pays_Cod'}, inplace = True)\n",
    "ventes.columns"
   ]
  },
  {
   "cell_type": "code",
   "execution_count": 38,
   "id": "58008f02-2214-4d7f-9dd9-f57bdf6cd9a3",
   "metadata": {},
   "outputs": [
    {
     "data": {
      "text/html": [
       "<div>\n",
       "<style scoped>\n",
       "    .dataframe tbody tr th:only-of-type {\n",
       "        vertical-align: middle;\n",
       "    }\n",
       "\n",
       "    .dataframe tbody tr th {\n",
       "        vertical-align: top;\n",
       "    }\n",
       "\n",
       "    .dataframe thead th {\n",
       "        text-align: right;\n",
       "    }\n",
       "</style>\n",
       "<table border=\"1\" class=\"dataframe\">\n",
       "  <thead>\n",
       "    <tr style=\"text-align: right;\">\n",
       "      <th></th>\n",
       "      <th>Sub_Region_Cod</th>\n",
       "      <th>Pays_Cod</th>\n",
       "      <th>Categ</th>\n",
       "      <th>Period</th>\n",
       "      <th>Product_Ref</th>\n",
       "      <th>Sales</th>\n",
       "      <th>Produit</th>\n",
       "      <th>Catégorie de produit</th>\n",
       "      <th>Couleur</th>\n",
       "      <th>Créé le</th>\n",
       "      <th>Prix d'achat</th>\n",
       "      <th>Prix vente HT</th>\n",
       "      <th>Pays</th>\n",
       "      <th>Région</th>\n",
       "      <th>Sous-Région</th>\n",
       "      <th>Code Sous-Région</th>\n",
       "    </tr>\n",
       "  </thead>\n",
       "  <tbody>\n",
       "    <tr>\n",
       "      <th>0</th>\n",
       "      <td>EUE</td>\n",
       "      <td>RUS</td>\n",
       "      <td>Haut-Et-Bas</td>\n",
       "      <td>2021-02-01</td>\n",
       "      <td>P42590</td>\n",
       "      <td>2095.59</td>\n",
       "      <td>Robe</td>\n",
       "      <td>Haut-Et-Bas</td>\n",
       "      <td>marron</td>\n",
       "      <td>2018-11-01</td>\n",
       "      <td>13.05</td>\n",
       "      <td>15</td>\n",
       "      <td>Fédération de Russie</td>\n",
       "      <td>Europe</td>\n",
       "      <td>Europe de l'Est</td>\n",
       "      <td>EUE</td>\n",
       "    </tr>\n",
       "    <tr>\n",
       "      <th>1</th>\n",
       "      <td>EUE</td>\n",
       "      <td>RUS</td>\n",
       "      <td>Haut</td>\n",
       "      <td>2019-10-01</td>\n",
       "      <td>P28875</td>\n",
       "      <td>321.85</td>\n",
       "      <td>Chemise</td>\n",
       "      <td>Haut</td>\n",
       "      <td>marron</td>\n",
       "      <td>2017-05-01</td>\n",
       "      <td>12.04</td>\n",
       "      <td>14</td>\n",
       "      <td>Fédération de Russie</td>\n",
       "      <td>Europe</td>\n",
       "      <td>Europe de l'Est</td>\n",
       "      <td>EUE</td>\n",
       "    </tr>\n",
       "    <tr>\n",
       "      <th>2</th>\n",
       "      <td>EUE</td>\n",
       "      <td>RUS</td>\n",
       "      <td>Haut</td>\n",
       "      <td>2020-09-01</td>\n",
       "      <td>P28875</td>\n",
       "      <td>9172.40</td>\n",
       "      <td>Chemise</td>\n",
       "      <td>Haut</td>\n",
       "      <td>marron</td>\n",
       "      <td>2017-05-01</td>\n",
       "      <td>12.04</td>\n",
       "      <td>14</td>\n",
       "      <td>Fédération de Russie</td>\n",
       "      <td>Europe</td>\n",
       "      <td>Europe de l'Est</td>\n",
       "      <td>EUE</td>\n",
       "    </tr>\n",
       "    <tr>\n",
       "      <th>3</th>\n",
       "      <td>EUE</td>\n",
       "      <td>RUS</td>\n",
       "      <td>Bas</td>\n",
       "      <td>2020-08-01</td>\n",
       "      <td>P48563</td>\n",
       "      <td>2938.50</td>\n",
       "      <td>Culotte</td>\n",
       "      <td>Bas</td>\n",
       "      <td>taupe</td>\n",
       "      <td>2017-07-01</td>\n",
       "      <td>10.01</td>\n",
       "      <td>11</td>\n",
       "      <td>Fédération de Russie</td>\n",
       "      <td>Europe</td>\n",
       "      <td>Europe de l'Est</td>\n",
       "      <td>EUE</td>\n",
       "    </tr>\n",
       "    <tr>\n",
       "      <th>4</th>\n",
       "      <td>EUE</td>\n",
       "      <td>RUS</td>\n",
       "      <td>Haut</td>\n",
       "      <td>2020-09-01</td>\n",
       "      <td>P42148</td>\n",
       "      <td>46.42</td>\n",
       "      <td>Soutien gorge</td>\n",
       "      <td>Haut</td>\n",
       "      <td>bleu</td>\n",
       "      <td>2017-09-01</td>\n",
       "      <td>10.44</td>\n",
       "      <td>12</td>\n",
       "      <td>Fédération de Russie</td>\n",
       "      <td>Europe</td>\n",
       "      <td>Europe de l'Est</td>\n",
       "      <td>EUE</td>\n",
       "    </tr>\n",
       "  </tbody>\n",
       "</table>\n",
       "</div>"
      ],
      "text/plain": [
       "  Sub_Region_Cod Pays_Cod        Categ     Period Product_Ref    Sales  \\\n",
       "0            EUE      RUS  Haut-Et-Bas 2021-02-01      P42590  2095.59   \n",
       "1            EUE      RUS         Haut 2019-10-01      P28875   321.85   \n",
       "2            EUE      RUS         Haut 2020-09-01      P28875  9172.40   \n",
       "3            EUE      RUS          Bas 2020-08-01      P48563  2938.50   \n",
       "4            EUE      RUS         Haut 2020-09-01      P42148    46.42   \n",
       "\n",
       "         Produit Catégorie de produit Couleur    Créé le  Prix d'achat  \\\n",
       "0           Robe          Haut-Et-Bas  marron 2018-11-01         13.05   \n",
       "1        Chemise                 Haut  marron 2017-05-01         12.04   \n",
       "2        Chemise                 Haut  marron 2017-05-01         12.04   \n",
       "3        Culotte                  Bas   taupe 2017-07-01         10.01   \n",
       "4  Soutien gorge                 Haut    bleu 2017-09-01         10.44   \n",
       "\n",
       "   Prix vente HT                  Pays  Région      Sous-Région  \\\n",
       "0             15  Fédération de Russie  Europe  Europe de l'Est   \n",
       "1             14  Fédération de Russie  Europe  Europe de l'Est   \n",
       "2             14  Fédération de Russie  Europe  Europe de l'Est   \n",
       "3             11  Fédération de Russie  Europe  Europe de l'Est   \n",
       "4             12  Fédération de Russie  Europe  Europe de l'Est   \n",
       "\n",
       "  Code Sous-Région  \n",
       "0              EUE  \n",
       "1              EUE  \n",
       "2              EUE  \n",
       "3              EUE  \n",
       "4              EUE  "
      ]
     },
     "execution_count": 38,
     "metadata": {},
     "output_type": "execute_result"
    }
   ],
   "source": [
    "database = pd.merge(pd.merge(ventes, referentiel_produits, on='Product_Ref'), referentiel_pays, on='Pays_Cod')\n",
    "database.head()"
   ]
  },
  {
   "cell_type": "markdown",
   "id": "a31b0d2d-1ff6-4a60-ace2-393bf0fb1536",
   "metadata": {
    "jp-MarkdownHeadingCollapsed": true
   },
   "source": [
    "### A votre tour de trouver les réponses!"
   ]
  },
  {
   "cell_type": "markdown",
   "id": "fb512d02-6b76-4292-bd73-ce86570190ce",
   "metadata": {},
   "source": [
    "Maintenant, nous pouvons poser toutes les questions du monde à ce jeu de données : \n",
    "* Quelles ont été les ventes totales ?"
   ]
  },
  {
   "cell_type": "code",
   "execution_count": 44,
   "id": "9336e1a7-55c9-4bb4-bb39-d4f5fd4c9fea",
   "metadata": {},
   "outputs": [
    {
     "name": "stdout",
     "output_type": "stream",
     "text": [
      "5695043.23\n"
     ]
    }
   ],
   "source": [
    "ventes_totales = database['Sales'].sum()\n",
    "print(ventes_totales)"
   ]
  },
  {
   "cell_type": "markdown",
   "id": "d58db70c-ecbc-4cf9-bec0-b4eddf6362c3",
   "metadata": {},
   "source": [
    "* Quelles ont été les ventes en Russie ?"
   ]
  },
  {
   "cell_type": "code",
   "execution_count": 50,
   "id": "32929301-089e-457c-a77e-3066ddcd0d8f",
   "metadata": {},
   "outputs": [
    {
     "name": "stdout",
     "output_type": "stream",
     "text": [
      "580866.5\n"
     ]
    }
   ],
   "source": [
    "ventes_russes =database[database['Pays'] == 'Fédération de Russie']['Sales'].sum()\n",
    "print(ventes_russes)"
   ]
  },
  {
   "cell_type": "markdown",
   "id": "1091cdaa-4dad-4441-8831-2cc71e357250",
   "metadata": {},
   "source": [
    "* Quels sont les produits dont les ventes ont dépassé les 9500 euros ?"
   ]
  },
  {
   "cell_type": "code",
   "execution_count": 63,
   "id": "56a84e3c-e02b-46f2-a94e-9484df498572",
   "metadata": {},
   "outputs": [
    {
     "name": "stdout",
     "output_type": "stream",
     "text": [
      "Produit    59\n",
      "Couleur    59\n",
      "dtype: int64\n"
     ]
    }
   ],
   "source": [
    "top_ventes = database[database['Sales'] > 9500][['Produit', 'Couleur']].count()\n",
    "print(top_ventes)"
   ]
  },
  {
   "cell_type": "markdown",
   "id": "b80538cd-92b3-4f31-87ab-2416191d51bc",
   "metadata": {},
   "source": [
    "* Quelles ont été les ventes totales par catégorie de produits ?"
   ]
  },
  {
   "cell_type": "code",
   "execution_count": 69,
   "id": "aa251ae7-ad80-4fc3-95b9-6bdfa6eb6ccb",
   "metadata": {},
   "outputs": [
    {
     "name": "stdout",
     "output_type": "stream",
     "text": [
      "                           Sales\n",
      "Catégorie de produit            \n",
      "Bas                   2399671.75\n",
      "Haut                  2468643.40\n",
      "Haut-Et-Bas            826728.08\n"
     ]
    }
   ],
   "source": [
    "pivot_table = pd.pivot_table(database, values='Sales', index='Catégorie de produit', aggfunc='sum')\n",
    "print(pivot_table)"
   ]
  },
  {
   "cell_type": "markdown",
   "id": "c7b92f7c-ce6f-42bf-8b87-68c02179a696",
   "metadata": {},
   "source": [
    "* Quelles ont été les ventes par pays ? "
   ]
  },
  {
   "cell_type": "code",
   "execution_count": 70,
   "id": "b50171f0-82f7-405d-b831-e5d992a4021e",
   "metadata": {},
   "outputs": [
    {
     "name": "stdout",
     "output_type": "stream",
     "text": [
      "                            Sales\n",
      "Pays                             \n",
      "Arménie                 566823.51\n",
      "Bulgarie                523698.74\n",
      "Bélarus                 534110.29\n",
      "Fédération de Russie    580866.50\n",
      "Hongrie                 497901.17\n",
      "Pologne                 481774.77\n",
      "Roumanie                439821.85\n",
      "République Tchèque      614292.30\n",
      "République de Moldavie  467384.30\n",
      "Slovaquie               552386.27\n",
      "Ukraine                 435983.53\n"
     ]
    }
   ],
   "source": [
    "pivot_table_ventes_par_pays = pd.pivot_table(database, values='Sales', index='Pays', aggfunc='sum')\n",
    "print(pivot_table_ventes_par_pays)"
   ]
  },
  {
   "cell_type": "markdown",
   "id": "199bc705-82cd-40b7-88d2-6e3cec71a1e8",
   "metadata": {},
   "source": [
    "* Quelles ont été les ventes totales par mois ?"
   ]
  },
  {
   "cell_type": "code",
   "execution_count": 72,
   "id": "3edfb2f2-b19d-4cd4-a2d2-1293fc6c7ca9",
   "metadata": {},
   "outputs": [
    {
     "name": "stdout",
     "output_type": "stream",
     "text": [
      "           Sales\n",
      "Month           \n",
      "1      330433.21\n",
      "2      460571.98\n",
      "3      420710.72\n",
      "4      516911.24\n",
      "5      457395.02\n",
      "6      496822.87\n",
      "7      429227.00\n",
      "8      419285.84\n",
      "9      478076.62\n",
      "10     570980.61\n",
      "11     534369.94\n",
      "12     580258.18\n"
     ]
    }
   ],
   "source": [
    "# Créons une colonne avec le mois de vente\n",
    "database['Month'] = pd.to_datetime(database['Period']).dt.month\n",
    "\n",
    "# Puis la pivot table\n",
    "pivot_table_ventes_par_mois = pd.pivot_table(database, values='Sales', index='Month', aggfunc='sum')\n",
    "print(pivot_table_ventes_par_mois)"
   ]
  },
  {
   "cell_type": "markdown",
   "id": "adf74f03-9612-49c6-9f6c-d1e754c508a8",
   "metadata": {},
   "source": [
    "Quelles ont été les ventes par catégorie de produit et par sous-région ? "
   ]
  },
  {
   "cell_type": "code",
   "execution_count": 74,
   "id": "452d47a2-14bf-4f6c-a127-aa8bec73e222",
   "metadata": {},
   "outputs": [
    {
     "name": "stdout",
     "output_type": "stream",
     "text": [
      "Sous-Région           Europe de l'Est\n",
      "Catégorie de produit                 \n",
      "Bas                        2399671.75\n",
      "Haut                       2468643.40\n",
      "Haut-Et-Bas                 826728.08\n"
     ]
    }
   ],
   "source": [
    "pivot_table_ventes_par_categorie_et_region = pd.pivot_table(database, values='Sales', index='Catégorie de produit', columns='Sous-Région', aggfunc='sum')\n",
    "print(pivot_table_ventes_par_categorie_et_region)"
   ]
  },
  {
   "cell_type": "markdown",
   "id": "eca97285-6a47-4d0f-ab0b-cebd7e58d498",
   "metadata": {},
   "source": [
    "* Quelles ont été les ventes par produit et par couleur ? "
   ]
  },
  {
   "cell_type": "code",
   "execution_count": 78,
   "id": "744f8c45-4c0d-436d-bad9-e09fb7910431",
   "metadata": {},
   "outputs": [
    {
     "name": "stdout",
     "output_type": "stream",
     "text": [
      "Couleur           blanc       bleu     marron      noir    orange       rose  \\\n",
      "Produit                                                                        \n",
      "Chaussette     46671.43   53904.84        NaN  67231.94  30230.78   61150.30   \n",
      "Chemise        32925.08   20407.32   35055.04  10218.42  40830.25   14666.70   \n",
      "Chemisier       7700.35        NaN   12695.09       NaN  22717.94   60453.74   \n",
      "Collant        51907.03    5000.59   19942.62  28884.74  43301.90   66878.30   \n",
      "Culotte             NaN   33591.61   66121.53  61956.01  38720.85   77764.15   \n",
      "Débardeur      37551.98   23537.02        NaN   6909.59  59006.93   11645.40   \n",
      "Jupe           38221.82   30961.04   66166.43  55279.37  53543.41   25415.17   \n",
      "Pantacourt     74177.06  121541.15   58383.24  36747.02       NaN   59150.71   \n",
      "Pantalon       35398.40  110251.46        NaN  28139.04  63003.87   64691.19   \n",
      "Pull           33575.55   10753.08   47460.52  42856.30  41280.97        NaN   \n",
      "Pyjama         28176.48   33340.54   20331.16  38505.05  41436.26        NaN   \n",
      "Robe           91488.42   76034.71   42138.98  92384.38  21628.40   53678.23   \n",
      "Soutien gorge       NaN   70859.41   43354.89   7673.52  54608.12   43561.95   \n",
      "Sweatshirt     44642.23   28579.14  128959.39  57356.81  76951.17  135041.26   \n",
      "T-shirt        28004.05   21056.62   44232.78  18186.09  15011.75   67665.57   \n",
      "\n",
      "Couleur           rouge      taupe       vert  \n",
      "Produit                                        \n",
      "Chaussette     40316.26    3865.85   57766.96  \n",
      "Chemise        69495.63   54110.01  133246.51  \n",
      "Chemisier           NaN   23692.00   53655.83  \n",
      "Collant             NaN   74075.12   14708.29  \n",
      "Culotte        80916.28  148315.33   90145.82  \n",
      "Débardeur      77477.27  115890.28   55949.99  \n",
      "Jupe            8205.79    9435.33        NaN  \n",
      "Pantacourt     75443.26   39688.62   29949.65  \n",
      "Pantalon        8801.89   14293.96   29414.34  \n",
      "Pull                NaN        NaN   65639.39  \n",
      "Pyjama         18603.35   71673.62   23010.86  \n",
      "Robe           50625.97  108369.09   15302.58  \n",
      "Soutien gorge  72853.79   18530.88   67671.58  \n",
      "Sweatshirt          NaN   37987.76   70979.95  \n",
      "T-shirt        18329.82   62762.52   12378.17  \n"
     ]
    }
   ],
   "source": [
    "pivot_table_ventes_par_produit_et_couleur = pd.pivot_table(database, values='Sales', index='Produit', columns='Couleur', aggfunc='sum')\n",
    "print(pivot_table_ventes_par_produit_et_couleur)"
   ]
  }
 ],
 "metadata": {
  "kernelspec": {
   "display_name": "Python 3 (ipykernel)",
   "language": "python",
   "name": "python3"
  },
  "language_info": {
   "codemirror_mode": {
    "name": "ipython",
    "version": 3
   },
   "file_extension": ".py",
   "mimetype": "text/x-python",
   "name": "python",
   "nbconvert_exporter": "python",
   "pygments_lexer": "ipython3",
   "version": "3.11.5"
  }
 },
 "nbformat": 4,
 "nbformat_minor": 5
}
