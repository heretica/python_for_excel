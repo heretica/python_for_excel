{
 "cells": [
  {
   "cell_type": "markdown",
   "id": "7f3099c4-49d8-441c-9e53-db22b2483db7",
   "metadata": {},
   "source": [
    "# Examen final Nathan HEINIMANN, Kelian VAN DEN BERGH, Lisa DEKIMECHE et Romane PIEGAY"
   ]
  },
  {
   "cell_type": "markdown",
   "id": "9cf7c9b8-9be2-48ed-8855-aba4843bca66",
   "metadata": {},
   "source": [
    "## Contexte"
   ]
  },
  {
   "cell_type": "markdown",
   "id": "45e63da8-2c1b-4dae-b326-c4be199f7bb6",
   "metadata": {},
   "source": [
    "Vous êtes analyste de données dans une entreprise qui souhaite analyser ses performances de ventes trimestrielles. On vous donne un dossier contenant 10 fichiers Excel. Chaque fichier comporte: \n",
    "- Date: Date à laquelle l'information a été enregistrée \n",
    "- Produit: Type de produit vendu; Il existe trois types de produit: A, B et C\n",
    "- Région: Région dans laquelle la vente à eue lieu: Ouest, Sud, Est et Nord\n",
    "- Quantité: Quantité vendue du produit\n",
    "- Prix unitaire: Prix auquel une unité de produit est vendue\n",
    "- Chiffre d'Affaire: Quantité * prix unitaire\n",
    "\n",
    "Vous avez aussi accès à un fichier \"référentiel.xlsx\". Ce fichier comporte le type de produit et le prix unitaire de base de chaque produit. "
   ]
  },
  {
   "cell_type": "markdown",
   "id": "44374c1a-a974-4d98-9c9a-c17858ca2e0f",
   "metadata": {},
   "source": [
    "## Objectifs de l'examen"
   ]
  },
  {
   "cell_type": "markdown",
   "id": "2d6279ec-aa8f-4557-b554-50e59dbb6370",
   "metadata": {},
   "source": [
    "### Tronc commun (/13)\n",
    "\n",
    "* **Tâches à effectuer** : \n",
    "1. Importez les dix fichiers Excels et fusionner les données en un seul DataFrame nommé \"data\" (/1)\n",
    "2. Changez le type de donnée de la colonne \"Date\" en \"datetime\" (/1)\n",
    "3. Vérifiez la présence de donnée manquante. Si donnée manquante il y a, remplacez la par la valeur qui la précède. (/1)\n",
    "4. Calculez le chiffre d'affaire total et les chiffres d'affaires par produit. Stockez ces valeurs dans un DataFrame nommé \"CA\". (/1)\n",
    "5. Créez une pivot table qui montre le chiffre d'affaire par mois (lignes) et par région (colonnes). (/2)\n",
    "6. Importez le fichier référentiel et effectuez une jointure avec votre DataFrame \"data\". (/2)\n",
    "7. Créez une nouvelle colonne qui représente les mois de ventes. Appelez la colonne \"mois\". (/1)\n",
    "8. Créez un graphique qui présente l'évolution du chiffre d'affaire mensuel pour les trois produits. (/1)\n",
    "9. Créez un \"boxplot\" des prix unitaires de chaque produits. (/1)\n",
    "10. En utilisant xlwings, créez un nouveau fichier Excel nommé \"Analyse_CA.xlsx\" qui comporte (/2):\n",
    "    - Spreadsheet 1: Le DataFrame \"data\"\n",
    "    - Spreadsheet 2: Les graphiques boxplot et chiffre d'affaire mensuels\n",
    "    - Spreadsheet 3: Le DataFrame \"CA\" et la pivot table (question 5.)\n",
    "\n",
    "### Tronc avancé (/7): \n",
    "\n",
    "Pour ce tronc avancé, le détail des tâches à effectuer n'est pas disponible. C'est à vous de comprendre le problème et de le traduire en une série d'opérations en code python. Pour cela, vous allez devoir vous appuyer sur de la documentation. \n",
    "\n",
    "* L'entreprise veut stabiliser ces ventes sur l'année et pour cela et supprimer de son offre les produits dont la vente est trop irrégulière : **Identifiez les produits dont la vente est la plus fluctuante**. (/2)\n",
    "**[Documentation 1](https://pandas.pydata.org/docs/reference/api/pandas.DataFrame.var.html)**, **[Documentation 2](https://pandas.pydata.org/docs/reference/api/pandas.DataFrame.std.html)**\n",
    "\n",
    "\n",
    "* L'entreprise veut savoir si les prix qu'elle applique ont une incidence sur les quantités vendues. **Trouvez l'influence des prix sur les quantités vendues**. (/3) (Indice: Une régression linéaire peut permettre de trouver une telle relation) \n",
    "**[Documentation 3](https://www.statsmodels.org/stable/regression.html)**\n",
    "\n",
    "* L'entreprise pensent qu'il existe un effet de saisonalité dans ses ventes. Particulièrement, il semblerait que les ventes du premier trimestre sont plus basses que les ventes du dernier trimestre.**Testez si cette différence est significative**. (/2)\n",
    "**[Documentation 4](https://www.statsmodels.org/stable/generated/statsmodels.stats.weightstats.ttest_ind.html)**\n",
    "\n",
    "### Fichiers attendus: \n",
    "1. Le notebook python qui effectue les 10 tâches à effectuer (Tronc commun) + la réponse aux questions ci-desus (Tronc avancé) **avec les explications nécessaires en Markdown**.\n",
    "2. Le fichier Excel \"Analyse_CA.xlsx\"\n",
    "\n",
    "*PS: 1pt bonus pour la clarté du code, la qualité du fichier excel et le design des graphiques!*"
   ]
  },
  {
   "cell_type": "markdown",
   "id": "90250aa5-5faf-4a32-ac76-a55d912bbca1",
   "metadata": {},
   "source": [
    "Tâche 1 : on importe la bibliothèque pandas, on uploade les fichiers sur Python (avec la méthode read excel) puis on fusionne les différents fichiers Excel (avec la concaténation) "
   ]
  },
  {
   "cell_type": "code",
   "execution_count": 63,
   "id": "7a2029d0-4122-4a58-a296-705fd672d5a1",
   "metadata": {},
   "outputs": [],
   "source": [
    "import pandas as pd"
   ]
  },
  {
   "cell_type": "code",
   "execution_count": 64,
   "id": "a3aa6eab-c8ea-4709-af86-51b2c9ec1c1c",
   "metadata": {},
   "outputs": [],
   "source": [
    "df1 = pd.read_excel(r\"C:\\Users\\roman\\Downloads\\Ventes_2023_Part_1.xlsx\")\n",
    "df2 = pd.read_excel(r\"C:\\Users\\roman\\Downloads\\Ventes_2023_Part_2.xlsx\")\n",
    "df3 = pd.read_excel(r\"C:\\Users\\roman\\Downloads\\Ventes_2023_Part_3.xlsx\")\n",
    "df4 = pd.read_excel(r\"C:\\Users\\roman\\Downloads\\Ventes_2023_Part_4.xlsx\")\n",
    "df5 = pd.read_excel(r\"C:\\Users\\roman\\Downloads\\Ventes_2023_Part_5.xlsx\")\n",
    "df6 = pd.read_excel(r\"C:\\Users\\roman\\Downloads\\Ventes_2023_Part_6.xlsx\")\n",
    "df7 = pd.read_excel(r\"C:\\Users\\roman\\Downloads\\Ventes_2023_Part_7.xlsx\")\n",
    "df8 = pd.read_excel(r\"C:\\Users\\roman\\Downloads\\Ventes_2023_Part_8.xlsx\")\n",
    "df9 = pd.read_excel(r\"C:\\Users\\roman\\Downloads\\Ventes_2023_Part_9.xlsx\")\n",
    "df10 = pd.read_excel(r\"C:\\Users\\roman\\Downloads\\Ventes_2023_Part_10.xlsx\")"
   ]
  },
  {
   "cell_type": "code",
   "execution_count": 67,
   "id": "a480f8a3-c39f-4d89-a446-d559693150aa",
   "metadata": {},
   "outputs": [
    {
     "name": "stdout",
     "output_type": "stream",
     "text": [
      "<class 'pandas.core.frame.DataFrame'>\n",
      "RangeIndex: 1000 entries, 0 to 999\n",
      "Data columns (total 6 columns):\n",
      " #   Column              Non-Null Count  Dtype         \n",
      "---  ------              --------------  -----         \n",
      " 0   Date                1000 non-null   datetime64[ns]\n",
      " 1   Produit             1000 non-null   object        \n",
      " 2   Région              1000 non-null   object        \n",
      " 3   Quantité            1000 non-null   int64         \n",
      " 4   Prix unitaire       1000 non-null   float64       \n",
      " 5   Chiffre d'affaires  1000 non-null   float64       \n",
      "dtypes: datetime64[ns](1), float64(2), int64(1), object(2)\n",
      "memory usage: 47.0+ KB\n"
     ]
    }
   ],
   "source": [
    "data=pd.concat([df1,df2,df3,df4,df5,df6,df7,df8,df9,df10],ignore_index=True)\n",
    "data.info()"
   ]
  },
  {
   "cell_type": "code",
   "execution_count": 59,
   "id": "6d0bad3e-32b3-4c46-bc9d-a60b7408207a",
   "metadata": {},
   "outputs": [],
   "source": [
    "data.to_excel('fusion_data.xlsx', index=False)"
   ]
  },
  {
   "cell_type": "markdown",
   "id": "eca32de6-adb9-49c8-9131-e123164b6ddd",
   "metadata": {},
   "source": [
    "Tâche 2 "
   ]
  },
  {
   "cell_type": "code",
   "execution_count": 68,
   "id": "bbe36747-14a5-414c-9e31-f678c117ab56",
   "metadata": {},
   "outputs": [
    {
     "name": "stdout",
     "output_type": "stream",
     "text": [
      "Date                  datetime64[ns]\n",
      "Produit                       object\n",
      "Région                        object\n",
      "Quantité                       int64\n",
      "Prix unitaire                float64\n",
      "Chiffre d'affaires           float64\n",
      "Date_vf               datetime64[ns]\n",
      "dtype: object\n"
     ]
    }
   ],
   "source": [
    "data['Date_vf'] = pd.to_datetime(data['Date'])\n",
    "print(data.dtypes)"
   ]
  },
  {
   "cell_type": "markdown",
   "id": "2aec7366-a469-481c-8689-2192b1a6f8e5",
   "metadata": {},
   "source": [
    "Tâche 3 : on vérifie s'il y a des valeurs nulles dans le data frame, si il y en a, elles sont remplacées par la valeur précédente. On vérifie ensuite que la manip a bien été effectuée avec un message. "
   ]
  },
  {
   "cell_type": "code",
   "execution_count": 32,
   "id": "25e14717-d71c-4830-831f-d85dbaf3be58",
   "metadata": {},
   "outputs": [
    {
     "name": "stdout",
     "output_type": "stream",
     "text": [
      "Toutes les valeurs manquantes ont été remplacées\n"
     ]
    }
   ],
   "source": [
    "if data.isnull().values.any():\n",
    "    data.fillna(method='ffill',inplace=True)\n",
    "if data.isnull().values.any():\n",
    "    print(\"Il y a des valeurs manquantes\")\n",
    "else :\n",
    "    print (\"Toutes les valeurs manquantes ont été remplacées\")"
   ]
  },
  {
   "cell_type": "markdown",
   "id": "f248e81b-555f-4e5e-88e5-2cc053b97340",
   "metadata": {},
   "source": [
    "Tâche 4"
   ]
  },
  {
   "cell_type": "code",
   "execution_count": 39,
   "id": "2b8e4910-86d2-4b25-9d52-a85d48ce972a",
   "metadata": {},
   "outputs": [
    {
     "name": "stdout",
     "output_type": "stream",
     "text": [
      "546231.9551992661\n"
     ]
    }
   ],
   "source": [
    "CA_total = data [\"Chiffre d'affaires\"].sum() \n",
    "print (CA_total)"
   ]
  },
  {
   "cell_type": "code",
   "execution_count": 70,
   "id": "1150cfdf-5462-4776-b629-734b596d4863",
   "metadata": {},
   "outputs": [
    {
     "name": "stdout",
     "output_type": "stream",
     "text": [
      "Produit\n",
      "Produit A    187028.290157\n",
      "Produit B    179920.204727\n",
      "Produit C    179283.460316\n",
      "Name: Chiffre d'affaires, dtype: float64\n"
     ]
    }
   ],
   "source": [
    "CA_produit = data.groupby('Produit')[\"Chiffre d'affaires\"].sum() \n",
    "print(CA_produit)"
   ]
  },
  {
   "cell_type": "code",
   "execution_count": 72,
   "id": "f9e7c209-3ed0-41af-af97-7f33a4950b0d",
   "metadata": {},
   "outputs": [
    {
     "data": {
      "text/html": [
       "<div>\n",
       "<style scoped>\n",
       "    .dataframe tbody tr th:only-of-type {\n",
       "        vertical-align: middle;\n",
       "    }\n",
       "\n",
       "    .dataframe tbody tr th {\n",
       "        vertical-align: top;\n",
       "    }\n",
       "\n",
       "    .dataframe thead th {\n",
       "        text-align: right;\n",
       "    }\n",
       "</style>\n",
       "<table border=\"1\" class=\"dataframe\">\n",
       "  <thead>\n",
       "    <tr style=\"text-align: right;\">\n",
       "      <th></th>\n",
       "      <th>Produit</th>\n",
       "      <th>Chiffre d'affaires</th>\n",
       "    </tr>\n",
       "  </thead>\n",
       "  <tbody>\n",
       "    <tr>\n",
       "      <th>0</th>\n",
       "      <td>Total</td>\n",
       "      <td>546231.955199</td>\n",
       "    </tr>\n",
       "  </tbody>\n",
       "</table>\n",
       "</div>"
      ],
      "text/plain": [
       "  Produit  Chiffre d'affaires\n",
       "0   Total       546231.955199"
      ]
     },
     "execution_count": 72,
     "metadata": {},
     "output_type": "execute_result"
    }
   ],
   "source": [
    "CA = pd.DataFrame({'Produit': ['Total'],\n",
    "                   \"Chiffre d'affaires\": [CA_total] })\n",
    "CA.head()"
   ]
  },
  {
   "cell_type": "code",
   "execution_count": 82,
   "id": "49b2cec9-8254-467b-b97b-286dfe29861a",
   "metadata": {},
   "outputs": [
    {
     "name": "stdout",
     "output_type": "stream",
     "text": [
      "<class 'pandas.core.series.Series'>\n"
     ]
    },
    {
     "data": {
      "text/html": [
       "<div>\n",
       "<style scoped>\n",
       "    .dataframe tbody tr th:only-of-type {\n",
       "        vertical-align: middle;\n",
       "    }\n",
       "\n",
       "    .dataframe tbody tr th {\n",
       "        vertical-align: top;\n",
       "    }\n",
       "\n",
       "    .dataframe thead th {\n",
       "        text-align: right;\n",
       "    }\n",
       "</style>\n",
       "<table border=\"1\" class=\"dataframe\">\n",
       "  <thead>\n",
       "    <tr style=\"text-align: right;\">\n",
       "      <th></th>\n",
       "      <th>Chiffre d'affaires</th>\n",
       "    </tr>\n",
       "    <tr>\n",
       "      <th>Produit</th>\n",
       "      <th></th>\n",
       "    </tr>\n",
       "  </thead>\n",
       "  <tbody>\n",
       "    <tr>\n",
       "      <th>Produit A</th>\n",
       "      <td>187028.290157</td>\n",
       "    </tr>\n",
       "    <tr>\n",
       "      <th>Produit B</th>\n",
       "      <td>179920.204727</td>\n",
       "    </tr>\n",
       "    <tr>\n",
       "      <th>Produit C</th>\n",
       "      <td>179283.460316</td>\n",
       "    </tr>\n",
       "  </tbody>\n",
       "</table>\n",
       "</div>"
      ],
      "text/plain": [
       "           Chiffre d'affaires\n",
       "Produit                      \n",
       "Produit A       187028.290157\n",
       "Produit B       179920.204727\n",
       "Produit C       179283.460316"
      ]
     },
     "execution_count": 82,
     "metadata": {},
     "output_type": "execute_result"
    }
   ],
   "source": [
    "print(type(CA_produit))\n",
    "df123 = CA_produit.to_frame()\n",
    "df123.head()"
   ]
  },
  {
   "cell_type": "markdown",
   "id": "35d68032-9553-4dcd-9dc0-6d1c8c65bab5",
   "metadata": {},
   "source": [
    "Tâche 5"
   ]
  },
  {
   "cell_type": "code",
   "execution_count": 73,
   "id": "a2d84a45-3f82-4480-a1ef-e91a660516ed",
   "metadata": {},
   "outputs": [
    {
     "name": "stdout",
     "output_type": "stream",
     "text": [
      "Région               Est          Nord         Ouest           Sud\n",
      "Date                                                              \n",
      "2023-01-31  10037.028399  13076.338478   7710.564014   8213.807744\n",
      "2023-02-28   9837.787233   9853.258419  19094.963887  10051.177005\n",
      "2023-03-31   3562.719474   8653.392696  10167.234999   8646.945490\n",
      "2023-04-30   9297.540059  14065.944384  10668.264692  14607.472470\n",
      "2023-05-31  10449.979162  16075.861928  13966.637315   8783.433772\n",
      "2023-06-30  12085.008995  12739.880874  12484.007879  12037.267731\n",
      "2023-07-31   9123.243007  10750.532192  10123.820477  10406.780030\n",
      "2023-08-31  16581.733330  18964.725727  14757.565811  11905.031135\n",
      "2023-09-30   5461.273695  10868.912146  17037.934449  14025.384478\n",
      "2023-10-31  13161.063580   8935.674540   9157.426860   9080.505937\n",
      "2023-11-30   5664.529823   7460.935302  12038.926403  10307.182117\n",
      "2023-12-31  12607.537699  16299.983513  16003.263805   9341.472040\n"
     ]
    }
   ],
   "source": [
    "# Charger les données depuis Excel dans un DataFrame\n",
    "data = pd.read_excel(r\"C:\\Users\\roman\\OneDrive\\Documents\\Grenoble\\PGE1\\S2\\S2 Python\\fusion_data.xlsx\")\n",
    "# Créer la pivot table\n",
    "pivot_data = pd.pivot_table(data, \n",
    "                          index=pd.Grouper(key='Date', freq='ME'),  # Grouper par mois\n",
    "                          columns='Région',  # Colonnes pour les régions\n",
    "                          values='Chiffre d\\'affaires',  # Valeurs à agréger\n",
    "                          aggfunc='sum',  # Agrégation par somme (par défaut)\n",
    "                          fill_value=0)  # Remplacer les valeurs NaN par 0\n",
    "\n",
    "# Trier les mois par ordre croissant\n",
    "pivot_data = pivot_data.sort_index()\n",
    "\n",
    "# Afficher la pivot table\n",
    "print(pivot_data)"
   ]
  },
  {
   "cell_type": "markdown",
   "id": "bd90796d-ffa2-443f-b007-2afe5c12c774",
   "metadata": {},
   "source": [
    "Tâche 6"
   ]
  },
  {
   "cell_type": "code",
   "execution_count": 93,
   "id": "c508e5a1-8431-4909-a1e8-044adfc79458",
   "metadata": {},
   "outputs": [],
   "source": [
    "# Charger les données de ventes depuis Excel dans un DataFrame\n",
    "df_ventes = pd.read_excel(r\"C:\\Users\\roman\\Downloads\\fusion_data.xlsx\")\n",
    "\n",
    "# Charger les données du référentiel depuis Excel dans un DataFrame\n",
    "df_referentiel = pd.read_excel(r\"C:\\Users\\roman\\Downloads\\referentiel.xlsx\")\n",
    "\n"
   ]
  },
  {
   "cell_type": "code",
   "execution_count": 100,
   "id": "d88dc4f6-6ad2-4217-b710-9e64031b5d00",
   "metadata": {},
   "outputs": [
    {
     "name": "stdout",
     "output_type": "stream",
     "text": [
      "        Date    Produit Région  Quantité  Prix unitaire  Chiffre d'affaires  \\\n",
      "0 2023-04-13  Produit C  Ouest         9      56.916644          512.249799   \n",
      "1 2023-12-15  Produit C  Ouest        15      97.841244         1467.618661   \n",
      "2 2023-09-28  Produit A    Sud        18      21.299519          383.391348   \n",
      "3 2023-04-17  Produit B    Est        13      11.525290          149.828768   \n",
      "4 2023-03-13  Produit B    Sud         8      79.314239          634.513912   \n",
      "\n",
      "      Date.1     Catégorie  Prix Standard  \n",
      "0 2023-04-13  Alimentation             15  \n",
      "1 2023-12-15  Alimentation             15  \n",
      "2 2023-09-28  Électronique             80  \n",
      "3 2023-04-17        Ménage             35  \n",
      "4 2023-03-13        Ménage             35  \n"
     ]
    },
    {
     "data": {
      "text/plain": [
       "Index(['Date', 'Produit', 'Région', 'Quantité', 'Prix unitaire',\n",
       "       'Chiffre d'affaires', 'Date.1', 'Catégorie', 'Prix Standard'],\n",
       "      dtype='object')"
      ]
     },
     "execution_count": 100,
     "metadata": {},
     "output_type": "execute_result"
    }
   ],
   "source": [
    "# Fusionner les DataFrames sur la colonne 'Produit'\n",
    "data_q6 = pd.merge(df_ventes, df_referentiel, on='Produit', how='inner')\n",
    "# Afficher les premières lignes du DataFrame fusionné\n",
    "print(data_q6.head())\n",
    "data_q6.columns\n"
   ]
  },
  {
   "cell_type": "code",
   "execution_count": 103,
   "id": "3277a0f3-6ce7-41a9-bdf2-0a68e4e72cf7",
   "metadata": {},
   "outputs": [
    {
     "data": {
      "text/html": [
       "<div>\n",
       "<style scoped>\n",
       "    .dataframe tbody tr th:only-of-type {\n",
       "        vertical-align: middle;\n",
       "    }\n",
       "\n",
       "    .dataframe tbody tr th {\n",
       "        vertical-align: top;\n",
       "    }\n",
       "\n",
       "    .dataframe thead th {\n",
       "        text-align: right;\n",
       "    }\n",
       "</style>\n",
       "<table border=\"1\" class=\"dataframe\">\n",
       "  <thead>\n",
       "    <tr style=\"text-align: right;\">\n",
       "      <th></th>\n",
       "      <th>Date</th>\n",
       "      <th>Produit</th>\n",
       "      <th>Région</th>\n",
       "      <th>Quantité</th>\n",
       "      <th>Prix unitaire</th>\n",
       "      <th>Chiffre d'affaires</th>\n",
       "      <th>Catégorie</th>\n",
       "      <th>Prix Standard</th>\n",
       "    </tr>\n",
       "  </thead>\n",
       "  <tbody>\n",
       "    <tr>\n",
       "      <th>0</th>\n",
       "      <td>2023-04-13</td>\n",
       "      <td>Produit C</td>\n",
       "      <td>Ouest</td>\n",
       "      <td>9</td>\n",
       "      <td>56.916644</td>\n",
       "      <td>512.249799</td>\n",
       "      <td>Alimentation</td>\n",
       "      <td>15</td>\n",
       "    </tr>\n",
       "    <tr>\n",
       "      <th>1</th>\n",
       "      <td>2023-12-15</td>\n",
       "      <td>Produit C</td>\n",
       "      <td>Ouest</td>\n",
       "      <td>15</td>\n",
       "      <td>97.841244</td>\n",
       "      <td>1467.618661</td>\n",
       "      <td>Alimentation</td>\n",
       "      <td>15</td>\n",
       "    </tr>\n",
       "    <tr>\n",
       "      <th>2</th>\n",
       "      <td>2023-09-28</td>\n",
       "      <td>Produit A</td>\n",
       "      <td>Sud</td>\n",
       "      <td>18</td>\n",
       "      <td>21.299519</td>\n",
       "      <td>383.391348</td>\n",
       "      <td>Électronique</td>\n",
       "      <td>80</td>\n",
       "    </tr>\n",
       "    <tr>\n",
       "      <th>3</th>\n",
       "      <td>2023-04-17</td>\n",
       "      <td>Produit B</td>\n",
       "      <td>Est</td>\n",
       "      <td>13</td>\n",
       "      <td>11.525290</td>\n",
       "      <td>149.828768</td>\n",
       "      <td>Ménage</td>\n",
       "      <td>35</td>\n",
       "    </tr>\n",
       "    <tr>\n",
       "      <th>4</th>\n",
       "      <td>2023-03-13</td>\n",
       "      <td>Produit B</td>\n",
       "      <td>Sud</td>\n",
       "      <td>8</td>\n",
       "      <td>79.314239</td>\n",
       "      <td>634.513912</td>\n",
       "      <td>Ménage</td>\n",
       "      <td>35</td>\n",
       "    </tr>\n",
       "    <tr>\n",
       "      <th>...</th>\n",
       "      <td>...</td>\n",
       "      <td>...</td>\n",
       "      <td>...</td>\n",
       "      <td>...</td>\n",
       "      <td>...</td>\n",
       "      <td>...</td>\n",
       "      <td>...</td>\n",
       "      <td>...</td>\n",
       "    </tr>\n",
       "    <tr>\n",
       "      <th>995</th>\n",
       "      <td>2023-02-07</td>\n",
       "      <td>Produit C</td>\n",
       "      <td>Sud</td>\n",
       "      <td>6</td>\n",
       "      <td>12.709348</td>\n",
       "      <td>76.256091</td>\n",
       "      <td>Alimentation</td>\n",
       "      <td>15</td>\n",
       "    </tr>\n",
       "    <tr>\n",
       "      <th>996</th>\n",
       "      <td>2023-10-20</td>\n",
       "      <td>Produit A</td>\n",
       "      <td>Est</td>\n",
       "      <td>1</td>\n",
       "      <td>96.534309</td>\n",
       "      <td>96.534309</td>\n",
       "      <td>Électronique</td>\n",
       "      <td>80</td>\n",
       "    </tr>\n",
       "    <tr>\n",
       "      <th>997</th>\n",
       "      <td>2023-05-19</td>\n",
       "      <td>Produit B</td>\n",
       "      <td>Est</td>\n",
       "      <td>16</td>\n",
       "      <td>70.108112</td>\n",
       "      <td>1121.729786</td>\n",
       "      <td>Ménage</td>\n",
       "      <td>35</td>\n",
       "    </tr>\n",
       "    <tr>\n",
       "      <th>998</th>\n",
       "      <td>2023-12-22</td>\n",
       "      <td>Produit A</td>\n",
       "      <td>Nord</td>\n",
       "      <td>15</td>\n",
       "      <td>93.988458</td>\n",
       "      <td>1409.826868</td>\n",
       "      <td>Électronique</td>\n",
       "      <td>80</td>\n",
       "    </tr>\n",
       "    <tr>\n",
       "      <th>999</th>\n",
       "      <td>2023-11-29</td>\n",
       "      <td>Produit B</td>\n",
       "      <td>Ouest</td>\n",
       "      <td>17</td>\n",
       "      <td>33.894677</td>\n",
       "      <td>576.209503</td>\n",
       "      <td>Ménage</td>\n",
       "      <td>35</td>\n",
       "    </tr>\n",
       "  </tbody>\n",
       "</table>\n",
       "<p>1000 rows × 8 columns</p>\n",
       "</div>"
      ],
      "text/plain": [
       "          Date    Produit Région  Quantité  Prix unitaire  Chiffre d'affaires  \\\n",
       "0   2023-04-13  Produit C  Ouest         9      56.916644          512.249799   \n",
       "1   2023-12-15  Produit C  Ouest        15      97.841244         1467.618661   \n",
       "2   2023-09-28  Produit A    Sud        18      21.299519          383.391348   \n",
       "3   2023-04-17  Produit B    Est        13      11.525290          149.828768   \n",
       "4   2023-03-13  Produit B    Sud         8      79.314239          634.513912   \n",
       "..         ...        ...    ...       ...            ...                 ...   \n",
       "995 2023-02-07  Produit C    Sud         6      12.709348           76.256091   \n",
       "996 2023-10-20  Produit A    Est         1      96.534309           96.534309   \n",
       "997 2023-05-19  Produit B    Est        16      70.108112         1121.729786   \n",
       "998 2023-12-22  Produit A   Nord        15      93.988458         1409.826868   \n",
       "999 2023-11-29  Produit B  Ouest        17      33.894677          576.209503   \n",
       "\n",
       "        Catégorie  Prix Standard  \n",
       "0    Alimentation             15  \n",
       "1    Alimentation             15  \n",
       "2    Électronique             80  \n",
       "3          Ménage             35  \n",
       "4          Ménage             35  \n",
       "..            ...            ...  \n",
       "995  Alimentation             15  \n",
       "996  Électronique             80  \n",
       "997        Ménage             35  \n",
       "998  Électronique             80  \n",
       "999        Ménage             35  \n",
       "\n",
       "[1000 rows x 8 columns]"
      ]
     },
     "execution_count": 103,
     "metadata": {},
     "output_type": "execute_result"
    }
   ],
   "source": [
    "#suppression colonne Date\n",
    "data_q6.drop(\"Date.1\", axis=1)"
   ]
  },
  {
   "cell_type": "code",
   "execution_count": null,
   "id": "17cdf06e-e65f-4ec8-916a-38c18fb25b84",
   "metadata": {},
   "outputs": [],
   "source": [
    "# Enregistrer le DataFrame fusionné dans un nouveau fichier Excel\n",
    "data_q6.to_excel('data_q6.xlsx', index=False)"
   ]
  },
  {
   "cell_type": "markdown",
   "id": "a742c926-b0e1-4882-8a9d-17fc29e66ebd",
   "metadata": {},
   "source": [
    "Tâche 7"
   ]
  },
  {
   "cell_type": "code",
   "execution_count": 123,
   "id": "b618962b-ea51-4fbc-baa1-c00124b7d1b4",
   "metadata": {},
   "outputs": [
    {
     "name": "stdout",
     "output_type": "stream",
     "text": [
      "          Date    Produit Région  Quantité  Prix unitaire  Chiffre d'affaires  \\\n",
      "0   2023-04-13  Produit C  Ouest         9      56.916644          512.249799   \n",
      "1   2023-12-15  Produit C  Ouest        15      97.841244         1467.618661   \n",
      "2   2023-09-28  Produit A    Sud        18      21.299519          383.391348   \n",
      "3   2023-04-17  Produit B    Est        13      11.525290          149.828768   \n",
      "4   2023-03-13  Produit B    Sud         8      79.314239          634.513912   \n",
      "..         ...        ...    ...       ...            ...                 ...   \n",
      "995 2023-02-07  Produit C    Sud         6      12.709348           76.256091   \n",
      "996 2023-10-20  Produit A    Est         1      96.534309           96.534309   \n",
      "997 2023-05-19  Produit B    Est        16      70.108112         1121.729786   \n",
      "998 2023-12-22  Produit A   Nord        15      93.988458         1409.826868   \n",
      "999 2023-11-29  Produit B  Ouest        17      33.894677          576.209503   \n",
      "\n",
      "        Date.1     Catégorie  Prix Standard  mois  Mois  \n",
      "0   2023-04-13  Alimentation             15     4     4  \n",
      "1   2023-12-15  Alimentation             15    12    12  \n",
      "2   2023-09-28  Électronique             80     9     9  \n",
      "3   2023-04-17        Ménage             35     4     4  \n",
      "4   2023-03-13        Ménage             35     3     3  \n",
      "..         ...           ...            ...   ...   ...  \n",
      "995 2023-02-07  Alimentation             15     2     2  \n",
      "996 2023-10-20  Électronique             80    10    10  \n",
      "997 2023-05-19        Ménage             35     5     5  \n",
      "998 2023-12-22  Électronique             80    12    12  \n",
      "999 2023-11-29        Ménage             35    11    11  \n",
      "\n",
      "[1000 rows x 11 columns]\n"
     ]
    }
   ],
   "source": [
    "# Assurez-vous que la colonne 'Date' est au format datetime\n",
    "data_q6['Date'] = pd.to_datetime(data_q6['Date'])\n",
    "\n",
    "# Créer une nouvelle colonne 'mois' contenant les mois de ventes\n",
    "data_q6['Mois'] = data_q6['Date'].dt.month\n",
    "\n",
    "# Afficher les premières lignes du DataFrame avec la nouvelle colonne 'mois'\n",
    "print(data_q6)\n"
   ]
  },
  {
   "cell_type": "markdown",
   "id": "d7487ca7-0724-4d2d-aa93-bc528430d892",
   "metadata": {},
   "source": [
    "Tâche 8"
   ]
  },
  {
   "cell_type": "code",
   "execution_count": 134,
   "id": "d60fe2c1-1c10-40e5-8b06-17dd123d245b",
   "metadata": {},
   "outputs": [
    {
     "data": {
      "image/png": "[encoded data removed]",
      "text/plain": [
       "<Figure size 1000x600 with 1 Axes>"
      ]
     },
     "metadata": {},
     "output_type": "display_data"
    }
   ],
   "source": [
    "import matplotlib.pyplot as plt\n",
    "\n",
    "# Créer une figure et des axes\n",
    "fig1, ax = plt.subplots(figsize=(10, 6))\n",
    "\n",
    "# Grouper les données par mois et produit, puis calculer le chiffre d'affaire mensuel pour chaque produit\n",
    "ca_mensuel_produit = data_q6.groupby(['Mois', 'Produit'])[\"Chiffre d'affaires\"].sum().unstack()\n",
    "\n",
    "# Tracer l'évolution du chiffre d'affaire mensuel pour chaque produit\n",
    "ca_mensuel_produit.plot(ax=ax, marker='o')\n",
    "\n",
    "# Ajouter des titres et des légendes\n",
    "plt.title(\"Évolution du chiffre d'affaire mensuel pour les trois produits\")\n",
    "plt.xlabel(\"Mois\")\n",
    "plt.ylabel(\"Chiffre d'affaires\")\n",
    "plt.legend(title='Produit')\n",
    "\n",
    "# Afficher le graphique\n",
    "plt.grid(True)\n",
    "plt.tight_layout()\n",
    "plt.show()"
   ]
  },
  {
   "cell_type": "markdown",
   "id": "23ff8122-6360-4a9f-aef7-6507074331e0",
   "metadata": {},
   "source": [
    "Tâche 9"
   ]
  },
  {
   "cell_type": "code",
   "execution_count": 136,
   "id": "202d8507-f6f2-4b76-9c1d-32fb358ad5d3",
   "metadata": {},
   "outputs": [
    {
     "data": {
      "image/png": "[encoded data removed]",
      "text/plain": [
       "<Figure size 800x600 with 1 Axes>"
      ]
     },
     "metadata": {},
     "output_type": "display_data"
    }
   ],
   "source": [
    "# Créer une figure et des axes\n",
    "fig2, ax = plt.subplots(figsize=(8, 6))\n",
    "\n",
    "# Créer le boxplot des prix unitaires pour chaque produit\n",
    "data_q6.boxplot(column='Prix unitaire', by='Produit', ax=ax)\n",
    "\n",
    "# Ajouter des titres et des étiquettes\n",
    "plt.title(\"Boxplot des prix unitaires de chaque produit\")\n",
    "plt.xlabel(\"Produits\")\n",
    "plt.ylabel(\"Prix unitaire\")\n",
    "\n",
    "# Afficher le graphique\n",
    "plt.grid(True)\n",
    "plt.tight_layout()\n",
    "plt.show()"
   ]
  },
  {
   "cell_type": "markdown",
   "id": "571049e7-3848-415d-8c67-660a0f83a7f9",
   "metadata": {},
   "source": [
    "Tâche 10"
   ]
  },
  {
   "cell_type": "code",
   "execution_count": null,
   "id": "fee8dd6c-66fa-4071-9332-2cf7e002ce9d",
   "metadata": {},
   "outputs": [],
   "source": [
    "pd.to_excel("
   ]
  },
  {
   "cell_type": "code",
   "execution_count": 137,
   "id": "2ccb9f5c-b7e7-48d8-bed0-379a51d02a9d",
   "metadata": {},
   "outputs": [],
   "source": [
    "import xlwings as xw"
   ]
  },
  {
   "cell_type": "code",
   "execution_count": 143,
   "id": "df764c33-d089-4b47-8e7c-f60234e4184b",
   "metadata": {},
   "outputs": [
    {
     "ename": "FileNotFoundError",
     "evalue": "[Errno 2] No such file or directory: 'fusion_data'",
     "output_type": "error",
     "traceback": [
      "\u001b[1;31m---------------------------------------------------------------------------\u001b[0m",
      "\u001b[1;31mFileNotFoundError\u001b[0m                         Traceback (most recent call last)",
      "Cell \u001b[1;32mIn[143], line 6\u001b[0m\n\u001b[0;32m      3\u001b[0m sheet \u001b[38;5;241m=\u001b[39m wb\u001b[38;5;241m.\u001b[39msheets[\u001b[38;5;241m0\u001b[39m]\n\u001b[0;32m      5\u001b[0m \u001b[38;5;66;03m# Charger les données des 5 fichiers Python préexistants (supposons que les fichiers s'appellent file1.xlsx, file2.xlsx et file3.xlsx)\u001b[39;00m\n\u001b[1;32m----> 6\u001b[0m data_file1 \u001b[38;5;241m=\u001b[39m \u001b[43mpd\u001b[49m\u001b[38;5;241;43m.\u001b[39;49m\u001b[43mread_excel\u001b[49m\u001b[43m(\u001b[49m\u001b[38;5;124;43m'\u001b[39;49m\u001b[38;5;124;43mfusion_data\u001b[39;49m\u001b[38;5;124;43m'\u001b[39;49m\u001b[43m)\u001b[49m\n\u001b[0;32m      7\u001b[0m data_file2 \u001b[38;5;241m=\u001b[39m pd\u001b[38;5;241m.\u001b[39mread_excel(\u001b[38;5;124m'\u001b[39m\u001b[38;5;124mfig1\u001b[39m\u001b[38;5;124m'\u001b[39m)\n\u001b[0;32m      8\u001b[0m data_file3 \u001b[38;5;241m=\u001b[39m pd\u001b[38;5;241m.\u001b[39mread_excel(\u001b[38;5;124m'\u001b[39m\u001b[38;5;124mfig2\u001b[39m\u001b[38;5;124m'\u001b[39m)\n",
      "File \u001b[1;32m~\\AppData\\Local\\Programs\\Python\\Python312\\Lib\\site-packages\\pandas\\io\\excel\\_base.py:495\u001b[0m, in \u001b[0;36mread_excel\u001b[1;34m(io, sheet_name, header, names, index_col, usecols, dtype, engine, converters, true_values, false_values, skiprows, nrows, na_values, keep_default_na, na_filter, verbose, parse_dates, date_parser, date_format, thousands, decimal, comment, skipfooter, storage_options, dtype_backend, engine_kwargs)\u001b[0m\n\u001b[0;32m    493\u001b[0m \u001b[38;5;28;01mif\u001b[39;00m \u001b[38;5;129;01mnot\u001b[39;00m \u001b[38;5;28misinstance\u001b[39m(io, ExcelFile):\n\u001b[0;32m    494\u001b[0m     should_close \u001b[38;5;241m=\u001b[39m \u001b[38;5;28;01mTrue\u001b[39;00m\n\u001b[1;32m--> 495\u001b[0m     io \u001b[38;5;241m=\u001b[39m \u001b[43mExcelFile\u001b[49m\u001b[43m(\u001b[49m\n\u001b[0;32m    496\u001b[0m \u001b[43m        \u001b[49m\u001b[43mio\u001b[49m\u001b[43m,\u001b[49m\n\u001b[0;32m    497\u001b[0m \u001b[43m        \u001b[49m\u001b[43mstorage_options\u001b[49m\u001b[38;5;241;43m=\u001b[39;49m\u001b[43mstorage_options\u001b[49m\u001b[43m,\u001b[49m\n\u001b[0;32m    498\u001b[0m \u001b[43m        \u001b[49m\u001b[43mengine\u001b[49m\u001b[38;5;241;43m=\u001b[39;49m\u001b[43mengine\u001b[49m\u001b[43m,\u001b[49m\n\u001b[0;32m    499\u001b[0m \u001b[43m        \u001b[49m\u001b[43mengine_kwargs\u001b[49m\u001b[38;5;241;43m=\u001b[39;49m\u001b[43mengine_kwargs\u001b[49m\u001b[43m,\u001b[49m\n\u001b[0;32m    500\u001b[0m \u001b[43m    \u001b[49m\u001b[43m)\u001b[49m\n\u001b[0;32m    501\u001b[0m \u001b[38;5;28;01melif\u001b[39;00m engine \u001b[38;5;129;01mand\u001b[39;00m engine \u001b[38;5;241m!=\u001b[39m io\u001b[38;5;241m.\u001b[39mengine:\n\u001b[0;32m    502\u001b[0m     \u001b[38;5;28;01mraise\u001b[39;00m \u001b[38;5;167;01mValueError\u001b[39;00m(\n\u001b[0;32m    503\u001b[0m         \u001b[38;5;124m\"\u001b[39m\u001b[38;5;124mEngine should not be specified when passing \u001b[39m\u001b[38;5;124m\"\u001b[39m\n\u001b[0;32m    504\u001b[0m         \u001b[38;5;124m\"\u001b[39m\u001b[38;5;124man ExcelFile - ExcelFile already has the engine set\u001b[39m\u001b[38;5;124m\"\u001b[39m\n\u001b[0;32m    505\u001b[0m     )\n",
      "File \u001b[1;32m~\\AppData\\Local\\Programs\\Python\\Python312\\Lib\\site-packages\\pandas\\io\\excel\\_base.py:1550\u001b[0m, in \u001b[0;36mExcelFile.__init__\u001b[1;34m(self, path_or_buffer, engine, storage_options, engine_kwargs)\u001b[0m\n\u001b[0;32m   1548\u001b[0m     ext \u001b[38;5;241m=\u001b[39m \u001b[38;5;124m\"\u001b[39m\u001b[38;5;124mxls\u001b[39m\u001b[38;5;124m\"\u001b[39m\n\u001b[0;32m   1549\u001b[0m \u001b[38;5;28;01melse\u001b[39;00m:\n\u001b[1;32m-> 1550\u001b[0m     ext \u001b[38;5;241m=\u001b[39m \u001b[43minspect_excel_format\u001b[49m\u001b[43m(\u001b[49m\n\u001b[0;32m   1551\u001b[0m \u001b[43m        \u001b[49m\u001b[43mcontent_or_path\u001b[49m\u001b[38;5;241;43m=\u001b[39;49m\u001b[43mpath_or_buffer\u001b[49m\u001b[43m,\u001b[49m\u001b[43m \u001b[49m\u001b[43mstorage_options\u001b[49m\u001b[38;5;241;43m=\u001b[39;49m\u001b[43mstorage_options\u001b[49m\n\u001b[0;32m   1552\u001b[0m \u001b[43m    \u001b[49m\u001b[43m)\u001b[49m\n\u001b[0;32m   1553\u001b[0m     \u001b[38;5;28;01mif\u001b[39;00m ext \u001b[38;5;129;01mis\u001b[39;00m \u001b[38;5;28;01mNone\u001b[39;00m:\n\u001b[0;32m   1554\u001b[0m         \u001b[38;5;28;01mraise\u001b[39;00m \u001b[38;5;167;01mValueError\u001b[39;00m(\n\u001b[0;32m   1555\u001b[0m             \u001b[38;5;124m\"\u001b[39m\u001b[38;5;124mExcel file format cannot be determined, you must specify \u001b[39m\u001b[38;5;124m\"\u001b[39m\n\u001b[0;32m   1556\u001b[0m             \u001b[38;5;124m\"\u001b[39m\u001b[38;5;124man engine manually.\u001b[39m\u001b[38;5;124m\"\u001b[39m\n\u001b[0;32m   1557\u001b[0m         )\n",
      "File \u001b[1;32m~\\AppData\\Local\\Programs\\Python\\Python312\\Lib\\site-packages\\pandas\\io\\excel\\_base.py:1402\u001b[0m, in \u001b[0;36minspect_excel_format\u001b[1;34m(content_or_path, storage_options)\u001b[0m\n\u001b[0;32m   1399\u001b[0m \u001b[38;5;28;01mif\u001b[39;00m \u001b[38;5;28misinstance\u001b[39m(content_or_path, \u001b[38;5;28mbytes\u001b[39m):\n\u001b[0;32m   1400\u001b[0m     content_or_path \u001b[38;5;241m=\u001b[39m BytesIO(content_or_path)\n\u001b[1;32m-> 1402\u001b[0m \u001b[38;5;28;01mwith\u001b[39;00m \u001b[43mget_handle\u001b[49m\u001b[43m(\u001b[49m\n\u001b[0;32m   1403\u001b[0m \u001b[43m    \u001b[49m\u001b[43mcontent_or_path\u001b[49m\u001b[43m,\u001b[49m\u001b[43m \u001b[49m\u001b[38;5;124;43m\"\u001b[39;49m\u001b[38;5;124;43mrb\u001b[39;49m\u001b[38;5;124;43m\"\u001b[39;49m\u001b[43m,\u001b[49m\u001b[43m \u001b[49m\u001b[43mstorage_options\u001b[49m\u001b[38;5;241;43m=\u001b[39;49m\u001b[43mstorage_options\u001b[49m\u001b[43m,\u001b[49m\u001b[43m \u001b[49m\u001b[43mis_text\u001b[49m\u001b[38;5;241;43m=\u001b[39;49m\u001b[38;5;28;43;01mFalse\u001b[39;49;00m\n\u001b[0;32m   1404\u001b[0m \u001b[43m\u001b[49m\u001b[43m)\u001b[49m \u001b[38;5;28;01mas\u001b[39;00m handle:\n\u001b[0;32m   1405\u001b[0m     stream \u001b[38;5;241m=\u001b[39m handle\u001b[38;5;241m.\u001b[39mhandle\n\u001b[0;32m   1406\u001b[0m     stream\u001b[38;5;241m.\u001b[39mseek(\u001b[38;5;241m0\u001b[39m)\n",
      "File \u001b[1;32m~\\AppData\\Local\\Programs\\Python\\Python312\\Lib\\site-packages\\pandas\\io\\common.py:882\u001b[0m, in \u001b[0;36mget_handle\u001b[1;34m(path_or_buf, mode, encoding, compression, memory_map, is_text, errors, storage_options)\u001b[0m\n\u001b[0;32m    873\u001b[0m         handle \u001b[38;5;241m=\u001b[39m \u001b[38;5;28mopen\u001b[39m(\n\u001b[0;32m    874\u001b[0m             handle,\n\u001b[0;32m    875\u001b[0m             ioargs\u001b[38;5;241m.\u001b[39mmode,\n\u001b[1;32m   (...)\u001b[0m\n\u001b[0;32m    878\u001b[0m             newline\u001b[38;5;241m=\u001b[39m\u001b[38;5;124m\"\u001b[39m\u001b[38;5;124m\"\u001b[39m,\n\u001b[0;32m    879\u001b[0m         )\n\u001b[0;32m    880\u001b[0m     \u001b[38;5;28;01melse\u001b[39;00m:\n\u001b[0;32m    881\u001b[0m         \u001b[38;5;66;03m# Binary mode\u001b[39;00m\n\u001b[1;32m--> 882\u001b[0m         handle \u001b[38;5;241m=\u001b[39m \u001b[38;5;28;43mopen\u001b[39;49m\u001b[43m(\u001b[49m\u001b[43mhandle\u001b[49m\u001b[43m,\u001b[49m\u001b[43m \u001b[49m\u001b[43mioargs\u001b[49m\u001b[38;5;241;43m.\u001b[39;49m\u001b[43mmode\u001b[49m\u001b[43m)\u001b[49m\n\u001b[0;32m    883\u001b[0m     handles\u001b[38;5;241m.\u001b[39mappend(handle)\n\u001b[0;32m    885\u001b[0m \u001b[38;5;66;03m# Convert BytesIO or file objects passed with an encoding\u001b[39;00m\n",
      "\u001b[1;31mFileNotFoundError\u001b[0m: [Errno 2] No such file or directory: 'fusion_data'"
     ]
    }
   ],
   "source": [
    "# Ouvrir un nouveau classeur Excel\n",
    "wb = xw.Book()\n",
    "sheet = wb.sheets[0]\n",
    "\n",
    "# Charger les données des 5 fichiers Python préexistants (supposons que les fichiers s'appellent file1.xlsx, file2.xlsx et file3.xlsx)\n",
    "data_file1 = pd.read_excel('fusion_data')\n",
    "data_file2 = pd.read_excel('fig1')\n",
    "data_file3 = pd.read_excel('fig2')\n",
    "data_file4 = pd.read_excel('CA')\n",
    "data_file5 = pd.read_excel('pivot_data')\n",
    "\n",
    "# Fusionner les données dans le classeur Excel\n",
    "sheet.range('A1').value = data_file1\n",
    "sheet.range('A1').options(index=False).value = data_file2\n",
    "sheet.range('A1').options(index=False).value = data_file3\n",
    "sheet.range('A1').options(index=False).value = data_file4\n",
    "sheet.range('A1').options(index=False).value = data_file5\n",
    "\n",
    "# Enregistrer le classeur Excel avec les données fusionnées\n",
    "wb.save('Analyse_CA.xlsx')"
   ]
  },
  {
   "cell_type": "code",
   "execution_count": null,
   "id": "583ad672-eec8-4715-95ef-f5ffbdfea717",
   "metadata": {},
   "outputs": [],
   "source": [
    "Tronc avancé"
   ]
  },
  {
   "cell_type": "code",
   "execution_count": 139,
   "id": "a5cc512d-6ccc-48e2-9d80-37a9cf5743e8",
   "metadata": {},
   "outputs": [],
   "source": [
    "#Q1 \n",
    "\n",
    "# Importer les bibliothèques nécessaires\n",
    "import pandas as pd\n",
    "\n",
    "# Charger les données des ventes\n",
    "ventes = pd.read_excel(\"donnees_ventes.xlsx\")\n",
    "\n",
    "# Calculer la variance des ventes pour chaque produit\n",
    "variance_ventes = ventes.groupby('Produit')['Quantité'].var()\n",
    "\n",
    "# Trier les produits en fonction de leur variance, en ordre décroissant\n",
    "produits_fluctuants = variance_ventes.sort_values(ascending=False)\n",
    "\n",
    "# Afficher les produits dont les ventes sont les plus fluctuantes\n",
    "print(\"Produits dont les ventes sont les plus fluctuantes :\")\n",
    "print(produits_fluctuants.head())"
   ]
  },
  {
   "cell_type": "code",
   "execution_count": null,
   "id": "b1053021-958d-4f9c-a257-6f6302ff3fc9",
   "metadata": {},
   "outputs": [],
   "source": [
    "#Q2\n",
    "# Importer les bibliothèques nécessaires\n",
    "import pandas as pd\n",
    "import statsmodels.api as sm\n",
    "\n",
    "# Charger les données des ventes\n",
    "ventes = pd.read_excel(\"donnees_ventes.xlsx\")\n",
    "\n",
    "# Diviser les données en variables indépendantes (X) et dépendantes (y)\n",
    "X = ventes['Prix unitaire']\n",
    "y = ventes['Quantité']\n",
    "\n",
    "# Ajouter une constante à la variable indépendante (intercept)\n",
    "X = sm.add_constant(X)\n",
    "\n",
    "# Effectuer une régression linéaire\n",
    "modele = sm.OLS(y, X).fit()\n",
    "\n",
    "# Afficher les résultats de la régression\n",
    "print(modele.summary())"
   ]
  },
  {
   "cell_type": "code",
   "execution_count": null,
   "id": "f91936e4-7836-4034-ab31-6636e7003256",
   "metadata": {},
   "outputs": [],
   "source": [
    "#Q3\n",
    "# Importer les bibliothèques nécessaires\n",
    "import pandas as pd\n",
    "from scipy import stats\n",
    "\n",
    "# Charger les données des ventes\n",
    "ventes = pd.read_excel(\"donnees_ventes.xlsx\")\n",
    "\n",
    "# Diviser les ventes en deux groupes : premier trimestre et dernier trimestre\n",
    "premier_trimestre = ventes[ventes['Date'].dt.quarter == 1]['Chiffre d\\'Affaire']\n",
    "dernier_trimestre = ventes[ventes['Date'].dt.quarter == 4]['Chiffre d\\'Affaire']\n",
    "\n",
    "# Effectuer un test t de Student pour comparer les moyennes des deux groupes\n",
    "t_stat, p_value = stats.ttest_ind(premier_trimestre, dernier_trimestre)\n",
    "\n",
    "# Afficher le résultat du test\n",
    "print(\"Statistique de test t :\", t_stat)\n",
    "print(\"Valeur p :\", p_value)\n",
    "\n",
    "# Interpréter le résultat\n",
    "alpha = 0.05\n",
    "if p_value < alpha:\n",
    "    print(\"La différence entre les ventes du premier trimestre et celles du dernier trimestre est significative.\")\n",
    "else:\n",
    "    print(\"La différence entre les ventes du premier trimestre et celles du dernier trimestre n'est pas significative.\")"
   ]
  }
 ],
 "metadata": {
  "kernelspec": {
   "display_name": "Python 3 (ipykernel)",
   "language": "python",
   "name": "python3"
  },
  "language_info": {
   "codemirror_mode": {
    "name": "ipython",
    "version": 3
   },
   "file_extension": ".py",
   "mimetype": "text/x-python",
   "name": "python",
   "nbconvert_exporter": "python",
   "pygments_lexer": "ipython3",
   "version": "3.12.2"
  }
 },
 "nbformat": 4,
 "nbformat_minor": 5
}
