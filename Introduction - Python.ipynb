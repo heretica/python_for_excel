{
 "cells": [
  {
   "cell_type": "markdown",
   "metadata": {},
   "source": [
    "## Introduction to Python programming "
   ]
  },
  {
   "cell_type": "markdown",
   "metadata": {},
   "source": [
    "Jupyter is a IDE, simply a user interface (there is many you could use), that allows you to separate the code in blocks. To run a block press '*Crtl + Enter*' and to run code and open a new block below press '*Maj + Enter*'. Since the code is ran by blocks, Jupyter helps you to remember the order with which you ran your code by giving you the number between brackets on the left of the block"
   ]
  },
  {
   "cell_type": "markdown",
   "metadata": {},
   "source": [
    "The order of the block of code you run is the most important since you can use multiple time identical elements or function from different packages. So be sure to keep in mind the order of your blocks. If you need to restart all of your code, you can click on **Kernel** above and restart it to clear all outputs and reset all variables. "
   ]
  },
  {
   "cell_type": "markdown",
   "metadata": {},
   "source": [
    "If you want to delete a block of code manually, select the block and click on the **scissors** above. You can add a new block manually by pressing the + above. "
   ]
  },
  {
   "cell_type": "markdown",
   "metadata": {},
   "source": [
    "Usually, python files are saved under `.py `. However, Jupyter Notebooks are under `.ipynb`"
   ]
  },
  {
   "cell_type": "markdown",
   "metadata": {},
   "source": [
    "### Affectation "
   ]
  },
  {
   "cell_type": "markdown",
   "metadata": {},
   "source": [
    "We assign values to variables using `=`. You don't need to specify the variable type before (as opposed to C programming), python will understand the type of variable by itself. "
   ]
  },
  {
   "cell_type": "code",
   "execution_count": null,
   "metadata": {},
   "outputs": [],
   "source": [
    "# String \n",
    "x_1 = \"Bonjour\"\n",
    "\n",
    "# Integer \n",
    "x_2 = 2 \n",
    "\n",
    "# Float \n",
    "x_3 = 2.1 \n",
    "\n",
    "# Boolean \n",
    "x_4 = True \n",
    "\n",
    "# Complex \n",
    "x_5 = (2+9j)"
   ]
  },
  {
   "cell_type": "markdown",
   "metadata": {},
   "source": [
    "You can always check the type of the variable by using the function `type()`. And you can also force a type on a variable. "
   ]
  },
  {
   "cell_type": "code",
   "execution_count": null,
   "metadata": {},
   "outputs": [],
   "source": [
    "type(x_2)"
   ]
  },
  {
   "cell_type": "code",
   "execution_count": null,
   "metadata": {},
   "outputs": [],
   "source": [
    "float(x_2)"
   ]
  },
  {
   "cell_type": "markdown",
   "metadata": {},
   "source": [
    "### Operations and Comparaisons "
   ]
  },
  {
   "cell_type": "markdown",
   "metadata": {},
   "source": [
    "You can, of course, change variables and use them in order to make computation by using the usual mathemtical operators. Note that putting a number to a power in python isn't `^` but `**`!"
   ]
  },
  {
   "cell_type": "code",
   "execution_count": null,
   "metadata": {},
   "outputs": [],
   "source": [
    "# Adding, substracting, multiplying, dividing, powers \n",
    "z = (1 + 2)/x_2 * x_2**2  \n",
    "z"
   ]
  },
  {
   "cell_type": "code",
   "execution_count": null,
   "metadata": {},
   "outputs": [],
   "source": [
    "# Integer only division \n",
    "print(12//4.7)\n",
    "\n",
    "# Usual division \n",
    "print(12/4.7)"
   ]
  },
  {
   "cell_type": "markdown",
   "metadata": {},
   "source": [
    "When comparing numbers between them, the result type will be boolean. If the statement is wrong then the result will be `False` and the other way around if the statement is true. "
   ]
  },
  {
   "cell_type": "code",
   "execution_count": null,
   "metadata": {},
   "outputs": [],
   "source": [
    "# Comparing two numbers \n",
    "\n",
    "#more \n",
    "2 > 1\n",
    "\n",
    "#less or equal \n",
    "3 <= 1 \n",
    "\n",
    "#different \n",
    "2 != 1\n",
    "\n",
    "#equal \n",
    "4 == 6 "
   ]
  },
  {
   "cell_type": "markdown",
   "metadata": {},
   "source": [
    "### Lists, strings and dictionnaries "
   ]
  },
  {
   "cell_type": "markdown",
   "metadata": {},
   "source": [
    "When assigning a textual value to a variable you create a *string*. A string is composed of *characters*. You can still put numbers in a string but they will interpreted as text, so you will not be able to perform operations with them. A *list* is a combinaison of multiple elements. Each of the elements can be any type of variable possible (*string*, *integer*, *float*, ...). If you create a list and populate it with other lists, we are called this a *nested list*.  "
   ]
  },
  {
   "cell_type": "code",
   "execution_count": null,
   "metadata": {},
   "outputs": [],
   "source": [
    "#string\n",
    "s = \"Hello there\"\n",
    "print(s)"
   ]
  },
  {
   "cell_type": "markdown",
   "metadata": {},
   "source": [
    "When asking your the length of a varialbe, you can use the function `len()`. Length of a string will be the amount of characters inside. A of list, will be the amount of item/varialbes inside."
   ]
  },
  {
   "cell_type": "code",
   "execution_count": null,
   "metadata": {},
   "outputs": [],
   "source": [
    "# Length of a string \n",
    "len(s)"
   ]
  },
  {
   "cell_type": "code",
   "execution_count": null,
   "metadata": {},
   "outputs": [],
   "source": [
    "# Acces a specific item in your string, start at 0 !\n",
    "print(s[1]) \n",
    "\n",
    "# Or multiple \n",
    "print(s[2:6])"
   ]
  },
  {
   "cell_type": "code",
   "execution_count": null,
   "metadata": {},
   "outputs": [],
   "source": [
    "# Replace part of the string \n",
    "s.replace(\"there\", \"beauty\")"
   ]
  },
  {
   "cell_type": "markdown",
   "metadata": {},
   "source": [
    "You always define a *list* with brackets. You can leave it empty first and then populate it using the function `append()` or you can define right away the values inside your list. "
   ]
  },
  {
   "cell_type": "code",
   "execution_count": null,
   "metadata": {},
   "outputs": [],
   "source": [
    "# Define at assignement\n",
    "l = list([1,4,3])\n",
    "l1 = [1, 2, 3, 'Hey !']\n",
    "\n",
    "# Define later\n",
    "l2 = []\n",
    "l2.append(23)\n",
    "l2.append(\"NO WAY\")\n",
    "\n",
    "print(l)\n",
    "print(l1)\n",
    "print(l2)"
   ]
  },
  {
   "cell_type": "code",
   "execution_count": null,
   "metadata": {},
   "outputs": [],
   "source": [
    "# length of a list \n",
    "len(l1)"
   ]
  },
  {
   "cell_type": "code",
   "execution_count": null,
   "metadata": {},
   "outputs": [],
   "source": [
    "# Get an item inside a list \n",
    "l1[1]"
   ]
  },
  {
   "cell_type": "code",
   "execution_count": null,
   "metadata": {},
   "outputs": [],
   "source": [
    "# Get the item of a list and specific elements of this item \n",
    "l2[1][2:4]"
   ]
  },
  {
   "cell_type": "code",
   "execution_count": null,
   "metadata": {},
   "outputs": [],
   "source": [
    "# using the function range can be useful \n",
    "l3 = list(range(1,10))\n",
    "l3"
   ]
  },
  {
   "cell_type": "code",
   "execution_count": null,
   "metadata": {},
   "outputs": [],
   "source": [
    "# sort and reverse a list \n",
    "l3.sort(reverse=True)\n",
    "l3"
   ]
  },
  {
   "cell_type": "code",
   "execution_count": null,
   "metadata": {},
   "outputs": [],
   "source": [
    "# remove an element from a list \n",
    "del l3[1]\n",
    "l3"
   ]
  },
  {
   "cell_type": "markdown",
   "metadata": {},
   "source": [
    "Tuples are similar to lists but cannot be modified once created. They usually take the form `(...., ....)`. "
   ]
  },
  {
   "cell_type": "code",
   "execution_count": null,
   "metadata": {},
   "outputs": [],
   "source": [
    "coord = (10, 30)\n",
    "type(coord)"
   ]
  },
  {
   "cell_type": "code",
   "execution_count": null,
   "metadata": {},
   "outputs": [],
   "source": [
    "# retrieve values stored in tuple\n",
    "x, y = coord\n",
    "print(x, y)"
   ]
  },
  {
   "cell_type": "markdown",
   "metadata": {},
   "source": [
    "Dictionnaries can be really useful, especially when dealing with textual data. A *dictionnary* assign a value (textual or numerical) to another item (textual or numerical). "
   ]
  },
  {
   "cell_type": "code",
   "execution_count": null,
   "metadata": {},
   "outputs": [],
   "source": [
    "# Create a dictionnary with data\n",
    "d = {'hello':1, 'beauy':2}\n",
    "d"
   ]
  },
  {
   "cell_type": "code",
   "execution_count": null,
   "metadata": {},
   "outputs": [],
   "source": [
    "# Create an empty dictionnary and fill it up\n",
    "d1 = {}\n",
    "d1['hello'] = 1\n",
    "d1['beauty'] = 2\n",
    "d1"
   ]
  },
  {
   "cell_type": "code",
   "execution_count": null,
   "metadata": {},
   "outputs": [],
   "source": [
    "#transform one value to another using a dictionnary using get()\n",
    "d1.get(\"beauty\")"
   ]
  },
  {
   "cell_type": "markdown",
   "metadata": {},
   "source": [
    "### Structure of loops and conditions"
   ]
  },
  {
   "cell_type": "markdown",
   "metadata": {},
   "source": [
    "The displacement is of first importance when you create loops or conditions in your code in python. Usually the loop will execute everything that as a '*Tab*' displacement starting from the first line below the definition of the loop. The **for** loops are always defined first by assigning an iterative variable (a variable who's value will change over each iterative the for loop goes) and a range of values (textual or numerical) in which the iterative variable will go through. "
   ]
  },
  {
   "cell_type": "code",
   "execution_count": null,
   "metadata": {},
   "outputs": [],
   "source": [
    "# Making i going from 1 to 9\n",
    "for i in range(1,10):\n",
    "    print(i)"
   ]
  },
  {
   "cell_type": "code",
   "execution_count": null,
   "metadata": {},
   "outputs": [],
   "source": [
    "# Iteratively assign the item of a list to i\n",
    "l5 = list(['bon', 'pas bon', 'mouarf', 'why not', 'hell no'])\n",
    "for i in l5:\n",
    "    print(i)"
   ]
  },
  {
   "cell_type": "markdown",
   "metadata": {},
   "source": [
    "More advanced structure of code requires something multiple loops. In this case, be sure to change the name of the iterative variable. "
   ]
  },
  {
   "cell_type": "code",
   "execution_count": null,
   "metadata": {},
   "outputs": [],
   "source": [
    "for i in range(1,4):\n",
    "    for j in range(1,4):\n",
    "        print(i,j)"
   ]
  },
  {
   "cell_type": "markdown",
   "metadata": {},
   "source": [
    "While loops go on infinitely as long as the condition precised is fulfilled."
   ]
  },
  {
   "cell_type": "code",
   "execution_count": null,
   "metadata": {},
   "outputs": [],
   "source": [
    "x = 0 \n",
    "\n",
    "while x<10:\n",
    "    print(x)\n",
    "    x += 1       # Add 1 to the existing value of x"
   ]
  },
  {
   "cell_type": "code",
   "execution_count": null,
   "metadata": {},
   "outputs": [],
   "source": [
    "# if, elif and else \n",
    "x = 20 \n",
    "\n",
    "if x != 20: \n",
    "    print('not good')\n",
    "    \n",
    "elif x > 25: \n",
    "    print('well, that is large')\n",
    "    \n",
    "else: \n",
    "    print('I give up')"
   ]
  },
  {
   "cell_type": "markdown",
   "metadata": {},
   "source": [
    "User defined functions are a major part of programming in python. Most of the function we usually use come from packages, but there is always a need for a specific operations, computation. And in this case, you can define yourself a function in order to cut down the length of your code. It improves readability, efficiency and re-usability ! "
   ]
  },
  {
   "cell_type": "code",
   "execution_count": null,
   "metadata": {},
   "outputs": [],
   "source": [
    "# Simply defining a function to square an exisiting number, (even though it is already designed)\n",
    "def my_square(x): \n",
    "    square_value = x**2 \n",
    "    return square_value \n",
    "\n",
    "my_square(5)"
   ]
  },
  {
   "cell_type": "markdown",
   "metadata": {},
   "source": [
    "When talking about re-usability (with how much ease someone else can use your code without you explaining everything), it is important to comment a lot (by using `#`) and to precise the goal of a function. You can do it by introducing a long text at the beginning of the function. And then, using the function `help()` to access it afterwards."
   ]
  },
  {
   "cell_type": "code",
   "execution_count": null,
   "metadata": {},
   "outputs": [],
   "source": [
    "def all_stuff(x):\n",
    "    \"\"\"\n",
    "    Perform the square and square root of a number !\n",
    "    \"\"\"\n",
    "    return x**2, x*(1/2)\n",
    "\n",
    "help(all_stuff)"
   ]
  },
  {
   "cell_type": "code",
   "execution_count": null,
   "metadata": {},
   "outputs": [],
   "source": [
    "# put by default values in your function\n",
    "def square_to(x, exponent=2):\n",
    "    \"\"\"\n",
    "    Put x to the power exponent ! \n",
    "    \"\"\"\n",
    "    return x**(exponent)\n",
    "\n",
    "square_to(25)"
   ]
  },
  {
   "cell_type": "markdown",
   "metadata": {},
   "source": [
    "## Catching Errors"
   ]
  },
  {
   "cell_type": "markdown",
   "metadata": {},
   "source": [
    "Sometime we need to continue tasks even if sometimes we get errors in the execution of a task"
   ]
  },
  {
   "cell_type": "code",
   "execution_count": null,
   "metadata": {
    "scrolled": true
   },
   "outputs": [],
   "source": [
    "# put by default values in your function\n",
    "def division(x, y):\n",
    "    \"\"\"\n",
    "    Put x to the power exponent ! \n",
    "    \"\"\"\n",
    "    result=0\n",
    "    try:\n",
    "        result = x/y\n",
    "    except Exception as err:\n",
    "        print(err)\n",
    "        result=0\n",
    "    return result\n",
    "\n",
    "division(10, 0)"
   ]
  },
  {
   "cell_type": "markdown",
   "metadata": {},
   "source": [
    "## Opening Files"
   ]
  },
  {
   "cell_type": "markdown",
   "metadata": {},
   "source": [
    "We can read, write or Append (adding information) to a file"
   ]
  },
  {
   "cell_type": "code",
   "execution_count": 29,
   "metadata": {},
   "outputs": [
    {
     "name": "stdout",
     "output_type": "stream",
     "text": [
      "\n"
     ]
    }
   ],
   "source": [
    "file = open(\"myFile.txt\", \"r\")\n",
    "print(file.read())\n",
    "appendFile.close()"
   ]
  },
  {
   "cell_type": "code",
   "execution_count": 30,
   "metadata": {},
   "outputs": [],
   "source": [
    "writeFile = open(\"myFile.txt\", \"w\")\n",
    "appendFile = open(\"myFile.txt\", \"a\")\n",
    "appendFile.write(\"My new text\")\n",
    "appendFile.close()"
   ]
  },
  {
   "cell_type": "markdown",
   "metadata": {},
   "source": [
    "## We can do better"
   ]
  },
  {
   "cell_type": "code",
   "execution_count": null,
   "metadata": {},
   "outputs": [],
   "source": [
    "with open('myFile.txt', 'r') as file:\n",
    "    print(file.read())\n",
    "    file.close()"
   ]
  },
  {
   "cell_type": "markdown",
   "metadata": {},
   "source": [
    "## Creating a useful file example"
   ]
  },
  {
   "cell_type": "code",
   "execution_count": null,
   "metadata": {},
   "outputs": [],
   "source": [
    "with open('operations.txt', 'w') as fichier:\n",
    "    for i  in range(10):\n",
    "        fichier.write(f\"{i}^2= {i**2} \\n\")"
   ]
  },
  {
   "cell_type": "markdown",
   "metadata": {},
   "source": [
    "## MODULES AND PACKAGES"
   ]
  },
  {
   "cell_type": "markdown",
   "metadata": {},
   "source": [
    "A module is List of functions ready to use"
   ]
  },
  {
   "cell_type": "code",
   "execution_count": null,
   "metadata": {},
   "outputs": [],
   "source": [
    "import myFunctions\n",
    "myFunctions.fibonacci(50)\n",
    "# We can import only the needed function\n",
    "from myFunctions import fibonacci\n",
    "fibonacci(100)\n",
    "\n",
    "#We can also give a surname to short the names of packages\n",
    "import myFunctions as fn\n",
    "list = fn.fibonacci(200)\n",
    "list"
   ]
  },
  {
   "cell_type": "markdown",
   "metadata": {},
   "source": [
    "From Python"
   ]
  },
  {
   "cell_type": "code",
   "execution_count": null,
   "metadata": {},
   "outputs": [],
   "source": [
    "import math\n",
    "import random\n",
    "import statistics\n",
    "import glob\n",
    "\n",
    "list = [8000, 10000, 5000, 7000]\n",
    "print('PI', math.pi)\n",
    "print('LISTE', statistics.stdev(list))\n",
    "print('VARIANCE', statistics.variance(list))\n",
    "print('ECHANTILLON', random.sample(list, 3))\n",
    "allFiles = glob.glob(\"*.txt\")\n",
    "for file in allFiles:\n",
    "    with open(file, 'r') as f:\n",
    "        print('FILES', f.read())"
   ]
  },
  {
   "cell_type": "markdown",
   "metadata": {},
   "source": [
    "# Coming soon"
   ]
  },
  {
   "cell_type": "markdown",
   "metadata": {},
   "source": [
    "- Classes\n",
    "- Objects\n",
    "- Inheritance"
   ]
  }
 ],
 "metadata": {
  "kernelspec": {
   "display_name": "Python 2",
   "language": "python",
   "name": "python2"
  },
  "language_info": {
   "codemirror_mode": {
    "name": "ipython",
    "version": 2
   },
   "file_extension": ".py",
   "mimetype": "text/x-python",
   "name": "python",
   "nbconvert_exporter": "python",
   "pygments_lexer": "ipython2",
   "version": "2.7.15"
  }
 },
 "nbformat": 4,
 "nbformat_minor": 2
}
