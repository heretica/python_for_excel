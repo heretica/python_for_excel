{
 "cells": [
  {
   "cell_type": "markdown",
   "id": "5b6473ad-f058-4f73-a7f4-152e94f54e3c",
   "metadata": {},
   "source": [
    "# Les bases pour faire interagir Excel avec Python"
   ]
  },
  {
   "cell_type": "markdown",
   "id": "338d8d64-80c0-49f4-b76e-0ef57b2aa2b7",
   "metadata": {},
   "source": [
    "## Tableur VS. Structures de données\n",
    "\n",
    "Quand Excel nous fait interagir avec des **tableurs** 👇"
   ]
  },
  {
   "cell_type": "markdown",
   "id": "47ee8747-d43e-4f8c-b021-06b60089b3d3",
   "metadata": {},
   "source": [
    "<img src=\"media/tableurs.png\" width=\"500\"/>"
   ]
  },
  {
   "cell_type": "markdown",
   "id": "6f66eea1-b24a-4443-975e-d80c683036e1",
   "metadata": {},
   "source": [
    "Python nous fait plutôt manipuler des **structures de données** 👇 "
   ]
  },
  {
   "cell_type": "code",
   "execution_count": 4,
   "id": "ab71b5b2-dd98-4174-8923-2f9d64a15ee0",
   "metadata": {},
   "outputs": [
    {
     "name": "stdout",
     "output_type": "stream",
     "text": [
      "[1001, 'Mark', 55, 'Italy', 4.5, 'Europe']\n"
     ]
    }
   ],
   "source": [
    "# des listes\n",
    "l = list([1001,\"Mark\",55,\"Italy\", 4.5, \"Europe\"])\n",
    "print(l)"
   ]
  },
  {
   "cell_type": "code",
   "execution_count": 14,
   "id": "23a907b9-526c-4d7f-b0ca-31f0f3f3714d",
   "metadata": {},
   "outputs": [
    {
     "name": "stdout",
     "output_type": "stream",
     "text": [
      "(1001, 'Mark', 55, 'Italy', 4.5, 'Europe')\n"
     ]
    }
   ],
   "source": [
    "# des tuples\n",
    "t = (1001,\"Mark\",55,\"Italy\", 4.5, \"Europe\")\n",
    "print(t)"
   ]
  },
  {
   "cell_type": "code",
   "execution_count": 10,
   "id": "5f1c8ed5-c9b7-4dba-9cf4-259cc981dbc8",
   "metadata": {},
   "outputs": [
    {
     "name": "stdout",
     "output_type": "stream",
     "text": [
      "{1001: {'name': 'Mark', 'age': 55, 'country': 'Italy', 'score': '4.5', 'continent': 'Europe'}}\n"
     ]
    }
   ],
   "source": [
    "# des dictionnaires\n",
    "d = {1001:{'name':'Mark', 'age':55,'country':'Italy','score':'4.5', 'continent':'Europe'}}\n",
    "print(d)"
   ]
  },
  {
   "cell_type": "code",
   "execution_count": 12,
   "id": "27b13044-0125-4677-9eb9-78a4266a93c9",
   "metadata": {},
   "outputs": [
    {
     "name": "stdout",
     "output_type": "stream",
     "text": [
      "{'America', 'Europe', 'Amercia'}\n"
     ]
    }
   ],
   "source": [
    "# des sets\n",
    "s = set([\"Europe\", \"America\",\"Amercia\", \"Europe\"])\n",
    "print(s)"
   ]
  },
  {
   "cell_type": "code",
   "execution_count": null,
   "id": "061d27bb-de30-40c7-89de-636326135d10",
   "metadata": {},
   "outputs": [],
   "source": [
    "..."
   ]
  },
  {
   "cell_type": "code",
   "execution_count": null,
   "id": "9596c5bd-bdfb-44b4-a278-6aae7d4ea83b",
   "metadata": {},
   "outputs": [],
   "source": [
    "..."
   ]
  },
  {
   "cell_type": "code",
   "execution_count": null,
   "id": "424e25a1-6b27-403c-be6b-d79515b3f40b",
   "metadata": {},
   "outputs": [],
   "source": [
    "..."
   ]
  },
  {
   "cell_type": "markdown",
   "id": "6285b75f-48ab-4405-8566-4ffdc6fced20",
   "metadata": {},
   "source": [
    "# Lignes/colonnes VS. Index"
   ]
  },
  {
   "cell_type": "markdown",
   "id": "d7f16a90-e771-4226-87cf-552b4aec5976",
   "metadata": {},
   "source": [
    "Quand Excel nous fait interagir avec **des lignes et des colonnes** 👇"
   ]
  },
  {
   "cell_type": "markdown",
   "id": "a722a28d-8873-4464-8653-86f78a4a0656",
   "metadata": {},
   "source": [
    "<img src=\"media/lignes_colonnes.png\" width=\"500\"/>"
   ]
  },
  {
   "cell_type": "markdown",
   "id": "f834c406-09a4-4046-80af-280dbf2b001d",
   "metadata": {},
   "source": [
    "Python nous fait manipuler des éléments présents au sein des structures de données et identifiables grâce à leur **index** 👇"
   ]
  },
  {
   "cell_type": "markdown",
   "id": "f35bd364-f748-48d7-ab09-e21fd0276234",
   "metadata": {},
   "source": [
    "<img src=\"media/index.png\" width=\"500\"/>"
   ]
  },
  {
   "cell_type": "code",
   "execution_count": 19,
   "id": "7a8b6693-3b20-4477-81f6-8bc615357e9b",
   "metadata": {},
   "outputs": [
    {
     "name": "stdout",
     "output_type": "stream",
     "text": [
      "1001\n"
     ]
    }
   ],
   "source": [
    "print(l[0])"
   ]
  },
  {
   "cell_type": "code",
   "execution_count": 21,
   "id": "bba37004-cf12-4357-8edb-1025d9316681",
   "metadata": {},
   "outputs": [
    {
     "name": "stdout",
     "output_type": "stream",
     "text": [
      "Mark\n"
     ]
    }
   ],
   "source": [
    "print(t[1])"
   ]
  },
  {
   "cell_type": "code",
   "execution_count": 23,
   "id": "f27e8725-adf3-4f19-9710-981dc07e7cb6",
   "metadata": {},
   "outputs": [
    {
     "name": "stdout",
     "output_type": "stream",
     "text": [
      "{'name': 'Mark', 'age': 55, 'country': 'Italy', 'score': '4.5', 'continent': 'Europe'}\n"
     ]
    }
   ],
   "source": [
    "print(d[1001])"
   ]
  },
  {
   "cell_type": "code",
   "execution_count": null,
   "id": "c2c31fc8-1918-49be-88d3-0710bcfe7288",
   "metadata": {},
   "outputs": [],
   "source": []
  },
  {
   "cell_type": "code",
   "execution_count": null,
   "id": "c7a05c5b-aa08-43fd-b031-2f661379e8c2",
   "metadata": {},
   "outputs": [],
   "source": []
  },
  {
   "cell_type": "code",
   "execution_count": null,
   "id": "6c801841-6799-43d3-b111-43e2de1200aa",
   "metadata": {},
   "outputs": [],
   "source": []
  },
  {
   "cell_type": "markdown",
   "id": "24cb530e-5784-4401-8250-651ae957b652",
   "metadata": {},
   "source": [
    "# Ajouter/Supprimer VS. Slicing"
   ]
  },
  {
   "cell_type": "markdown",
   "id": "24a43234-e735-4e6c-b622-c0d5eb098737",
   "metadata": {},
   "source": [
    "Quand Excel nous amène à **ajouter/supprimer** des lignes et colonnes pour sélectionner un sous-ensemble de données 👇"
   ]
  },
  {
   "cell_type": "markdown",
   "id": "22722166-d3e6-4a57-b6b7-2558879ab375",
   "metadata": {},
   "source": [
    "<img src=\"media/ajout:suppression.png\" width=\"500\"/>"
   ]
  },
  {
   "cell_type": "markdown",
   "id": "820c95e1-aa4e-4625-80de-08bcb3a15b3a",
   "metadata": {},
   "source": [
    "Python nous permet de **découper** (_slice_) des sous-ensembles de données en utilisant l'index 👇"
   ]
  },
  {
   "cell_type": "code",
   "execution_count": 29,
   "id": "2737f993-e0ae-42df-9234-3a2d768d5dab",
   "metadata": {},
   "outputs": [
    {
     "name": "stdout",
     "output_type": "stream",
     "text": [
      "[1001, 'Mark', 55]\n"
     ]
    }
   ],
   "source": [
    "print(l[0:3])"
   ]
  },
  {
   "cell_type": "code",
   "execution_count": 30,
   "id": "958a978c-3708-4428-8589-a7e086c6130b",
   "metadata": {},
   "outputs": [
    {
     "name": "stdout",
     "output_type": "stream",
     "text": [
      "('Mark', 55, 'Italy')\n"
     ]
    }
   ],
   "source": [
    "print(t[1:4])"
   ]
  },
  {
   "cell_type": "markdown",
   "id": "ac70ef73-986e-476d-ab77-0ea0c6e8af99",
   "metadata": {},
   "source": [
    "..."
   ]
  },
  {
   "cell_type": "code",
   "execution_count": null,
   "id": "dd90be1e-1efb-48ef-a1fb-bec067b264a9",
   "metadata": {},
   "outputs": [],
   "source": [
    "..."
   ]
  },
  {
   "cell_type": "markdown",
   "id": "af6d22db-1551-4105-8396-fd065f297f76",
   "metadata": {},
   "source": [
    "## Format VS. Type de données"
   ]
  },
  {
   "cell_type": "markdown",
   "id": "2fb4e70a-c1ac-4fb9-beb3-24f713b2c9c4",
   "metadata": {},
   "source": [
    "Quand Excel nous demande de spécifier le **format** d'une cellule 👇"
   ]
  },
  {
   "cell_type": "markdown",
   "id": "305e7b11-2f92-42ff-b326-3faed20fb9c6",
   "metadata": {},
   "source": [
    "<img src=\"media/format.png\" width=\"500\"/>"
   ]
  },
  {
   "cell_type": "markdown",
   "id": "604b0af8-7e17-411b-809e-353faa8e9448",
   "metadata": {},
   "source": [
    "Python nous amène à assigner des **types** aux données"
   ]
  },
  {
   "cell_type": "code",
   "execution_count": 32,
   "id": "30bbaa19-088b-4f61-9960-ff1e15a0a3fa",
   "metadata": {},
   "outputs": [
    {
     "name": "stdout",
     "output_type": "stream",
     "text": [
      "<class 'int'>\n"
     ]
    }
   ],
   "source": [
    "print(type(l[0]))"
   ]
  },
  {
   "cell_type": "code",
   "execution_count": 36,
   "id": "9e9a941e-428c-44e3-9dec-bca19fec8147",
   "metadata": {},
   "outputs": [
    {
     "name": "stdout",
     "output_type": "stream",
     "text": [
      "<class 'str'>\n"
     ]
    }
   ],
   "source": [
    "print(type(l[1]))"
   ]
  },
  {
   "cell_type": "code",
   "execution_count": 34,
   "id": "31aa5cfe-e7de-4d40-80c8-f6a5e2437ccc",
   "metadata": {},
   "outputs": [
    {
     "name": "stdout",
     "output_type": "stream",
     "text": [
      "<class 'list'>\n"
     ]
    }
   ],
   "source": [
    "print(type(l[0:1]))"
   ]
  },
  {
   "cell_type": "code",
   "execution_count": null,
   "id": "ea310b75-4c6f-4282-b991-1209011bb4d7",
   "metadata": {},
   "outputs": [],
   "source": []
  },
  {
   "cell_type": "code",
   "execution_count": null,
   "id": "36c1fa6a-745b-49d0-9807-2008f0272fe1",
   "metadata": {},
   "outputs": [],
   "source": []
  },
  {
   "cell_type": "markdown",
   "id": "adc7b72b-c8d1-4695-bdc3-e522503b75c0",
   "metadata": {},
   "source": [
    "# Mise en pratique "
   ]
  },
  {
   "cell_type": "markdown",
   "id": "8c354f2c-f028-4508-84cf-80ad5d9a44f3",
   "metadata": {},
   "source": [
    "Quand on commence à faire des tableaux de bord et calculs avec Excel, on se trouve nécessairement bloqué par une faute de frappe ou une cellule avec le mauvais format. On peut littéralement passer des heures à chercher cette erreur. \n",
    "\n",
    "Passer via Python peut permettre d'éviter cela, et donc de s'éviter des prises de tête. "
   ]
  },
  {
   "cell_type": "markdown",
   "id": "3c9b9bcd-078d-4ed2-96c8-ec892db08e4a",
   "metadata": {},
   "source": [
    "## Valider le type de données (Input)"
   ]
  },
  {
   "cell_type": "code",
   "execution_count": 40,
   "id": "256c2abe-6d58-419a-a2c1-c1062d6843dd",
   "metadata": {},
   "outputs": [],
   "source": [
    "import pyinputplus as pyip"
   ]
  },
  {
   "cell_type": "code",
   "execution_count": 41,
   "id": "dc90d21e-41e7-49d2-aaa9-bc15829dfe51",
   "metadata": {},
   "outputs": [
    {
     "name": "stdin",
     "output_type": "stream",
     "text": [
      " five\n"
     ]
    },
    {
     "name": "stdout",
     "output_type": "stream",
     "text": [
      "'five' is not a number.\n"
     ]
    },
    {
     "name": "stdin",
     "output_type": "stream",
     "text": [
      " 5\n"
     ]
    }
   ],
   "source": [
    "response = pyip.inputNum()"
   ]
  },
  {
   "cell_type": "code",
   "execution_count": 44,
   "id": "98e5daf1-e31d-4978-9bbd-ce89f5aa27af",
   "metadata": {},
   "outputs": [
    {
     "name": "stdin",
     "output_type": "stream",
     "text": [
      " [0,1]\n"
     ]
    }
   ],
   "source": [
    "response = pyip.inputStr() "
   ]
  },
  {
   "cell_type": "markdown",
   "id": "0fb42729-97d3-4d10-81cc-8dc976d2c08f",
   "metadata": {},
   "source": [
    "## Ajouter les données validées aux sructures de données"
   ]
  },
  {
   "cell_type": "code",
   "execution_count": null,
   "id": "e38dc2f6-8e7d-419a-ba1f-932230e51d27",
   "metadata": {},
   "outputs": [],
   "source": []
  },
  {
   "cell_type": "code",
   "execution_count": null,
   "id": "1a6310c0-80ae-4a46-b497-a9aebcbd391a",
   "metadata": {},
   "outputs": [],
   "source": []
  },
  {
   "cell_type": "markdown",
   "id": "f3158573-bd9d-456a-9bec-e64dcfde32c9",
   "metadata": {},
   "source": [
    "## Envoyer les données dans un tableur Excel"
   ]
  },
  {
   "cell_type": "code",
   "execution_count": null,
   "id": "49bb543f-88f6-4c39-8c78-bb96022d49fc",
   "metadata": {},
   "outputs": [],
   "source": []
  },
  {
   "cell_type": "code",
   "execution_count": null,
   "id": "98768289-7df1-44ba-9e69-e7069bfc8b21",
   "metadata": {},
   "outputs": [],
   "source": []
  },
  {
   "cell_type": "markdown",
   "id": "b6dfd514-2203-4ad8-b801-37bbc60abaca",
   "metadata": {},
   "source": [
    "## Vérifier le type des données provenant d'un tableur Excel"
   ]
  },
  {
   "cell_type": "code",
   "execution_count": null,
   "id": "95757016-487e-4c3d-8c2b-a371abadb58b",
   "metadata": {},
   "outputs": [],
   "source": []
  },
  {
   "cell_type": "code",
   "execution_count": null,
   "id": "9be9987e-6ea9-4643-8183-fe51ab006217",
   "metadata": {},
   "outputs": [],
   "source": []
  }
 ],
 "metadata": {
  "kernelspec": {
   "display_name": "Python 3 (ipykernel)",
   "language": "python",
   "name": "python3"
  },
  "language_info": {
   "codemirror_mode": {
    "name": "ipython",
    "version": 3
   },
   "file_extension": ".py",
   "mimetype": "text/x-python",
   "name": "python",
   "nbconvert_exporter": "python",
   "pygments_lexer": "ipython3",
   "version": "3.11.5"
  }
 },
 "nbformat": 4,
 "nbformat_minor": 5
}
