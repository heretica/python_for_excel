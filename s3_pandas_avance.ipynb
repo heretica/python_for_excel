{
 "cells": [
  {
   "cell_type": "markdown",
   "id": "4af4f862-d2c6-4f75-9c60-e76c1c118136",
   "metadata": {},
   "source": [
    "# Pandas avancé"
   ]
  },
  {
   "cell_type": "markdown",
   "id": "dcfdc4d0-ca6e-45b6-9f9e-5f4a1a430846",
   "metadata": {},
   "source": [
    "## Groupby\n",
    "\n",
    "La mécanique du groupby suit une logique dite de `split-apply-combine`\n",
    "\n",
    "<img src=\"media/groupby.png\" width=\"500\"/>"
   ]
  },
  {
   "cell_type": "markdown",
   "id": "86bedde5-6b51-4c64-adbc-e0f0003dea8a",
   "metadata": {},
   "source": [
    "#### Étape 1 : Split\n",
    "\n",
    "Dans cette première étape, les données contenues dans un objet Pandas, qu'il s'agisse d'une Series, d'un DataFrame ou autre, sont divisées en groupes en fonction d'une ou plusieurs clés que vous fournissez. La division est effectuée sur un axe particulier de l'objet. Par exemple, un DataFrame peut être groupé sur ses lignes (axe=0) ou sur ses colonnes (axe=1)."
   ]
  },
  {
   "cell_type": "code",
   "execution_count": 2,
   "id": "b47be903-3c9c-4533-975d-d00c2492c487",
   "metadata": {},
   "outputs": [
    {
     "data": {
      "text/html": [
       "<div>\n",
       "<style scoped>\n",
       "    .dataframe tbody tr th:only-of-type {\n",
       "        vertical-align: middle;\n",
       "    }\n",
       "\n",
       "    .dataframe tbody tr th {\n",
       "        vertical-align: top;\n",
       "    }\n",
       "\n",
       "    .dataframe thead th {\n",
       "        text-align: right;\n",
       "    }\n",
       "</style>\n",
       "<table border=\"1\" class=\"dataframe\">\n",
       "  <thead>\n",
       "    <tr style=\"text-align: right;\">\n",
       "      <th></th>\n",
       "      <th>Clé</th>\n",
       "      <th>Valeur</th>\n",
       "    </tr>\n",
       "  </thead>\n",
       "  <tbody>\n",
       "    <tr>\n",
       "      <th>0</th>\n",
       "      <td>A</td>\n",
       "      <td>1</td>\n",
       "    </tr>\n",
       "    <tr>\n",
       "      <th>1</th>\n",
       "      <td>B</td>\n",
       "      <td>2</td>\n",
       "    </tr>\n",
       "    <tr>\n",
       "      <th>2</th>\n",
       "      <td>A</td>\n",
       "      <td>3</td>\n",
       "    </tr>\n",
       "    <tr>\n",
       "      <th>3</th>\n",
       "      <td>B</td>\n",
       "      <td>4</td>\n",
       "    </tr>\n",
       "    <tr>\n",
       "      <th>4</th>\n",
       "      <td>A</td>\n",
       "      <td>5</td>\n",
       "    </tr>\n",
       "  </tbody>\n",
       "</table>\n",
       "</div>"
      ],
      "text/plain": [
       "  Clé  Valeur\n",
       "0   A       1\n",
       "1   B       2\n",
       "2   A       3\n",
       "3   B       4\n",
       "4   A       5"
      ]
     },
     "execution_count": 2,
     "metadata": {},
     "output_type": "execute_result"
    }
   ],
   "source": [
    "import pandas as pd\n",
    "\n",
    "# Création d'un DataFrame\n",
    "data = {'Clé': ['A', 'B', 'A', 'B', 'A'],\n",
    "        'Valeur': [1, 2, 3, 4, 5]}\n",
    "df = pd.DataFrame(data)\n",
    "\n",
    "# Groupement par la colonne 'Clé'\n",
    "groupes = df.groupby('Clé')\n",
    "groupes.head()"
   ]
  },
  {
   "cell_type": "markdown",
   "id": "b851808e-0329-496e-ab1a-59a82965e8d6",
   "metadata": {},
   "source": [
    "#### Étape 2 : Apply\n",
    "\n",
    "Une fois que les données sont divisées en groupes, une fonction est appliquée à chaque groupe, produisant une nouvelle valeur. Cette fonction peut être une agrégation statistique (comme la somme, la moyenne, etc.) ou une opération personnalisée."
   ]
  },
  {
   "cell_type": "code",
   "execution_count": 9,
   "id": "18735bfb-08c9-4024-b073-8b39c5c27c6a",
   "metadata": {},
   "outputs": [],
   "source": [
    "# Calcul de la somme pour chaque groupe\n",
    "somme_par_groupe = groupes.sum()"
   ]
  },
  {
   "cell_type": "markdown",
   "id": "842fb9d0-b56d-4472-8ca5-2a2e5b9c87b1",
   "metadata": {},
   "source": [
    "#### Étape 3 : Combine\n",
    "\n",
    "Enfin, les résultats de toutes ces applications de fonction sont combinés dans un objet de résultat. La forme de l'objet résultant dépendra généralement de ce qui est fait avec les données."
   ]
  },
  {
   "cell_type": "code",
   "execution_count": 10,
   "id": "75e1d492-bd8e-4648-8941-575e8ce688ad",
   "metadata": {},
   "outputs": [
    {
     "name": "stdout",
     "output_type": "stream",
     "text": [
      "     Valeur\n",
      "Clé        \n",
      "A         9\n",
      "B         6\n"
     ]
    }
   ],
   "source": [
    "print(somme_par_groupe)"
   ]
  },
  {
   "cell_type": "markdown",
   "id": "3de8d148-137e-43d6-8790-fd41341b41ac",
   "metadata": {},
   "source": [
    "### _Exercice 1_\n",
    "\n",
    "Vous avez le fichier suivant : "
   ]
  },
  {
   "cell_type": "code",
   "execution_count": 3,
   "id": "059136e9-3e58-439a-aeeb-553a1979d40d",
   "metadata": {},
   "outputs": [
    {
     "data": {
      "text/html": [
       "<div>\n",
       "<style scoped>\n",
       "    .dataframe tbody tr th:only-of-type {\n",
       "        vertical-align: middle;\n",
       "    }\n",
       "\n",
       "    .dataframe tbody tr th {\n",
       "        vertical-align: top;\n",
       "    }\n",
       "\n",
       "    .dataframe thead th {\n",
       "        text-align: right;\n",
       "    }\n",
       "</style>\n",
       "<table border=\"1\" class=\"dataframe\">\n",
       "  <thead>\n",
       "    <tr style=\"text-align: right;\">\n",
       "      <th></th>\n",
       "      <th>transaction_id</th>\n",
       "      <th>store</th>\n",
       "      <th>status</th>\n",
       "      <th>transaction_date</th>\n",
       "      <th>plan</th>\n",
       "      <th>contract_type</th>\n",
       "      <th>amount</th>\n",
       "    </tr>\n",
       "  </thead>\n",
       "  <tbody>\n",
       "    <tr>\n",
       "      <th>0</th>\n",
       "      <td>8d2b0582</td>\n",
       "      <td>Chicago</td>\n",
       "      <td>ACTIVE</td>\n",
       "      <td>2019-08-01</td>\n",
       "      <td>Silver</td>\n",
       "      <td>NEW</td>\n",
       "      <td>14.25</td>\n",
       "    </tr>\n",
       "    <tr>\n",
       "      <th>1</th>\n",
       "      <td>61e3773d</td>\n",
       "      <td>Chicago</td>\n",
       "      <td>ACTIVE</td>\n",
       "      <td>2019-08-01</td>\n",
       "      <td>Gold</td>\n",
       "      <td>NEW</td>\n",
       "      <td>19.35</td>\n",
       "    </tr>\n",
       "    <tr>\n",
       "      <th>2</th>\n",
       "      <td>52b3f422</td>\n",
       "      <td>New York</td>\n",
       "      <td>ACTIVE</td>\n",
       "      <td>2019-08-01</td>\n",
       "      <td>Bronze</td>\n",
       "      <td>NEW</td>\n",
       "      <td>12.20</td>\n",
       "    </tr>\n",
       "    <tr>\n",
       "      <th>3</th>\n",
       "      <td>ae0498f2</td>\n",
       "      <td>Chicago</td>\n",
       "      <td>ACTIVE</td>\n",
       "      <td>2019-08-01</td>\n",
       "      <td>Silver</td>\n",
       "      <td>NEW</td>\n",
       "      <td>14.25</td>\n",
       "    </tr>\n",
       "    <tr>\n",
       "      <th>4</th>\n",
       "      <td>7d1f5d57</td>\n",
       "      <td>New York</td>\n",
       "      <td>ACTIVE</td>\n",
       "      <td>2019-08-01</td>\n",
       "      <td>Silver</td>\n",
       "      <td>NEW</td>\n",
       "      <td>14.25</td>\n",
       "    </tr>\n",
       "  </tbody>\n",
       "</table>\n",
       "</div>"
      ],
      "text/plain": [
       "  transaction_id     store  status transaction_date    plan contract_type  \\\n",
       "0       8d2b0582   Chicago  ACTIVE       2019-08-01  Silver           NEW   \n",
       "1       61e3773d   Chicago  ACTIVE       2019-08-01    Gold           NEW   \n",
       "2       52b3f422  New York  ACTIVE       2019-08-01  Bronze           NEW   \n",
       "3       ae0498f2   Chicago  ACTIVE       2019-08-01  Silver           NEW   \n",
       "4       7d1f5d57  New York  ACTIVE       2019-08-01  Silver           NEW   \n",
       "\n",
       "   amount  \n",
       "0   14.25  \n",
       "1   19.35  \n",
       "2   12.20  \n",
       "3   14.25  \n",
       "4   14.25  "
      ]
     },
     "execution_count": 3,
     "metadata": {},
     "output_type": "execute_result"
    }
   ],
   "source": [
    "df_ventes_aout = pd.read_excel(\"s3_data/August.xlsx\")\n",
    "df_ventes_aout.head()"
   ]
  },
  {
   "cell_type": "markdown",
   "id": "d473066f-da27-446c-a312-1c11d0a8fbb2",
   "metadata": {},
   "source": [
    "* Calculez le montant total des transactions pour chaque magasin."
   ]
  },
  {
   "cell_type": "code",
   "execution_count": 49,
   "id": "b9892d78-c837-4eeb-8ac0-6db4397e0218",
   "metadata": {},
   "outputs": [
    {
     "name": "stdout",
     "output_type": "stream",
     "text": [
      "    transaction_id          store  status transaction_date    plan  \\\n",
      "0         8d2b0582        Chicago  ACTIVE       2019-08-01  Silver   \n",
      "1         61e3773d        Chicago  ACTIVE       2019-08-01    Gold   \n",
      "2         52b3f422       New York  ACTIVE       2019-08-01  Bronze   \n",
      "3         ae0498f2        Chicago  ACTIVE       2019-08-01  Silver   \n",
      "4         7d1f5d57       New York  ACTIVE       2019-08-01  Silver   \n",
      "5         c03d6d26         Boston  ACTIVE       2019-08-01  Bronze   \n",
      "6         8204d03f  San Francisco  ACTIVE       2019-08-01    Gold   \n",
      "7         83cad5b1        Chicago  ACTIVE       2019-08-01  Silver   \n",
      "8         adca93e5       New York  ACTIVE       2019-08-01  Bronze   \n",
      "9         cea04b87  San Francisco  ACTIVE       2019-08-01  Silver   \n",
      "10        2ad9e2e4  San Francisco  ACTIVE       2019-08-01  Silver   \n",
      "11        5138d879  San Francisco  ACTIVE       2019-08-01  Silver   \n",
      "12        58241dce  San Francisco  ACTIVE       2019-08-01  Silver   \n",
      "13        2f05a6ed       New York  ACTIVE       2019-08-01  Bronze   \n",
      "14        cc3ff174       New York  ACTIVE       2019-08-01  Silver   \n",
      "17        77f9a868         Boston  ACTIVE       2019-08-01  Silver   \n",
      "18        b7a39bbe      Las Vegas  ACTIVE       2019-08-01    Gold   \n",
      "21        0e5be924         Boston  ACTIVE       2019-08-01  Bronze   \n",
      "23        2208b052        Chicago  ACTIVE       2019-08-01  Silver   \n",
      "25        e43eaef6  Washington DC  ACTIVE       2019-08-01  Silver   \n",
      "27        4c98c1ab      Las Vegas  ACTIVE       2019-08-01  Silver   \n",
      "35        d3cee204         Boston  ACTIVE       2019-08-01  Bronze   \n",
      "42        ad594962         Boston  ACTIVE       2019-08-01  Silver   \n",
      "57        6a5f25b8  Washington DC  ACTIVE       2019-08-01  Silver   \n",
      "67        4705ae5d  Washington DC  ACTIVE       2019-08-01  Silver   \n",
      "68        037efc20      Las Vegas  ACTIVE       2019-08-01  Bronze   \n",
      "81        5c29f087      Las Vegas  ACTIVE       2019-08-01  Silver   \n",
      "88        65dc6ed8      Las Vegas  ACTIVE       2019-08-01  Bronze   \n",
      "150       f42e4947  Washington DC  ACTIVE       2019-08-01  Silver   \n",
      "172       195c0398  Washington DC  ACTIVE       2019-08-01  Silver   \n",
      "\n",
      "    contract_type  amount  \n",
      "0             NEW   14.25  \n",
      "1             NEW   19.35  \n",
      "2             NEW   12.20  \n",
      "3             NEW   14.25  \n",
      "4             NEW   14.25  \n",
      "5             NEW   12.20  \n",
      "6             NEW   19.35  \n",
      "7             NEW   14.25  \n",
      "8             NEW   12.20  \n",
      "9             NEW   14.25  \n",
      "10            NEW   14.25  \n",
      "11            NEW   14.25  \n",
      "12            NEW   14.25  \n",
      "13            NEW   12.20  \n",
      "14            NEW   14.25  \n",
      "17            NEW   14.25  \n",
      "18            NEW   19.35  \n",
      "21            NEW   12.20  \n",
      "23            NEW   14.25  \n",
      "25            NEW   14.25  \n",
      "27            NEW   14.25  \n",
      "35            NEW   12.20  \n",
      "42            NEW   14.25  \n",
      "57            NEW   14.25  \n",
      "67            NEW   14.25  \n",
      "68            NEW   12.20  \n",
      "81            NEW   14.25  \n",
      "88            NEW   12.20  \n",
      "150           NEW   14.25  \n",
      "172           NEW   14.25  \n"
     ]
    }
   ],
   "source": [
    "# Groupement par magasin et calcul de la somme des montants\n",
    "split = df_ventes_aout.groupby('store')\n",
    "print(split.head())"
   ]
  },
  {
   "cell_type": "code",
   "execution_count": 50,
   "id": "93da0fd1-4616-43c7-944f-05b2c5ffa374",
   "metadata": {},
   "outputs": [
    {
     "name": "stdout",
     "output_type": "stream",
     "text": [
      "store\n",
      "Boston           12239.70\n",
      "Chicago          24662.75\n",
      "Las Vegas         6335.05\n",
      "New York         36491.60\n",
      "San Francisco    36895.10\n",
      "Washington DC     6729.15\n",
      "Name: amount, dtype: float64\n"
     ]
    }
   ],
   "source": [
    "apply_combine = split['amount'].sum()\n",
    "print(apply_combine)"
   ]
  },
  {
   "cell_type": "markdown",
   "id": "2dd77bb6-a6d1-4c55-912a-c1d5b6b6fb40",
   "metadata": {},
   "source": [
    "* Calculez le nombre de transactions pour chaque type de plan."
   ]
  },
  {
   "cell_type": "code",
   "execution_count": 54,
   "id": "d8cd5307-7de7-483c-bef8-eb51aea96f49",
   "metadata": {},
   "outputs": [
    {
     "name": "stdout",
     "output_type": "stream",
     "text": [
      "plan\n",
      "Bronze    2513\n",
      "Gold      1665\n",
      "Silver    4244\n",
      "dtype: int64\n"
     ]
    }
   ],
   "source": [
    "resultat_size = df_ventes_aout.groupby('plan').size()\n",
    "print(resultat_size)"
   ]
  },
  {
   "cell_type": "markdown",
   "id": "913d3235-3594-4de6-97cb-98ec2fd86cff",
   "metadata": {},
   "source": [
    "* Calculer le montant moyen par date "
   ]
  },
  {
   "cell_type": "code",
   "execution_count": 56,
   "id": "780dd00d-e3ba-46b1-8e32-28ef2eb9b9e9",
   "metadata": {},
   "outputs": [
    {
     "name": "stdout",
     "output_type": "stream",
     "text": [
      "transaction_date\n",
      "2019-08-01    14.611311\n",
      "2019-08-02    14.978571\n",
      "2019-08-05    14.604637\n",
      "2019-08-06    14.683787\n",
      "2019-08-07    14.506489\n",
      "2019-08-08    14.758438\n",
      "2019-08-09    14.656608\n",
      "2019-08-12    14.548656\n",
      "2019-08-13    14.246469\n",
      "2019-08-14    14.661330\n",
      "2019-08-15    14.849044\n",
      "2019-08-16    14.660253\n",
      "2019-08-19    14.642623\n",
      "2019-08-20    14.776323\n",
      "2019-08-21    14.485112\n",
      "2019-08-22    14.797059\n",
      "2019-08-23    14.769023\n",
      "2019-08-26    14.593733\n",
      "2019-08-27    14.636631\n",
      "2019-08-28    14.703887\n",
      "2019-08-29    14.562360\n",
      "2019-08-30    14.449724\n",
      "Name: amount, dtype: float64\n"
     ]
    }
   ],
   "source": [
    "# Conversion de la colonne 'transaction_date' en format de date\n",
    "df_ventes_aout['transaction_date'] = pd.to_datetime(df_ventes_aout['transaction_date'])\n",
    "\n",
    "# Groupement par date de transaction et calcul de la moyenne des montants\n",
    "resultat_date = df_ventes_aout.groupby('transaction_date')['amount'].mean()\n",
    "print(resultat_date)"
   ]
  },
  {
   "cell_type": "markdown",
   "id": "5cfbeb1f-d3f6-4e94-b2fa-b29c5e9d9100",
   "metadata": {},
   "source": [
    "* Calculez le montant total des transactions pour chaque combinaison de magasin et de plan."
   ]
  },
  {
   "cell_type": "code",
   "execution_count": 58,
   "id": "7e2a5cc4-b882-4f6c-9bd7-8e13289e7368",
   "metadata": {},
   "outputs": [
    {
     "name": "stdout",
     "output_type": "stream",
     "text": [
      "store          plan  \n",
      "Boston         Bronze     3184.20\n",
      "               Gold       2999.25\n",
      "               Silver     6056.25\n",
      "Chicago        Bronze     5648.60\n",
      "               Gold       6559.65\n",
      "               Silver    12454.50\n",
      "Las Vegas      Bronze     1744.60\n",
      "               Gold       1683.45\n",
      "               Silver     2907.00\n",
      "New York       Bronze     9235.40\n",
      "               Gold       9229.95\n",
      "               Silver    18026.25\n",
      "San Francisco  Bronze     9198.80\n",
      "               Gold       9926.55\n",
      "               Silver    17769.75\n",
      "Washington DC  Bronze     1647.00\n",
      "               Gold       1818.90\n",
      "               Silver     3263.25\n",
      "Name: amount, dtype: float64\n"
     ]
    }
   ],
   "source": [
    "# Groupement par magasin et plan, puis somme des montants\n",
    "resultat_magasin_plan = df_ventes_aout.groupby(['store', 'plan'])['amount'].sum()\n",
    "print(resultat_magasin_plan)\n"
   ]
  },
  {
   "cell_type": "markdown",
   "id": "f8ece94c-c5f1-43da-8bf2-a455312715c4",
   "metadata": {},
   "source": [
    "## Groupby avancé : la méthode `agg`\n",
    "\n",
    "La méthode permet d'appliquer des fonctions d'agrégation à vos groupes, telles que la somme, la moyenne, le comptage, etc. Mais elle permet surtout d'appliquer plusieurs fonctions à la fois et créer de nouvelles colonnes avec les résultats agrégés.\n",
    "\n",
    "Par exemple, avec une seule ligne de code, vous pouvez :\n",
    "\n",
    "```python\n",
    "import pandas as pd\n",
    "\n",
    "# Charger les données\n",
    "data = pd.read_csv(\"data.csv\")\n",
    "\n",
    "# Regrouper par une colonne et appliquer plusieurs fonctions d'agrégation\n",
    "resultats = data.groupby('categorie').agg({\n",
    "    'colonne1': 'sum',           # Somme de la colonne1\n",
    "    'colonne2': ['mean', 'max']  # Moyenne et maximum de la colonne2\n",
    "})\n",
    "\n",
    "print(resultats)\n",
    "```"
   ]
  },
  {
   "cell_type": "markdown",
   "id": "19334aea-663f-4fbb-9755-39076c73e772",
   "metadata": {},
   "source": [
    "### Exercice 2\n",
    "\n",
    "Sur le fichier de ventes aout, écrivez un code en utilisant `groupby` et `agg` qui va permettre de connaitre la somme et la moyenne des transactions ainsi que la date de la première transaction pour chaque magasin.\n"
   ]
  },
  {
   "cell_type": "code",
   "execution_count": 53,
   "id": "eed7be3d-fddb-4649-a90f-dd1dc15c59fc",
   "metadata": {},
   "outputs": [
    {
     "name": "stdout",
     "output_type": "stream",
     "text": [
      "                 amount            transaction_date\n",
      "                    sum       mean         <lambda>\n",
      "store                                              \n",
      "Boston         12239.70  14.553746       2019-08-01\n",
      "Chicago        24662.75  14.715245       2019-08-01\n",
      "Las Vegas       6335.05  14.596889       2019-08-01\n",
      "New York       36491.60  14.602481       2019-08-01\n",
      "San Francisco  36895.10  14.675855       2019-08-01\n"
     ]
    }
   ],
   "source": [
    "final = df_ventes_aout.groupby('store').agg({\"amount\":[sum,\"mean\"],\"transaction_date\":lambda x: x.unique().tolist()[0]})\n",
    "print(final.head())"
   ]
  },
  {
   "cell_type": "markdown",
   "id": "b8953e0f-9eec-4cc5-9bff-5ccf6cb370ea",
   "metadata": {},
   "source": [
    "## Matplotlib avec pandas"
   ]
  },
  {
   "cell_type": "markdown",
   "id": "749e89a0-9399-4e69-9de3-659c83f874c1",
   "metadata": {},
   "source": [
    "### Créer des line graphs"
   ]
  },
  {
   "cell_type": "markdown",
   "id": "20608c11-a8ed-45d8-a244-bceeae3c300f",
   "metadata": {},
   "source": [
    "Commençons par créer un graphique simple pour visualiser des données. Voici un exemple de code qui trace un graphique linéaire."
   ]
  },
  {
   "cell_type": "code",
   "execution_count": 8,
   "id": "6111e4e3-6d67-4a3a-bd2d-fdc9791cec97",
   "metadata": {},
   "outputs": [
    {
     "data": {
      "image/png": "[encoded data removed]",
      "text/plain": [
       "<Figure size 640x480 with 1 Axes>"
      ]
     },
     "metadata": {},
     "output_type": "display_data"
    }
   ],
   "source": [
    "import matplotlib.pyplot as plt\n",
    "\n",
    "# Données à visualiser\n",
    "x = df_ventes_aout['transaction_date'].unique()\n",
    "y = df_ventes_aout.groupby('transaction_date')['amount'].sum()\n",
    "\n",
    "# Création du graphique\n",
    "plt.plot(x, y)\n",
    "plt.xticks(rotation=45)\n",
    "\n",
    "\n",
    "# Affichage du graphique\n",
    "plt.show()\n"
   ]
  },
  {
   "cell_type": "markdown",
   "id": "850f6ebc-9c1f-4763-a89e-df4672b231da",
   "metadata": {},
   "source": [
    "### Créer des bar graphs"
   ]
  },
  {
   "cell_type": "markdown",
   "id": "37769b9e-1adb-4cfd-b06b-c8c16334ce09",
   "metadata": {},
   "source": [
    "Les diagrammes en barres sont utilisés pour représenter des données catégoriques avec des barres de longueurs proportionnelles aux valeurs qu'elles représentent."
   ]
  },
  {
   "cell_type": "markdown",
   "id": "ed7b3dce-9c12-4107-99e6-093cb96d5c8d",
   "metadata": {},
   "source": [
    "## Travailler avec des séries temporelles\n",
    "\n",
    "Pourquoi travailler avec des séries temporelles sur Python et non sur Excel ? \n",
    "\n",
    "1. A cause du volume de données\n",
    "\n",
    "Si vous travaillez avec des prix d'actions intrajournaliners vous traitez souvent avec des centaines de milliers d'enregistrements - par action et par jour. Python, en revanche, n'a pas de telles limitations de taille de données, vous permettant de manipuler des séries temporelles de grande taille sans aucun problème de performance.\n",
    "\n",
    "2. Limite sur la manipulation des dates et du temps\n",
    "\n",
    "Excel présente des limites importantes en ce qui concerne la manipulation des dates et des heures, qui sont l'épine dorsale des séries temporelles. L'absence de prise en charge des fuseaux horaires et un format de nombre limité aux millisecondes en sont quelques exemples. En revanche, pandas, une bibliothèque Python populaire pour la manipulation de données, prend en charge les fuseaux horaires et utilise le type de données datetime64[ns] de NumPy, offrant une résolution allant jusqu'aux nanosecondes.\n",
    "\n",
    "3. Parce qu'Excel ne permet pas de faire des analyses de séries temporelles de base\n",
    "\n",
    "Il manque à Excel de fonctionnalités de base pour travailler efficacement avec des données de séries temporelles. Par exemple, la transformation d'une série temporelle quotidienne en une série temporelle mensuelle n'est pas simple sur Excel et quasi immédiate sur Excel. "
   ]
  },
  {
   "cell_type": "markdown",
   "id": "ae74216b-c4cf-4ed5-ba8c-e0fa87561565",
   "metadata": {},
   "source": [
    "### Manipulations de base"
   ]
  }
 ],
 "metadata": {
  "kernelspec": {
   "display_name": "Python 3 (ipykernel)",
   "language": "python",
   "name": "python3"
  },
  "language_info": {
   "codemirror_mode": {
    "name": "ipython",
    "version": 3
   },
   "file_extension": ".py",
   "mimetype": "text/x-python",
   "name": "python",
   "nbconvert_exporter": "python",
   "pygments_lexer": "ipython3",
   "version": "3.11.5"
  }
 },
 "nbformat": 4,
 "nbformat_minor": 5
}
