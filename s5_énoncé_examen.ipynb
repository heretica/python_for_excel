{
 "cells": [
  {
   "cell_type": "markdown",
   "id": "7f3099c4-49d8-441c-9e53-db22b2483db7",
   "metadata": {},
   "source": [
    "# Examen final"
   ]
  },
  {
   "cell_type": "markdown",
   "id": "9cf7c9b8-9be2-48ed-8855-aba4843bca66",
   "metadata": {},
   "source": [
    "## Contexte"
   ]
  },
  {
   "cell_type": "markdown",
   "id": "45e63da8-2c1b-4dae-b326-c4be199f7bb6",
   "metadata": {},
   "source": [
    "Vous êtes analyste de données dans une entreprise qui souhaite analyser ses performances de ventes trimestrielles. On vous donne un dossier contenant 10 fichiers Excel. Chaque fichier comporte: \n",
    "- Date: Date à laquelle l'information a été enregistrée \n",
    "- Produit: Type de produit vendu; Il existe trois types de produit: A, B et C\n",
    "- Région: Région dans laquelle la vente à eue lieu: Ouest, Sud, Est et Nord\n",
    "- Quantité: Quantité vendue du produit\n",
    "- Prix unitaire: Prix auquel une unité de produit est vendue\n",
    "- Chiffre d'Affaire: Quantité * prix unitaire\n",
    "\n",
    "Vous avez aussi accès à un fichier \"référentiel.xlsx\". Ce fichier comporte le type de produit et le prix unitaire de base de chaque produit. "
   ]
  },
  {
   "cell_type": "markdown",
   "id": "44374c1a-a974-4d98-9c9a-c17858ca2e0f",
   "metadata": {},
   "source": [
    "## Objectifs de l'examen"
   ]
  },
  {
   "cell_type": "markdown",
   "id": "a2b0c63c-0bde-46e9-9616-aaba8744ee5f",
   "metadata": {},
   "source": [
    "### Tronc commun (/20)\n",
    "\n",
    "* **Tâches à effectuer** : \n",
    "1. Importez les dix fichiers Excels et fusionner les données en un seul DataFrame nommé \"data\" (/2)\n",
    "2. Changez le type de donnée de la colonne \"Date\" en \"datetime\" (/2)\n",
    "3. Vérifiez la présence de donnée manquante. Si donnée manquante il y a, remplacez la par la valeur qui la précède. (/2)\n",
    "4. Calculez le chiffre d'affaire total et les chiffres d'affaires par produit. Stockez ces valeurs dans un DataFrame nommé \"CA\". (/2)\n",
    "5. Créez une pivot table qui montre le chiffre d'affaire par mois (lignes) et par région (colonnes). (/2)\n",
    "6. Importez le fichier référentiel et effectuez une jointure avec votre DataFrame \"data\". (/2)\n",
    "7. Créez une nouvelle colonne qui représente les mois de ventes. Appelez la colonne \"mois\". (/2)\n",
    "8. Créez un graphique qui présente l'évolution du chiffre d'affaire mensuel pour les trois produits. (/2)\n",
    "9. Créez un \"boxplot\" des prix unitaires de chaque produits. (/2)\n",
    "10. En utilisant xlwings, créez un nouveau fichier Excel nommé \"Analyse_CA.xlsx\" qui comporte (/2):\n",
    "    - Spreadsheet 1: Le DataFrame \"data\"\n",
    "    - Spreadsheet 2: Les graphiques boxplot et chiffre d'affaire mensuels\n",
    "    - Spreadsheet 3: Le DataFrame \"CA\" et la pivot table (question 5.)\n",
    "\n",
    "* **Fichiers attendus** : \n",
    "1. Le notebook python qui effectue les 10 tâches à effectuer\n",
    "2. Le fichier Excel \"Analyse_CA.xlsx\"\n",
    "\n",
    "PS: 1pt bonus pour la clarté du code, la qualité du fichier excel et le design des graphiques!\n",
    "\n",
    "### Tronc avancé (/5 pts bonus): \n",
    "\n",
    "Pour ce tronc avancé, le détail des tâches à effectuer n'est pas disponible. C'est à vous de comprendre le problème et de le traduire en une série d'opérations en code python. Pour cela, vous allez devoir vous appuyer sur de la documentation. \n",
    "\n",
    "* L'entreprise veut stabiliser ces ventes sur l'année et pour cela et supprimer de son offre les produits dont la vente est trop irrégulière : **Identifiez les produits dont la vente est la plus fluctuante**. (/1)\n",
    "**[Documentation 1](https://pandas.pydata.org/docs/reference/api/pandas.DataFrame.var.html)**, **[Documentation 2](https://pandas.pydata.org/docs/reference/api/pandas.DataFrame.std.html)**\n",
    "\n",
    "\n",
    "* L'entreprise veut savoir si les prix qu'elle applique ont une incidence sur les quantités vendues. **Trouvez l'influence des prix sur les quantités vendues**. (/2) (hint: Plusieurs méthodes statistiques sont à votre disposition!) \n",
    "**[Documentation 3](https://pandas.pydata.org/docs/reference/api/pandas.DataFrame.corr.html)**\n",
    "\n",
    "* L'entreprise pensent qu'il existe un effet de saisonalité dans ses ventes. Particulièrement, il semblerait que les ventes du premier trimestre sont plus basses que les ventes du dernier trimestre.**Testez si cette différence est significative**. (/2)\n",
    "**[Documentation 4](https://scikit-learn.org/stable/modules/generated/sklearn.linear_model.LinearRegression.html)**\n",
    "\n",
    "* **Fichiers attendus** : \n",
    "1. Un notebook python qui contient le code répondant à ces questions **avec les explications nécessaires en Markdown**."
   ]
  }
 ],
 "metadata": {
  "kernelspec": {
   "display_name": "Python 3 (ipykernel)",
   "language": "python",
   "name": "python3"
  },
  "language_info": {
   "codemirror_mode": {
    "name": "ipython",
    "version": 3
   },
   "file_extension": ".py",
   "mimetype": "text/x-python",
   "name": "python",
   "nbconvert_exporter": "python",
   "pygments_lexer": "ipython3",
   "version": "3.11.5"
  }
 },
 "nbformat": 4,
 "nbformat_minor": 5
}
