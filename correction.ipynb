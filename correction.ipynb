{
 "cells": [
  {
   "cell_type": "markdown",
   "id": "d0255899-a04a-4778-bf22-fbd9d8e15720",
   "metadata": {},
   "source": [
    "# Correction"
   ]
  },
  {
   "cell_type": "markdown",
   "id": "f812d3e9-25f3-4c44-bc33-cbdaa95915ec",
   "metadata": {},
   "source": [
    "## Correction plan d'action"
   ]
  },
  {
   "cell_type": "markdown",
   "id": "6bb5ac52-2073-4996-9821-273269cb9cdb",
   "metadata": {},
   "source": [
    "1. **Importation et Fusion des Données**\n",
    "   - Charger toutes les données des 10 fichiers Excel en utilisant `pd.read_excel()`.\n",
    "   - Fusionner ces données en un seul DataFrame en utilisant `pd.concat()`.\n",
    "\n",
    "2. **Nettoyage et Préparation des Données**\n",
    "   - Convertir la colonne 'Date' au format datetime avec `pd.to_datetime()`.\n",
    "   - Assurer l'absence de valeurs manquantes ou les traiter si nécessaire.\n",
    "\n",
    "3. **Analyse des Ventes**\n",
    "   - Calculer le chiffre d'affaires total et le chiffre d'affaires par produit et par région.\n",
    "   - Utiliser `pd.pivot_table()` pour créer un tableau croisé qui montre le chiffre d'affaires par mois et par région.\n",
    "\n",
    "4. **Jointures de Données**\n",
    "   - Supposer qu'un fichier supplémentaire \"referentiel.xlsx\" contient des informations sur les catégories de produits. Charger ce fichier.\n",
    "   - Effectuer une jointure avec le DataFrame principal pour ajouter la catégorie de chaque produit en utilisant `pd.merge()`.\n",
    "\n",
    "5. **Extraction de Données Temporelles**\n",
    "   - Extraire le mois de la date de vente et créer une nouvelle colonne 'Mois' avec `.dt.month`.\n",
    "   - Analyser les tendances de vente mensuelles.\n",
    "\n",
    "6. **Mise à Jour des Résultats dans Excel**\n",
    "   - Utiliser `xlwings` pour ouvrir le fichier Excel initial et ajouter une nouvelle feuille qui contiendra les tableaux croisés dynamiques créés.\n",
    "   - Mettre à jour le fichier Excel avec les résultats de l'analyse de tendances mensuelles.\n"
   ]
  },
  {
   "cell_type": "markdown",
   "id": "4f36e411-ada9-4d8f-8573-ce1fb2c7f7e7",
   "metadata": {},
   "source": [
    "## Correction bouts de code"
   ]
  },
  {
   "cell_type": "markdown",
   "id": "9230c1cf-cd3d-4440-8e2a-789820922a55",
   "metadata": {},
   "source": [
    "Voici des exemples de code pour chaque étape des exercices de l'examen. Ces extraits aideront les étudiants à comprendre comment ils peuvent utiliser les techniques mentionnées pour accomplir les tâches spécifiées.\n",
    "\n",
    "### 1. Importation et Fusion des Données\n",
    "```python\n",
    "import pandas as pd\n",
    "\n",
    "# Charger les données de chaque fichier en une liste de DataFrames\n",
    "dataframes = [pd.read_excel(f'/mnt/data/Ventes_2023_Part_{i}.xlsx') for i in range(1, 11)]\n",
    "\n",
    "# Fusionner tous les DataFrames en un seul\n",
    "all_data = pd.concat(dataframes, ignore_index=True)\n",
    "```\n",
    "\n",
    "### 2. Nettoyage et Préparation des Données\n",
    "```python\n",
    "# Convertir la colonne 'Date' en datetime\n",
    "all_data['Date'] = pd.to_datetime(all_data['Date'])\n",
    "\n",
    "# Gestion des valeurs manquantes\n",
    "all_data.fillna(method='ffill', inplace=True)  # Remplacer les valeurs manquantes par la valeur précédente\n",
    "```\n",
    "\n",
    "### 3. Analyse des Ventes\n",
    "```python\n",
    "# Calcul du chiffre d'affaires total\n",
    "total_revenue = all_data['Chiffre d\\'affaires'].sum()\n",
    "\n",
    "# Pivot table pour le chiffre d'affaires par produit et par région\n",
    "pivot_table = pd.pivot_table(all_data, values='Chiffre d\\'affaires', index='Produit', columns='Région', aggfunc='sum')\n",
    "```\n",
    "\n",
    "### 4. Jointures de Données\n",
    "```python\n",
    "# Charger le fichier référentiel\n",
    "referentiel = pd.read_excel('/mnt/data/referentiel.xlsx')\n",
    "\n",
    "# Jointure pour ajouter la catégorie de chaque produit\n",
    "all_data = pd.merge(all_data, referentiel, on='Produit', how='left')\n",
    "```\n",
    "\n",
    "### 5. Extraction de Données Temporelles\n",
    "```python\n",
    "# Extraire le mois de la date de vente\n",
    "all_data['Mois'] = all_data['Date'].dt.month\n",
    "\n",
    "# Analyse des ventes par mois\n",
    "monthly_sales = all_data.groupby('Mois')['Chiffre d\\'affaires'].sum()\n",
    "```\n",
    "\n",
    "### 6. Mise à Jour des Résultats dans Excel\n",
    "```python\n",
    "import xlwings as xw\n",
    "\n",
    "# Ouvrir le fichier Excel et ajouter une nouvelle feuille\n",
    "wb = xw.Book('/mnt/data/Ventes_2023.xlsx')\n",
    "ws = wb.sheets.add('Analyse des Ventes')\n",
    "\n",
    "# Exporter le pivot table dans la nouvelle feuille\n",
    "ws.range('A1').value = pivot_table\n",
    "\n",
    "# Sauvegarder et fermer le fichier\n",
    "wb.save()\n",
    "wb.close()\n",
    "```\n",
    "\n"
   ]
  },
  {
   "cell_type": "markdown",
   "id": "c338c275-1a0b-4bc7-b712-6c943c4ed95a",
   "metadata": {},
   "source": [
    "## Correction exercices avancés "
   ]
  },
  {
   "cell_type": "markdown",
   "id": "6c6fa2c5-e689-41f2-8290-58fe7570ea6a",
   "metadata": {},
   "source": [
    "\n",
    "\n",
    "1. **Analyse de Variance des Ventes** :\n",
    "   - Calculer et analyser la variance et l'écart-type des ventes par produit pour identifier les produits avec les variations de vente les plus élevées.\n",
    "   ```python\n",
    "   variance_ventes = all_data.groupby('Produit')['Chiffre d\\'affaires'].var()\n",
    "   ecart_type_ventes = all_data.groupby('Produit')['Chiffre d\\'affaires'].std()\n",
    "   ```\n",
    "\n",
    "2. **Analyse de Corrélation** :\n",
    "   - Évaluer la corrélation entre la quantité vendue et le chiffre d'affaires pour voir si les prix plus élevés affectent la quantité vendue.\n",
    "   ```python\n",
    "   correlation = all_data[['Quantité', 'Chiffre d\\'affaires']].corr()\n",
    "   ```\n",
    "\n",
    "3. **Régression Linéaire** :\n",
    "   - Effectuer une régression linéaire pour prédire le chiffre d'affaires en fonction de la quantité vendue et du prix unitaire.\n",
    "   ```python\n",
    "   from sklearn.linear_model import LinearRegression\n",
    "\n",
    "   model = LinearRegression()\n",
    "   X = all_data[['Quantité', 'Prix unitaire']]\n",
    "   y = all_data['Chiffre d\\'affaires']\n",
    "   model.fit(X, y)\n",
    "   ```\n",
    "   \n",
    "\n",
    "4. **Test de Hypothèse** :\n",
    "   - Réaliser un test de hypothèse pour déterminer si la moyenne des ventes du premier trimestre est significativement différente de celle du dernier trimestre.\n",
    "   ```python\n",
    "   from scipy.stats import ttest_ind\n",
    "\n",
    "   Q1_sales = all_data[all_data['Mois'].isin([1, 2, 3])]['Chiffre d\\'affaires']\n",
    "   Q4_sales = all_data[all_data['Mois'].isin([10, 11, 12])]['Chiffre d\\'affaires']\n",
    "   t_stat, p_value = ttest_ind(Q1_sales, Q4_sales)\n",
    "   ```\n"
   ]
  }
 ],
 "metadata": {
  "kernelspec": {
   "display_name": "Python 3 (ipykernel)",
   "language": "python",
   "name": "python3"
  },
  "language_info": {
   "codemirror_mode": {
    "name": "ipython",
    "version": 3
   },
   "file_extension": ".py",
   "mimetype": "text/x-python",
   "name": "python",
   "nbconvert_exporter": "python",
   "pygments_lexer": "ipython3",
   "version": "3.12.2"
  }
 },
 "nbformat": 4,
 "nbformat_minor": 5
}
