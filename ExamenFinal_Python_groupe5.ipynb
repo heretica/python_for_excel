{
 "cells": [
  {
   "cell_type": "markdown",
   "id": "7f3099c4-49d8-441c-9e53-db22b2483db7",
   "metadata": {},
   "source": [
    "# Examen final"
   ]
  },
  {
   "cell_type": "markdown",
   "id": "9cf7c9b8-9be2-48ed-8855-aba4843bca66",
   "metadata": {},
   "source": [
    "## Contexte"
   ]
  },
  {
   "cell_type": "markdown",
   "id": "45e63da8-2c1b-4dae-b326-c4be199f7bb6",
   "metadata": {},
   "source": [
    "Vous êtes analyste de données dans une entreprise qui souhaite analyser ses performances de ventes trimestrielles. On vous donne un dossier contenant 10 fichiers Excel. Chaque fichier comporte: \n",
    "- Date: Date à laquelle l'information a été enregistrée \n",
    "- Produit: Type de produit vendu; Il existe trois types de produit: A, B et C\n",
    "- Région: Région dans laquelle la vente à eue lieu: Ouest, Sud, Est et Nord\n",
    "- Quantité: Quantité vendue du produit\n",
    "- Prix unitaire: Prix auquel une unité de produit est vendue\n",
    "- Chiffre d'Affaire: Quantité * prix unitaire\n",
    "\n",
    "Vous avez aussi accès à un fichier \"référentiel.xlsx\". Ce fichier comporte le type de produit et le prix unitaire de base de chaque produit. "
   ]
  },
  {
   "cell_type": "markdown",
   "id": "44374c1a-a974-4d98-9c9a-c17858ca2e0f",
   "metadata": {},
   "source": [
    "## Objectifs de l'examen"
   ]
  },
  {
   "cell_type": "markdown",
   "id": "a2b0c63c-0bde-46e9-9616-aaba8744ee5f",
   "metadata": {},
   "source": [
    "### Tronc commun (/13)\n",
    "\n",
    "* **Tâches à effectuer** : \n",
    "1. Importez les dix fichiers Excels et fusionner les données en un seul DataFrame nommé \"data\" (/1)\n",
    "2. Changez le type de donnée de la colonne \"Date\" en \"datetime\" (/1)\n",
    "3. Vérifiez la présence de donnée manquante. Si donnée manquante il y a, remplacez la par la valeur qui la précède. (/1)\n",
    "4. Calculez le chiffre d'affaire total et les chiffres d'affaires par produit. Stockez ces valeurs dans un DataFrame nommé \"CA\". (/1)\n",
    "5. Créez une pivot table qui montre le chiffre d'affaire par mois (lignes) et par région (colonnes). (/2)\n",
    "6. Importez le fichier référentiel et effectuez une jointure avec votre DataFrame \"data\". (/2)\n",
    "7. Créez une nouvelle colonne qui représente les mois de ventes. Appelez la colonne \"mois\". (/1)\n",
    "8. Créez un graphique qui présente l'évolution du chiffre d'affaire mensuel pour les trois produits. (/1)\n",
    "9. Créez un \"boxplot\" des prix unitaires de chaque produits. (/1)\n",
    "10. En utilisant xlwings, créez un nouveau fichier Excel nommé \"Analyse_CA.xlsx\" qui comporte (/2):\n",
    "    - Spreadsheet 1: Le DataFrame \"data\"\n",
    "    - Spreadsheet 2: Les graphiques boxplot et chiffre d'affaire mensuels\n",
    "    - Spreadsheet 3: Le DataFrame \"CA\" et la pivot table (question 5.)\n",
    "\n",
    "### Tronc avancé (/7): \n",
    "\n",
    "Pour ce tronc avancé, le détail des tâches à effectuer n'est pas disponible. C'est à vous de comprendre le problème et de le traduire en une série d'opérations en code python. Pour cela, vous allez devoir vous appuyer sur de la documentation. \n",
    "\n",
    "* L'entreprise veut stabiliser ces ventes sur l'année et pour cela et supprimer de son offre les produits dont la vente est trop irrégulière : **Identifiez les produits dont la vente est la plus fluctuante**. (/2)\n",
    "**[Documentation 1](https://pandas.pydata.org/docs/reference/api/pandas.DataFrame.var.html)**, **[Documentation 2](https://pandas.pydata.org/docs/reference/api/pandas.DataFrame.std.html)**\n",
    "\n",
    "\n",
    "* L'entreprise veut savoir si les prix qu'elle applique ont une incidence sur les quantités vendues. **Trouvez l'influence des prix sur les quantités vendues**. (/3) (Indice: Une régression linéaire peut permettre de trouver une telle relation) \n",
    "**[Documentation 3](https://www.statsmodels.org/stable/regression.html)**\n",
    "\n",
    "* L'entreprise pensent qu'il existe un effet de saisonalité dans ses ventes. Particulièrement, il semblerait que les ventes du premier trimestre sont plus basses que les ventes du dernier trimestre.**Testez si cette différence est significative**. (/2)\n",
    "**[Documentation 4](https://www.statsmodels.org/stable/generated/statsmodels.stats.weightstats.ttest_ind.html)**\n",
    "\n",
    "### Fichiers attendus: \n",
    "1. Le notebook python qui effectue les 10 tâches à effectuer (Tronc commun) + la réponse aux questions ci-desus (Tronc avancé) **avec les explications nécessaires en Markdown**.\n",
    "2. Le fichier Excel \"Analyse_CA.xlsx\"\n",
    "\n",
    "*PS: 1pt bonus pour la clarté du code, la qualité du fichier excel et le design des graphiques!*"
   ]
  },
  {
   "cell_type": "markdown",
   "id": "ae53b22c-e883-4f2f-9a4d-8346911096ec",
   "metadata": {},
   "source": [
    "## Devoir réalisé par Alexandre, Adnan, Sonia, Elisa"
   ]
  },
  {
   "cell_type": "markdown",
   "id": "dda59cf3-7617-4fd5-851f-cc72b38abf3e",
   "metadata": {},
   "source": [
    "## 1 - PLAN D'ACTION"
   ]
  },
  {
   "cell_type": "markdown",
   "id": "91858a2b-371e-4870-8f30-5810f96b9aae",
   "metadata": {},
   "source": [
    "### Importer les librairies nécessaires\n",
    "- Utiliser Pandas pour traiter les données excel\n",
    "- Utiliser matplot pour faire des analyses"
   ]
  },
  {
   "cell_type": "code",
   "execution_count": 3,
   "id": "25e98440-4655-4bdd-b448-8174e972ad43",
   "metadata": {},
   "outputs": [],
   "source": [
    "import pandas as pd\n",
    "import matplotlib.pyplot as plt\n",
    "import os"
   ]
  },
  {
   "cell_type": "markdown",
   "id": "9a36201b-0659-4998-95ac-b73d6c7d0e09",
   "metadata": {},
   "source": [
    "### Regrouper les tableurs en un seul DataFrame\n",
    "- Trouver le chemin du répertoire des tableurs\n",
    "- Créer une liste auquel on ajoutera le nom de tous les fichiers avec une boucle for et la méthode append()\n",
    "- Utiliser la methode concat() pour fusionner les tableurs"
   ]
  },
  {
   "cell_type": "code",
   "execution_count": 10,
   "id": "120e7d49-a993-41db-8e6d-b73719797ec6",
   "metadata": {},
   "outputs": [
    {
     "data": {
      "text/html": [
       "<div>\n",
       "<style scoped>\n",
       "    .dataframe tbody tr th:only-of-type {\n",
       "        vertical-align: middle;\n",
       "    }\n",
       "\n",
       "    .dataframe tbody tr th {\n",
       "        vertical-align: top;\n",
       "    }\n",
       "\n",
       "    .dataframe thead th {\n",
       "        text-align: right;\n",
       "    }\n",
       "</style>\n",
       "<table border=\"1\" class=\"dataframe\">\n",
       "  <thead>\n",
       "    <tr style=\"text-align: right;\">\n",
       "      <th></th>\n",
       "      <th>Date</th>\n",
       "      <th>Produit</th>\n",
       "      <th>Région</th>\n",
       "      <th>Quantité</th>\n",
       "      <th>Prix unitaire</th>\n",
       "      <th>Chiffre d'affaires</th>\n",
       "      <th>Catégorie</th>\n",
       "      <th>Prix Standard</th>\n",
       "    </tr>\n",
       "  </thead>\n",
       "  <tbody>\n",
       "    <tr>\n",
       "      <th>0</th>\n",
       "      <td>2023-10-01</td>\n",
       "      <td>Produit B</td>\n",
       "      <td>Est</td>\n",
       "      <td>19.0</td>\n",
       "      <td>22.710119</td>\n",
       "      <td>431.492259</td>\n",
       "      <td>NaN</td>\n",
       "      <td>NaN</td>\n",
       "    </tr>\n",
       "    <tr>\n",
       "      <th>1</th>\n",
       "      <td>2023-10-21</td>\n",
       "      <td>Produit A</td>\n",
       "      <td>Ouest</td>\n",
       "      <td>17.0</td>\n",
       "      <td>61.378968</td>\n",
       "      <td>1043.442448</td>\n",
       "      <td>NaN</td>\n",
       "      <td>NaN</td>\n",
       "    </tr>\n",
       "    <tr>\n",
       "      <th>2</th>\n",
       "      <td>2023-08-15</td>\n",
       "      <td>Produit A</td>\n",
       "      <td>Est</td>\n",
       "      <td>6.0</td>\n",
       "      <td>26.674332</td>\n",
       "      <td>160.045992</td>\n",
       "      <td>NaN</td>\n",
       "      <td>NaN</td>\n",
       "    </tr>\n",
       "    <tr>\n",
       "      <th>3</th>\n",
       "      <td>2023-01-15</td>\n",
       "      <td>Produit B</td>\n",
       "      <td>Est</td>\n",
       "      <td>16.0</td>\n",
       "      <td>35.077876</td>\n",
       "      <td>561.246011</td>\n",
       "      <td>NaN</td>\n",
       "      <td>NaN</td>\n",
       "    </tr>\n",
       "    <tr>\n",
       "      <th>4</th>\n",
       "      <td>2023-07-11</td>\n",
       "      <td>Produit B</td>\n",
       "      <td>Est</td>\n",
       "      <td>12.0</td>\n",
       "      <td>29.683882</td>\n",
       "      <td>356.206584</td>\n",
       "      <td>NaN</td>\n",
       "      <td>NaN</td>\n",
       "    </tr>\n",
       "  </tbody>\n",
       "</table>\n",
       "</div>"
      ],
      "text/plain": [
       "        Date    Produit Région  Quantité  Prix unitaire  Chiffre d'affaires  \\\n",
       "0 2023-10-01  Produit B    Est      19.0      22.710119          431.492259   \n",
       "1 2023-10-21  Produit A  Ouest      17.0      61.378968         1043.442448   \n",
       "2 2023-08-15  Produit A    Est       6.0      26.674332          160.045992   \n",
       "3 2023-01-15  Produit B    Est      16.0      35.077876          561.246011   \n",
       "4 2023-07-11  Produit B    Est      12.0      29.683882          356.206584   \n",
       "\n",
       "  Catégorie  Prix Standard  \n",
       "0       NaN            NaN  \n",
       "1       NaN            NaN  \n",
       "2       NaN            NaN  \n",
       "3       NaN            NaN  \n",
       "4       NaN            NaN  "
      ]
     },
     "execution_count": 10,
     "metadata": {},
     "output_type": "execute_result"
    }
   ],
   "source": [
    "# Chemin du répertoire contenant les tableurs à fusionner\n",
    "repertoire = \"/Users/Harry/Desktop/examen_data\"\n",
    "\n",
    "# Liste pour stocker les noms de fichiers à fusionner\n",
    "fichiers_a_fusionner = []\n",
    "\n",
    "# Parcourir les fichiers du répertoire et ajouter les noms des fichiers Excel à la liste\n",
    "for fichier in os.listdir(repertoire):\n",
    "    if fichier.endswith(\".xlsx\"):\n",
    "        fichiers_a_fusionner.append(os.path.join(repertoire, fichier))\n",
    "\n",
    "# Créer un DataFrame vide pour stocker les données fusionnées\n",
    "fusion = pd.DataFrame()\n",
    "\n",
    "# Boucle pour lire chaque fichier Excel et fusionner ses données dans le DataFrame fusion\n",
    "for fichier in fichiers_a_fusionner:\n",
    "    data = pd.read_excel(fichier)\n",
    "    fusion = pd.concat([fusion, data], ignore_index=True)\n",
    "\n",
    "# Enregistrer le DataFrame fusionné dans un nouveau fichier Excel\n",
    "fusion.to_excel(\"data.xlsx\", index=False)\n",
    "\n",
    "fusion.head()"
   ]
  },
  {
   "cell_type": "markdown",
   "id": "7e937ef7-7dea-4a47-8a60-c6f7ff87154f",
   "metadata": {},
   "source": [
    "### Changer le type de donnée de la colonne \"Date\"\n",
    "- Utiliser la méthode to_datetime()\n",
    "- Vérifier que le type a bien changé"
   ]
  },
  {
   "cell_type": "code",
   "execution_count": 9,
   "id": "65b6e1d4-c7cf-4f67-a600-96ec94f3efa7",
   "metadata": {},
   "outputs": [
    {
     "name": "stdout",
     "output_type": "stream",
     "text": [
      "datetime64[ns]\n"
     ]
    }
   ],
   "source": [
    "fusion['Date'] = pd.to_datetime(fusion['Date'])\n",
    "\n",
    "print(fusion['Date'].dtype)"
   ]
  },
  {
   "cell_type": "markdown",
   "id": "f32d3f71-1131-40c0-a53e-4ff10eb613ce",
   "metadata": {},
   "source": [
    "### Vérifier les données manquantes\n",
    "- Utiliser une boucle for pour vérifier si la cellule est vide, si elle est vide la remplacer par la précédente"
   ]
  },
  {
   "cell_type": "code",
   "execution_count": 18,
   "id": "b5e8b78e-ed52-4f70-bc60-242890e35616",
   "metadata": {},
   "outputs": [
    {
     "data": {
      "text/html": [
       "<div>\n",
       "<style scoped>\n",
       "    .dataframe tbody tr th:only-of-type {\n",
       "        vertical-align: middle;\n",
       "    }\n",
       "\n",
       "    .dataframe tbody tr th {\n",
       "        vertical-align: top;\n",
       "    }\n",
       "\n",
       "    .dataframe thead th {\n",
       "        text-align: right;\n",
       "    }\n",
       "</style>\n",
       "<table border=\"1\" class=\"dataframe\">\n",
       "  <thead>\n",
       "    <tr style=\"text-align: right;\">\n",
       "      <th></th>\n",
       "      <th>Date</th>\n",
       "      <th>Produit</th>\n",
       "      <th>Région</th>\n",
       "      <th>Quantité</th>\n",
       "      <th>Prix unitaire</th>\n",
       "      <th>Chiffre d'affaires</th>\n",
       "      <th>Catégorie</th>\n",
       "      <th>Prix Standard</th>\n",
       "    </tr>\n",
       "  </thead>\n",
       "  <tbody>\n",
       "    <tr>\n",
       "      <th>0</th>\n",
       "      <td>2023-10-01</td>\n",
       "      <td>Produit B</td>\n",
       "      <td>Est</td>\n",
       "      <td>19.0</td>\n",
       "      <td>22.710119</td>\n",
       "      <td>431.492259</td>\n",
       "      <td>NaN</td>\n",
       "      <td>NaN</td>\n",
       "    </tr>\n",
       "    <tr>\n",
       "      <th>1</th>\n",
       "      <td>2023-10-21</td>\n",
       "      <td>Produit A</td>\n",
       "      <td>Ouest</td>\n",
       "      <td>17.0</td>\n",
       "      <td>61.378968</td>\n",
       "      <td>1043.442448</td>\n",
       "      <td>NaN</td>\n",
       "      <td>NaN</td>\n",
       "    </tr>\n",
       "    <tr>\n",
       "      <th>2</th>\n",
       "      <td>2023-08-15</td>\n",
       "      <td>Produit A</td>\n",
       "      <td>Est</td>\n",
       "      <td>6.0</td>\n",
       "      <td>26.674332</td>\n",
       "      <td>160.045992</td>\n",
       "      <td>NaN</td>\n",
       "      <td>NaN</td>\n",
       "    </tr>\n",
       "    <tr>\n",
       "      <th>3</th>\n",
       "      <td>2023-01-15</td>\n",
       "      <td>Produit B</td>\n",
       "      <td>Est</td>\n",
       "      <td>16.0</td>\n",
       "      <td>35.077876</td>\n",
       "      <td>561.246011</td>\n",
       "      <td>NaN</td>\n",
       "      <td>NaN</td>\n",
       "    </tr>\n",
       "    <tr>\n",
       "      <th>4</th>\n",
       "      <td>2023-07-11</td>\n",
       "      <td>Produit B</td>\n",
       "      <td>Est</td>\n",
       "      <td>12.0</td>\n",
       "      <td>29.683882</td>\n",
       "      <td>356.206584</td>\n",
       "      <td>NaN</td>\n",
       "      <td>NaN</td>\n",
       "    </tr>\n",
       "    <tr>\n",
       "      <th>...</th>\n",
       "      <td>...</td>\n",
       "      <td>...</td>\n",
       "      <td>...</td>\n",
       "      <td>...</td>\n",
       "      <td>...</td>\n",
       "      <td>...</td>\n",
       "      <td>...</td>\n",
       "      <td>...</td>\n",
       "    </tr>\n",
       "    <tr>\n",
       "      <th>998</th>\n",
       "      <td>2023-08-09</td>\n",
       "      <td>Produit C</td>\n",
       "      <td>Est</td>\n",
       "      <td>15.0</td>\n",
       "      <td>15.990826</td>\n",
       "      <td>239.862383</td>\n",
       "      <td>Alimentation</td>\n",
       "      <td>15.0</td>\n",
       "    </tr>\n",
       "    <tr>\n",
       "      <th>999</th>\n",
       "      <td>2023-08-23</td>\n",
       "      <td>Produit B</td>\n",
       "      <td>Sud</td>\n",
       "      <td>5.0</td>\n",
       "      <td>68.348621</td>\n",
       "      <td>341.743103</td>\n",
       "      <td>Alimentation</td>\n",
       "      <td>15.0</td>\n",
       "    </tr>\n",
       "    <tr>\n",
       "      <th>1000</th>\n",
       "      <td>2023-11-27</td>\n",
       "      <td>Produit C</td>\n",
       "      <td>Nord</td>\n",
       "      <td>17.0</td>\n",
       "      <td>16.669488</td>\n",
       "      <td>283.381297</td>\n",
       "      <td>Alimentation</td>\n",
       "      <td>15.0</td>\n",
       "    </tr>\n",
       "    <tr>\n",
       "      <th>1001</th>\n",
       "      <td>2023-05-26</td>\n",
       "      <td>Produit C</td>\n",
       "      <td>Sud</td>\n",
       "      <td>6.0</td>\n",
       "      <td>43.792204</td>\n",
       "      <td>262.753221</td>\n",
       "      <td>Alimentation</td>\n",
       "      <td>15.0</td>\n",
       "    </tr>\n",
       "    <tr>\n",
       "      <th>1002</th>\n",
       "      <td>2023-08-27</td>\n",
       "      <td>Produit B</td>\n",
       "      <td>Nord</td>\n",
       "      <td>11.0</td>\n",
       "      <td>82.343309</td>\n",
       "      <td>905.776400</td>\n",
       "      <td>Alimentation</td>\n",
       "      <td>15.0</td>\n",
       "    </tr>\n",
       "  </tbody>\n",
       "</table>\n",
       "<p>1003 rows × 8 columns</p>\n",
       "</div>"
      ],
      "text/plain": [
       "           Date    Produit Région  Quantité  Prix unitaire  \\\n",
       "0    2023-10-01  Produit B    Est      19.0      22.710119   \n",
       "1    2023-10-21  Produit A  Ouest      17.0      61.378968   \n",
       "2    2023-08-15  Produit A    Est       6.0      26.674332   \n",
       "3    2023-01-15  Produit B    Est      16.0      35.077876   \n",
       "4    2023-07-11  Produit B    Est      12.0      29.683882   \n",
       "...         ...        ...    ...       ...            ...   \n",
       "998  2023-08-09  Produit C    Est      15.0      15.990826   \n",
       "999  2023-08-23  Produit B    Sud       5.0      68.348621   \n",
       "1000 2023-11-27  Produit C   Nord      17.0      16.669488   \n",
       "1001 2023-05-26  Produit C    Sud       6.0      43.792204   \n",
       "1002 2023-08-27  Produit B   Nord      11.0      82.343309   \n",
       "\n",
       "      Chiffre d'affaires     Catégorie  Prix Standard  \n",
       "0             431.492259           NaN            NaN  \n",
       "1            1043.442448           NaN            NaN  \n",
       "2             160.045992           NaN            NaN  \n",
       "3             561.246011           NaN            NaN  \n",
       "4             356.206584           NaN            NaN  \n",
       "...                  ...           ...            ...  \n",
       "998           239.862383  Alimentation           15.0  \n",
       "999           341.743103  Alimentation           15.0  \n",
       "1000          283.381297  Alimentation           15.0  \n",
       "1001          262.753221  Alimentation           15.0  \n",
       "1002          905.776400  Alimentation           15.0  \n",
       "\n",
       "[1003 rows x 8 columns]"
      ]
     },
     "execution_count": 18,
     "metadata": {},
     "output_type": "execute_result"
    }
   ],
   "source": [
    "# Remplacer les cellules vides par la valeur de la ligne précédente\n",
    "fusion.ffill(inplace=True)\n",
    "\n",
    "fusion"
   ]
  },
  {
   "cell_type": "markdown",
   "id": "3c4968e3-1ee1-4345-a0f8-45357aa5adb4",
   "metadata": {},
   "source": [
    "### Calculer le chiffre d'affaire total et par produit\n",
    "- Créer une catégorie \"produit\" avec la méthode groupby\n",
    "- Faire une somme des chiffres d'affaires par produit et de la colonne \"Chiffre d'affaires\" avec sum"
   ]
  },
  {
   "cell_type": "code",
   "execution_count": 23,
   "id": "83a266d7-6cf2-4b25-92f7-df2d43bbf471",
   "metadata": {},
   "outputs": [],
   "source": [
    "# Création de la catégorie Produit\n",
    "product_type = fusion.groupby('Produit')"
   ]
  },
  {
   "cell_type": "code",
   "execution_count": 28,
   "id": "015eb25f-d915-47ae-ba0b-0b0ae5f53153",
   "metadata": {},
   "outputs": [
    {
     "name": "stdout",
     "output_type": "stream",
     "text": [
      "Produit\n",
      "Produit A    187136.728911\n",
      "Produit B    180028.643481\n",
      "Produit C    179391.899070\n",
      "Name: Chiffre d'affaires, dtype: float64\n",
      "546557.2714610326\n"
     ]
    }
   ],
   "source": [
    "# Sommer le chiffre d'affaires par produit et total\n",
    "product_turnover = product_type[\"Chiffre d'affaires\"].sum()\n",
    "total_turnover = fusion[\"Chiffre d'affaires\"].sum()\n",
    "\n",
    "print(product_turnover, total_turnover)"
   ]
  },
  {
   "cell_type": "code",
   "execution_count": 45,
   "id": "98f2d204-84e9-4381-bedc-0091bdc1d565",
   "metadata": {},
   "outputs": [
    {
     "data": {
      "text/html": [
       "<div>\n",
       "<style scoped>\n",
       "    .dataframe tbody tr th:only-of-type {\n",
       "        vertical-align: middle;\n",
       "    }\n",
       "\n",
       "    .dataframe tbody tr th {\n",
       "        vertical-align: top;\n",
       "    }\n",
       "\n",
       "    .dataframe thead th {\n",
       "        text-align: right;\n",
       "    }\n",
       "</style>\n",
       "<table border=\"1\" class=\"dataframe\">\n",
       "  <thead>\n",
       "    <tr style=\"text-align: right;\">\n",
       "      <th></th>\n",
       "      <th>Chiffre d'affaires</th>\n",
       "    </tr>\n",
       "    <tr>\n",
       "      <th>Produit</th>\n",
       "      <th></th>\n",
       "    </tr>\n",
       "  </thead>\n",
       "  <tbody>\n",
       "    <tr>\n",
       "      <th>Produit A</th>\n",
       "      <td>187136.728911</td>\n",
       "    </tr>\n",
       "    <tr>\n",
       "      <th>Produit B</th>\n",
       "      <td>180028.643481</td>\n",
       "    </tr>\n",
       "    <tr>\n",
       "      <th>Produit C</th>\n",
       "      <td>179391.899070</td>\n",
       "    </tr>\n",
       "    <tr>\n",
       "      <th>Total</th>\n",
       "      <td>546557.271461</td>\n",
       "    </tr>\n",
       "  </tbody>\n",
       "</table>\n",
       "</div>"
      ],
      "text/plain": [
       "           Chiffre d'affaires\n",
       "Produit                      \n",
       "Produit A       187136.728911\n",
       "Produit B       180028.643481\n",
       "Produit C       179391.899070\n",
       "Total           546557.271461"
      ]
     },
     "execution_count": 45,
     "metadata": {},
     "output_type": "execute_result"
    }
   ],
   "source": [
    "CA = pd.DataFrame(product_turnover)\n",
    "CA.loc['Total'] = total_turnover\n",
    "CA.head()"
   ]
  },
  {
   "cell_type": "markdown",
   "id": "90ad288d-21ba-4a3e-b880-f43bfd122110",
   "metadata": {},
   "source": [
    "### Créez une pivot table pour le CA mensuel et par région\n",
    "- Utiliser la  méthode pivot_table\n",
    "- Créer une nouvelle colonne en extrayant le mois de la colonne date"
   ]
  },
  {
   "cell_type": "code",
   "execution_count": 49,
   "id": "1deb8609-06c6-45a6-9431-e559b69bdff0",
   "metadata": {},
   "outputs": [
    {
     "name": "stdout",
     "output_type": "stream",
     "text": [
      "             Chiffre d'affaires\n",
      "Mois Région                    \n",
      "1    Est           10037.028399\n",
      "     Nord          13076.338478\n",
      "     Ouest          7710.564014\n",
      "     Sud            8213.807744\n",
      "2    Est            9837.787233\n",
      "     Nord           9853.258419\n",
      "     Ouest         19094.963887\n",
      "     Sud           10051.177005\n",
      "3    Est            3562.719474\n",
      "     Nord           8653.392696\n",
      "     Ouest         10167.234999\n",
      "     Sud            8646.945490\n",
      "4    Est            9297.540059\n",
      "     Nord          14065.944384\n",
      "     Ouest         10668.264692\n",
      "     Sud           14607.472470\n",
      "5    Est           10775.295424\n",
      "     Nord          16075.861928\n",
      "     Ouest         13966.637315\n",
      "     Sud            8783.433772\n",
      "6    Est           12085.008995\n",
      "     Nord          12739.880874\n",
      "     Ouest         12484.007879\n",
      "     Sud           12037.267731\n",
      "7    Est            9123.243007\n",
      "     Nord          10750.532192\n",
      "     Ouest         10123.820477\n",
      "     Sud           10406.780030\n",
      "8    Est           16581.733330\n",
      "     Nord          18964.725727\n",
      "     Ouest         14757.565811\n",
      "     Sud           11905.031135\n",
      "9    Est            5461.273695\n",
      "     Nord          10868.912146\n",
      "     Ouest         17037.934449\n",
      "     Sud           14025.384478\n",
      "10   Est           13161.063580\n",
      "     Nord           8935.674540\n",
      "     Ouest          9157.426860\n",
      "     Sud            9080.505937\n",
      "11   Est            5664.529823\n",
      "     Nord           7460.935302\n",
      "     Ouest         12038.926403\n",
      "     Sud           10307.182117\n",
      "12   Est           12607.537699\n",
      "     Nord          16299.983513\n",
      "     Ouest         16003.263805\n",
      "     Sud            9341.472040\n"
     ]
    }
   ],
   "source": [
    "# Créer une nouvelle colonne 'Mois' pour extraire le mois à partir de la colonne 'date'\n",
    "fusion['Mois'] = fusion['Date'].dt.month\n",
    "\n",
    "# Création d'une pivot table\n",
    "\n",
    "CA_pivot_table = pd.pivot_table(fusion, values=\"Chiffre d'affaires\", index=['Mois','Région'] , aggfunc='sum')\n",
    "print(CA_pivot_table)"
   ]
  },
  {
   "cell_type": "markdown",
   "id": "41d4e3c4-4c50-40de-9e97-bce125d28319",
   "metadata": {},
   "source": [
    "### Ajouter le référentiel \n",
    "- Utiliser la méthode join()"
   ]
  },
  {
   "cell_type": "code",
   "execution_count": 56,
   "id": "7e45f587-cae7-4618-b908-7731a06e810b",
   "metadata": {},
   "outputs": [
    {
     "ename": "AttributeError",
     "evalue": "'DataFrame' object has no attribute 'concat'",
     "output_type": "error",
     "traceback": [
      "\u001b[0;31m---------------------------------------------------------------------------\u001b[0m",
      "\u001b[0;31mAttributeError\u001b[0m                            Traceback (most recent call last)",
      "\u001b[0;32m/var/folders/dm/lnb5ml6n4_s0kw2j2tw87f1w0000gn/T/ipykernel_96857/997632362.py\u001b[0m in \u001b[0;36m?\u001b[0;34m()\u001b[0m\n\u001b[1;32m      1\u001b[0m \u001b[0mreferentiel\u001b[0m \u001b[0;34m=\u001b[0m \u001b[0mpd\u001b[0m\u001b[0;34m.\u001b[0m\u001b[0mread_excel\u001b[0m\u001b[0;34m(\u001b[0m\u001b[0;34m'/Users/Harry/Desktop/examen_data/referentiel.xlsx'\u001b[0m\u001b[0;34m)\u001b[0m\u001b[0;34m\u001b[0m\u001b[0;34m\u001b[0m\u001b[0m\n\u001b[1;32m      2\u001b[0m \u001b[0;34m\u001b[0m\u001b[0m\n\u001b[0;32m----> 3\u001b[0;31m \u001b[0mrésultat\u001b[0m \u001b[0;34m=\u001b[0m \u001b[0mdata\u001b[0m\u001b[0;34m.\u001b[0m\u001b[0mconcat\u001b[0m\u001b[0;34m(\u001b[0m\u001b[0mreferentiel\u001b[0m\u001b[0;34m)\u001b[0m\u001b[0;34m\u001b[0m\u001b[0;34m\u001b[0m\u001b[0m\n\u001b[0m",
      "\u001b[0;32m/Library/Frameworks/Python.framework/Versions/3.12/lib/python3.12/site-packages/pandas/core/generic.py\u001b[0m in \u001b[0;36m?\u001b[0;34m(self, name)\u001b[0m\n\u001b[1;32m   6292\u001b[0m             \u001b[0;32mand\u001b[0m \u001b[0mname\u001b[0m \u001b[0;32mnot\u001b[0m \u001b[0;32min\u001b[0m \u001b[0mself\u001b[0m\u001b[0;34m.\u001b[0m\u001b[0m_accessors\u001b[0m\u001b[0;34m\u001b[0m\u001b[0;34m\u001b[0m\u001b[0m\n\u001b[1;32m   6293\u001b[0m             \u001b[0;32mand\u001b[0m \u001b[0mself\u001b[0m\u001b[0;34m.\u001b[0m\u001b[0m_info_axis\u001b[0m\u001b[0;34m.\u001b[0m\u001b[0m_can_hold_identifiers_and_holds_name\u001b[0m\u001b[0;34m(\u001b[0m\u001b[0mname\u001b[0m\u001b[0;34m)\u001b[0m\u001b[0;34m\u001b[0m\u001b[0;34m\u001b[0m\u001b[0m\n\u001b[1;32m   6294\u001b[0m         \u001b[0;34m)\u001b[0m\u001b[0;34m:\u001b[0m\u001b[0;34m\u001b[0m\u001b[0;34m\u001b[0m\u001b[0m\n\u001b[1;32m   6295\u001b[0m             \u001b[0;32mreturn\u001b[0m \u001b[0mself\u001b[0m\u001b[0;34m[\u001b[0m\u001b[0mname\u001b[0m\u001b[0;34m]\u001b[0m\u001b[0;34m\u001b[0m\u001b[0;34m\u001b[0m\u001b[0m\n\u001b[0;32m-> 6296\u001b[0;31m         \u001b[0;32mreturn\u001b[0m \u001b[0mobject\u001b[0m\u001b[0;34m.\u001b[0m\u001b[0m__getattribute__\u001b[0m\u001b[0;34m(\u001b[0m\u001b[0mself\u001b[0m\u001b[0;34m,\u001b[0m \u001b[0mname\u001b[0m\u001b[0;34m)\u001b[0m\u001b[0;34m\u001b[0m\u001b[0;34m\u001b[0m\u001b[0m\n\u001b[0m",
      "\u001b[0;31mAttributeError\u001b[0m: 'DataFrame' object has no attribute 'concat'"
     ]
    }
   ],
   "source": [
    "referentiel = pd.read_excel('/Users/Harry/Desktop/examen_data/referentiel.xlsx')"
   ]
  },
  {
   "cell_type": "code",
   "execution_count": null,
   "id": "b591ae32-c4b3-40dd-8c54-b301c133ef11",
   "metadata": {},
   "outputs": [],
   "source": []
  }
 ],
 "metadata": {
  "kernelspec": {
   "display_name": "Python 3 (ipykernel)",
   "language": "python",
   "name": "python3"
  },
  "language_info": {
   "codemirror_mode": {
    "name": "ipython",
    "version": 3
   },
   "file_extension": ".py",
   "mimetype": "text/x-python",
   "name": "python",
   "nbconvert_exporter": "python",
   "pygments_lexer": "ipython3",
   "version": "3.12.2"
  }
 },
 "nbformat": 4,
 "nbformat_minor": 5
}
