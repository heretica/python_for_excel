{
 "cells": [
  {
   "cell_type": "markdown",
   "id": "2040fb39-9de7-4e8a-888b-ad9689de0da3",
   "metadata": {},
   "source": [
    "# Automatisation des tâches"
   ]
  },
  {
   "cell_type": "markdown",
   "id": "e3339a5d-a5bc-460c-8fa5-b2f0d3ebe7fa",
   "metadata": {},
   "source": [
    "Dans le dossier `datas2s3`, vous avez toutes les données de vente d'une chaine de magasin. Votre supérieur veut que vous produisiez un rapport d'analyse de ces ventes, en restant sur Excel. "
   ]
  },
  {
   "cell_type": "markdown",
   "id": "c063af86-a4dc-4419-8b50-bb6ad74dab2c",
   "metadata": {},
   "source": [
    "## Etape 1 - Plan d'action\n",
    "\n",
    "Rédigez un plan d'action des différentes tâches que vous allez devoir effectuer avec Excel et Python. \n",
    "\n",
    "Pour chaque tâche, précisez bien la librairie et la méthode utilisée. \n",
    "\n",
    "Utilisez [la syntaxe Markdown](https://www.markdownguide.org/basic-syntax/) dans les cellules de votre Jupyter. "
   ]
  },
  {
   "cell_type": "code",
   "execution_count": null,
   "id": "63fb429e-1fa2-43d5-85d9-51278ef5fd59",
   "metadata": {},
   "outputs": [],
   "source": []
  },
  {
   "cell_type": "markdown",
   "id": "add2b967-13c7-4bf4-bdd6-3d69413108ab",
   "metadata": {},
   "source": [
    "## Etape 2 - Code\n",
    "\n",
    "Rédigez ensuite les bouts de code qui vont vous permettre d'effectuer chaque tâche"
   ]
  },
  {
   "cell_type": "markdown",
   "id": "33d6d23d-c740-4658-a40f-b60c290f8694",
   "metadata": {},
   "source": [
    "#### Tâche 1 :  "
   ]
  },
  {
   "cell_type": "code",
   "execution_count": 2,
   "id": "32e1883a-8d4e-44df-b5c3-e453ae7f67ae",
   "metadata": {},
   "outputs": [],
   "source": [
    "#votre code"
   ]
  },
  {
   "cell_type": "markdown",
   "id": "1cda258e-58c1-4ab9-9920-6ba5acdca93b",
   "metadata": {},
   "source": [
    "#### Tâche 2 : "
   ]
  },
  {
   "cell_type": "code",
   "execution_count": 3,
   "id": "3ef0f97a-4007-4de9-8a23-b89e9ebf4d5d",
   "metadata": {},
   "outputs": [],
   "source": [
    "#votre code"
   ]
  },
  {
   "cell_type": "markdown",
   "id": "43f8fdde-853c-4426-9536-5597b3d15111",
   "metadata": {},
   "source": [
    "#### Tâche... : "
   ]
  },
  {
   "cell_type": "code",
   "execution_count": 4,
   "id": "b817ad83-edc8-4240-9587-9dcdd057541b",
   "metadata": {},
   "outputs": [],
   "source": [
    "#votre code"
   ]
  },
  {
   "cell_type": "markdown",
   "id": "30e472eb-1bf1-46b6-86f0-0d676d3f6879",
   "metadata": {},
   "source": [
    "## Etape 3 - Interfaçage avec Excel \n",
    "\n",
    "Avec [la documentation de la librairie XLWings](https://docs.xlwings.org/en/stable/quickstart.html), réflechissez à une manière d'interfacer votre Jupyter avec Excel\n",
    "\n",
    "Notez les bouts de code qui vous paraissent nécessaires"
   ]
  },
  {
   "cell_type": "code",
   "execution_count": null,
   "id": "6d86eb6d-510b-460b-9d4b-6a91ecaa2fb3",
   "metadata": {},
   "outputs": [],
   "source": []
  },
  {
   "cell_type": "code",
   "execution_count": null,
   "id": "9ff5c44c-5e1a-447f-970f-b4df832684e2",
   "metadata": {},
   "outputs": [],
   "source": []
  }
 ],
 "metadata": {
  "kernelspec": {
   "display_name": "Python 3 (ipykernel)",
   "language": "python",
   "name": "python3"
  },
  "language_info": {
   "codemirror_mode": {
    "name": "ipython",
    "version": 3
   },
   "file_extension": ".py",
   "mimetype": "text/x-python",
   "name": "python",
   "nbconvert_exporter": "python",
   "pygments_lexer": "ipython3",
   "version": "3.11.5"
  }
 },
 "nbformat": 4,
 "nbformat_minor": 5
}
