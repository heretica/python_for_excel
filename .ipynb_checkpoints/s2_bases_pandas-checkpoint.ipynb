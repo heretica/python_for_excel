{
 "cells": [
  {
   "cell_type": "markdown",
   "id": "4af4f862-d2c6-4f75-9c60-e76c1c118136",
   "metadata": {},
   "source": [
    "# Les bases de pandas pour faire interagir Excel avec Python"
   ]
  },
  {
   "cell_type": "markdown",
   "id": "88c47c2b-e9ca-46a1-9603-71958335e173",
   "metadata": {},
   "source": [
    "L'objectif de ce module de 3h est d'enseigner les bases de la librairie Pandas et de montrer aux étudiants qu'il est possible de faire en quelques lignes de code des opérations qui demandent beaucoup plus de temps avec Excel. \n",
    "\n",
    "Ce module doit contenir une partie d'introduction au module pandas, une partie où il leur est montré comment combiner quasi automatiquement des jeux de données avec pandas, et une dernière partie où il leur est montré comment faire parler très rapidement des données grâce à des opérations de filtrage. \n",
    "\n",
    "Propose moi, un déroulé de cours avec des bouts de code à chaque instant."
   ]
  },
  {
   "cell_type": "markdown",
   "id": "c0983ee6-d728-4e1c-ab29-33ad8fba1644",
   "metadata": {},
   "source": [
    "pandas makes tasks that are particularly painful in Excel easier, faster, and less error-prone.\n",
    "\n",
    "the main components of a DataFrame: index, columns, and data.\n",
    "\n",
    "Let’s now re-create this DataFrame from scratch without reading it from the Excel file: one way of creating a DataFrame is to provide the data as a nes‐ ted list, along with values for columns and index:\n",
    "\n",
    "By doing df.reset_index().set_index(\"name\"), you are using method chaining:\n",
    "\n",
    "Real-world data hardly gets served on a silver platter, so before working with it, you need to clean it and bring it into a digestible form. \n",
    "\n",
    "Imagine that you need to anonymize all names of people who are below 20 years old or from the USA:\n",
    "\n",
    "In [41]: df2.replace(\"USA\", \"U.S.\")\n",
    "\n",
    "However, the true power of pandas is its automatic data alignment mechanism: when you use arithmetic operators with more than one DataFrame, pandas automatically aligns them by their columns and row indices.\n",
    "\n",
    "DataFrames offer the applymap method, which will apply a function to every individ‐ ual element, something that is useful if there are no NumPy ufuncs available.\n",
    "\n",
    "In [69]: rainfall.applymap(lambda x: f\"{x:,.2f}\")\n",
    "\n",
    "Combining different datasets in Excel can be a cumbersome task and typically involves a lot of VLOOKUP formulas\n",
    "\n",
    "\n",
    "The special and very useful feature of concat is that it accepts more than two Data‐ Frames. We will use this in the next chapter to make a single DataFrame out of multi‐ ple CSV files:\n",
    "pd.concat([df1, df2, df3, ...])\n",
    "\n",
    "In [88]: df.groupby([\"continent\"]).mean()\n",
    "\n",
    "A popular way to get statistics per group in Excel is to use pivot tables.\n",
    "\n",
    " In [92]: pivot = pd.pivot_table(sales,\n",
    "                                    index=\"Fruit\", columns=\"Region\",\n",
    "                                    values=\"Revenue\", aggfunc=\"sum\",\n",
    "                                    margins=True, margins_name=\"Total\")\n",
    "pivot\n",
    "    Out[92]: Region   North  South  Total\n",
    "             Fruit\n",
    "             Apples     NaN  10.55  10.55\n",
    "             Bananas   31.3   5.90  37.20\n",
    "             Oranges   25.4  22.00  47.40\n",
    "             Total     56.7  38.45  95.15\n",
    "\n",
    "Working with aggregated statistics helps you understand your data, but nobody likes to read a page full of numbers."
   ]
  },
  {
   "cell_type": "markdown",
   "id": "dcfdc4d0-ca6e-45b6-9f9e-5f4a1a430846",
   "metadata": {},
   "source": [
    "## Selectionner les données"
   ]
  },
  {
   "cell_type": "code",
   "execution_count": 4,
   "id": "e7656e97-cbea-4ea8-80ad-4bf39ca60e0a",
   "metadata": {},
   "outputs": [],
   "source": [
    "import pandas as pd"
   ]
  },
  {
   "cell_type": "code",
   "execution_count": 10,
   "id": "4fa5506c-b74c-4d43-8e83-9a5ec0907662",
   "metadata": {},
   "outputs": [
    {
     "data": {
      "text/html": [
       "<div>\n",
       "<style scoped>\n",
       "    .dataframe tbody tr th:only-of-type {\n",
       "        vertical-align: middle;\n",
       "    }\n",
       "\n",
       "    .dataframe tbody tr th {\n",
       "        vertical-align: top;\n",
       "    }\n",
       "\n",
       "    .dataframe thead th {\n",
       "        text-align: right;\n",
       "    }\n",
       "</style>\n",
       "<table border=\"1\" class=\"dataframe\">\n",
       "  <thead>\n",
       "    <tr style=\"text-align: right;\">\n",
       "      <th></th>\n",
       "      <th>0</th>\n",
       "      <th>1</th>\n",
       "      <th>2</th>\n",
       "      <th>3</th>\n",
       "      <th>4</th>\n",
       "      <th>5</th>\n",
       "      <th>6</th>\n",
       "      <th>7</th>\n",
       "      <th>8</th>\n",
       "      <th>9</th>\n",
       "      <th>10</th>\n",
       "      <th>11</th>\n",
       "      <th>12</th>\n",
       "      <th>13</th>\n",
       "    </tr>\n",
       "  </thead>\n",
       "  <tbody>\n",
       "    <tr>\n",
       "      <th>0</th>\n",
       "      <td>NaN</td>\n",
       "      <td>Pays_Cod</td>\n",
       "      <td>Pays</td>\n",
       "      <td>Région</td>\n",
       "      <td>Sous-Région</td>\n",
       "      <td>Code Sous-Région</td>\n",
       "      <td>NaN</td>\n",
       "      <td>Product_Ref</td>\n",
       "      <td>Produit</td>\n",
       "      <td>Catégorie de produit</td>\n",
       "      <td>Couleur</td>\n",
       "      <td>Créé le</td>\n",
       "      <td>Prix d'achat</td>\n",
       "      <td>Prix vente HT</td>\n",
       "    </tr>\n",
       "    <tr>\n",
       "      <th>1</th>\n",
       "      <td>NaN</td>\n",
       "      <td>BGR</td>\n",
       "      <td>Bulgarie</td>\n",
       "      <td>Europe</td>\n",
       "      <td>Europe de l'Est</td>\n",
       "      <td>EUE</td>\n",
       "      <td>NaN</td>\n",
       "      <td>P00147</td>\n",
       "      <td>Robe</td>\n",
       "      <td>Haut-Et-Bas</td>\n",
       "      <td>marron</td>\n",
       "      <td>2018-01-01 00:00:00</td>\n",
       "      <td>7.2</td>\n",
       "      <td>9</td>\n",
       "    </tr>\n",
       "    <tr>\n",
       "      <th>2</th>\n",
       "      <td>NaN</td>\n",
       "      <td>CZE</td>\n",
       "      <td>République Tchèque</td>\n",
       "      <td>Europe</td>\n",
       "      <td>Europe de l'Est</td>\n",
       "      <td>EUE</td>\n",
       "      <td>NaN</td>\n",
       "      <td>P00249</td>\n",
       "      <td>Chemise</td>\n",
       "      <td>Haut</td>\n",
       "      <td>blanc</td>\n",
       "      <td>2018-06-01 00:00:00</td>\n",
       "      <td>11.34</td>\n",
       "      <td>14</td>\n",
       "    </tr>\n",
       "    <tr>\n",
       "      <th>3</th>\n",
       "      <td>NaN</td>\n",
       "      <td>HUN</td>\n",
       "      <td>Hongrie</td>\n",
       "      <td>Europe</td>\n",
       "      <td>Europe de l'Est</td>\n",
       "      <td>EUE</td>\n",
       "      <td>NaN</td>\n",
       "      <td>P00565</td>\n",
       "      <td>Robe</td>\n",
       "      <td>Haut-Et-Bas</td>\n",
       "      <td>orange</td>\n",
       "      <td>2017-05-01 00:00:00</td>\n",
       "      <td>13.05</td>\n",
       "      <td>15</td>\n",
       "    </tr>\n",
       "    <tr>\n",
       "      <th>4</th>\n",
       "      <td>NaN</td>\n",
       "      <td>MDA</td>\n",
       "      <td>République de Moldavie</td>\n",
       "      <td>Europe</td>\n",
       "      <td>Europe de l'Est</td>\n",
       "      <td>EUE</td>\n",
       "      <td>NaN</td>\n",
       "      <td>P00575</td>\n",
       "      <td>Pyjama</td>\n",
       "      <td>Haut-Et-Bas</td>\n",
       "      <td>blanc</td>\n",
       "      <td>2018-12-01 00:00:00</td>\n",
       "      <td>5.32</td>\n",
       "      <td>7</td>\n",
       "    </tr>\n",
       "  </tbody>\n",
       "</table>\n",
       "</div>"
      ],
      "text/plain": [
       "   0         1                       2       3                4   \\\n",
       "0 NaN  Pays_Cod                    Pays  Région      Sous-Région   \n",
       "1 NaN       BGR                Bulgarie  Europe  Europe de l'Est   \n",
       "2 NaN       CZE      République Tchèque  Europe  Europe de l'Est   \n",
       "3 NaN       HUN                 Hongrie  Europe  Europe de l'Est   \n",
       "4 NaN       MDA  République de Moldavie  Europe  Europe de l'Est   \n",
       "\n",
       "                 5   6            7        8                     9        10  \\\n",
       "0  Code Sous-Région NaN  Product_Ref  Produit  Catégorie de produit  Couleur   \n",
       "1               EUE NaN       P00147     Robe           Haut-Et-Bas   marron   \n",
       "2               EUE NaN       P00249  Chemise                  Haut    blanc   \n",
       "3               EUE NaN       P00565     Robe           Haut-Et-Bas   orange   \n",
       "4               EUE NaN       P00575   Pyjama           Haut-Et-Bas    blanc   \n",
       "\n",
       "                    11            12             13  \n",
       "0              Créé le  Prix d'achat  Prix vente HT  \n",
       "1  2018-01-01 00:00:00           7.2              9  \n",
       "2  2018-06-01 00:00:00         11.34             14  \n",
       "3  2017-05-01 00:00:00         13.05             15  \n",
       "4  2018-12-01 00:00:00          5.32              7  "
      ]
     },
     "execution_count": 10,
     "metadata": {},
     "output_type": "execute_result"
    }
   ],
   "source": [
    "df_reference = pd.read_excel(\"referentiel.xlsx\", header = None)"
   ]
  },
  {
   "cell_type": "markdown",
   "id": "e3d54690-b6b3-4d2a-b3fc-1c55d4315826",
   "metadata": {},
   "source": [
    "## Agréger toutes les données"
   ]
  },
  {
   "cell_type": "code",
   "execution_count": null,
   "id": "4fd2cba6-f002-4e96-b348-12f2201edbbf",
   "metadata": {},
   "outputs": [],
   "source": [
    "..."
   ]
  },
  {
   "cell_type": "code",
   "execution_count": null,
   "id": "acaf4d26-80ad-4bde-af33-ec590f0e8f78",
   "metadata": {},
   "outputs": [],
   "source": [
    "..."
   ]
  },
  {
   "cell_type": "markdown",
   "id": "76212293-9408-45a6-8652-5e1fabb1cd96",
   "metadata": {},
   "source": [
    "## Interroger les données (dans tous les sens)"
   ]
  },
  {
   "cell_type": "markdown",
   "id": "c6ac0a30-0119-4896-9ce0-b11960a326e7",
   "metadata": {},
   "source": [
    "..."
   ]
  },
  {
   "cell_type": "markdown",
   "id": "a90a6560-0578-4f76-827e-d9348c9fa0b8",
   "metadata": {},
   "source": [
    "..."
   ]
  },
  {
   "cell_type": "markdown",
   "id": "bed88531-2aee-431f-9d86-b0559ead6e03",
   "metadata": {},
   "source": [
    "## Quelque chose de cool pour synthétiser la connaissance des données acquises"
   ]
  },
  {
   "cell_type": "markdown",
   "id": "fa30c4a7-6449-4b58-aae3-c0c7c7072bdd",
   "metadata": {},
   "source": [
    "..."
   ]
  },
  {
   "cell_type": "markdown",
   "id": "fa863de6-9e99-4f85-bf96-91528d8105c4",
   "metadata": {},
   "source": [
    "..."
   ]
  },
  {
   "cell_type": "markdown",
   "id": "1de48f36-4617-4571-832a-b169045ee357",
   "metadata": {},
   "source": [
    "# Mise en pratique"
   ]
  },
  {
   "cell_type": "markdown",
   "id": "6a38b290-879a-4fc4-8ad5-fa43d819970c",
   "metadata": {},
   "source": [
    "Quand on ouvre des fichiers Excel pour la première fois, il est souvent difficile de leur donner du sens. Les données que l'on reçoit sont rarement calibrées pour notre manière personnelle de comprendre les choses. \n",
    "\n",
    "Voyez pandas comme un outil ultra puissant qui va permettre de customiser des données pour vous. "
   ]
  },
  {
   "cell_type": "markdown",
   "id": "86e2882d-7a47-4f7d-b22d-66518cf374f3",
   "metadata": {},
   "source": [
    "Mettons que votre boss vient de vous envoyer ces deux fichier Excel 👇"
   ]
  },
  {
   "cell_type": "markdown",
   "id": "65274c46-8706-4d1b-9842-25fd57db1dd9",
   "metadata": {},
   "source": [
    "**Fichier 1**\n",
    "\n",
    "<img src=\"media/ventes.png\" width=\"500\"/>\n",
    "\n",
    "**Fichier 2**\n",
    "\n",
    "<img src=\"media/referentiel.png\" width=\"500\"/>"
   ]
  },
  {
   "cell_type": "markdown",
   "id": "fa696c55-ed53-425a-b1f4-d06e044257b2",
   "metadata": {},
   "source": [
    "Vous voulez comprendre **tout ce qu'il est possible de comprendre** sur l'activité de l'entreprise à partir de ces deux fichiers (en un temps record)."
   ]
  },
  {
   "cell_type": "code",
   "execution_count": 3,
   "id": "b0125109-e0f6-4e44-9594-0563a32be8ae",
   "metadata": {},
   "outputs": [],
   "source": [
    "import pandas as pd"
   ]
  }
 ],
 "metadata": {
  "kernelspec": {
   "display_name": "Python 3 (ipykernel)",
   "language": "python",
   "name": "python3"
  },
  "language_info": {
   "codemirror_mode": {
    "name": "ipython",
    "version": 3
   },
   "file_extension": ".py",
   "mimetype": "text/x-python",
   "name": "python",
   "nbconvert_exporter": "python",
   "pygments_lexer": "ipython3",
   "version": "3.11.5"
  }
 },
 "nbformat": 4,
 "nbformat_minor": 5
}
